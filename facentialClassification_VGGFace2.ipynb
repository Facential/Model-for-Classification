{
 "cells": [
  {
   "cell_type": "code",
   "execution_count": 1,
   "id": "e015ee4a-571c-4914-a5b8-3ce90937a690",
   "metadata": {},
   "outputs": [
    {
     "name": "stdout",
     "output_type": "stream",
     "text": [
      "Get:1 file:/var/cuda-repo-debian10-11-4-local  InRelease\n",
      "Ign:1 file:/var/cuda-repo-debian10-11-4-local  InRelease\n",
      "Get:2 file:/var/cuda-repo-debian10-11-4-local  Release [564 B]\n",
      "Get:2 file:/var/cuda-repo-debian10-11-4-local  Release [564 B]\n",
      "Get:3 file:/var/cuda-repo-debian10-11-4-local  Release.gpg [836 B]             \n",
      "Get:3 file:/var/cuda-repo-debian10-11-4-local  Release.gpg [836 B]             \n",
      "Hit:4 http://packages.cloud.google.com/apt gcsfuse-bullseye InRelease          \n",
      "Hit:5 http://security.debian.org/debian-security bullseye-security InRelease   \n",
      "Hit:6 http://deb.debian.org/debian bullseye InRelease                          \n",
      "Hit:7 http://packages.cloud.google.com/apt google-compute-engine-bullseye-stable InRelease\n",
      "Hit:8 http://deb.debian.org/debian bullseye-updates InRelease                  \n",
      "Hit:9 https://packages.cloud.google.com/apt google-fast-socket InRelease       \n",
      "Hit:10 https://download.docker.com/linux/debian bullseye InRelease             \n",
      "Hit:11 http://deb.debian.org/debian bullseye-backports InRelease               \n",
      "Hit:12 http://packages.cloud.google.com/apt cloud-sdk-bullseye InRelease       \n",
      "Hit:13 https://nvidia.github.io/libnvidia-container/stable/debian10/amd64  InRelease\n",
      "Ign:3 file:/var/cuda-repo-debian10-11-4-local  Release.gpg\n",
      "Hit:14 https://nvidia.github.io/nvidia-container-runtime/stable/debian10/amd64  InRelease\n",
      "Hit:15 https://nvidia.github.io/nvidia-docker/debian10/amd64  InRelease\n",
      "Hit:16 https://packages.cloud.google.com/apt kubernetes-xenial InRelease\n",
      "Reading package lists... Done\n",
      "W: GPG error: file:/var/cuda-repo-debian10-11-4-local  Release: The following signatures couldn't be verified because the public key is not available: NO_PUBKEY F60F4B3D7FA2AF80\n",
      "E: The repository 'file:/var/cuda-repo-debian10-11-4-local  Release' is not signed.\n",
      "N: Updating from such a repository can't be done securely, and is therefore disabled by default.\n",
      "N: See apt-secure(8) manpage for repository creation and user configuration details.\n",
      "Reading package lists... Done\n",
      "E: Unable to parse package file /etc/apt/preferences.d/cuda-repository-pin-600 (1)\n",
      "  % Total    % Received % Xferd  Average Speed   Time    Time     Time  Current\n",
      "                                 Dload  Upload   Total   Spent    Left  Speed\n",
      "100   433  100   433    0     0    436      0 --:--:-- --:--:-- --:--:--   435\n",
      "  % Total    % Received % Xferd  Average Speed   Time    Time     Time  Current\n",
      "                                 Dload  Upload   Total   Spent    Left  Speed\n",
      "100 2432M  100 2432M    0     0   187M      0  0:00:12  0:00:12 --:--:--  199M\n",
      "(Reading database ... 128111 files and directories currently installed.)\n",
      "Preparing to unpack cuda-repo-debian10-11-4-local_11.4.2-470.57.02-1_amd64.deb ...\n",
      "Unpacking cuda-repo-debian10-11-4-local (11.4.2-470.57.02-1) over (11.4.2-470.57.02-1) ...\n",
      "Setting up cuda-repo-debian10-11-4-local (11.4.2-470.57.02-1) ...\n",
      "\n",
      "The public CUDA GPG key does not appear to be installed.\n",
      "To install the key, run this command:\n",
      "sudo apt-key add /var/cuda-repo-debian10-11-4-local/7fa2af80.pub\n",
      "\n",
      "Get:1 file:/var/cuda-repo-debian10-11-4-local  InRelease\n",
      "Ign:1 file:/var/cuda-repo-debian10-11-4-local  InRelease\n",
      "Get:2 file:/var/cuda-repo-debian10-11-4-local  Release [564 B]\n",
      "Get:2 file:/var/cuda-repo-debian10-11-4-local  Release [564 B]                 \n",
      "Get:3 file:/var/cuda-repo-debian10-11-4-local  Release.gpg [836 B]             \n",
      "Get:3 file:/var/cuda-repo-debian10-11-4-local  Release.gpg [836 B]             \n",
      "Hit:4 http://deb.debian.org/debian bullseye InRelease                          \n",
      "Hit:5 http://packages.cloud.google.com/apt gcsfuse-bullseye InRelease          \n",
      "Hit:6 http://security.debian.org/debian-security bullseye-security InRelease   \n",
      "Hit:7 http://deb.debian.org/debian bullseye-updates InRelease                  \n",
      "Hit:8 http://deb.debian.org/debian bullseye-backports InRelease                \n",
      "Hit:9 http://packages.cloud.google.com/apt google-compute-engine-bullseye-stable InRelease\n",
      "Hit:10 https://packages.cloud.google.com/apt google-fast-socket InRelease      \n",
      "Hit:11 https://download.docker.com/linux/debian bullseye InRelease             \n",
      "Hit:12 http://packages.cloud.google.com/apt cloud-sdk-bullseye InRelease       \n",
      "Hit:13 https://nvidia.github.io/libnvidia-container/stable/debian10/amd64  InRelease\n",
      "Ign:3 file:/var/cuda-repo-debian10-11-4-local  Release.gpg\n",
      "Hit:14 https://nvidia.github.io/nvidia-container-runtime/stable/debian10/amd64  InRelease\n",
      "Hit:15 https://nvidia.github.io/nvidia-docker/debian10/amd64  InRelease\n",
      "Hit:16 https://packages.cloud.google.com/apt kubernetes-xenial InRelease\n",
      "Reading package lists... Done\n",
      "W: GPG error: file:/var/cuda-repo-debian10-11-4-local  Release: The following signatures couldn't be verified because the public key is not available: NO_PUBKEY F60F4B3D7FA2AF80\n",
      "E: The repository 'file:/var/cuda-repo-debian10-11-4-local  Release' is not signed.\n",
      "N: Updating from such a repository can't be done securely, and is therefore disabled by default.\n",
      "N: See apt-secure(8) manpage for repository creation and user configuration details.\n",
      "Reading package lists... Done\n",
      "E: Unable to parse package file /etc/apt/preferences.d/cuda-repository-pin-600 (1)\n"
     ]
    }
   ],
   "source": [
    "!sudo apt-get update\n",
    "!sudo apt-get install -y gnupg2 curl\n",
    "!sudo curl -O https://developer.download.nvidia.com/compute/cuda/repos/debian10/x86_64/cuda-ubuntu2004.pin\n",
    "!sudo mv cuda-ubuntu2004.pin /etc/apt/preferences.d/cuda-repository-pin-600\n",
    "!sudo curl -LO https://developer.download.nvidia.com/compute/cuda/11.4.2/local_installers/cuda-repo-debian10-11-4-local_11.4.2-470.57.02-1_amd64.deb\n",
    "!sudo dpkg -i cuda-repo-debian10-11-4-local_11.4.2-470.57.02-1_amd64.deb\n",
    "!sudo apt-get update\n",
    "!sudo apt-get -y install cuda"
   ]
  },
  {
   "cell_type": "code",
   "execution_count": 2,
   "id": "87a7e2cf-3ddc-4161-b8ce-836aeee802d3",
   "metadata": {},
   "outputs": [
    {
     "name": "stdout",
     "output_type": "stream",
     "text": [
      "Tue Jun 13 07:39:29 2023       \n",
      "+-----------------------------------------------------------------------------+\n",
      "| NVIDIA-SMI 510.47.03    Driver Version: 510.47.03    CUDA Version: 11.6     |\n",
      "|-------------------------------+----------------------+----------------------+\n",
      "| GPU  Name        Persistence-M| Bus-Id        Disp.A | Volatile Uncorr. ECC |\n",
      "| Fan  Temp  Perf  Pwr:Usage/Cap|         Memory-Usage | GPU-Util  Compute M. |\n",
      "|                               |                      |               MIG M. |\n",
      "|===============================+======================+======================|\n",
      "|   0  Tesla T4            Off  | 00000000:00:04.0 Off |                    0 |\n",
      "| N/A   49C    P0    26W /  70W |      0MiB / 15360MiB |     11%      Default |\n",
      "|                               |                      |                  N/A |\n",
      "+-------------------------------+----------------------+----------------------+\n",
      "                                                                               \n",
      "+-----------------------------------------------------------------------------+\n",
      "| Processes:                                                                  |\n",
      "|  GPU   GI   CI        PID   Type   Process name                  GPU Memory |\n",
      "|        ID   ID                                                   Usage      |\n",
      "|=============================================================================|\n",
      "|  No running processes found                                                 |\n",
      "+-----------------------------------------------------------------------------+\n"
     ]
    }
   ],
   "source": [
    "!nvidia-smi"
   ]
  },
  {
   "cell_type": "code",
   "execution_count": 3,
   "id": "5e142cfc-3b35-4b91-be32-4d1e056e1f89",
   "metadata": {},
   "outputs": [
    {
     "name": "stdout",
     "output_type": "stream",
     "text": [
      "\u001b[33mWARNING: Ignoring invalid distribution -eras (/opt/conda/lib/python3.10/site-packages)\u001b[0m\u001b[33m\n",
      "\u001b[0m\u001b[33mWARNING: Ignoring invalid distribution -rapt (/opt/conda/lib/python3.10/site-packages)\u001b[0m\u001b[33m\n",
      "\u001b[0mRequirement already satisfied: tensorflow==2.11.1 in /home/jupyter/.local/lib/python3.10/site-packages (2.11.1)\n",
      "Requirement already satisfied: absl-py>=1.0.0 in /opt/conda/lib/python3.10/site-packages (from tensorflow==2.11.1) (1.4.0)\n",
      "Requirement already satisfied: astunparse>=1.6.0 in /opt/conda/lib/python3.10/site-packages (from tensorflow==2.11.1) (1.6.3)\n",
      "Requirement already satisfied: flatbuffers>=2.0 in /opt/conda/lib/python3.10/site-packages (from tensorflow==2.11.1) (23.3.3)\n",
      "Requirement already satisfied: gast<=0.4.0,>=0.2.1 in /opt/conda/lib/python3.10/site-packages (from tensorflow==2.11.1) (0.4.0)\n",
      "Requirement already satisfied: google-pasta>=0.1.1 in /opt/conda/lib/python3.10/site-packages (from tensorflow==2.11.1) (0.2.0)\n",
      "Requirement already satisfied: grpcio<2.0,>=1.24.3 in /home/jupyter/.local/lib/python3.10/site-packages (from tensorflow==2.11.1) (1.54.2)\n",
      "Requirement already satisfied: h5py>=2.9.0 in /opt/conda/lib/python3.10/site-packages (from tensorflow==2.11.1) (3.8.0)\n",
      "Requirement already satisfied: keras<2.12,>=2.11.0 in /home/jupyter/.local/lib/python3.10/site-packages (from tensorflow==2.11.1) (2.11.0)\n",
      "Requirement already satisfied: libclang>=13.0.0 in /opt/conda/lib/python3.10/site-packages (from tensorflow==2.11.1) (16.0.0)\n",
      "Requirement already satisfied: numpy>=1.20 in /opt/conda/lib/python3.10/site-packages (from tensorflow==2.11.1) (1.23.5)\n",
      "Requirement already satisfied: opt-einsum>=2.3.2 in /opt/conda/lib/python3.10/site-packages (from tensorflow==2.11.1) (3.3.0)\n",
      "Requirement already satisfied: packaging in /home/jupyter/.local/lib/python3.10/site-packages (from tensorflow==2.11.1) (20.9)\n",
      "Requirement already satisfied: protobuf<3.20,>=3.9.2 in /home/jupyter/.local/lib/python3.10/site-packages (from tensorflow==2.11.1) (3.19.6)\n",
      "Requirement already satisfied: setuptools in /opt/conda/lib/python3.10/site-packages (from tensorflow==2.11.1) (67.7.2)\n",
      "Requirement already satisfied: six>=1.12.0 in /opt/conda/lib/python3.10/site-packages (from tensorflow==2.11.1) (1.16.0)\n",
      "Requirement already satisfied: tensorboard<2.12,>=2.11 in /home/jupyter/.local/lib/python3.10/site-packages (from tensorflow==2.11.1) (2.11.2)\n",
      "Requirement already satisfied: tensorflow-estimator<2.12,>=2.11.0 in /home/jupyter/.local/lib/python3.10/site-packages (from tensorflow==2.11.1) (2.11.0)\n",
      "Requirement already satisfied: termcolor>=1.1.0 in /opt/conda/lib/python3.10/site-packages (from tensorflow==2.11.1) (2.3.0)\n",
      "Requirement already satisfied: typing-extensions>=3.6.6 in /opt/conda/lib/python3.10/site-packages (from tensorflow==2.11.1) (4.5.0)\n",
      "Requirement already satisfied: wrapt>=1.11.0 in /opt/conda/lib/python3.10/site-packages (from tensorflow==2.11.1) (1.14.1)\n",
      "Requirement already satisfied: tensorflow-io-gcs-filesystem>=0.23.1 in /opt/conda/lib/python3.10/site-packages (from tensorflow==2.11.1) (0.29.0)\n",
      "Requirement already satisfied: wheel<1.0,>=0.23.0 in /opt/conda/lib/python3.10/site-packages (from astunparse>=1.6.0->tensorflow==2.11.1) (0.40.0)\n",
      "Requirement already satisfied: google-auth<3,>=1.6.3 in /opt/conda/lib/python3.10/site-packages (from tensorboard<2.12,>=2.11->tensorflow==2.11.1) (2.17.3)\n",
      "Requirement already satisfied: google-auth-oauthlib<0.5,>=0.4.1 in /home/jupyter/.local/lib/python3.10/site-packages (from tensorboard<2.12,>=2.11->tensorflow==2.11.1) (0.4.6)\n",
      "Requirement already satisfied: markdown>=2.6.8 in /opt/conda/lib/python3.10/site-packages (from tensorboard<2.12,>=2.11->tensorflow==2.11.1) (3.4.3)\n",
      "Requirement already satisfied: requests<3,>=2.21.0 in /opt/conda/lib/python3.10/site-packages (from tensorboard<2.12,>=2.11->tensorflow==2.11.1) (2.28.2)\n",
      "Requirement already satisfied: tensorboard-data-server<0.7.0,>=0.6.0 in /home/jupyter/.local/lib/python3.10/site-packages (from tensorboard<2.12,>=2.11->tensorflow==2.11.1) (0.6.1)\n",
      "Requirement already satisfied: tensorboard-plugin-wit>=1.6.0 in /opt/conda/lib/python3.10/site-packages (from tensorboard<2.12,>=2.11->tensorflow==2.11.1) (1.8.1)\n",
      "Requirement already satisfied: werkzeug>=1.0.1 in /opt/conda/lib/python3.10/site-packages (from tensorboard<2.12,>=2.11->tensorflow==2.11.1) (2.1.2)\n",
      "Requirement already satisfied: pyparsing>=2.0.2 in /opt/conda/lib/python3.10/site-packages (from packaging->tensorflow==2.11.1) (3.0.9)\n",
      "Requirement already satisfied: cachetools<6.0,>=2.0.0 in /opt/conda/lib/python3.10/site-packages (from google-auth<3,>=1.6.3->tensorboard<2.12,>=2.11->tensorflow==2.11.1) (4.2.4)\n",
      "Requirement already satisfied: pyasn1-modules>=0.2.1 in /opt/conda/lib/python3.10/site-packages (from google-auth<3,>=1.6.3->tensorboard<2.12,>=2.11->tensorflow==2.11.1) (0.2.7)\n",
      "Requirement already satisfied: rsa<5,>=3.1.4 in /opt/conda/lib/python3.10/site-packages (from google-auth<3,>=1.6.3->tensorboard<2.12,>=2.11->tensorflow==2.11.1) (4.9)\n",
      "Requirement already satisfied: requests-oauthlib>=0.7.0 in /opt/conda/lib/python3.10/site-packages (from google-auth-oauthlib<0.5,>=0.4.1->tensorboard<2.12,>=2.11->tensorflow==2.11.1) (1.3.1)\n",
      "Requirement already satisfied: charset-normalizer<4,>=2 in /opt/conda/lib/python3.10/site-packages (from requests<3,>=2.21.0->tensorboard<2.12,>=2.11->tensorflow==2.11.1) (2.1.1)\n",
      "Requirement already satisfied: idna<4,>=2.5 in /opt/conda/lib/python3.10/site-packages (from requests<3,>=2.21.0->tensorboard<2.12,>=2.11->tensorflow==2.11.1) (3.4)\n",
      "Requirement already satisfied: urllib3<1.27,>=1.21.1 in /opt/conda/lib/python3.10/site-packages (from requests<3,>=2.21.0->tensorboard<2.12,>=2.11->tensorflow==2.11.1) (1.26.15)\n",
      "Requirement already satisfied: certifi>=2017.4.17 in /opt/conda/lib/python3.10/site-packages (from requests<3,>=2.21.0->tensorboard<2.12,>=2.11->tensorflow==2.11.1) (2022.12.7)\n",
      "Requirement already satisfied: pyasn1<0.5.0,>=0.4.6 in /opt/conda/lib/python3.10/site-packages (from pyasn1-modules>=0.2.1->google-auth<3,>=1.6.3->tensorboard<2.12,>=2.11->tensorflow==2.11.1) (0.4.8)\n",
      "Requirement already satisfied: oauthlib>=3.0.0 in /opt/conda/lib/python3.10/site-packages (from requests-oauthlib>=0.7.0->google-auth-oauthlib<0.5,>=0.4.1->tensorboard<2.12,>=2.11->tensorflow==2.11.1) (3.2.2)\n",
      "\u001b[33mWARNING: Ignoring invalid distribution -eras (/opt/conda/lib/python3.10/site-packages)\u001b[0m\u001b[33m\n",
      "\u001b[0m\u001b[33mWARNING: Ignoring invalid distribution -rapt (/opt/conda/lib/python3.10/site-packages)\u001b[0m\u001b[33m\n",
      "\u001b[0m"
     ]
    }
   ],
   "source": [
    "!pip install --user tensorflow==2.11.1"
   ]
  },
  {
   "cell_type": "code",
   "execution_count": 4,
   "id": "aa7375e4-34f2-41c5-a2b8-8d2874803207",
   "metadata": {},
   "outputs": [
    {
     "name": "stderr",
     "output_type": "stream",
     "text": [
      "2023-06-13 07:39:33.186196: I tensorflow/core/platform/cpu_feature_guard.cc:193] This TensorFlow binary is optimized with oneAPI Deep Neural Network Library (oneDNN) to use the following CPU instructions in performance-critical operations:  AVX2 AVX512F FMA\n",
      "To enable them in other operations, rebuild TensorFlow with the appropriate compiler flags.\n",
      "2023-06-13 07:39:34.227173: W tensorflow/compiler/xla/stream_executor/platform/default/dso_loader.cc:64] Could not load dynamic library 'libnvinfer.so.7'; dlerror: libnvinfer.so.7: cannot open shared object file: No such file or directory; LD_LIBRARY_PATH: /usr/local/cuda/lib64:/usr/local/nccl2/lib:/usr/local/cuda/extras/CUPTI/lib64\n",
      "2023-06-13 07:39:34.227292: W tensorflow/compiler/xla/stream_executor/platform/default/dso_loader.cc:64] Could not load dynamic library 'libnvinfer_plugin.so.7'; dlerror: libnvinfer_plugin.so.7: cannot open shared object file: No such file or directory; LD_LIBRARY_PATH: /usr/local/cuda/lib64:/usr/local/nccl2/lib:/usr/local/cuda/extras/CUPTI/lib64\n",
      "2023-06-13 07:39:34.227302: W tensorflow/compiler/tf2tensorrt/utils/py_utils.cc:38] TF-TRT Warning: Cannot dlopen some TensorRT libraries. If you would like to use Nvidia GPU with TensorRT, please make sure the missing libraries mentioned above are installed properly.\n"
     ]
    }
   ],
   "source": [
    "import tensorflow as tf"
   ]
  },
  {
   "cell_type": "code",
   "execution_count": 5,
   "id": "e83bfca8-19c8-4c43-bdbf-551966b21129",
   "metadata": {},
   "outputs": [
    {
     "name": "stdout",
     "output_type": "stream",
     "text": [
      "2.11.1\n"
     ]
    }
   ],
   "source": [
    "print(tf.__version__)"
   ]
  },
  {
   "cell_type": "code",
   "execution_count": 6,
   "id": "e148bfec-f56c-4937-88f3-30e3026caa63",
   "metadata": {},
   "outputs": [],
   "source": [
    "\n",
    "\n",
    "from keras.layers import Input, Lambda, Dense, Flatten\n",
    "from keras.models import Model\n",
    "\n",
    "from keras.preprocessing import image\n",
    "from keras.preprocessing.image import ImageDataGenerator\n",
    "from keras.models import Sequential\n",
    "import numpy as np\n",
    "from glob import glob\n",
    "import matplotlib.pyplot as plt\n"
   ]
  },
  {
   "cell_type": "code",
   "execution_count": 7,
   "id": "a91305a6-6dc4-4704-a6a8-e56d1a4898b8",
   "metadata": {},
   "outputs": [],
   "source": [
    "import os\n",
    "import zipfile\n"
   ]
  },
  {
   "cell_type": "markdown",
   "id": "ce99c116-2b21-4936-952b-95580d639ef9",
   "metadata": {},
   "source": [
    " define the directories containing your images"
   ]
  },
  {
   "cell_type": "code",
   "execution_count": 8,
   "id": "66a26279-f26f-4688-98b9-a56d5aa2256a",
   "metadata": {},
   "outputs": [],
   "source": [
    "# variabel directory for training pict for each category\n",
    "train_oily_dir = os.path.join(\"/home/jupyter/content/faceSkin_tipe_train/oily\")\n",
    "train_normal_dir = os.path.join(\"/home/jupyter/content/faceSkin_tipe_train/normal\")\n",
    "train_combination_dir =os.path.join(\"/home/jupyter/content/faceSkin_tipe_train/combination\")\n",
    "train_sensitive_dir = os.path.join(\"/home/jupyter/content/faceSkin_tipe_train/sensitive\")\n",
    "train_dry_dir = os.path.join(\"/home/jupyter/content/faceSkin_tipe_train/dry\")\n",
    "train_nonface_dir = os.path.join(\"/home/jupyter/content/faceSkin_tipe_train/nonface/\")\n",
    "\n",
    "# variabel directory for validation pict for each category\n",
    "validation_oily_dir =os.path.join(\"/home/jupyter/content/faceSkin_tipe_validation/oily\")\n",
    "validation_normal_dir =os.path.join(\"/home/jupyter/content/faceSkin_tipe_validation/normal\")\n",
    "validation_combination_dir =os.path.join(\"/home/jupyter/content/faceSkin_tipe_validation/combination\")\n",
    "validation_sensitive_dir =os.path.join(\"/home/jupyter/content/faceSkin_tipe_validation/sensitive\")\n",
    "validation_dry_dir =os.path.join(\"/home/jupyter/content/faceSkin_tipe_validation/dry\")\n",
    "validation_nonface_dir =os.path.join(\"/home/jupyter/content/faceSkin_tipe_validation/nonface\")"
   ]
  },
  {
   "cell_type": "markdown",
   "id": "0433e245-a505-4447-8b75-e3a6d96fba89",
   "metadata": {},
   "source": [
    "filenames check in directory"
   ]
  },
  {
   "cell_type": "code",
   "execution_count": 9,
   "id": "d761a5c0-d43a-4d21-92dd-fb50b6e41ebb",
   "metadata": {},
   "outputs": [
    {
     "name": "stdout",
     "output_type": "stream",
     "text": [
      "TRAIN SET DRY: ['f1-006-01.jpg', 'folder(185)3.jpg', 'folder(95)2.jpg', 'folder(224)2.jpg', 'folder(219)2.jpg']\n",
      "TRAIN SET OILY: ['f1-006-01.jpg', 'folder(185)3.jpg', 'folder(95)2.jpg', 'folder(224)2.jpg', 'folder(219)2.jpg']\n",
      "TRAIN SET SENSITIVE: ['f1-006-01.jpg', 'folder(185)3.jpg', 'folder(95)2.jpg', 'folder(224)2.jpg', 'folder(219)2.jpg']\n",
      "TRAIN SET COMBINATION: ['f1-006-01.jpg', 'folder(185)3.jpg', 'folder(95)2.jpg', 'folder(224)2.jpg', 'folder(219)2.jpg']\n",
      "TRAIN SET NORMAL: ['f1-006-01.jpg', 'folder(185)3.jpg', 'folder(95)2.jpg', 'folder(224)2.jpg', 'folder(219)2.jpg']\n",
      "TRAIN SET NONFACE: ['000000013201.jpg', '000000017115.jpg', '000000002473.jpg', '000000024021.jpg', '000000015335.jpg'] \n",
      "\n",
      "VALIDATION SET DRY: ['folder(7)2.jpg', 'dd.jpg', 'folder(72)3.jpg', 'folder(77)3.jpg', '1 (72).jpg']\n",
      "VALIDATION SET OILY: ['folder(7)2.jpg', 'dd.jpg', 'folder(72)3.jpg', 'folder(77)3.jpg', '1 (72).jpg']\n",
      "VALIDATION SET SENSITIVE: ['folder(7)2.jpg', 'dd.jpg', 'folder(72)3.jpg', 'folder(77)3.jpg', '1 (72).jpg']\n",
      "VALIDATION SET COMBINATION: ['folder(7)2.jpg', 'dd.jpg', 'folder(72)3.jpg', 'folder(77)3.jpg', '1 (72).jpg']\n",
      "VALIDATION SET NORMAL: ['folder(7)2.jpg', 'dd.jpg', 'folder(72)3.jpg', 'folder(77)3.jpg', '1 (72).jpg']\n",
      "VALIDATION SET NONFACE: ['000000051008.jpg', '000000051976.jpg', '000000045596.jpg', '000000047010.jpg', '000000045090.jpg']\n"
     ]
    }
   ],
   "source": [
    "train_dry_names = os.listdir(train_dry_dir)\n",
    "train_oily_names = os.listdir(train_oily_dir)\n",
    "train_normal_names =  os.listdir(train_normal_dir)\n",
    "train_combination_names =  os.listdir(train_combination_dir)\n",
    "train_sensitive_names =  os.listdir(train_sensitive_dir)\n",
    "train_nonface_names =  os.listdir(train_nonface_dir)\n",
    "\n",
    "validation_dry_names = os.listdir(validation_dry_dir)\n",
    "validation_oily_names = os.listdir(validation_oily_dir)\n",
    "validation_normal_names =  os.listdir(validation_normal_dir)\n",
    "validation_combination_names =  os.listdir(validation_combination_dir)\n",
    "validation_sensitive_names =  os.listdir(validation_sensitive_dir)\n",
    "validation_nonface_names =  os.listdir(validation_nonface_dir)\n",
    "\n",
    "print(f'TRAIN SET DRY: {train_dry_names[:5]}')\n",
    "print(f'TRAIN SET OILY: {train_dry_names[:5]}')\n",
    "print(f'TRAIN SET SENSITIVE: {train_dry_names[:5]}')\n",
    "print(f'TRAIN SET COMBINATION: {train_dry_names[:5]}')\n",
    "print(f'TRAIN SET NORMAL: {train_dry_names[:5]}')\n",
    "print(f'TRAIN SET NONFACE: {train_nonface_names[:5]} \\n')\n",
    "\n",
    "print(f'VALIDATION SET DRY: {validation_dry_names[:5]}')\n",
    "print(f'VALIDATION SET OILY: {validation_dry_names[:5]}')\n",
    "print(f'VALIDATION SET SENSITIVE: {validation_dry_names[:5]}')\n",
    "print(f'VALIDATION SET COMBINATION: {validation_dry_names[:5]}')\n",
    "print(f'VALIDATION SET NORMAL: {validation_dry_names[:5]}')\n",
    "print(f'VALIDATION SET NONFACE: {validation_nonface_names[:5]}')"
   ]
  },
  {
   "cell_type": "markdown",
   "id": "4a6d4b11-d1ea-4b32-83bd-c5758b1f8d90",
   "metadata": {},
   "source": [
    "chacking total number of images for each categories in training and validation directories "
   ]
  },
  {
   "cell_type": "code",
   "execution_count": 10,
   "id": "5c1ac88e-d526-4ae4-aafd-62bbd394e953",
   "metadata": {},
   "outputs": [
    {
     "name": "stdout",
     "output_type": "stream",
     "text": [
      "total training oily images: 209\n",
      "total training dry images: 207\n",
      "total training normal images: 99\n",
      "total training combination images: 110\n",
      "total training sensitive images: 202\n",
      "total training nonface images: 200\n",
      "\n",
      "total validation oily images: 53\n",
      "total validation dry images: 50\n",
      "total validation normal images: 25\n",
      "total validation combination images: 36\n",
      "total validation sensitive images: 49\n",
      "total validation nonface images: 50\n"
     ]
    }
   ],
   "source": [
    "print(f'total training oily images: {len(os.listdir(train_oily_dir))}')\n",
    "print(f'total training dry images: {len(os.listdir(train_dry_dir))}')\n",
    "print(f'total training normal images: {len(os.listdir(train_normal_dir))}')\n",
    "print(f'total training combination images: {len(os.listdir(train_combination_dir))}')\n",
    "print(f'total training sensitive images: {len(os.listdir(train_sensitive_dir))}')\n",
    "print(f'total training nonface images: {len(os.listdir(train_nonface_dir))}\\n')\n",
    "\n",
    "\n",
    "print(f'total validation oily images: {len(os.listdir(validation_oily_dir))}')\n",
    "print(f'total validation dry images: {len(os.listdir(validation_dry_dir))}')\n",
    "print(f'total validation normal images: {len(os.listdir(validation_normal_dir))}')\n",
    "print(f'total validation combination images: {len(os.listdir(validation_combination_dir))}')\n",
    "print(f'total validation sensitive images: {len(os.listdir(validation_sensitive_dir))}')\n",
    "print(f'total validation nonface images: {len(os.listdir(validation_nonface_dir))}')\n",
    "\n",
    "\n",
    "\n"
   ]
  },
  {
   "cell_type": "code",
   "execution_count": null,
   "id": "2278afba-378a-497d-aa6c-f46ca91fe034",
   "metadata": {},
   "outputs": [],
   "source": []
  },
  {
   "cell_type": "markdown",
   "id": "72d11eab-5e93-4a65-bfe5-73c9fedc0e7d",
   "metadata": {},
   "source": [
    "# Data preprocessing\n"
   ]
  },
  {
   "cell_type": "markdown",
   "id": "78fc9ed3-9e21-4607-b083-b73b3faa661d",
   "metadata": {},
   "source": [
    "using image data generator"
   ]
  },
  {
   "cell_type": "code",
   "execution_count": 11,
   "id": "10ffec68-ab2b-46bf-b5c8-4332f837ea88",
   "metadata": {},
   "outputs": [
    {
     "name": "stdout",
     "output_type": "stream",
     "text": [
      "Found 1027 images belonging to 6 classes.\n",
      "Found 263 images belonging to 6 classes.\n",
      "Class Names: ['oily', 'normal', 'sensitive', 'dry', 'nonface', 'combination']\n"
     ]
    }
   ],
   "source": [
    "#punya valiant\n",
    "from tensorflow.keras.preprocessing.image import ImageDataGenerator\n",
    "import os\n",
    "\n",
    "# All images will be rescaled by 1./255\n",
    "train_datagen = ImageDataGenerator(\n",
    "      rescale=1/255,\n",
    "      rotation_range=40,\n",
    "      width_shift_range=0.2,\n",
    "      height_shift_range=0.2,\n",
    "      shear_range=0.2,\n",
    "      zoom_range=0.2,\n",
    "      horizontal_flip=True,\n",
    "      fill_mode='nearest')\n",
    "\n",
    "validation_datagen = ImageDataGenerator(rescale=1/255)\n",
    "\n",
    "# Set the base directory where your data is located\n",
    "base_directory = '/home/jupyter/content/'\n",
    "\n",
    "# Get the list of subdirectories (classes) in the training directory\n",
    "train_classes = [subdir for subdir in os.listdir(os.path.join(base_directory, 'faceSkin_tipe_train')) if os.path.isdir(os.path.join(base_directory, 'faceSkin_tipe_train', subdir))]\n",
    "\n",
    "# Remove the \".ipynb_checkpoints\" class from the list if it exists\n",
    "if '.ipynb_checkpoints' in train_classes:\n",
    "    train_classes.remove('.ipynb_checkpoints')\n",
    "\n",
    "# Flow training images in batches of 128 using train_datagen generator\n",
    "train_generator = train_datagen.flow_from_directory(\n",
    "        os.path.join(base_directory, 'faceSkin_tipe_train'),  # This is the source directory for training images\n",
    "        target_size=(224, 224),  # All images will be resized to 224x224\n",
    "        batch_size=32,\n",
    "        class_mode='categorical',\n",
    "        classes=train_classes)\n",
    "\n",
    "# Get the list of subdirectories (classes) in the validation directory\n",
    "validation_classes = [subdir for subdir in os.listdir(os.path.join(base_directory, 'faceSkin_tipe_validation')) if os.path.isdir(os.path.join(base_directory, 'faceSkin_tipe_validation', subdir))]\n",
    "\n",
    "# Remove the \".ipynb_checkpoints\" class from the list if it exists\n",
    "if '.ipynb_checkpoints' in validation_classes:\n",
    "    validation_classes.remove('.ipynb_checkpoints')\n",
    "\n",
    "# Flow validation images in batches of 128 using validation_datagen generator\n",
    "validation_generator = validation_datagen.flow_from_directory(\n",
    "        os.path.join(base_directory, 'faceSkin_tipe_validation'),  # This is the source directory for validation images\n",
    "        target_size=(224, 224),  # All images will be resized to 224x224\n",
    "        batch_size=16,\n",
    "        class_mode='categorical',\n",
    "        classes=validation_classes)\n",
    "\n",
    "\n",
    "# Get the class names from the generator's class_indices dictionary\n",
    "class_names = list(train_generator.class_indices.keys())\n",
    "\n",
    "# Print the class names\n",
    "print(\"Class Names:\", class_names)\n"
   ]
  },
  {
   "cell_type": "code",
   "execution_count": 12,
   "id": "4e59b480-ad7b-4cc7-b187-d490738d2aab",
   "metadata": {},
   "outputs": [
    {
     "name": "stdout",
     "output_type": "stream",
     "text": [
      "List of Classes:\n",
      "oily : 0\n",
      "normal : 1\n",
      "sensitive : 2\n",
      "dry : 3\n",
      "nonface : 4\n",
      "combination : 5\n"
     ]
    }
   ],
   "source": [
    "\n",
    "# Access the class indices\n",
    "class_indices = train_generator.class_indices\n",
    "\n",
    "# Print the list of classes\n",
    "print(\"List of Classes:\")\n",
    "for class_name, class_index in class_indices.items():\n",
    "    print(class_name, \":\", class_index)"
   ]
  },
  {
   "cell_type": "markdown",
   "id": "d5a36bd4-30a9-473a-8ff3-91544929d763",
   "metadata": {},
   "source": [
    "load pretrained model"
   ]
  },
  {
   "cell_type": "code",
   "execution_count": 13,
   "id": "8de9eb1f-86fa-4e8b-bb2b-40c81af2b847",
   "metadata": {},
   "outputs": [
    {
     "name": "stdout",
     "output_type": "stream",
     "text": [
      "Python 3.10.10\n"
     ]
    }
   ],
   "source": [
    "!python --version"
   ]
  },
  {
   "cell_type": "code",
   "execution_count": 14,
   "id": "bdf98706-f0ad-4983-b81b-b9512a1b1aa2",
   "metadata": {},
   "outputs": [
    {
     "name": "stdout",
     "output_type": "stream",
     "text": [
      "\u001b[33mWARNING: Ignoring invalid distribution -eras (/opt/conda/lib/python3.10/site-packages)\u001b[0m\u001b[33m\n",
      "\u001b[0m\u001b[33mWARNING: Ignoring invalid distribution -rapt (/opt/conda/lib/python3.10/site-packages)\u001b[0m\u001b[33m\n",
      "\u001b[0mRequirement already satisfied: keras_vggface in /opt/conda/lib/python3.10/site-packages (0.6)\n",
      "Requirement already satisfied: numpy>=1.9.1 in /opt/conda/lib/python3.10/site-packages (from keras_vggface) (1.23.5)\n",
      "Requirement already satisfied: scipy>=0.14 in /opt/conda/lib/python3.10/site-packages (from keras_vggface) (1.9.3)\n",
      "Requirement already satisfied: h5py in /opt/conda/lib/python3.10/site-packages (from keras_vggface) (3.8.0)\n",
      "Requirement already satisfied: pillow in /opt/conda/lib/python3.10/site-packages (from keras_vggface) (9.5.0)\n",
      "Requirement already satisfied: keras in /home/jupyter/.local/lib/python3.10/site-packages (from keras_vggface) (2.11.0)\n",
      "Requirement already satisfied: six>=1.9.0 in /opt/conda/lib/python3.10/site-packages (from keras_vggface) (1.16.0)\n",
      "Requirement already satisfied: pyyaml in /opt/conda/lib/python3.10/site-packages (from keras_vggface) (5.4.1)\n",
      "\u001b[33mWARNING: Ignoring invalid distribution -eras (/opt/conda/lib/python3.10/site-packages)\u001b[0m\u001b[33m\n",
      "\u001b[0m\u001b[33mWARNING: Ignoring invalid distribution -rapt (/opt/conda/lib/python3.10/site-packages)\u001b[0m\u001b[33m\n",
      "\u001b[0m"
     ]
    }
   ],
   "source": [
    "!pip install keras_vggface"
   ]
  },
  {
   "cell_type": "code",
   "execution_count": 15,
   "id": "c8ba6bfc-9b79-479b-9d47-fb41283b519d",
   "metadata": {},
   "outputs": [
    {
     "name": "stdout",
     "output_type": "stream",
     "text": [
      "\u001b[33mWARNING: Ignoring invalid distribution -eras (/opt/conda/lib/python3.10/site-packages)\u001b[0m\u001b[33m\n",
      "\u001b[0m\u001b[33mWARNING: Ignoring invalid distribution -rapt (/opt/conda/lib/python3.10/site-packages)\u001b[0m\u001b[33m\n",
      "\u001b[0mRequirement already satisfied: keras_applications in /opt/conda/lib/python3.10/site-packages (1.0.8)\n",
      "Requirement already satisfied: numpy>=1.9.1 in /opt/conda/lib/python3.10/site-packages (from keras_applications) (1.23.5)\n",
      "Requirement already satisfied: h5py in /opt/conda/lib/python3.10/site-packages (from keras_applications) (3.8.0)\n",
      "\u001b[33mWARNING: Ignoring invalid distribution -eras (/opt/conda/lib/python3.10/site-packages)\u001b[0m\u001b[33m\n",
      "\u001b[0m\u001b[33mWARNING: Ignoring invalid distribution -rapt (/opt/conda/lib/python3.10/site-packages)\u001b[0m\u001b[33m\n",
      "\u001b[0m"
     ]
    }
   ],
   "source": [
    "!pip install keras_applications"
   ]
  },
  {
   "cell_type": "code",
   "execution_count": 16,
   "id": "901c2f3a-5bbd-40e7-9bb6-4270c2d4782d",
   "metadata": {},
   "outputs": [
    {
     "name": "stdout",
     "output_type": "stream",
     "text": [
      "\u001b[33mWARNING: Ignoring invalid distribution -eras (/opt/conda/lib/python3.10/site-packages)\u001b[0m\u001b[33m\n",
      "\u001b[0m\u001b[33mWARNING: Ignoring invalid distribution -rapt (/opt/conda/lib/python3.10/site-packages)\u001b[0m\u001b[33m\n",
      "\u001b[0mName: keras\n",
      "Version: 2.11.0\n",
      "Summary: Deep learning for humans.\n",
      "Home-page: https://keras.io/\n",
      "Author: Keras team\n",
      "Author-email: keras-users@googlegroups.com\n",
      "License: Apache 2.0\n",
      "Location: /home/jupyter/.local/lib/python3.10/site-packages\n",
      "Requires: \n",
      "Required-by: keras-vggface, tensorflow\n"
     ]
    }
   ],
   "source": [
    "!pip show keras\n"
   ]
  },
  {
   "cell_type": "code",
   "execution_count": 17,
   "id": "3230bb14-03a4-4507-9e29-6ff58652bf46",
   "metadata": {},
   "outputs": [],
   "source": [
    "import tensorflow.keras as keras"
   ]
  },
  {
   "cell_type": "code",
   "execution_count": 18,
   "id": "0ce718ef-10d1-4da0-a8d2-0d6c57f0bc0c",
   "metadata": {},
   "outputs": [
    {
     "name": "stdout",
     "output_type": "stream",
     "text": [
      "2.11.1\n"
     ]
    }
   ],
   "source": [
    "print(tf.__version__)"
   ]
  },
  {
   "cell_type": "code",
   "execution_count": 19,
   "id": "80c7bffd-fecc-4fbe-8e0c-78fbb81f24bb",
   "metadata": {},
   "outputs": [],
   "source": [
    "\n",
    "from keras_vggface.vggface import VGGFace\n",
    "from tensorflow.keras import layers\n",
    "\n",
    "# Set the weights file you downloaded into a variable\n",
    "local_weights_file = '/home/jupyter/content/vgg_face_weights.h5'\n",
    "\n",
    "# Initialize the base model.\n",
    "# Set the input shape and remove the dense layers.\n",
    "pre_trained_model = VGGFace(input_shape = (224, 224, 3), \n",
    "                                include_top = False, \n",
    "                                model = 'vgg16')\n",
    "\n",
    "# Load the pre-trained weights you downloaded.\n",
    "pre_trained_model.load_weights(local_weights_file, by_name=True, skip_mismatch=True)\n",
    "\n",
    "# Freeze the weights of the layers.\n",
    "for layer in pre_trained_model.layers:\n",
    "  layer.trainable = False"
   ]
  },
  {
   "cell_type": "code",
   "execution_count": 20,
   "id": "75752819-e72e-4cc3-ae5e-c933b0dfcd2c",
   "metadata": {},
   "outputs": [
    {
     "name": "stdout",
     "output_type": "stream",
     "text": [
      "Model: \"vggface_vgg16\"\n",
      "_________________________________________________________________\n",
      " Layer (type)                Output Shape              Param #   \n",
      "=================================================================\n",
      " input_1 (InputLayer)        [(None, 224, 224, 3)]     0         \n",
      "                                                                 \n",
      " conv1_1 (Conv2D)            (None, 224, 224, 64)      1792      \n",
      "                                                                 \n",
      " conv1_2 (Conv2D)            (None, 224, 224, 64)      36928     \n",
      "                                                                 \n",
      " pool1 (MaxPooling2D)        (None, 112, 112, 64)      0         \n",
      "                                                                 \n",
      " conv2_1 (Conv2D)            (None, 112, 112, 128)     73856     \n",
      "                                                                 \n",
      " conv2_2 (Conv2D)            (None, 112, 112, 128)     147584    \n",
      "                                                                 \n",
      " pool2 (MaxPooling2D)        (None, 56, 56, 128)       0         \n",
      "                                                                 \n",
      " conv3_1 (Conv2D)            (None, 56, 56, 256)       295168    \n",
      "                                                                 \n",
      " conv3_2 (Conv2D)            (None, 56, 56, 256)       590080    \n",
      "                                                                 \n",
      " conv3_3 (Conv2D)            (None, 56, 56, 256)       590080    \n",
      "                                                                 \n",
      " pool3 (MaxPooling2D)        (None, 28, 28, 256)       0         \n",
      "                                                                 \n",
      " conv4_1 (Conv2D)            (None, 28, 28, 512)       1180160   \n",
      "                                                                 \n",
      " conv4_2 (Conv2D)            (None, 28, 28, 512)       2359808   \n",
      "                                                                 \n",
      " conv4_3 (Conv2D)            (None, 28, 28, 512)       2359808   \n",
      "                                                                 \n",
      " pool4 (MaxPooling2D)        (None, 14, 14, 512)       0         \n",
      "                                                                 \n",
      " conv5_1 (Conv2D)            (None, 14, 14, 512)       2359808   \n",
      "                                                                 \n",
      " conv5_2 (Conv2D)            (None, 14, 14, 512)       2359808   \n",
      "                                                                 \n",
      " conv5_3 (Conv2D)            (None, 14, 14, 512)       2359808   \n",
      "                                                                 \n",
      " pool5 (MaxPooling2D)        (None, 7, 7, 512)         0         \n",
      "                                                                 \n",
      "=================================================================\n",
      "Total params: 14,714,688\n",
      "Trainable params: 0\n",
      "Non-trainable params: 14,714,688\n",
      "_________________________________________________________________\n"
     ]
    }
   ],
   "source": [
    "pre_trained_model.summary()\n"
   ]
  },
  {
   "cell_type": "code",
   "execution_count": 21,
   "id": "22011391-37c5-49bb-b199-37e342bad15b",
   "metadata": {},
   "outputs": [],
   "source": [
    "our_model = tf.keras.models.Sequential(pre_trained_model)\n",
    "our_model.add(tf.keras.layers.Conv2D(filters = 1024, kernel_size = (3,3), activation = \"relu\", padding = \"same\"))\n",
    "our_model.add(tf.keras.layers.Conv2D(filters = 512, kernel_size = (3,3), activation = \"relu\", padding = \"same\"))\n"
   ]
  },
  {
   "cell_type": "code",
   "execution_count": 22,
   "id": "0509919a-39e7-42a0-8655-c19a60782e57",
   "metadata": {},
   "outputs": [
    {
     "name": "stdout",
     "output_type": "stream",
     "text": [
      "Model: \"sequential\"\n",
      "_________________________________________________________________\n",
      " Layer (type)                Output Shape              Param #   \n",
      "=================================================================\n",
      " vggface_vgg16 (Functional)  (None, 7, 7, 512)         14714688  \n",
      "                                                                 \n",
      " conv2d (Conv2D)             (None, 7, 7, 1024)        4719616   \n",
      "                                                                 \n",
      " conv2d_1 (Conv2D)           (None, 7, 7, 512)         4719104   \n",
      "                                                                 \n",
      "=================================================================\n",
      "Total params: 24,153,408\n",
      "Trainable params: 9,438,720\n",
      "Non-trainable params: 14,714,688\n",
      "_________________________________________________________________\n"
     ]
    }
   ],
   "source": [
    "our_model.summary()"
   ]
  },
  {
   "cell_type": "code",
   "execution_count": 24,
   "id": "347acaf4-17fe-4048-8b0d-726e7b64f436",
   "metadata": {},
   "outputs": [
    {
     "name": "stdout",
     "output_type": "stream",
     "text": [
      "last layer output shape:  (None, 7, 7, 1024)\n",
      "last layer output:  KerasTensor(type_spec=TensorSpec(shape=(None, 7, 7, 1024), dtype=tf.float32, name=None), name='conv2d/Relu:0', description=\"created by layer 'conv2d'\")\n"
     ]
    }
   ],
   "source": [
    "# Choose `mixed_7` as the last layer of your base model\n",
    "last_layer = our_model.get_layer('conv2d')\n",
    "print('last layer output shape: ', last_layer.output_shape)\n",
    "last_output = last_layer.output\n",
    "print('last layer output: ', last_output)"
   ]
  },
  {
   "cell_type": "markdown",
   "id": "762358e6-81a8-4900-9f13-3954af62b49a",
   "metadata": {
    "tags": []
   },
   "source": [
    "# add dense layer depends on the classification (5 category)\n"
   ]
  },
  {
   "cell_type": "code",
   "execution_count": 25,
   "id": "15cab97c-2b5c-4c31-bc4a-ff277b327ce6",
   "metadata": {},
   "outputs": [
    {
     "name": "stdout",
     "output_type": "stream",
     "text": [
      "Model: \"model\"\n",
      "_________________________________________________________________\n",
      " Layer (type)                Output Shape              Param #   \n",
      "=================================================================\n",
      " vggface_vgg16_input (InputL  [(None, 224, 224, 3)]    0         \n",
      " ayer)                                                           \n",
      "                                                                 \n",
      " vggface_vgg16 (Functional)  (None, 7, 7, 512)         14714688  \n",
      "                                                                 \n",
      " conv2d (Conv2D)             (None, 7, 7, 1024)        4719616   \n",
      "                                                                 \n",
      " flatten (Flatten)           (None, 50176)             0         \n",
      "                                                                 \n",
      " dense (Dense)               (None, 1024)              51381248  \n",
      "                                                                 \n",
      " dropout (Dropout)           (None, 1024)              0         \n",
      "                                                                 \n",
      " dense_1 (Dense)             (None, 6)                 6150      \n",
      "                                                                 \n",
      "=================================================================\n",
      "Total params: 70,821,702\n",
      "Trainable params: 56,107,014\n",
      "Non-trainable params: 14,714,688\n",
      "_________________________________________________________________\n"
     ]
    }
   ],
   "source": [
    "from tensorflow.keras.optimizers import RMSprop\n",
    "from tensorflow.keras import Model\n",
    "\n",
    "\n",
    "# Flatten the output layer to 1 dimension\n",
    "x = layers.Flatten()(last_output)\n",
    "# Add a fully connected layer with 1,024 hidden units and ReLU activation\n",
    "x = layers.Dense(1024, activation=\"ReLU\")(x)\n",
    "# Add a dropout rate of 0.2\n",
    "x = layers.Dropout(0.2)(x)                  \n",
    "# Add a final sigmoid layer for classification\n",
    "x = layers.Dense(6, activation='softmax')(x)           \n",
    "\n",
    "# Append the dense network to the base model\n",
    "model = Model(our_model.input, x) \n",
    "\n",
    "# Print the model summary. See your dense network connected at the end.\n",
    "model.summary()"
   ]
  },
  {
   "cell_type": "markdown",
   "id": "d473f5dd-0576-4ec3-990e-2c88cb287ac8",
   "metadata": {},
   "source": [
    "compiling the model"
   ]
  },
  {
   "cell_type": "code",
   "execution_count": 26,
   "id": "26d2b9c2-5e78-4690-96b3-3ce7130cc4fa",
   "metadata": {},
   "outputs": [],
   "source": [
    "\n",
    "from tensorflow.keras.optimizers import Adam\n",
    "model.compile(loss=tf.keras.losses.CategoricalCrossentropy(),\n",
    "              optimizer=tf.keras.optimizers.Adam(learning_rate = 0.0001),\n",
    "              metrics=['accuracy'])\n",
    "\n",
    "#membuat callback untuk menentukan learning rate terbaik\n",
    "#lr_scheduler = tf.keras.callbacks.LearningRateScheduler(lambda epoch:1e-4 * 10 **(epoch/20))\n"
   ]
  },
  {
   "cell_type": "markdown",
   "id": "c6d4408f-4e8d-4c75-bc4b-deb0aa312b84",
   "metadata": {},
   "source": [
    "Training"
   ]
  },
  {
   "cell_type": "code",
   "execution_count": 27,
   "id": "41d15d51-69ca-4bd3-bbec-5ce76a2af4db",
   "metadata": {},
   "outputs": [
    {
     "data": {
      "text/plain": [
       "17"
      ]
     },
     "execution_count": 27,
     "metadata": {},
     "output_type": "execute_result"
    }
   ],
   "source": [
    "len(validation_generator)"
   ]
  },
  {
   "cell_type": "code",
   "execution_count": 28,
   "id": "9c6df17c-8eb2-4f96-965d-5dd021e19be7",
   "metadata": {},
   "outputs": [
    {
     "name": "stdout",
     "output_type": "stream",
     "text": [
      "Epoch 1/150\n",
      "33/33 - 81s - loss: 1.4597 - accuracy: 0.4070 - val_loss: 1.2538 - val_accuracy: 0.4791 - 81s/epoch - 2s/step\n",
      "Epoch 2/150\n",
      "33/33 - 65s - loss: 1.1511 - accuracy: 0.5209 - val_loss: 1.1242 - val_accuracy: 0.4943 - 65s/epoch - 2s/step\n",
      "Epoch 3/150\n",
      "33/33 - 65s - loss: 1.1032 - accuracy: 0.5482 - val_loss: 1.1461 - val_accuracy: 0.5019 - 65s/epoch - 2s/step\n",
      "Epoch 4/150\n",
      "33/33 - 64s - loss: 1.0574 - accuracy: 0.5463 - val_loss: 1.1241 - val_accuracy: 0.5323 - 64s/epoch - 2s/step\n",
      "Epoch 5/150\n",
      "33/33 - 64s - loss: 1.0179 - accuracy: 0.5618 - val_loss: 1.0852 - val_accuracy: 0.5627 - 64s/epoch - 2s/step\n",
      "Epoch 6/150\n",
      "33/33 - 64s - loss: 0.9656 - accuracy: 0.5988 - val_loss: 1.0663 - val_accuracy: 0.5551 - 64s/epoch - 2s/step\n",
      "Epoch 7/150\n",
      "33/33 - 64s - loss: 0.9088 - accuracy: 0.6280 - val_loss: 1.0729 - val_accuracy: 0.5779 - 64s/epoch - 2s/step\n",
      "Epoch 8/150\n",
      "33/33 - 65s - loss: 0.9173 - accuracy: 0.6144 - val_loss: 1.0203 - val_accuracy: 0.5894 - 65s/epoch - 2s/step\n",
      "Epoch 9/150\n",
      "33/33 - 64s - loss: 0.8500 - accuracy: 0.6650 - val_loss: 1.0865 - val_accuracy: 0.5932 - 64s/epoch - 2s/step\n",
      "Epoch 10/150\n",
      "33/33 - 65s - loss: 0.9249 - accuracy: 0.6232 - val_loss: 0.9578 - val_accuracy: 0.5856 - 65s/epoch - 2s/step\n",
      "Epoch 11/150\n",
      "33/33 - 64s - loss: 0.8237 - accuracy: 0.6670 - val_loss: 1.0333 - val_accuracy: 0.6198 - 64s/epoch - 2s/step\n",
      "Epoch 12/150\n",
      "33/33 - 64s - loss: 0.7877 - accuracy: 0.6913 - val_loss: 1.0366 - val_accuracy: 0.6008 - 64s/epoch - 2s/step\n",
      "Epoch 13/150\n",
      "33/33 - 64s - loss: 0.7939 - accuracy: 0.6943 - val_loss: 0.9870 - val_accuracy: 0.6046 - 64s/epoch - 2s/step\n",
      "Epoch 14/150\n",
      "33/33 - 64s - loss: 0.7415 - accuracy: 0.7225 - val_loss: 1.0818 - val_accuracy: 0.6236 - 64s/epoch - 2s/step\n",
      "Epoch 15/150\n",
      "33/33 - 64s - loss: 0.7110 - accuracy: 0.7371 - val_loss: 0.9597 - val_accuracy: 0.5970 - 64s/epoch - 2s/step\n",
      "Epoch 16/150\n",
      "33/33 - 64s - loss: 0.6974 - accuracy: 0.7352 - val_loss: 0.9505 - val_accuracy: 0.6046 - 64s/epoch - 2s/step\n",
      "Epoch 17/150\n",
      "33/33 - 64s - loss: 0.6776 - accuracy: 0.7342 - val_loss: 1.2675 - val_accuracy: 0.5703 - 64s/epoch - 2s/step\n",
      "Epoch 18/150\n",
      "33/33 - 64s - loss: 0.6460 - accuracy: 0.7400 - val_loss: 0.9887 - val_accuracy: 0.6502 - 64s/epoch - 2s/step\n",
      "Epoch 19/150\n",
      "33/33 - 65s - loss: 0.6533 - accuracy: 0.7556 - val_loss: 0.9211 - val_accuracy: 0.6426 - 65s/epoch - 2s/step\n",
      "Epoch 20/150\n",
      "33/33 - 64s - loss: 0.6313 - accuracy: 0.7614 - val_loss: 0.9412 - val_accuracy: 0.6312 - 64s/epoch - 2s/step\n",
      "Epoch 21/150\n",
      "33/33 - 64s - loss: 0.5919 - accuracy: 0.7712 - val_loss: 0.9678 - val_accuracy: 0.6578 - 64s/epoch - 2s/step\n",
      "Epoch 22/150\n",
      "33/33 - 64s - loss: 0.5753 - accuracy: 0.7780 - val_loss: 0.9066 - val_accuracy: 0.6616 - 64s/epoch - 2s/step\n",
      "Epoch 23/150\n",
      "33/33 - 64s - loss: 0.5637 - accuracy: 0.7936 - val_loss: 0.9728 - val_accuracy: 0.6388 - 64s/epoch - 2s/step\n",
      "Epoch 24/150\n",
      "33/33 - 64s - loss: 0.5439 - accuracy: 0.8101 - val_loss: 0.9285 - val_accuracy: 0.6730 - 64s/epoch - 2s/step\n",
      "Epoch 25/150\n",
      "33/33 - 64s - loss: 0.5408 - accuracy: 0.7916 - val_loss: 0.9882 - val_accuracy: 0.6350 - 64s/epoch - 2s/step\n",
      "Epoch 26/150\n",
      "33/33 - 64s - loss: 0.4968 - accuracy: 0.8179 - val_loss: 0.9303 - val_accuracy: 0.6730 - 64s/epoch - 2s/step\n",
      "Epoch 27/150\n",
      "33/33 - 63s - loss: 0.4973 - accuracy: 0.8257 - val_loss: 0.9369 - val_accuracy: 0.6844 - 63s/epoch - 2s/step\n",
      "Epoch 28/150\n",
      "33/33 - 64s - loss: 0.5158 - accuracy: 0.8023 - val_loss: 0.9758 - val_accuracy: 0.6464 - 64s/epoch - 2s/step\n",
      "Epoch 29/150\n",
      "33/33 - 64s - loss: 0.4647 - accuracy: 0.8335 - val_loss: 0.8932 - val_accuracy: 0.6844 - 64s/epoch - 2s/step\n",
      "Epoch 30/150\n",
      "33/33 - 64s - loss: 0.4388 - accuracy: 0.8315 - val_loss: 0.9864 - val_accuracy: 0.6806 - 64s/epoch - 2s/step\n",
      "Epoch 31/150\n",
      "33/33 - 64s - loss: 0.4326 - accuracy: 0.8423 - val_loss: 0.9210 - val_accuracy: 0.6692 - 64s/epoch - 2s/step\n",
      "Epoch 32/150\n",
      "33/33 - 64s - loss: 0.3967 - accuracy: 0.8578 - val_loss: 1.0397 - val_accuracy: 0.6654 - 64s/epoch - 2s/step\n",
      "Epoch 33/150\n",
      "33/33 - 63s - loss: 0.3639 - accuracy: 0.8773 - val_loss: 0.9850 - val_accuracy: 0.6692 - 63s/epoch - 2s/step\n",
      "Epoch 34/150\n",
      "33/33 - 64s - loss: 0.3861 - accuracy: 0.8685 - val_loss: 1.1108 - val_accuracy: 0.6502 - 64s/epoch - 2s/step\n",
      "Epoch 35/150\n",
      "33/33 - 65s - loss: 0.3859 - accuracy: 0.8442 - val_loss: 1.0766 - val_accuracy: 0.6730 - 65s/epoch - 2s/step\n",
      "Epoch 36/150\n",
      "33/33 - 64s - loss: 0.3841 - accuracy: 0.8588 - val_loss: 0.9733 - val_accuracy: 0.6730 - 64s/epoch - 2s/step\n",
      "Epoch 37/150\n",
      "33/33 - 64s - loss: 0.3447 - accuracy: 0.8676 - val_loss: 0.9092 - val_accuracy: 0.6882 - 64s/epoch - 2s/step\n",
      "Epoch 38/150\n",
      "33/33 - 64s - loss: 0.3243 - accuracy: 0.8929 - val_loss: 0.9704 - val_accuracy: 0.6844 - 64s/epoch - 2s/step\n",
      "Epoch 39/150\n",
      "33/33 - 64s - loss: 0.3053 - accuracy: 0.8890 - val_loss: 0.9947 - val_accuracy: 0.6920 - 64s/epoch - 2s/step\n",
      "Epoch 40/150\n",
      "33/33 - 64s - loss: 0.3098 - accuracy: 0.8948 - val_loss: 0.9600 - val_accuracy: 0.7034 - 64s/epoch - 2s/step\n",
      "Epoch 41/150\n",
      "33/33 - 64s - loss: 0.2995 - accuracy: 0.8997 - val_loss: 1.0062 - val_accuracy: 0.6616 - 64s/epoch - 2s/step\n",
      "Epoch 42/150\n",
      "33/33 - 65s - loss: 0.3067 - accuracy: 0.8919 - val_loss: 1.0887 - val_accuracy: 0.6768 - 65s/epoch - 2s/step\n",
      "Epoch 43/150\n",
      "33/33 - 63s - loss: 0.2986 - accuracy: 0.8958 - val_loss: 1.0407 - val_accuracy: 0.7224 - 63s/epoch - 2s/step\n",
      "Epoch 44/150\n",
      "33/33 - 63s - loss: 0.2972 - accuracy: 0.8929 - val_loss: 0.9825 - val_accuracy: 0.6920 - 63s/epoch - 2s/step\n",
      "Epoch 45/150\n",
      "33/33 - 64s - loss: 0.2785 - accuracy: 0.9026 - val_loss: 1.0035 - val_accuracy: 0.7110 - 64s/epoch - 2s/step\n",
      "Epoch 46/150\n",
      "33/33 - 64s - loss: 0.2591 - accuracy: 0.9143 - val_loss: 1.0179 - val_accuracy: 0.7224 - 64s/epoch - 2s/step\n",
      "Epoch 47/150\n",
      "33/33 - 63s - loss: 0.2304 - accuracy: 0.9231 - val_loss: 1.2240 - val_accuracy: 0.6806 - 63s/epoch - 2s/step\n",
      "Epoch 48/150\n",
      "33/33 - 63s - loss: 0.2621 - accuracy: 0.9007 - val_loss: 1.0384 - val_accuracy: 0.7110 - 63s/epoch - 2s/step\n",
      "Epoch 49/150\n",
      "33/33 - 63s - loss: 0.2274 - accuracy: 0.9260 - val_loss: 0.9883 - val_accuracy: 0.7072 - 63s/epoch - 2s/step\n",
      "Epoch 50/150\n",
      "33/33 - 63s - loss: 0.2141 - accuracy: 0.9328 - val_loss: 1.1862 - val_accuracy: 0.6996 - 63s/epoch - 2s/step\n",
      "Epoch 51/150\n",
      "33/33 - 64s - loss: 0.2161 - accuracy: 0.9318 - val_loss: 1.0779 - val_accuracy: 0.7148 - 64s/epoch - 2s/step\n",
      "Epoch 52/150\n",
      "33/33 - 65s - loss: 0.2198 - accuracy: 0.9202 - val_loss: 1.0861 - val_accuracy: 0.6996 - 65s/epoch - 2s/step\n",
      "Epoch 53/150\n",
      "33/33 - 66s - loss: 0.1967 - accuracy: 0.9406 - val_loss: 1.2105 - val_accuracy: 0.6806 - 66s/epoch - 2s/step\n",
      "Epoch 54/150\n",
      "33/33 - 63s - loss: 0.1987 - accuracy: 0.9260 - val_loss: 1.2019 - val_accuracy: 0.7186 - 63s/epoch - 2s/step\n",
      "Epoch 55/150\n",
      "33/33 - 63s - loss: 0.2029 - accuracy: 0.9241 - val_loss: 1.1999 - val_accuracy: 0.6882 - 63s/epoch - 2s/step\n",
      "Epoch 56/150\n",
      "33/33 - 63s - loss: 0.2097 - accuracy: 0.9289 - val_loss: 1.1759 - val_accuracy: 0.6882 - 63s/epoch - 2s/step\n",
      "Epoch 57/150\n",
      "33/33 - 63s - loss: 0.2163 - accuracy: 0.9309 - val_loss: 1.0700 - val_accuracy: 0.7376 - 63s/epoch - 2s/step\n",
      "Epoch 58/150\n",
      "33/33 - 63s - loss: 0.2284 - accuracy: 0.9221 - val_loss: 1.3474 - val_accuracy: 0.6730 - 63s/epoch - 2s/step\n",
      "Epoch 59/150\n",
      "33/33 - 63s - loss: 0.2007 - accuracy: 0.9309 - val_loss: 1.2759 - val_accuracy: 0.6920 - 63s/epoch - 2s/step\n",
      "Epoch 60/150\n",
      "33/33 - 63s - loss: 0.2017 - accuracy: 0.9299 - val_loss: 1.0278 - val_accuracy: 0.7262 - 63s/epoch - 2s/step\n",
      "Epoch 61/150\n",
      "33/33 - 64s - loss: 0.1594 - accuracy: 0.9513 - val_loss: 1.1543 - val_accuracy: 0.7148 - 64s/epoch - 2s/step\n",
      "Epoch 62/150\n",
      "33/33 - 63s - loss: 0.1746 - accuracy: 0.9455 - val_loss: 1.1713 - val_accuracy: 0.7186 - 63s/epoch - 2s/step\n",
      "Epoch 63/150\n",
      "33/33 - 63s - loss: 0.1435 - accuracy: 0.9591 - val_loss: 1.2482 - val_accuracy: 0.7110 - 63s/epoch - 2s/step\n",
      "Epoch 64/150\n",
      "33/33 - 63s - loss: 0.1432 - accuracy: 0.9533 - val_loss: 1.1989 - val_accuracy: 0.7300 - 63s/epoch - 2s/step\n",
      "Epoch 65/150\n",
      "33/33 - 63s - loss: 0.1592 - accuracy: 0.9416 - val_loss: 1.1847 - val_accuracy: 0.7110 - 63s/epoch - 2s/step\n",
      "Epoch 66/150\n",
      "33/33 - 63s - loss: 0.1498 - accuracy: 0.9523 - val_loss: 1.1832 - val_accuracy: 0.7452 - 63s/epoch - 2s/step\n",
      "Epoch 67/150\n",
      "33/33 - 63s - loss: 0.1871 - accuracy: 0.9435 - val_loss: 1.2513 - val_accuracy: 0.6920 - 63s/epoch - 2s/step\n",
      "Epoch 68/150\n",
      "33/33 - 63s - loss: 0.1530 - accuracy: 0.9503 - val_loss: 1.2773 - val_accuracy: 0.7072 - 63s/epoch - 2s/step\n",
      "Epoch 69/150\n",
      "33/33 - 63s - loss: 0.1380 - accuracy: 0.9620 - val_loss: 1.2051 - val_accuracy: 0.7110 - 63s/epoch - 2s/step\n",
      "Epoch 70/150\n",
      "33/33 - 63s - loss: 0.1345 - accuracy: 0.9494 - val_loss: 1.2321 - val_accuracy: 0.7186 - 63s/epoch - 2s/step\n",
      "Epoch 71/150\n",
      "33/33 - 64s - loss: 0.1341 - accuracy: 0.9601 - val_loss: 1.3268 - val_accuracy: 0.7034 - 64s/epoch - 2s/step\n",
      "Epoch 72/150\n",
      "33/33 - 64s - loss: 0.1799 - accuracy: 0.9445 - val_loss: 1.1474 - val_accuracy: 0.7110 - 64s/epoch - 2s/step\n",
      "Epoch 73/150\n",
      "33/33 - 63s - loss: 0.1947 - accuracy: 0.9396 - val_loss: 1.1353 - val_accuracy: 0.7110 - 63s/epoch - 2s/step\n",
      "Epoch 74/150\n",
      "33/33 - 63s - loss: 0.1356 - accuracy: 0.9581 - val_loss: 1.2056 - val_accuracy: 0.7338 - 63s/epoch - 2s/step\n",
      "Epoch 75/150\n",
      "33/33 - 63s - loss: 0.1755 - accuracy: 0.9357 - val_loss: 1.1835 - val_accuracy: 0.7186 - 63s/epoch - 2s/step\n",
      "Epoch 76/150\n",
      "33/33 - 63s - loss: 0.1171 - accuracy: 0.9620 - val_loss: 1.1525 - val_accuracy: 0.7376 - 63s/epoch - 2s/step\n",
      "Epoch 77/150\n",
      "33/33 - 63s - loss: 0.1099 - accuracy: 0.9649 - val_loss: 1.2640 - val_accuracy: 0.7338 - 63s/epoch - 2s/step\n",
      "Epoch 78/150\n",
      "33/33 - 64s - loss: 0.1257 - accuracy: 0.9581 - val_loss: 1.2071 - val_accuracy: 0.7414 - 64s/epoch - 2s/step\n",
      "Epoch 79/150\n",
      "33/33 - 63s - loss: 0.1618 - accuracy: 0.9503 - val_loss: 1.2430 - val_accuracy: 0.7186 - 63s/epoch - 2s/step\n",
      "Epoch 80/150\n",
      "33/33 - 63s - loss: 0.2022 - accuracy: 0.9211 - val_loss: 1.2626 - val_accuracy: 0.7072 - 63s/epoch - 2s/step\n",
      "Epoch 81/150\n",
      "33/33 - 63s - loss: 0.1254 - accuracy: 0.9562 - val_loss: 1.3748 - val_accuracy: 0.7224 - 63s/epoch - 2s/step\n",
      "Epoch 82/150\n",
      "33/33 - 64s - loss: 0.1384 - accuracy: 0.9503 - val_loss: 1.2462 - val_accuracy: 0.7338 - 64s/epoch - 2s/step\n",
      "Epoch 83/150\n",
      "33/33 - 63s - loss: 0.1052 - accuracy: 0.9698 - val_loss: 1.3474 - val_accuracy: 0.7414 - 63s/epoch - 2s/step\n",
      "Epoch 84/150\n",
      "33/33 - 63s - loss: 0.1121 - accuracy: 0.9640 - val_loss: 1.3500 - val_accuracy: 0.7224 - 63s/epoch - 2s/step\n",
      "Epoch 85/150\n",
      "33/33 - 63s - loss: 0.1222 - accuracy: 0.9572 - val_loss: 1.3622 - val_accuracy: 0.7224 - 63s/epoch - 2s/step\n",
      "Epoch 86/150\n",
      "33/33 - 63s - loss: 0.1560 - accuracy: 0.9503 - val_loss: 1.3202 - val_accuracy: 0.7186 - 63s/epoch - 2s/step\n",
      "Epoch 87/150\n",
      "33/33 - 63s - loss: 0.1192 - accuracy: 0.9620 - val_loss: 1.3695 - val_accuracy: 0.6958 - 63s/epoch - 2s/step\n",
      "Epoch 88/150\n",
      "33/33 - 62s - loss: 0.0896 - accuracy: 0.9718 - val_loss: 1.3514 - val_accuracy: 0.7148 - 62s/epoch - 2s/step\n",
      "Epoch 89/150\n",
      "33/33 - 63s - loss: 0.0830 - accuracy: 0.9737 - val_loss: 1.3805 - val_accuracy: 0.7148 - 63s/epoch - 2s/step\n",
      "Epoch 90/150\n",
      "33/33 - 63s - loss: 0.2444 - accuracy: 0.9309 - val_loss: 1.1691 - val_accuracy: 0.7376 - 63s/epoch - 2s/step\n",
      "Epoch 91/150\n",
      "33/33 - 63s - loss: 0.1140 - accuracy: 0.9649 - val_loss: 1.1260 - val_accuracy: 0.7414 - 63s/epoch - 2s/step\n",
      "Epoch 92/150\n",
      "33/33 - 63s - loss: 0.1031 - accuracy: 0.9708 - val_loss: 1.2285 - val_accuracy: 0.7490 - 63s/epoch - 2s/step\n",
      "Epoch 93/150\n",
      "33/33 - 63s - loss: 0.0928 - accuracy: 0.9747 - val_loss: 1.3104 - val_accuracy: 0.7338 - 63s/epoch - 2s/step\n",
      "Epoch 94/150\n",
      "33/33 - 63s - loss: 0.1029 - accuracy: 0.9630 - val_loss: 1.2610 - val_accuracy: 0.7414 - 63s/epoch - 2s/step\n",
      "Epoch 95/150\n",
      "33/33 - 63s - loss: 0.0953 - accuracy: 0.9669 - val_loss: 1.3800 - val_accuracy: 0.7224 - 63s/epoch - 2s/step\n",
      "Epoch 96/150\n",
      "33/33 - 64s - loss: 0.1021 - accuracy: 0.9659 - val_loss: 1.2352 - val_accuracy: 0.7376 - 64s/epoch - 2s/step\n",
      "Epoch 97/150\n",
      "33/33 - 64s - loss: 0.0929 - accuracy: 0.9659 - val_loss: 1.3739 - val_accuracy: 0.7376 - 64s/epoch - 2s/step\n",
      "Epoch 98/150\n",
      "33/33 - 63s - loss: 0.1324 - accuracy: 0.9533 - val_loss: 1.3296 - val_accuracy: 0.7567 - 63s/epoch - 2s/step\n",
      "Epoch 99/150\n",
      "33/33 - 63s - loss: 0.0909 - accuracy: 0.9698 - val_loss: 1.2161 - val_accuracy: 0.7567 - 63s/epoch - 2s/step\n",
      "Epoch 100/150\n",
      "33/33 - 64s - loss: 0.1678 - accuracy: 0.9484 - val_loss: 1.3049 - val_accuracy: 0.7376 - 64s/epoch - 2s/step\n",
      "Epoch 101/150\n",
      "33/33 - 63s - loss: 0.0882 - accuracy: 0.9766 - val_loss: 1.3236 - val_accuracy: 0.7376 - 63s/epoch - 2s/step\n",
      "Epoch 102/150\n",
      "33/33 - 63s - loss: 0.0976 - accuracy: 0.9688 - val_loss: 1.3043 - val_accuracy: 0.7490 - 63s/epoch - 2s/step\n",
      "Epoch 103/150\n",
      "33/33 - 63s - loss: 0.1124 - accuracy: 0.9669 - val_loss: 1.4611 - val_accuracy: 0.7148 - 63s/epoch - 2s/step\n",
      "Epoch 104/150\n",
      "33/33 - 63s - loss: 0.0941 - accuracy: 0.9708 - val_loss: 1.6989 - val_accuracy: 0.6806 - 63s/epoch - 2s/step\n",
      "Epoch 105/150\n",
      "33/33 - 63s - loss: 0.1423 - accuracy: 0.9513 - val_loss: 1.2583 - val_accuracy: 0.7719 - 63s/epoch - 2s/step\n",
      "Epoch 106/150\n",
      "33/33 - 63s - loss: 0.1664 - accuracy: 0.9484 - val_loss: 1.2530 - val_accuracy: 0.7757 - 63s/epoch - 2s/step\n",
      "Epoch 107/150\n",
      "33/33 - 63s - loss: 0.1005 - accuracy: 0.9708 - val_loss: 1.3407 - val_accuracy: 0.7376 - 63s/epoch - 2s/step\n",
      "Epoch 108/150\n",
      "33/33 - 64s - loss: 0.0726 - accuracy: 0.9796 - val_loss: 1.2361 - val_accuracy: 0.7414 - 64s/epoch - 2s/step\n",
      "Epoch 109/150\n",
      "33/33 - 63s - loss: 0.1003 - accuracy: 0.9679 - val_loss: 1.3945 - val_accuracy: 0.7414 - 63s/epoch - 2s/step\n",
      "Epoch 110/150\n",
      "33/33 - 63s - loss: 0.0776 - accuracy: 0.9757 - val_loss: 1.4965 - val_accuracy: 0.7338 - 63s/epoch - 2s/step\n",
      "Epoch 111/150\n",
      "33/33 - 63s - loss: 0.0897 - accuracy: 0.9727 - val_loss: 1.4180 - val_accuracy: 0.7338 - 63s/epoch - 2s/step\n",
      "Epoch 112/150\n",
      "33/33 - 63s - loss: 0.0731 - accuracy: 0.9757 - val_loss: 1.4165 - val_accuracy: 0.7186 - 63s/epoch - 2s/step\n",
      "Epoch 113/150\n",
      "33/33 - 63s - loss: 0.0774 - accuracy: 0.9747 - val_loss: 1.4216 - val_accuracy: 0.7529 - 63s/epoch - 2s/step\n",
      "Epoch 114/150\n",
      "33/33 - 63s - loss: 0.0701 - accuracy: 0.9805 - val_loss: 1.4757 - val_accuracy: 0.7262 - 63s/epoch - 2s/step\n",
      "Epoch 115/150\n",
      "33/33 - 63s - loss: 0.0636 - accuracy: 0.9805 - val_loss: 1.4392 - val_accuracy: 0.7338 - 63s/epoch - 2s/step\n",
      "Epoch 116/150\n",
      "33/33 - 63s - loss: 0.0609 - accuracy: 0.9805 - val_loss: 1.6212 - val_accuracy: 0.7376 - 63s/epoch - 2s/step\n",
      "Epoch 117/150\n",
      "33/33 - 63s - loss: 0.0736 - accuracy: 0.9747 - val_loss: 1.5188 - val_accuracy: 0.7224 - 63s/epoch - 2s/step\n",
      "Epoch 118/150\n",
      "33/33 - 63s - loss: 0.0592 - accuracy: 0.9883 - val_loss: 1.5453 - val_accuracy: 0.7186 - 63s/epoch - 2s/step\n",
      "Epoch 119/150\n",
      "33/33 - 63s - loss: 0.1006 - accuracy: 0.9620 - val_loss: 1.5726 - val_accuracy: 0.7338 - 63s/epoch - 2s/step\n",
      "Epoch 120/150\n",
      "33/33 - 63s - loss: 0.0755 - accuracy: 0.9737 - val_loss: 1.4286 - val_accuracy: 0.7338 - 63s/epoch - 2s/step\n",
      "Epoch 121/150\n",
      "33/33 - 63s - loss: 0.0513 - accuracy: 0.9844 - val_loss: 1.5320 - val_accuracy: 0.7490 - 63s/epoch - 2s/step\n",
      "Epoch 122/150\n",
      "33/33 - 63s - loss: 0.0838 - accuracy: 0.9737 - val_loss: 1.5842 - val_accuracy: 0.7338 - 63s/epoch - 2s/step\n",
      "Epoch 123/150\n",
      "33/33 - 63s - loss: 0.0873 - accuracy: 0.9708 - val_loss: 1.6973 - val_accuracy: 0.7072 - 63s/epoch - 2s/step\n",
      "Epoch 124/150\n",
      "33/33 - 63s - loss: 0.1014 - accuracy: 0.9640 - val_loss: 1.5791 - val_accuracy: 0.7452 - 63s/epoch - 2s/step\n",
      "Epoch 125/150\n",
      "33/33 - 63s - loss: 0.0799 - accuracy: 0.9757 - val_loss: 1.5145 - val_accuracy: 0.7300 - 63s/epoch - 2s/step\n",
      "Epoch 126/150\n",
      "33/33 - 63s - loss: 0.0557 - accuracy: 0.9805 - val_loss: 1.4733 - val_accuracy: 0.7338 - 63s/epoch - 2s/step\n",
      "Epoch 127/150\n",
      "33/33 - 63s - loss: 0.0634 - accuracy: 0.9786 - val_loss: 1.4010 - val_accuracy: 0.7148 - 63s/epoch - 2s/step\n",
      "Epoch 128/150\n",
      "33/33 - 63s - loss: 0.0639 - accuracy: 0.9796 - val_loss: 1.4730 - val_accuracy: 0.7262 - 63s/epoch - 2s/step\n",
      "Epoch 129/150\n",
      "33/33 - 64s - loss: 0.0621 - accuracy: 0.9834 - val_loss: 1.4287 - val_accuracy: 0.7529 - 64s/epoch - 2s/step\n",
      "Epoch 130/150\n",
      "33/33 - 63s - loss: 0.0577 - accuracy: 0.9815 - val_loss: 1.6208 - val_accuracy: 0.7224 - 63s/epoch - 2s/step\n",
      "Epoch 131/150\n",
      "33/33 - 63s - loss: 0.0763 - accuracy: 0.9737 - val_loss: 1.8050 - val_accuracy: 0.6844 - 63s/epoch - 2s/step\n",
      "Epoch 132/150\n",
      "33/33 - 63s - loss: 0.1223 - accuracy: 0.9601 - val_loss: 1.5171 - val_accuracy: 0.7452 - 63s/epoch - 2s/step\n",
      "Epoch 133/150\n",
      "33/33 - 63s - loss: 0.0664 - accuracy: 0.9805 - val_loss: 1.4838 - val_accuracy: 0.7490 - 63s/epoch - 2s/step\n",
      "Epoch 134/150\n",
      "33/33 - 63s - loss: 0.0613 - accuracy: 0.9786 - val_loss: 1.4680 - val_accuracy: 0.7224 - 63s/epoch - 2s/step\n",
      "Epoch 135/150\n",
      "33/33 - 64s - loss: 0.0664 - accuracy: 0.9776 - val_loss: 1.6072 - val_accuracy: 0.7376 - 64s/epoch - 2s/step\n",
      "Epoch 136/150\n",
      "33/33 - 63s - loss: 0.0699 - accuracy: 0.9766 - val_loss: 1.5532 - val_accuracy: 0.7452 - 63s/epoch - 2s/step\n",
      "Epoch 137/150\n",
      "33/33 - 64s - loss: 0.0695 - accuracy: 0.9796 - val_loss: 1.5827 - val_accuracy: 0.7300 - 64s/epoch - 2s/step\n",
      "Epoch 138/150\n",
      "33/33 - 63s - loss: 0.0475 - accuracy: 0.9873 - val_loss: 1.5768 - val_accuracy: 0.7186 - 63s/epoch - 2s/step\n",
      "Epoch 139/150\n",
      "33/33 - 63s - loss: 0.0438 - accuracy: 0.9912 - val_loss: 1.5955 - val_accuracy: 0.7376 - 63s/epoch - 2s/step\n",
      "Epoch 140/150\n",
      "33/33 - 64s - loss: 0.0452 - accuracy: 0.9873 - val_loss: 1.5358 - val_accuracy: 0.7490 - 64s/epoch - 2s/step\n",
      "Epoch 141/150\n",
      "33/33 - 63s - loss: 0.0508 - accuracy: 0.9834 - val_loss: 1.7170 - val_accuracy: 0.7338 - 63s/epoch - 2s/step\n",
      "Epoch 142/150\n",
      "33/33 - 63s - loss: 0.0616 - accuracy: 0.9776 - val_loss: 1.7303 - val_accuracy: 0.7148 - 63s/epoch - 2s/step\n",
      "Epoch 143/150\n",
      "33/33 - 63s - loss: 0.0689 - accuracy: 0.9776 - val_loss: 1.8764 - val_accuracy: 0.7148 - 63s/epoch - 2s/step\n",
      "Epoch 144/150\n",
      "33/33 - 63s - loss: 0.0410 - accuracy: 0.9883 - val_loss: 1.6247 - val_accuracy: 0.7376 - 63s/epoch - 2s/step\n",
      "Epoch 145/150\n",
      "33/33 - 62s - loss: 0.0546 - accuracy: 0.9786 - val_loss: 1.5878 - val_accuracy: 0.7338 - 62s/epoch - 2s/step\n",
      "Epoch 146/150\n",
      "33/33 - 63s - loss: 0.0459 - accuracy: 0.9844 - val_loss: 1.7303 - val_accuracy: 0.7072 - 63s/epoch - 2s/step\n",
      "Epoch 147/150\n",
      "33/33 - 63s - loss: 0.0419 - accuracy: 0.9873 - val_loss: 1.5522 - val_accuracy: 0.7376 - 63s/epoch - 2s/step\n",
      "Epoch 148/150\n",
      "33/33 - 63s - loss: 0.0447 - accuracy: 0.9844 - val_loss: 1.6082 - val_accuracy: 0.7072 - 63s/epoch - 2s/step\n",
      "Epoch 149/150\n",
      "33/33 - 63s - loss: 0.1083 - accuracy: 0.9659 - val_loss: 2.3715 - val_accuracy: 0.6578 - 63s/epoch - 2s/step\n",
      "Epoch 150/150\n",
      "33/33 - 63s - loss: 0.1440 - accuracy: 0.9503 - val_loss: 1.5047 - val_accuracy: 0.7262 - 63s/epoch - 2s/step\n"
     ]
    }
   ],
   "source": [
    "history = model.fit(\n",
    "      train_generator,\n",
    "      steps_per_epoch=len(train_generator),  \n",
    "      epochs=150,\n",
    "      #callbacks = [lr_scheduler],\n",
    "      verbose=2,\n",
    "      validation_data = validation_generator,\n",
    "      validation_steps=len(validation_generator))"
   ]
  },
  {
   "cell_type": "code",
   "execution_count": 29,
   "id": "71b6c3ba-ddbc-46c8-925a-72575ab3d497",
   "metadata": {},
   "outputs": [],
   "source": [
    "import pandas as pd"
   ]
  },
  {
   "cell_type": "code",
   "execution_count": 30,
   "id": "5c43cfaa-e26c-4dbf-9243-0fb0a6fcc37e",
   "metadata": {},
   "outputs": [
    {
     "data": {
      "image/png": "[encoded data removed]",
      "text/plain": [
       "<Figure size 1000x700 with 1 Axes>"
      ]
     },
     "metadata": {},
     "output_type": "display_data"
    }
   ],
   "source": [
    "pd.DataFrame(history.history).plot(figsize = (10, 7), xlabel = \"epochs\");"
   ]
  },
  {
   "cell_type": "code",
   "execution_count": 31,
   "id": "cfcceb18-0ae5-472d-8753-4ac9c469663e",
   "metadata": {},
   "outputs": [],
   "source": [
    "# #plot the learning rate versus the loss\n",
    "# lrs = 1e-4 * (10 ** (tf.range(300)/20))\n",
    "# plt.figure(figsize = (10,7))\n",
    "# plt.semilogx(lrs, history.history[\"loss\"])\n",
    "# plt.xlabel(\"learning rate\")\n",
    "# plt.ylabel(\"loss\")\n",
    "# plt.title(\"learning rate vs loss\")"
   ]
  },
  {
   "cell_type": "code",
   "execution_count": 32,
   "id": "0d4a147c-20d5-49a6-8c65-3a746f4dea5c",
   "metadata": {},
   "outputs": [],
   "source": [
    "%matplotlib inline\n",
    "\n",
    "import matplotlib.image as mpimg\n",
    "import matplotlib.pyplot as plt"
   ]
  },
  {
   "cell_type": "code",
   "execution_count": 33,
   "id": "61106d45-50d9-4d21-96a3-8a4de60ddfb5",
   "metadata": {},
   "outputs": [],
   "source": [
    "# evaluating accuracy and loss for the model\n"
   ]
  },
  {
   "cell_type": "code",
   "execution_count": 34,
   "id": "6ffe7d33-0b73-4c00-b53c-b5ba658b8df4",
   "metadata": {},
   "outputs": [
    {
     "data": {
      "text/plain": [
       "<Figure size 640x480 with 0 Axes>"
      ]
     },
     "execution_count": 34,
     "metadata": {},
     "output_type": "execute_result"
    },
    {
     "data": {
      "image/png": "[encoded data removed]",
      "text/plain": [
       "<Figure size 640x480 with 1 Axes>"
      ]
     },
     "metadata": {},
     "output_type": "display_data"
    },
    {
     "data": {
      "image/png": "[encoded data removed]",
      "text/plain": [
       "<Figure size 640x480 with 1 Axes>"
      ]
     },
     "metadata": {},
     "output_type": "display_data"
    },
    {
     "data": {
      "text/plain": [
       "<Figure size 640x480 with 0 Axes>"
      ]
     },
     "metadata": {},
     "output_type": "display_data"
    }
   ],
   "source": [
    "#-----------------------------------------------------------\n",
    "# Retrieve a list of list results on training and test data\n",
    "# sets for each training epoch\n",
    "#-----------------------------------------------------------\n",
    "acc      = history.history[     'accuracy' ]\n",
    "val_acc  = history.history[ 'val_accuracy' ]\n",
    "loss     = history.history[    'loss' ]\n",
    "val_loss = history.history['val_loss' ]\n",
    "\n",
    "epochs   = range(len(acc)) # Get number of epochs\n",
    "\n",
    "#------------------------------------------------\n",
    "# Plot training and validation accuracy per epoch\n",
    "#------------------------------------------------\n",
    "plt.plot(epochs, acc, 'r', label='Training accuracy')\n",
    "plt.plot(epochs, val_acc, 'b', label='Validation accuracy')\n",
    "plt.title ('Training and validation accuracy')\n",
    "plt.legend(loc=0)\n",
    "plt.figure()\n",
    "\n",
    "#------------------------------------------------\n",
    "# Plot training and validation loss per epoch\n",
    "#------------------------------------------------\n",
    "plt.plot  ( epochs,     loss , 'r', label='Training loss')\n",
    "plt.plot  ( epochs, val_loss , 'b', label='Validation loss')\n",
    "plt.title ('Training and validation loss'   )\n",
    "plt.legend(loc=0)\n",
    "plt.figure()\n"
   ]
  },
  {
   "cell_type": "markdown",
   "id": "dd5d560d-8947-458f-a521-4865884a4d1b",
   "metadata": {},
   "source": [
    "# menyimpan model TAPI BELUM YANG VERSI QUANTIZED "
   ]
  },
  {
   "cell_type": "code",
   "execution_count": 35,
   "id": "1ba0b934-5fc5-4956-b5cf-e956b56fd50c",
   "metadata": {},
   "outputs": [],
   "source": [
    "\n",
    "from keras.models import load_model\n",
    "\n",
    "model.save('/home/jupyter/content/kerasFormat_model5/model_vggFace_13Juni.h5')"
   ]
  },
  {
   "cell_type": "code",
   "execution_count": 36,
   "id": "f261c8d0-16d6-4cda-b8a4-e74f2332bf08",
   "metadata": {},
   "outputs": [
    {
     "name": "stderr",
     "output_type": "stream",
     "text": [
      "WARNING:absl:Found untraced functions such as _jit_compiled_convolution_op, _jit_compiled_convolution_op, _jit_compiled_convolution_op, _jit_compiled_convolution_op, _jit_compiled_convolution_op while saving (showing 5 of 16). These functions will not be directly callable after loading.\n"
     ]
    },
    {
     "name": "stdout",
     "output_type": "stream",
     "text": [
      "INFO:tensorflow:Assets written to: /home/jupyter/content/saved Model5/assets\n"
     ]
    },
    {
     "name": "stderr",
     "output_type": "stream",
     "text": [
      "INFO:tensorflow:Assets written to: /home/jupyter/content/saved Model5/assets\n"
     ]
    }
   ],
   "source": [
    "\n",
    "from keras.models import load_model\n",
    "\n",
    "model.save('/home/jupyter/content/saved Model5')"
   ]
  },
  {
   "cell_type": "markdown",
   "id": "d3348b7e-1afc-43ba-b03d-7bb1313f1e6f",
   "metadata": {},
   "source": [
    "# Convert to Tensorflow LITE"
   ]
  },
  {
   "cell_type": "code",
   "execution_count": null,
   "id": "88ff9e5e-e9d5-4abd-8cee-cea4c70f75b7",
   "metadata": {},
   "outputs": [],
   "source": [
    "try:\n",
    "    %tensorflow_version 2.x\n",
    "except:\n",
    "    pass"
   ]
  },
  {
   "cell_type": "code",
   "execution_count": null,
   "id": "0b9236cc-49fc-4594-b613-fac425da2774",
   "metadata": {},
   "outputs": [],
   "source": [
    "import pathlib\n",
    "\n",
    "print('\\u2022 Using TensorFlow Version:', tf.__version__)"
   ]
  },
  {
   "cell_type": "code",
   "execution_count": null,
   "id": "30108970-518c-4f1e-97ba-841a5f72ca26",
   "metadata": {},
   "outputs": [],
   "source": []
  },
  {
   "cell_type": "code",
   "execution_count": null,
   "id": "69c8f63f-c1f8-475e-8288-a16f0c4ef63b",
   "metadata": {},
   "outputs": [],
   "source": [
    "#!mkdir saved_TFLITE_model"
   ]
  },
  {
   "cell_type": "markdown",
   "id": "4373b651-7b84-4c3b-87be-a79c68589c64",
   "metadata": {},
   "source": [
    "generate SavedModel"
   ]
  },
  {
   "cell_type": "code",
   "execution_count": null,
   "id": "655e25c2-7c74-4488-ac42-be95ececfcb4",
   "metadata": {},
   "outputs": [],
   "source": [
    "export_dir = \"home/jupyter/content/saved_TFLITE_model\"\n",
    "tf.saved_model.save(model, export_dir)"
   ]
  },
  {
   "cell_type": "code",
   "execution_count": null,
   "id": "ce20a688-f59e-4a15-8730-31003f86dad3",
   "metadata": {},
   "outputs": [],
   "source": [
    "model = tf.saved_model.load(export_dir)"
   ]
  },
  {
   "cell_type": "markdown",
   "id": "3c012001-21dc-4052-9c69-6cef5e99905a",
   "metadata": {},
   "source": [
    "Convert the SavedModel to JSON"
   ]
  },
  {
   "cell_type": "code",
   "execution_count": null,
   "id": "268baeb6-5c26-4b14-91c7-43ad8424bfcc",
   "metadata": {},
   "outputs": [],
   "source": [
    "#!pip install --user tensorflowjs"
   ]
  },
  {
   "cell_type": "code",
   "execution_count": null,
   "id": "d8e37300-f1e7-48c8-ae8b-271df0150c1e",
   "metadata": {},
   "outputs": [],
   "source": [
    "# import tensorflowjs\n",
    "# import json"
   ]
  },
  {
   "cell_type": "code",
   "execution_count": null,
   "id": "554fb0eb-4431-4132-878c-a77deb5f18e2",
   "metadata": {},
   "outputs": [],
   "source": [
    "\n",
    "\n",
    "# # Load the SavedModel\n",
    "# model = tf.saved_model.load('home/jupyter/content/saved Model')\n"
   ]
  },
  {
   "cell_type": "code",
   "execution_count": null,
   "id": "99710e1e-2f30-4c78-8a58-b528368b6bc4",
   "metadata": {},
   "outputs": [],
   "source": [
    "import tensorflow as tf\n",
    "import json\n",
    "\n",
    "# Load the SavedModel\n",
    "model = tf.saved_model.load(export_dir)\n",
    "\n",
    "# Convert tensor shapes to lists\n",
    "def convert_shape(shape):\n",
    "    return [dim for dim in shape.as_list()]\n",
    "\n",
    "# Create a dictionary to store the JSON model\n",
    "json_model = {}\n",
    "\n",
    "# Get information about inputs\n",
    "input_signatures = model.signatures['serving_default'].structured_input_signature[1]\n",
    "json_model['inputs'] = []\n",
    "for tensor_name, tensor_info in input_signatures.items():\n",
    "    input_info = {\n",
    "        'name': tensor_name,\n",
    "        'dtype': str(tensor_info.dtype),\n",
    "        'shape': convert_shape(tensor_info.shape),\n",
    "    }\n",
    "    json_model['inputs'].append(input_info)\n",
    "\n",
    "# Get information about outputs\n",
    "output_signatures = model.signatures['serving_default'].structured_outputs\n",
    "json_model['outputs'] = []\n",
    "for tensor_name, tensor_info in output_signatures.items():\n",
    "    output_info = {\n",
    "        'name': tensor_name,\n",
    "        'dtype': str(tensor_info.dtype),\n",
    "        'shape': convert_shape(tensor_info.shape),\n",
    "    }\n",
    "    json_model['outputs'].append(output_info)\n",
    "\n",
    "# Save the JSON model to a file\n",
    "with open('model.json', 'w') as f:\n",
    "    json.dump(json_model, f)\n"
   ]
  },
  {
   "cell_type": "markdown",
   "id": "288502a5-bf90-4c59-9a59-93800954360b",
   "metadata": {},
   "source": [
    "Convert the SavedModel to TFLite"
   ]
  },
  {
   "cell_type": "code",
   "execution_count": null,
   "id": "c37b2b93-c569-46d8-8489-8dc60af2abb4",
   "metadata": {},
   "outputs": [],
   "source": [
    "# # Convert the model.\n",
    "# converter = tf.lite.TFLiteConverter.from_saved_model(export_dir)\n",
    "\n",
    "# # Set the optimization flags for quantization\n",
    "# converter.optimizations = [tf.lite.Optimize.DEFAULT] # INTINYA DISINI UNTUK MELAKUKAN QUANTIZED\n",
    "\n",
    "# # Specify the input and output tensors (if necessary)\n",
    "# # converter.target_spec.supported_ops = [tf.lite.OpsSet.TFLITE_BUILTINS_INT8]\n",
    "# # converter.target_spec.supported_types = [tf.int8]\n",
    "\n",
    "# tflite_model = converter.convert()"
   ]
  },
  {
   "cell_type": "code",
   "execution_count": null,
   "id": "81ebf261-2e1c-44b4-9ee1-81e278476d43",
   "metadata": {},
   "outputs": [],
   "source": [
    "# tflite_model_file = pathlib.Path('home/jupyter/content/')\n",
    "# tflite_model_file.write_bytes(tflite_model)"
   ]
  },
  {
   "cell_type": "markdown",
   "id": "46a2c46a-bdf4-42a1-99ea-5c9fa629e8ce",
   "metadata": {},
   "source": [
    "# labels"
   ]
  },
  {
   "cell_type": "code",
   "execution_count": null,
   "id": "8bbdf43f-d089-4bbd-a6b8-286bc7e5c207",
   "metadata": {},
   "outputs": [],
   "source": [
    "class_names = ['combination', 'dry', 'nonface' ,'normal', 'oily', 'sensitive']\n"
   ]
  },
  {
   "cell_type": "markdown",
   "id": "c54c4878-590b-4ba8-a360-8ab322c78535",
   "metadata": {},
   "source": [
    "create a txt file to save the 5 labels"
   ]
  },
  {
   "cell_type": "code",
   "execution_count": null,
   "id": "21f9ed5f-eca5-4d5d-9758-7b7ad7f43cd7",
   "metadata": {},
   "outputs": [],
   "source": [
    "with open('faces_labels.txt', 'w') as f:\n",
    "    f.write('\\n'.join(class_names))"
   ]
  },
  {
   "cell_type": "code",
   "execution_count": null,
   "id": "c5b1f673-d372-4337-acba-d3ff86e96ad5",
   "metadata": {},
   "outputs": [],
   "source": [
    "import shutil\n",
    "shutil.copy(\"/content/faces_labels.txt\",\"/content/drive/MyDrive/saved model\")"
   ]
  },
  {
   "cell_type": "code",
   "execution_count": null,
   "id": "3bb1ec18-a5b4-48fe-a91e-692c83488112",
   "metadata": {},
   "outputs": [],
   "source": [
    "from google.colab import drive\n",
    "drive.mount('/content/drive')"
   ]
  },
  {
   "cell_type": "code",
   "execution_count": null,
   "id": "9c9fa4af-afc2-4764-8ec8-6266f5be9117",
   "metadata": {},
   "outputs": [],
   "source": [
    "import os\n",
    "file_path = \"/home/jupyter/content/kerasFormat_model/model_vggFace_10Juni.h5\"  # Replace with the correct file path\n",
    "file_size = os.path.getsize(file_path)\n",
    "print(file_size)\n"
   ]
  },
  {
   "cell_type": "code",
   "execution_count": null,
   "id": "13ff3d23-ea45-4637-b4d9-f54584b6aa3e",
   "metadata": {},
   "outputs": [],
   "source": [
    "!wget -O /home/jupyter/content/kerasFormat_model/model_vggFace_10Juni.h5 https://58948e97954de7e0-dot-asia-southeast2.notebooks.googleusercontent.com/files/content/kerasFormat_model/model_vggFace_10Juni.h5?_xsrf=2%7C1f091a48%7C9c97e6fd85cef3a278dc9a8e0d4188fa%7C1686143743\n"
   ]
  },
  {
   "cell_type": "code",
   "execution_count": null,
   "id": "ece381be-7656-4af0-af7f-079da92099cd",
   "metadata": {},
   "outputs": [],
   "source": []
  }
 ],
 "metadata": {
  "environment": {
   "kernel": "python3",
   "name": "tf2-gpu.2-11.m108",
   "type": "gcloud",
   "uri": "gcr.io/deeplearning-platform-release/tf2-gpu.2-11:m108"
  },
  "kernelspec": {
   "display_name": "Python 3 (ipykernel)",
   "language": "python",
   "name": "python3"
  },
  "language_info": {
   "codemirror_mode": {
    "name": "ipython",
    "version": 3
   },
   "file_extension": ".py",
   "mimetype": "text/x-python",
   "name": "python",
   "nbconvert_exporter": "python",
   "pygments_lexer": "ipython3",
   "version": "3.10.10"
  }
 },
 "nbformat": 4,
 "nbformat_minor": 5
}
