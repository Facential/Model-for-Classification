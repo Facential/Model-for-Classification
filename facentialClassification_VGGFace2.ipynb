{
  "nbformat": 4,
  "nbformat_minor": 0,
  "metadata": {
    "colab": {
      "provenance": []
    },
    "kernelspec": {
      "name": "python3",
      "display_name": "Python 3"
    },
    "language_info": {
      "name": "python"
    }
  },
  "cells": [
    {
      "cell_type": "code",
      "execution_count": 1,
      "metadata": {
        "colab": {
          "base_uri": "https://localhost:8080/"
        },
        "id": "uPH70XvUmbg1",
        "outputId": "6cc11f08-272b-4420-811e-e1148fea1d04"
      },
      "outputs": [
        {
          "output_type": "stream",
          "name": "stdout",
          "text": [
            "Bissmillahirrahmanirrahim top 50 product capstone\n"
          ]
        }
      ],
      "source": [
        "print(\"Bissmillahirrahmanirrahim top 50 product capstone\")\n"
      ]
    },
    {
      "cell_type": "code",
      "source": [
        "import tensorflow as tf\n",
        "print(tf.__version__)"
      ],
      "metadata": {
        "colab": {
          "base_uri": "https://localhost:8080/"
        },
        "id": "hO6BsmP4mrAX",
        "outputId": "71044edd-9299-4f8c-8f81-9a5a5a604ede"
      },
      "execution_count": 2,
      "outputs": [
        {
          "output_type": "stream",
          "name": "stdout",
          "text": [
            "2.12.0\n"
          ]
        }
      ]
    },
    {
      "cell_type": "markdown",
      "source": [
        "downloading our facential datasets"
      ],
      "metadata": {
        "id": "t6jJvF6nLw6j"
      }
    },
    {
      "cell_type": "code",
      "source": [
        "#Download the training set\n",
        "\n",
        "!wget https://storage.googleapis.com/facentiap-dataset-zip/faceSkin_types_train.zip"
      ],
      "metadata": {
        "colab": {
          "base_uri": "https://localhost:8080/"
        },
        "id": "pBhoE5Xeu0en",
        "outputId": "41e45d74-8f5b-43f8-c4a5-5628d035992c"
      },
      "execution_count": 3,
      "outputs": [
        {
          "output_type": "stream",
          "name": "stdout",
          "text": [
            "--2023-05-27 15:32:11--  https://storage.googleapis.com/facentiap-dataset-zip/faceSkin_types_train.zip\n",
            "Resolving storage.googleapis.com (storage.googleapis.com)... 142.250.103.128, 108.177.120.128, 142.250.159.128, ...\n",
            "Connecting to storage.googleapis.com (storage.googleapis.com)|142.250.103.128|:443... connected.\n",
            "HTTP request sent, awaiting response... 200 OK\n",
            "Length: 642900160 (613M) [application/zip]\n",
            "Saving to: ‘faceSkin_types_train.zip’\n",
            "\n",
            "faceSkin_types_trai 100%[===================>] 613.12M  15.8MB/s    in 41s     \n",
            "\n",
            "2023-05-27 15:32:53 (15.1 MB/s) - ‘faceSkin_types_train.zip’ saved [642900160/642900160]\n",
            "\n"
          ]
        }
      ]
    },
    {
      "cell_type": "code",
      "source": [
        "#Download the validation set\n",
        "\n",
        "!wget https://storage.googleapis.com/facentiap-dataset-zip/faceSkin_types_validation.zip\n"
      ],
      "metadata": {
        "colab": {
          "base_uri": "https://localhost:8080/"
        },
        "id": "oakmzY3DosCL",
        "outputId": "2fed5dce-31e4-478c-bba8-d0a6630c469a"
      },
      "execution_count": 4,
      "outputs": [
        {
          "output_type": "stream",
          "name": "stdout",
          "text": [
            "--2023-05-27 15:32:54--  https://storage.googleapis.com/facentiap-dataset-zip/faceSkin_types_validation.zip\n",
            "Resolving storage.googleapis.com (storage.googleapis.com)... 108.177.111.128, 142.250.1.128, 108.177.121.128, ...\n",
            "Connecting to storage.googleapis.com (storage.googleapis.com)|108.177.111.128|:443... connected.\n",
            "HTTP request sent, awaiting response... 200 OK\n",
            "Length: 172197856 (164M) [application/zip]\n",
            "Saving to: ‘faceSkin_types_validation.zip’\n",
            "\n",
            "faceSkin_types_vali 100%[===================>] 164.22M  13.9MB/s    in 13s     \n",
            "\n",
            "2023-05-27 15:33:08 (12.9 MB/s) - ‘faceSkin_types_validation.zip’ saved [172197856/172197856]\n",
            "\n"
          ]
        }
      ]
    },
    {
      "cell_type": "markdown",
      "source": [
        "download the pretrained model (RESNET50)\n"
      ],
      "metadata": {
        "id": "aV0_DRzAqI95"
      }
    },
    {
      "cell_type": "code",
      "source": [
        "\n",
        "from keras.layers import Input, Lambda, Dense, Flatten\n",
        "from keras.models import Model\n",
        "\n",
        "from keras.preprocessing import image\n",
        "from keras.preprocessing.image import ImageDataGenerator\n",
        "from keras.models import Sequential\n",
        "import numpy as np\n",
        "from glob import glob\n",
        "import matplotlib.pyplot as plt"
      ],
      "metadata": {
        "id": "4Na0BY2v7zcZ"
      },
      "execution_count": 5,
      "outputs": []
    },
    {
      "cell_type": "code",
      "source": [
        "\n",
        "!wget https://storage.googleapis.com/facentiap-dataset-zip/vgg_face_weights.h5\n"
      ],
      "metadata": {
        "colab": {
          "base_uri": "https://localhost:8080/"
        },
        "id": "xMVxkwVdqLeC",
        "outputId": "5135862d-3edf-464b-cb14-1ae458356960"
      },
      "execution_count": 6,
      "outputs": [
        {
          "output_type": "stream",
          "name": "stdout",
          "text": [
            "--2023-05-27 15:33:08--  https://storage.googleapis.com/facentiap-dataset-zip/vgg_face_weights.h5\n",
            "Resolving storage.googleapis.com (storage.googleapis.com)... 108.177.111.128, 142.250.1.128, 108.177.121.128, ...\n",
            "Connecting to storage.googleapis.com (storage.googleapis.com)|108.177.111.128|:443... connected.\n",
            "HTTP request sent, awaiting response... 200 OK\n",
            "Length: 580085408 (553M) [application/octet-stream]\n",
            "Saving to: ‘vgg_face_weights.h5’\n",
            "\n",
            "vgg_face_weights.h5 100%[===================>] 553.21M  16.5MB/s    in 36s     \n",
            "\n",
            "2023-05-27 15:33:46 (15.3 MB/s) - ‘vgg_face_weights.h5’ saved [580085408/580085408]\n",
            "\n"
          ]
        }
      ]
    },
    {
      "cell_type": "markdown",
      "source": [
        "unzip validation dan train dataset\n"
      ],
      "metadata": {
        "id": "gEU5Fem5xi87"
      }
    },
    {
      "cell_type": "code",
      "source": [
        "import os\n",
        "import zipfile\n",
        "\n",
        "# Unzip training set\n",
        "local_zip = './faceSkin_types_train.zip'\n",
        "zip_ref = zipfile.ZipFile(local_zip, 'r')\n",
        "zip_ref.extractall('./faceSkin_types_train')\n",
        "\n",
        "# Unzip validation set\n",
        "local_zip = './faceSkin_types_validation.zip'\n",
        "zip_ref = zipfile.ZipFile(local_zip, 'r')\n",
        "zip_ref.extractall('./faceSkin_types_validation')\n",
        "\n",
        "zip_ref.close()"
      ],
      "metadata": {
        "id": "okUgtn_OvJZ6"
      },
      "execution_count": 7,
      "outputs": []
    },
    {
      "cell_type": "markdown",
      "source": [
        " define the directories containing your images"
      ],
      "metadata": {
        "id": "H5FACL9WKE_R"
      }
    },
    {
      "cell_type": "code",
      "source": [
        "# variabel directory for training pict for each category\n",
        "train_oily_dir = os.path.join(\"./faceSkin_types_train/oily\")\n",
        "train_normal_dir = os.path.join(\"./faceSkin_types_train/normal\")\n",
        "train_combination_dir =os.path.join(\"./faceSkin_types_train/combination\")\n",
        "train_sensitive_dir = os.path.join(\"./faceSkin_types_train/sensitive\")\n",
        "train_dry_dir = os.path.join(\"./faceSkin_types_train/dry\")\n",
        "\n",
        "# variabel directory for validation pict for each category\n",
        "validation_oily_dir =os.path.join(\"/content/faceSkin_types_validation/oily\")\n",
        "validation_normal_dir =os.path.join(\"/content/faceSkin_types_validation/normal\")\n",
        "validation_combination_dir =os.path.join(\"/content/faceSkin_types_validation/combination\")\n",
        "validation_sensitive_dir =os.path.join(\"/content/faceSkin_types_validation/sensitive\")\n",
        "validation_dry_dir =os.path.join(\"/content/faceSkin_types_validation/dry\")"
      ],
      "metadata": {
        "id": "9ArBTCOxKFoa"
      },
      "execution_count": 8,
      "outputs": []
    },
    {
      "cell_type": "markdown",
      "source": [
        "filenames check in directory"
      ],
      "metadata": {
        "id": "lrHCn0JBL1Oy"
      }
    },
    {
      "cell_type": "code",
      "source": [
        "train_dry_names = os.listdir(train_dry_dir)\n",
        "train_oily_names = os.listdir(train_oily_dir)\n",
        "train_normal_names =  os.listdir(train_normal_dir)\n",
        "train_combination_names =  os.listdir(train_combination_dir)\n",
        "train_sensitive_names =  os.listdir(train_sensitive_dir)\n",
        "\n",
        "validation_dry_names = os.listdir(validation_dry_dir)\n",
        "validation_oily_names = os.listdir(validation_oily_dir)\n",
        "validation_normal_names =  os.listdir(validation_normal_dir)\n",
        "validation_combination_names =  os.listdir(validation_combination_dir)\n",
        "validation_sensitive_names =  os.listdir(validation_sensitive_dir)\n",
        "\n",
        "print(f'TRAIN SET DRY: {train_dry_names[:5]}')\n",
        "print(f'TRAIN SET OILY: {train_dry_names[:5]}')\n",
        "print(f'TRAIN SET SENSITIVE: {train_dry_names[:5]}')\n",
        "print(f'TRAIN SET COMBINATION: {train_dry_names[:5]}')\n",
        "print(f'TRAIN SET NORMAL: {train_dry_names[:5]} \\n')\n",
        "\n",
        "print(f'VALIDATION SET DRY: {validation_dry_names[:5]}')\n",
        "print(f'VALIDATION SET OILY: {validation_dry_names[:5]}')\n",
        "print(f'VALIDATION SET SENSITIVE: {validation_dry_names[:5]}')\n",
        "print(f'VALIDATION SET COMBINATION: {validation_dry_names[:5]}')\n",
        "print(f'VALIDATION SET NORMAL: {validation_dry_names[:5]}')"
      ],
      "metadata": {
        "colab": {
          "base_uri": "https://localhost:8080/"
        },
        "id": "CJMDa8ExL72M",
        "outputId": "8ac88fec-de69-4e64-e1ac-82dc9f3899ce"
      },
      "execution_count": 9,
      "outputs": [
        {
          "output_type": "stream",
          "name": "stdout",
          "text": [
            "TRAIN SET DRY: ['1 (145).jpg', '1 (5).jpg', '1 (71).jpg', '1 (164).jpg', '1 (38).jpg']\n",
            "TRAIN SET OILY: ['1 (145).jpg', '1 (5).jpg', '1 (71).jpg', '1 (164).jpg', '1 (38).jpg']\n",
            "TRAIN SET SENSITIVE: ['1 (145).jpg', '1 (5).jpg', '1 (71).jpg', '1 (164).jpg', '1 (38).jpg']\n",
            "TRAIN SET COMBINATION: ['1 (145).jpg', '1 (5).jpg', '1 (71).jpg', '1 (164).jpg', '1 (38).jpg']\n",
            "TRAIN SET NORMAL: ['1 (145).jpg', '1 (5).jpg', '1 (71).jpg', '1 (164).jpg', '1 (38).jpg'] \n",
            "\n",
            "VALIDATION SET DRY: ['1 (190).jpg', '1 (210).jpg', '1 (223).jpg', '1 (202).jpg', '1 (220).jpg']\n",
            "VALIDATION SET OILY: ['1 (190).jpg', '1 (210).jpg', '1 (223).jpg', '1 (202).jpg', '1 (220).jpg']\n",
            "VALIDATION SET SENSITIVE: ['1 (190).jpg', '1 (210).jpg', '1 (223).jpg', '1 (202).jpg', '1 (220).jpg']\n",
            "VALIDATION SET COMBINATION: ['1 (190).jpg', '1 (210).jpg', '1 (223).jpg', '1 (202).jpg', '1 (220).jpg']\n",
            "VALIDATION SET NORMAL: ['1 (190).jpg', '1 (210).jpg', '1 (223).jpg', '1 (202).jpg', '1 (220).jpg']\n"
          ]
        }
      ]
    },
    {
      "cell_type": "markdown",
      "source": [
        "chacking total number of images for each categories in training and validation directories "
      ],
      "metadata": {
        "id": "WHF4NcaMNR5M"
      }
    },
    {
      "cell_type": "code",
      "source": [
        "print(f'total training oily images: {len(os.listdir(train_oily_dir))}')\n",
        "print(f'total training dry images: {len(os.listdir(train_dry_dir))}')\n",
        "print(f'total training normal images: {len(os.listdir(train_normal_dir))}')\n",
        "print(f'total training combination images: {len(os.listdir(train_combination_dir))}')\n",
        "print(f'total training sensitive images: {len(os.listdir(train_sensitive_dir))}\\n')\n",
        "\n",
        "\n",
        "print(f'total validation oily images: {len(os.listdir(validation_oily_dir))}')\n",
        "print(f'total validation dry images: {len(os.listdir(validation_dry_dir))}')\n",
        "print(f'total validation normal images: {len(os.listdir(validation_normal_dir))}')\n",
        "print(f'total validation combination images: {len(os.listdir(validation_combination_dir))}')\n",
        "print(f'total validation sensitive images: {len(os.listdir(validation_sensitive_dir))}')\n",
        "\n",
        "\n"
      ],
      "metadata": {
        "colab": {
          "base_uri": "https://localhost:8080/"
        },
        "id": "0CpBgwwpJse0",
        "outputId": "5f746f77-8c5c-4d9d-c920-a8fd3a94acf1"
      },
      "execution_count": 10,
      "outputs": [
        {
          "output_type": "stream",
          "name": "stdout",
          "text": [
            "total training oily images: 44\n",
            "total training dry images: 42\n",
            "total training normal images: 57\n",
            "total training combination images: 22\n",
            "total training sensitive images: 12\n",
            "\n",
            "total validation oily images: 12\n",
            "total validation dry images: 11\n",
            "total validation normal images: 15\n",
            "total validation combination images: 6\n",
            "total validation sensitive images: 4\n"
          ]
        }
      ]
    },
    {
      "cell_type": "markdown",
      "source": [
        "# Data preprocessing\n"
      ],
      "metadata": {
        "id": "twJhV9CPPRPJ"
      }
    },
    {
      "cell_type": "markdown",
      "source": [
        "using image data generator"
      ],
      "metadata": {
        "id": "kYBJvkELPUtv"
      }
    },
    {
      "cell_type": "code",
      "source": [
        "from tensorflow.keras.preprocessing.image import ImageDataGenerator\n",
        "\n",
        "\n",
        "# All images will be rescaled by 1./255\n",
        "train_datagen = ImageDataGenerator(\n",
        "      rescale=1/255,\n",
        "      rotation_range=40,\n",
        "      width_shift_range=0.2,\n",
        "      height_shift_range=0.2,\n",
        "      shear_range=0.2,\n",
        "      zoom_range=0.2,\n",
        "      horizontal_flip=True,\n",
        "      fill_mode='nearest')\n",
        "\n",
        "validation_datagen = ImageDataGenerator(\n",
        "      rescale=1/255,\n",
        "      )\n",
        "\n",
        "# Flow training images in batches of 128 using train_datagen generator\n",
        "train_generator = train_datagen.flow_from_directory(\n",
        "        './faceSkin_types_train',  # This is the source directory for training images\n",
        "        target_size=(224, 224),  # All images will be resized to 600x600\n",
        "        batch_size=5,\n",
        "        # Since you use binary_crossentropy loss, you need binary labels\n",
        "        class_mode='categorical')\n",
        "\n",
        "# Flow validation images in batches of 128 using validation_datagen generator\n",
        "validation_generator = validation_datagen.flow_from_directory(\n",
        "        './faceSkin_types_validation',  # This is the source directory for validation images\n",
        "        target_size=(224, 224),  # All images will be resized to 600x600\n",
        "        batch_size=5,\n",
        "        # Since you use binary_crossentropy loss, you need binary labels\n",
        "        class_mode='categorical')"
      ],
      "metadata": {
        "colab": {
          "base_uri": "https://localhost:8080/"
        },
        "id": "s2Aasm6JOEr2",
        "outputId": "f9888488-0406-42ef-bfa0-b29feea68e6b"
      },
      "execution_count": 11,
      "outputs": [
        {
          "output_type": "stream",
          "name": "stdout",
          "text": [
            "Found 177 images belonging to 5 classes.\n",
            "Found 48 images belonging to 5 classes.\n"
          ]
        }
      ]
    },
    {
      "cell_type": "code",
      "source": [
        "\n"
      ],
      "metadata": {
        "id": "qSaYv3SWrz-a"
      },
      "execution_count": 11,
      "outputs": []
    },
    {
      "cell_type": "markdown",
      "source": [
        "load pretrained model"
      ],
      "metadata": {
        "id": "fZ2Fakesqb3n"
      }
    },
    {
      "cell_type": "code",
      "source": [
        "!python --version"
      ],
      "metadata": {
        "colab": {
          "base_uri": "https://localhost:8080/"
        },
        "id": "WZO_OlXzqa9k",
        "outputId": "1ed00d4f-271f-42f3-a45f-7e5d18254248"
      },
      "execution_count": 12,
      "outputs": [
        {
          "output_type": "stream",
          "name": "stdout",
          "text": [
            "Python 3.10.11\n"
          ]
        }
      ]
    },
    {
      "cell_type": "markdown",
      "source": [
        "solusi kalo cell dibawah ga worked https://shubhasmitaroy.medium.com/for-those-who-get-an-error-on-importing-vggface-related-packages-e5afdd0c3f01"
      ],
      "metadata": {
        "id": "pfLqLSdOxEYg"
      }
    },
    {
      "cell_type": "code",
      "source": [
        "!pip install keras_vggface"
      ],
      "metadata": {
        "colab": {
          "base_uri": "https://localhost:8080/"
        },
        "id": "MT8tiCortrud",
        "outputId": "e6df4347-6258-4c5c-e816-6a9d99caceda"
      },
      "execution_count": 13,
      "outputs": [
        {
          "output_type": "stream",
          "name": "stdout",
          "text": [
            "Looking in indexes: https://pypi.org/simple, https://us-python.pkg.dev/colab-wheels/public/simple/\n",
            "Collecting keras_vggface\n",
            "  Downloading keras_vggface-0.6-py3-none-any.whl (8.3 kB)\n",
            "Requirement already satisfied: numpy>=1.9.1 in /usr/local/lib/python3.10/dist-packages (from keras_vggface) (1.22.4)\n",
            "Requirement already satisfied: scipy>=0.14 in /usr/local/lib/python3.10/dist-packages (from keras_vggface) (1.10.1)\n",
            "Requirement already satisfied: h5py in /usr/local/lib/python3.10/dist-packages (from keras_vggface) (3.8.0)\n",
            "Requirement already satisfied: pillow in /usr/local/lib/python3.10/dist-packages (from keras_vggface) (8.4.0)\n",
            "Requirement already satisfied: keras in /usr/local/lib/python3.10/dist-packages (from keras_vggface) (2.12.0)\n",
            "Requirement already satisfied: six>=1.9.0 in /usr/local/lib/python3.10/dist-packages (from keras_vggface) (1.16.0)\n",
            "Requirement already satisfied: pyyaml in /usr/local/lib/python3.10/dist-packages (from keras_vggface) (6.0)\n",
            "Installing collected packages: keras_vggface\n",
            "Successfully installed keras_vggface-0.6\n"
          ]
        }
      ]
    },
    {
      "cell_type": "code",
      "source": [
        "!pip install keras_applications"
      ],
      "metadata": {
        "colab": {
          "base_uri": "https://localhost:8080/"
        },
        "id": "vvqFhL2EuJ0L",
        "outputId": "eaa0322d-b354-45b1-91b8-d66da1fa0ac7"
      },
      "execution_count": 14,
      "outputs": [
        {
          "output_type": "stream",
          "name": "stdout",
          "text": [
            "Looking in indexes: https://pypi.org/simple, https://us-python.pkg.dev/colab-wheels/public/simple/\n",
            "Collecting keras_applications\n",
            "  Downloading Keras_Applications-1.0.8-py3-none-any.whl (50 kB)\n",
            "\u001b[?25l     \u001b[90m━━━━━━━━━━━━━━━━━━━━━━━━━━━━━━━━━━━━━━━━\u001b[0m \u001b[32m0.0/50.7 kB\u001b[0m \u001b[31m?\u001b[0m eta \u001b[36m-:--:--\u001b[0m\r\u001b[2K     \u001b[90m━━━━━━━━━━━━━━━━━━━━━━━━━━━━━━━━━━━━━━━━\u001b[0m \u001b[32m50.7/50.7 kB\u001b[0m \u001b[31m2.2 MB/s\u001b[0m eta \u001b[36m0:00:00\u001b[0m\n",
            "\u001b[?25hRequirement already satisfied: numpy>=1.9.1 in /usr/local/lib/python3.10/dist-packages (from keras_applications) (1.22.4)\n",
            "Requirement already satisfied: h5py in /usr/local/lib/python3.10/dist-packages (from keras_applications) (3.8.0)\n",
            "Installing collected packages: keras_applications\n",
            "Successfully installed keras_applications-1.0.8\n"
          ]
        }
      ]
    },
    {
      "cell_type": "code",
      "source": [
        "import keras\n",
        "\n",
        "from keras_vggface.vggface import VGGFace\n",
        "from tensorflow.keras import layers\n",
        "\n",
        "# Set the weights file you downloaded into a variable\n",
        "local_weights_file = '/content/vgg_face_weights.h5'\n",
        "\n",
        "# Initialize the base model.\n",
        "# Set the input shape and remove the dense layers.\n",
        "pre_trained_model = VGGFace(input_shape = (224, 224, 3), \n",
        "                                include_top = False, \n",
        "                                model = 'vgg16')\n",
        "\n",
        "# Load the pre-trained weights you downloaded.\n",
        "pre_trained_model.load_weights(local_weights_file, by_name=True, skip_mismatch=True)\n",
        "\n",
        "# Freeze the weights of the layers.\n",
        "for layer in pre_trained_model.layers:\n",
        "  layer.trainable = False"
      ],
      "metadata": {
        "id": "Kmp7iUVLqeHX"
      },
      "execution_count": 17,
      "outputs": []
    },
    {
      "cell_type": "code",
      "source": [
        "pre_trained_model.summary()\n"
      ],
      "metadata": {
        "colab": {
          "base_uri": "https://localhost:8080/"
        },
        "id": "9RKfHWadrE8G",
        "outputId": "7d457985-0118-486f-a543-88573d208955"
      },
      "execution_count": 18,
      "outputs": [
        {
          "output_type": "stream",
          "name": "stdout",
          "text": [
            "Model: \"vggface_vgg16\"\n",
            "_________________________________________________________________\n",
            " Layer (type)                Output Shape              Param #   \n",
            "=================================================================\n",
            " input_2 (InputLayer)        [(None, 224, 224, 3)]     0         \n",
            "                                                                 \n",
            " conv1_1 (Conv2D)            (None, 224, 224, 64)      1792      \n",
            "                                                                 \n",
            " conv1_2 (Conv2D)            (None, 224, 224, 64)      36928     \n",
            "                                                                 \n",
            " pool1 (MaxPooling2D)        (None, 112, 112, 64)      0         \n",
            "                                                                 \n",
            " conv2_1 (Conv2D)            (None, 112, 112, 128)     73856     \n",
            "                                                                 \n",
            " conv2_2 (Conv2D)            (None, 112, 112, 128)     147584    \n",
            "                                                                 \n",
            " pool2 (MaxPooling2D)        (None, 56, 56, 128)       0         \n",
            "                                                                 \n",
            " conv3_1 (Conv2D)            (None, 56, 56, 256)       295168    \n",
            "                                                                 \n",
            " conv3_2 (Conv2D)            (None, 56, 56, 256)       590080    \n",
            "                                                                 \n",
            " conv3_3 (Conv2D)            (None, 56, 56, 256)       590080    \n",
            "                                                                 \n",
            " pool3 (MaxPooling2D)        (None, 28, 28, 256)       0         \n",
            "                                                                 \n",
            " conv4_1 (Conv2D)            (None, 28, 28, 512)       1180160   \n",
            "                                                                 \n",
            " conv4_2 (Conv2D)            (None, 28, 28, 512)       2359808   \n",
            "                                                                 \n",
            " conv4_3 (Conv2D)            (None, 28, 28, 512)       2359808   \n",
            "                                                                 \n",
            " pool4 (MaxPooling2D)        (None, 14, 14, 512)       0         \n",
            "                                                                 \n",
            " conv5_1 (Conv2D)            (None, 14, 14, 512)       2359808   \n",
            "                                                                 \n",
            " conv5_2 (Conv2D)            (None, 14, 14, 512)       2359808   \n",
            "                                                                 \n",
            " conv5_3 (Conv2D)            (None, 14, 14, 512)       2359808   \n",
            "                                                                 \n",
            " pool5 (MaxPooling2D)        (None, 7, 7, 512)         0         \n",
            "                                                                 \n",
            "=================================================================\n",
            "Total params: 14,714,688\n",
            "Trainable params: 0\n",
            "Non-trainable params: 14,714,688\n",
            "_________________________________________________________________\n"
          ]
        }
      ]
    },
    {
      "cell_type": "code",
      "source": [
        "# Choose `mixed_7` as the last layer of your base model\n",
        "last_layer = pre_trained_model.get_layer('pool5')\n",
        "print('last layer output shape: ', last_layer.output_shape)\n",
        "last_output = last_layer.output\n",
        "print('last layer output: ', last_output)"
      ],
      "metadata": {
        "colab": {
          "base_uri": "https://localhost:8080/"
        },
        "id": "75jy5vSwrPsL",
        "outputId": "01fd65c7-8ad6-4f86-8481-e85ee40666d5"
      },
      "execution_count": 19,
      "outputs": [
        {
          "output_type": "stream",
          "name": "stdout",
          "text": [
            "last layer output shape:  (None, 7, 7, 512)\n",
            "last layer output:  KerasTensor(type_spec=TensorSpec(shape=(None, 7, 7, 512), dtype=tf.float32, name=None), name='pool5/MaxPool:0', description=\"created by layer 'pool5'\")\n"
          ]
        }
      ]
    },
    {
      "cell_type": "markdown",
      "source": [
        "# add dense layer depends on the classification (5 category)\n"
      ],
      "metadata": {
        "id": "k24bBeCwsB0b"
      }
    },
    {
      "cell_type": "code",
      "source": [
        "from tensorflow.keras.optimizers import RMSprop\n",
        "from tensorflow.keras import Model\n",
        "\n",
        "# Flatten the output layer to 1 dimension\n",
        "x = layers.Flatten()(last_output)\n",
        "# Add a fully connected layer with 1,024 hidden units and ReLU activation\n",
        "x = layers.Dense(1024, activation='relu')(x)\n",
        "# Add a dropout rate of 0.2\n",
        "x = layers.Dropout(0.2)(x)                  \n",
        "# Add a final sigmoid layer for classification\n",
        "x = layers.Dense  (5, activation='softmax')(x)           \n",
        "\n",
        "# Append the dense network to the base model\n",
        "model = Model(pre_trained_model.input, x) \n",
        "\n",
        "# Print the model summary. See your dense network connected at the end.\n",
        "model.summary()"
      ],
      "metadata": {
        "colab": {
          "base_uri": "https://localhost:8080/"
        },
        "id": "1P2AfRuqsIJO",
        "outputId": "c0ad706f-7711-49de-dc9d-3a8ccd346316"
      },
      "execution_count": 20,
      "outputs": [
        {
          "output_type": "stream",
          "name": "stdout",
          "text": [
            "Model: \"model\"\n",
            "_________________________________________________________________\n",
            " Layer (type)                Output Shape              Param #   \n",
            "=================================================================\n",
            " input_2 (InputLayer)        [(None, 224, 224, 3)]     0         \n",
            "                                                                 \n",
            " conv1_1 (Conv2D)            (None, 224, 224, 64)      1792      \n",
            "                                                                 \n",
            " conv1_2 (Conv2D)            (None, 224, 224, 64)      36928     \n",
            "                                                                 \n",
            " pool1 (MaxPooling2D)        (None, 112, 112, 64)      0         \n",
            "                                                                 \n",
            " conv2_1 (Conv2D)            (None, 112, 112, 128)     73856     \n",
            "                                                                 \n",
            " conv2_2 (Conv2D)            (None, 112, 112, 128)     147584    \n",
            "                                                                 \n",
            " pool2 (MaxPooling2D)        (None, 56, 56, 128)       0         \n",
            "                                                                 \n",
            " conv3_1 (Conv2D)            (None, 56, 56, 256)       295168    \n",
            "                                                                 \n",
            " conv3_2 (Conv2D)            (None, 56, 56, 256)       590080    \n",
            "                                                                 \n",
            " conv3_3 (Conv2D)            (None, 56, 56, 256)       590080    \n",
            "                                                                 \n",
            " pool3 (MaxPooling2D)        (None, 28, 28, 256)       0         \n",
            "                                                                 \n",
            " conv4_1 (Conv2D)            (None, 28, 28, 512)       1180160   \n",
            "                                                                 \n",
            " conv4_2 (Conv2D)            (None, 28, 28, 512)       2359808   \n",
            "                                                                 \n",
            " conv4_3 (Conv2D)            (None, 28, 28, 512)       2359808   \n",
            "                                                                 \n",
            " pool4 (MaxPooling2D)        (None, 14, 14, 512)       0         \n",
            "                                                                 \n",
            " conv5_1 (Conv2D)            (None, 14, 14, 512)       2359808   \n",
            "                                                                 \n",
            " conv5_2 (Conv2D)            (None, 14, 14, 512)       2359808   \n",
            "                                                                 \n",
            " conv5_3 (Conv2D)            (None, 14, 14, 512)       2359808   \n",
            "                                                                 \n",
            " pool5 (MaxPooling2D)        (None, 7, 7, 512)         0         \n",
            "                                                                 \n",
            " flatten (Flatten)           (None, 25088)             0         \n",
            "                                                                 \n",
            " dense (Dense)               (None, 1024)              25691136  \n",
            "                                                                 \n",
            " dropout (Dropout)           (None, 1024)              0         \n",
            "                                                                 \n",
            " dense_1 (Dense)             (None, 5)                 5125      \n",
            "                                                                 \n",
            "=================================================================\n",
            "Total params: 40,410,949\n",
            "Trainable params: 25,696,261\n",
            "Non-trainable params: 14,714,688\n",
            "_________________________________________________________________\n"
          ]
        }
      ]
    },
    {
      "cell_type": "markdown",
      "source": [
        "# Building Model (klo ga pake transfer learning)"
      ],
      "metadata": {
        "id": "fcL5ODIrQNlr"
      }
    },
    {
      "cell_type": "code",
      "source": [
        "\n",
        "# model = tf.keras.models.Sequential([\n",
        "#     # Note the input shape is the desired size of the image 150x150 with 3 bytes color\n",
        "#     # This is the first convolution\n",
        "#     tf.keras.layers.Conv2D(16, (3,3), activation='relu', input_shape=(600, 600, 3)),\n",
        "#     tf.keras.layers.MaxPooling2D(2, 2),\n",
        "#     # The second convolution\n",
        "#     tf.keras.layers.Conv2D(32, (3,3), activation='relu'),\n",
        "#     tf.keras.layers.MaxPooling2D(2,2),\n",
        "#     # The third convolution\n",
        "#     tf.keras.layers.Conv2D(64, (3,3), activation='relu'),\n",
        "#     tf.keras.layers.MaxPooling2D(2,2),\n",
        "#     # The fourth convolution\n",
        "#     #tf.keras.layers.Conv2D(64, (3,3), activation='relu'),\n",
        "#     #tf.keras.layers.MaxPooling2D(2,2),\n",
        "#     # The fifth convolution\n",
        "#     #tf.keras.layers.Conv2D(64, (3,3), activation='relu'),\n",
        "#     #tf.keras.layers.MaxPooling2D(2,2),\n",
        "#     # Flatten the results to feed into a DNN\n",
        "#     tf.keras.layers.Flatten(),\n",
        "#     # 512 neuron hidden layer\n",
        "#     tf.keras.layers.Dense(512, activation='relu'),\n",
        "    \n",
        "#     # will give a 5 output value, \n",
        "#     tf.keras.layers.Dense(5, activation='softmax')\n",
        "# ])"
      ],
      "metadata": {
        "id": "-HarxfL1PgjB"
      },
      "execution_count": 21,
      "outputs": []
    },
    {
      "cell_type": "code",
      "source": [],
      "metadata": {
        "id": "rsa-vCv4cJ5U"
      },
      "execution_count": 21,
      "outputs": []
    },
    {
      "cell_type": "markdown",
      "source": [
        "compiling the model"
      ],
      "metadata": {
        "id": "Y6KQ4IO4QzKf"
      }
    },
    {
      "cell_type": "code",
      "source": [
        "from tensorflow.keras.optimizers import RMSprop\n",
        "from keras.optimizers import adam\n",
        "\n",
        "model.compile(loss='categorical_crossentropy',\n",
        "              optimizer='adam',\n",
        "              metrics=['accuracy'])"
      ],
      "metadata": {
        "id": "mLPz07rjQxN2"
      },
      "execution_count": 22,
      "outputs": []
    },
    {
      "cell_type": "markdown",
      "source": [
        "Training"
      ],
      "metadata": {
        "id": "-4gBdS-SQ7SO"
      }
    },
    {
      "cell_type": "code",
      "source": [
        "history = model.fit(\n",
        "      train_generator,\n",
        "      steps_per_epoch=8,  \n",
        "      epochs=10,\n",
        "      verbose=2,\n",
        "      validation_data = validation_generator,\n",
        "      validation_steps=8)"
      ],
      "metadata": {
        "colab": {
          "base_uri": "https://localhost:8080/"
        },
        "id": "lYt3xoZWQ74a",
        "outputId": "d212023d-9616-4ddf-8303-69bddd995fd7"
      },
      "execution_count": 23,
      "outputs": [
        {
          "output_type": "stream",
          "name": "stdout",
          "text": [
            "Epoch 1/10\n",
            "8/8 - 79s - loss: 1.9346 - accuracy: 0.3250 - val_loss: 3.3819 - val_accuracy: 0.3250 - 79s/epoch - 10s/step\n",
            "Epoch 2/10\n",
            "8/8 - 78s - loss: 2.2932 - accuracy: 0.3250 - val_loss: 2.2652 - val_accuracy: 0.2250 - 78s/epoch - 10s/step\n",
            "Epoch 3/10\n",
            "8/8 - 78s - loss: 1.7798 - accuracy: 0.4500 - val_loss: 2.3639 - val_accuracy: 0.3500 - 78s/epoch - 10s/step\n",
            "Epoch 4/10\n",
            "8/8 - 79s - loss: 2.0526 - accuracy: 0.3750 - val_loss: 1.8549 - val_accuracy: 0.3500 - 79s/epoch - 10s/step\n",
            "Epoch 5/10\n",
            "8/8 - 66s - loss: 1.4342 - accuracy: 0.4324 - val_loss: 1.7848 - val_accuracy: 0.2500 - 66s/epoch - 8s/step\n",
            "Epoch 6/10\n",
            "8/8 - 74s - loss: 1.6064 - accuracy: 0.4250 - val_loss: 1.6601 - val_accuracy: 0.3500 - 74s/epoch - 9s/step\n",
            "Epoch 7/10\n",
            "8/8 - 73s - loss: 1.5044 - accuracy: 0.3784 - val_loss: 1.7065 - val_accuracy: 0.3500 - 73s/epoch - 9s/step\n",
            "Epoch 8/10\n",
            "8/8 - 64s - loss: 1.7629 - accuracy: 0.3000 - val_loss: 1.7699 - val_accuracy: 0.3000 - 64s/epoch - 8s/step\n",
            "Epoch 9/10\n",
            "8/8 - 72s - loss: 1.6062 - accuracy: 0.4054 - val_loss: 1.8479 - val_accuracy: 0.3000 - 72s/epoch - 9s/step\n",
            "Epoch 10/10\n",
            "8/8 - 75s - loss: 1.6249 - accuracy: 0.5000 - val_loss: 1.7921 - val_accuracy: 0.4250 - 75s/epoch - 9s/step\n"
          ]
        }
      ]
    },
    {
      "cell_type": "code",
      "source": [
        "%matplotlib inline\n",
        "\n",
        "import matplotlib.image as mpimg\n",
        "import matplotlib.pyplot as plt"
      ],
      "metadata": {
        "id": "XgG4XtmKoXbJ"
      },
      "execution_count": 24,
      "outputs": []
    },
    {
      "cell_type": "markdown",
      "source": [
        "# evaluating accuracy and loss for the model\n"
      ],
      "metadata": {
        "id": "0d2Ar5KnpH6y"
      }
    },
    {
      "cell_type": "code",
      "source": [
        "#-----------------------------------------------------------\n",
        "# Retrieve a list of list results on training and test data\n",
        "# sets for each training epoch\n",
        "#-----------------------------------------------------------\n",
        "acc      = history.history[     'accuracy' ]\n",
        "val_acc  = history.history[ 'val_accuracy' ]\n",
        "loss     = history.history[    'loss' ]\n",
        "val_loss = history.history['val_loss' ]\n",
        "\n",
        "epochs   = range(len(acc)) # Get number of epochs\n",
        "\n",
        "#------------------------------------------------\n",
        "# Plot training and validation accuracy per epoch\n",
        "#------------------------------------------------\n",
        "plt.plot(epochs, acc, 'r', label='Training accuracy')\n",
        "plt.plot(epochs, val_acc, 'b', label='Validation accuracy')\n",
        "plt.title ('Training and validation accuracy')\n",
        "plt.legend(loc=0)\n",
        "plt.figure()\n",
        "\n",
        "#------------------------------------------------\n",
        "# Plot training and validation loss per epoch\n",
        "#------------------------------------------------\n",
        "plt.plot  ( epochs,     loss , 'r', label='Training loss')\n",
        "plt.plot  ( epochs, val_loss , 'b', label='Validation loss')\n",
        "plt.title ('Training and validation loss'   )\n",
        "plt.legend(loc=0)\n",
        "plt.figure()\n"
      ],
      "metadata": {
        "colab": {
          "base_uri": "https://localhost:8080/",
          "height": 922
        },
        "id": "8F6jxMU8pAm7",
        "outputId": "4241284c-7fbb-4bd3-a367-dbb53f363091"
      },
      "execution_count": 25,
      "outputs": [
        {
          "output_type": "execute_result",
          "data": {
            "text/plain": [
              "<Figure size 640x480 with 0 Axes>"
            ]
          },
          "metadata": {},
          "execution_count": 25
        },
        {
          "output_type": "display_data",
          "data": {
            "text/plain": [
              "<Figure size 640x480 with 1 Axes>"
            ],
            "image/png": "[encoded data removed]"
          },
          "metadata": {}
        },
        {
          "output_type": "display_data",
          "data": {
            "text/plain": [
              "<Figure size 640x480 with 1 Axes>"
            ],
            "image/png": "[encoded data removed]"
          },
          "metadata": {}
        },
        {
          "output_type": "display_data",
          "data": {
            "text/plain": [
              "<Figure size 640x480 with 0 Axes>"
            ]
          },
          "metadata": {}
        }
      ]
    },
    {
      "cell_type": "code",
      "source": [
        "\n",
        "from keras.models import load_model\n",
        "\n",
        "model.save('/content/drive/MyDrive/saved model/model_vggFace_23mei.h5')"
      ],
      "metadata": {
        "id": "QxKR979utMRB"
      },
      "execution_count": 26,
      "outputs": []
    },
    {
      "cell_type": "markdown",
      "source": [
        "# Convert to Tensorflow LITE"
      ],
      "metadata": {
        "id": "NdCCPJCx6GgL"
      }
    },
    {
      "cell_type": "code",
      "source": [
        "try:\n",
        "    %tensorflow_version 2.x\n",
        "except:\n",
        "    pass"
      ],
      "metadata": {
        "id": "rHVtNJPQlIp4",
        "colab": {
          "base_uri": "https://localhost:8080/"
        },
        "outputId": "2e7c1405-c18f-4fa3-adfb-c9459b38376c"
      },
      "execution_count": 27,
      "outputs": [
        {
          "output_type": "stream",
          "name": "stdout",
          "text": [
            "Colab only includes TensorFlow 2.x; %tensorflow_version has no effect.\n"
          ]
        }
      ]
    },
    {
      "cell_type": "code",
      "source": [
        "import pathlib\n",
        "\n",
        "print('\\u2022 Using TensorFlow Version:', tf.__version__)"
      ],
      "metadata": {
        "colab": {
          "base_uri": "https://localhost:8080/"
        },
        "id": "Kt-MZ4tQ8fQL",
        "outputId": "c32e22d6-3091-4b9b-caf8-0cd94331a3b2"
      },
      "execution_count": 28,
      "outputs": [
        {
          "output_type": "stream",
          "name": "stdout",
          "text": [
            "• Using TensorFlow Version: 2.12.0\n"
          ]
        }
      ]
    },
    {
      "cell_type": "code",
      "source": [
        "!mkdir saved_TFLITE_model"
      ],
      "metadata": {
        "id": "GZ8jLDwS8gn2"
      },
      "execution_count": 29,
      "outputs": []
    },
    {
      "cell_type": "markdown",
      "source": [
        "generate SavedModel"
      ],
      "metadata": {
        "id": "ksnF8X0A-IS4"
      }
    },
    {
      "cell_type": "code",
      "source": [
        "export_dir = \"/content/saved_TFLITE_model\"\n",
        "tf.saved_model.save(model, export_dir)"
      ],
      "metadata": {
        "colab": {
          "base_uri": "https://localhost:8080/"
        },
        "id": "_W8tdxxF86mG",
        "outputId": "4b5b935d-8512-405c-ec0f-a00cc73cfce0"
      },
      "execution_count": 30,
      "outputs": [
        {
          "output_type": "stream",
          "name": "stderr",
          "text": [
            "WARNING:absl:Found untraced functions such as _jit_compiled_convolution_op, _jit_compiled_convolution_op, _jit_compiled_convolution_op, _jit_compiled_convolution_op, _jit_compiled_convolution_op while saving (showing 5 of 14). These functions will not be directly callable after loading.\n"
          ]
        }
      ]
    },
    {
      "cell_type": "code",
      "source": [
        "model = tf.saved_model.load(export_dir)"
      ],
      "metadata": {
        "id": "dJZj4JfZmNsI"
      },
      "execution_count": 31,
      "outputs": []
    },
    {
      "cell_type": "markdown",
      "source": [
        "Convert the SavedModel to TFLite"
      ],
      "metadata": {
        "id": "PP_UaXTj-Mgy"
      }
    },
    {
      "cell_type": "code",
      "source": [
        "# Convert the model.\n",
        "converter = tf.lite.TFLiteConverter.from_saved_model(export_dir)\n",
        "\n",
        "# Set the optimization flags for quantization\n",
        "converter.optimizations = [tf.lite.Optimize.DEFAULT] # INTINYA DISINI UNTUK MELAKUKAN QUANTIZED\n",
        "\n",
        "# Specify the input and output tensors (if necessary)\n",
        "# converter.target_spec.supported_ops = [tf.lite.OpsSet.TFLITE_BUILTINS_INT8]\n",
        "# converter.target_spec.supported_types = [tf.int8]\n",
        "\n",
        "tflite_model = converter.convert()"
      ],
      "metadata": {
        "id": "gmYQR6d8-K8s"
      },
      "execution_count": 32,
      "outputs": []
    },
    {
      "cell_type": "code",
      "source": [
        "tflite_model_file = pathlib.Path('/content/drive/MyDrive/saved model/model_VGGFace_quantized.tflite')\n",
        "tflite_model_file.write_bytes(tflite_model)"
      ],
      "metadata": {
        "colab": {
          "base_uri": "https://localhost:8080/"
        },
        "id": "E3zZj4vT-Wvq",
        "outputId": "7344110b-5ba7-4d3b-e9c3-89ab08128171"
      },
      "execution_count": 33,
      "outputs": [
        {
          "output_type": "execute_result",
          "data": {
            "text/plain": [
              "40472520"
            ]
          },
          "metadata": {},
          "execution_count": 33
        }
      ]
    },
    {
      "cell_type": "markdown",
      "source": [
        "# labels"
      ],
      "metadata": {
        "id": "awhp3F815z9m"
      }
    },
    {
      "cell_type": "code",
      "source": [
        "class_names = ['combination', 'dry', 'normal', 'oily', 'sensitive']\n"
      ],
      "metadata": {
        "id": "0Yx0-SbElpOw"
      },
      "execution_count": null,
      "outputs": []
    },
    {
      "cell_type": "markdown",
      "source": [
        "create a txt file to save the 5 labels"
      ],
      "metadata": {
        "id": "Oycdxq7d6I1Z"
      }
    },
    {
      "cell_type": "code",
      "source": [
        "with open('faces_labels.txt', 'w') as f:\n",
        "    f.write('\\n'.join(class_names))"
      ],
      "metadata": {
        "id": "-qX5egSp6NY3"
      },
      "execution_count": null,
      "outputs": []
    },
    {
      "cell_type": "code",
      "source": [
        "import shutil\n",
        "shutil.copy(\"/content/faces_labels.txt\",\"/content/drive/MyDrive/saved model\")"
      ],
      "metadata": {
        "colab": {
          "base_uri": "https://localhost:8080/",
          "height": 35
        },
        "id": "pXxF4s5b81Fj",
        "outputId": "94cda166-5d43-4f21-b2a2-4bbc8665a267"
      },
      "execution_count": 39,
      "outputs": [
        {
          "output_type": "execute_result",
          "data": {
            "text/plain": [
              "'/content/drive/MyDrive/saved model/faces_labels.txt'"
            ],
            "application/vnd.google.colaboratory.intrinsic+json": {
              "type": "string"
            }
          },
          "metadata": {},
          "execution_count": 39
        }
      ]
    },
    {
      "cell_type": "markdown",
      "source": [
        "## Download the TFLite Model File\n",
        "\n",
        "If you are running this notebook in a Colab, you can run the cell below to download the tflite model to your local disk. \n",
        "\n",
        "**Note**: If the file does not download when you run the cell, try running the cell a second time."
      ],
      "metadata": {
        "id": "ZIRkg1V1_Ync"
      }
    },
    {
      "cell_type": "code",
      "source": [
        "try:\n",
        "    from google.colab import files\n",
        "    files.download(tflite_model_file)\n",
        "except:\n",
        "    pass"
      ],
      "metadata": {
        "id": "fWJ5Ar6m-rBZ",
        "colab": {
          "base_uri": "https://localhost:8080/",
          "height": 17
        },
        "outputId": "a359e99e-482a-4db7-c57b-824f7ef4a5c6"
      },
      "execution_count": 34,
      "outputs": [
        {
          "output_type": "display_data",
          "data": {
            "text/plain": [
              "<IPython.core.display.Javascript object>"
            ],
            "application/javascript": [
              "\n",
              "    async function download(id, filename, size) {\n",
              "      if (!google.colab.kernel.accessAllowed) {\n",
              "        return;\n",
              "      }\n",
              "      const div = document.createElement('div');\n",
              "      const label = document.createElement('label');\n",
              "      label.textContent = `Downloading \"${filename}\": `;\n",
              "      div.appendChild(label);\n",
              "      const progress = document.createElement('progress');\n",
              "      progress.max = size;\n",
              "      div.appendChild(progress);\n",
              "      document.body.appendChild(div);\n",
              "\n",
              "      const buffers = [];\n",
              "      let downloaded = 0;\n",
              "\n",
              "      const channel = await google.colab.kernel.comms.open(id);\n",
              "      // Send a message to notify the kernel that we're ready.\n",
              "      channel.send({})\n",
              "\n",
              "      for await (const message of channel.messages) {\n",
              "        // Send a message to notify the kernel that we're ready.\n",
              "        channel.send({})\n",
              "        if (message.buffers) {\n",
              "          for (const buffer of message.buffers) {\n",
              "            buffers.push(buffer);\n",
              "            downloaded += buffer.byteLength;\n",
              "            progress.value = downloaded;\n",
              "          }\n",
              "        }\n",
              "      }\n",
              "      const blob = new Blob(buffers, {type: 'application/binary'});\n",
              "      const a = document.createElement('a');\n",
              "      a.href = window.URL.createObjectURL(blob);\n",
              "      a.download = filename;\n",
              "      div.appendChild(a);\n",
              "      a.click();\n",
              "      div.remove();\n",
              "    }\n",
              "  "
            ]
          },
          "metadata": {}
        },
        {
          "output_type": "display_data",
          "data": {
            "text/plain": [
              "<IPython.core.display.Javascript object>"
            ],
            "application/javascript": [
              "download(\"download_9792985e-e229-402b-9a43-b5e368e2ca14\", \"model_VGGFace_quantized.tflite\", 40472520)"
            ]
          },
          "metadata": {}
        }
      ]
    },
    {
      "cell_type": "markdown",
      "source": [
        "#Perform Inference and Input data"
      ],
      "metadata": {
        "id": "s74cU0Rd-f6X"
      }
    },
    {
      "cell_type": "code",
      "source": [
        "import tensorflow as tf\n",
        "\n",
        "interpreter = tf.lite.Interpreter(model_path=\"your_model.tflite\")\n",
        "interpreter.allocate_tensors()\n",
        "\n",
        "# Print input shape and type\n",
        "inputs = interpreter.get_input_details()\n",
        "print('{} input(s):'.format(len(inputs)))\n",
        "for i in range(0, len(inputs)):\n",
        "    print('{} {}'.format(inputs[i]['shape'], inputs[i]['dtype']))\n",
        "\n",
        "# Print output shape and type\n",
        "outputs = interpreter.get_output_details()\n",
        "print('\\n{} output(s):'.format(len(outputs)))\n",
        "for i in range(0, len(outputs)):\n",
        "    print('{} {}'.format(outputs[i]['shape'], outputs[i]['dtype']))"
      ],
      "metadata": {
        "id": "39SdhPpgbicb"
      },
      "execution_count": 34,
      "outputs": []
    }
  ]
}