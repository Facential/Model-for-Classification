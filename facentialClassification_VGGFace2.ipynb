{
 "cells": [
  {
   "cell_type": "code",
   "execution_count": 1,
   "id": "e015ee4a-571c-4914-a5b8-3ce90937a690",
   "metadata": {},
   "outputs": [
    {
     "name": "stdout",
     "output_type": "stream",
     "text": [
      "Get:1 file:/var/cuda-repo-debian10-11-4-local  InRelease\n",
      "Ign:1 file:/var/cuda-repo-debian10-11-4-local  InRelease\n",
      "Hit:2 http://packages.cloud.google.com/apt gcsfuse-bullseye InRelease\n",
      "Hit:3 http://deb.debian.org/debian bullseye InRelease                          \n",
      "Get:4 file:/var/cuda-repo-debian10-11-4-local  Release [564 B]                 \n",
      "Get:5 http://deb.debian.org/debian bullseye-updates InRelease [44.1 kB]        \n",
      "Get:4 file:/var/cuda-repo-debian10-11-4-local  Release [564 B]                 \n",
      "Hit:6 http://packages.cloud.google.com/apt google-compute-engine-bullseye-stable InRelease\n",
      "Hit:7 https://packages.cloud.google.com/apt google-fast-socket InRelease       \n",
      "Get:8 http://security.debian.org/debian-security bullseye-security InRelease [48.4 kB]\n",
      "Hit:9 http://packages.cloud.google.com/apt cloud-sdk-bullseye InRelease        \n",
      "Get:10 http://deb.debian.org/debian bullseye-backports InRelease [49.0 kB]     \n",
      "Get:11 https://download.docker.com/linux/debian bullseye InRelease [43.3 kB]   \n",
      "Get:12 file:/var/cuda-repo-debian10-11-4-local  Release.gpg [836 B]            \n",
      "Get:12 file:/var/cuda-repo-debian10-11-4-local  Release.gpg [836 B]            \n",
      "Hit:13 https://nvidia.github.io/libnvidia-container/stable/debian10/amd64  InRelease\n",
      "Hit:14 https://nvidia.github.io/nvidia-container-runtime/stable/debian10/amd64  InRelease\n",
      "Hit:15 https://nvidia.github.io/nvidia-docker/debian10/amd64  InRelease\n",
      "Hit:16 https://packages.cloud.google.com/apt kubernetes-xenial InRelease\n",
      "Ign:12 file:/var/cuda-repo-debian10-11-4-local  Release.gpg\n",
      "Reading package lists... Done\n",
      "W: GPG error: file:/var/cuda-repo-debian10-11-4-local  Release: The following signatures couldn't be verified because the public key is not available: NO_PUBKEY F60F4B3D7FA2AF80\n",
      "E: The repository 'file:/var/cuda-repo-debian10-11-4-local  Release' is not signed.\n",
      "N: Updating from such a repository can't be done securely, and is therefore disabled by default.\n",
      "N: See apt-secure(8) manpage for repository creation and user configuration details.\n",
      "Reading package lists... Done\n",
      "E: Unable to parse package file /etc/apt/preferences.d/cuda-repository-pin-600 (1)\n",
      "  % Total    % Received % Xferd  Average Speed   Time    Time     Time  Current\n",
      "                                 Dload  Upload   Total   Spent    Left  Speed\n",
      "100   433  100   433    0     0    391      0  0:00:01  0:00:01 --:--:--   391\n",
      "  % Total    % Received % Xferd  Average Speed   Time    Time     Time  Current\n",
      "                                 Dload  Upload   Total   Spent    Left  Speed\n",
      "100 2432M  100 2432M    0     0   175M      0  0:00:13  0:00:13 --:--:--  183M\n",
      "(Reading database ... 128111 files and directories currently installed.)\n",
      "Preparing to unpack cuda-repo-debian10-11-4-local_11.4.2-470.57.02-1_amd64.deb ...\n",
      "Unpacking cuda-repo-debian10-11-4-local (11.4.2-470.57.02-1) over (11.4.2-470.57.02-1) ...\n",
      "Setting up cuda-repo-debian10-11-4-local (11.4.2-470.57.02-1) ...\n",
      "\n",
      "The public CUDA GPG key does not appear to be installed.\n",
      "To install the key, run this command:\n",
      "sudo apt-key add /var/cuda-repo-debian10-11-4-local/7fa2af80.pub\n",
      "\n",
      "Get:1 file:/var/cuda-repo-debian10-11-4-local  InRelease\n",
      "Ign:1 file:/var/cuda-repo-debian10-11-4-local  InRelease\n",
      "Get:2 file:/var/cuda-repo-debian10-11-4-local  Release [564 B]\n",
      "Get:2 file:/var/cuda-repo-debian10-11-4-local  Release [564 B]\n",
      "Get:3 file:/var/cuda-repo-debian10-11-4-local  Release.gpg [836 B]             \n",
      "Get:3 file:/var/cuda-repo-debian10-11-4-local  Release.gpg [836 B]             \n",
      "Hit:4 http://deb.debian.org/debian bullseye InRelease                          \n",
      "Hit:5 http://packages.cloud.google.com/apt gcsfuse-bullseye InRelease          \n",
      "Hit:6 http://security.debian.org/debian-security bullseye-security InRelease   \n",
      "Hit:7 https://packages.cloud.google.com/apt google-fast-socket InRelease       \n",
      "Hit:8 http://packages.cloud.google.com/apt google-compute-engine-bullseye-stable InRelease\n",
      "Get:9 https://download.docker.com/linux/debian bullseye InRelease [43.3 kB]    \n",
      "Hit:10 http://packages.cloud.google.com/apt cloud-sdk-bullseye InRelease       \n",
      "Ign:3 file:/var/cuda-repo-debian10-11-4-local  Release.gpg                     \n",
      "Hit:11 http://deb.debian.org/debian bullseye-updates InRelease                 \n",
      "Hit:12 http://deb.debian.org/debian bullseye-backports InRelease               \n",
      "Hit:13 https://nvidia.github.io/libnvidia-container/stable/debian10/amd64  InRelease\n",
      "Hit:14 https://packages.cloud.google.com/apt kubernetes-xenial InRelease\n",
      "Hit:15 https://nvidia.github.io/nvidia-container-runtime/stable/debian10/amd64  InRelease\n",
      "Hit:16 https://nvidia.github.io/nvidia-docker/debian10/amd64  InRelease\n",
      "Reading package lists... Done\n",
      "W: GPG error: file:/var/cuda-repo-debian10-11-4-local  Release: The following signatures couldn't be verified because the public key is not available: NO_PUBKEY F60F4B3D7FA2AF80\n",
      "E: The repository 'file:/var/cuda-repo-debian10-11-4-local  Release' is not signed.\n",
      "N: Updating from such a repository can't be done securely, and is therefore disabled by default.\n",
      "N: See apt-secure(8) manpage for repository creation and user configuration details.\n",
      "Reading package lists... Done\n",
      "E: Unable to parse package file /etc/apt/preferences.d/cuda-repository-pin-600 (1)\n"
     ]
    }
   ],
   "source": [
    "!sudo apt-get update\n",
    "!sudo apt-get install -y gnupg2 curl\n",
    "!sudo curl -O https://developer.download.nvidia.com/compute/cuda/repos/debian10/x86_64/cuda-ubuntu2004.pin\n",
    "!sudo mv cuda-ubuntu2004.pin /etc/apt/preferences.d/cuda-repository-pin-600\n",
    "!sudo curl -LO https://developer.download.nvidia.com/compute/cuda/11.4.2/local_installers/cuda-repo-debian10-11-4-local_11.4.2-470.57.02-1_amd64.deb\n",
    "!sudo dpkg -i cuda-repo-debian10-11-4-local_11.4.2-470.57.02-1_amd64.deb\n",
    "!sudo apt-get update\n",
    "!sudo apt-get -y install cuda"
   ]
  },
  {
   "cell_type": "code",
   "execution_count": 2,
   "id": "87a7e2cf-3ddc-4161-b8ce-836aeee802d3",
   "metadata": {},
   "outputs": [
    {
     "name": "stdout",
     "output_type": "stream",
     "text": [
      "Tue Jun 13 11:25:31 2023       \n",
      "+-----------------------------------------------------------------------------+\n",
      "| NVIDIA-SMI 510.47.03    Driver Version: 510.47.03    CUDA Version: 11.6     |\n",
      "|-------------------------------+----------------------+----------------------+\n",
      "| GPU  Name        Persistence-M| Bus-Id        Disp.A | Volatile Uncorr. ECC |\n",
      "| Fan  Temp  Perf  Pwr:Usage/Cap|         Memory-Usage | GPU-Util  Compute M. |\n",
      "|                               |                      |               MIG M. |\n",
      "|===============================+======================+======================|\n",
      "|   0  Tesla T4            Off  | 00000000:00:04.0 Off |                    0 |\n",
      "| N/A   68C    P0    33W /  70W |      0MiB / 15360MiB |     11%      Default |\n",
      "|                               |                      |                  N/A |\n",
      "+-------------------------------+----------------------+----------------------+\n",
      "                                                                               \n",
      "+-----------------------------------------------------------------------------+\n",
      "| Processes:                                                                  |\n",
      "|  GPU   GI   CI        PID   Type   Process name                  GPU Memory |\n",
      "|        ID   ID                                                   Usage      |\n",
      "|=============================================================================|\n",
      "|  No running processes found                                                 |\n",
      "+-----------------------------------------------------------------------------+\n"
     ]
    }
   ],
   "source": [
    "!nvidia-smi"
   ]
  },
  {
   "cell_type": "code",
   "execution_count": 3,
   "id": "5e142cfc-3b35-4b91-be32-4d1e056e1f89",
   "metadata": {},
   "outputs": [
    {
     "name": "stdout",
     "output_type": "stream",
     "text": [
      "\u001b[33mWARNING: Ignoring invalid distribution -eras (/opt/conda/lib/python3.10/site-packages)\u001b[0m\u001b[33m\n",
      "\u001b[0m\u001b[33mWARNING: Ignoring invalid distribution -rapt (/opt/conda/lib/python3.10/site-packages)\u001b[0m\u001b[33m\n",
      "\u001b[0mRequirement already satisfied: tensorflow==2.11.1 in /home/jupyter/.local/lib/python3.10/site-packages (2.11.1)\n",
      "Requirement already satisfied: absl-py>=1.0.0 in /opt/conda/lib/python3.10/site-packages (from tensorflow==2.11.1) (1.4.0)\n",
      "Requirement already satisfied: astunparse>=1.6.0 in /opt/conda/lib/python3.10/site-packages (from tensorflow==2.11.1) (1.6.3)\n",
      "Requirement already satisfied: flatbuffers>=2.0 in /opt/conda/lib/python3.10/site-packages (from tensorflow==2.11.1) (23.3.3)\n",
      "Requirement already satisfied: gast<=0.4.0,>=0.2.1 in /opt/conda/lib/python3.10/site-packages (from tensorflow==2.11.1) (0.4.0)\n",
      "Requirement already satisfied: google-pasta>=0.1.1 in /opt/conda/lib/python3.10/site-packages (from tensorflow==2.11.1) (0.2.0)\n",
      "Requirement already satisfied: grpcio<2.0,>=1.24.3 in /home/jupyter/.local/lib/python3.10/site-packages (from tensorflow==2.11.1) (1.54.2)\n",
      "Requirement already satisfied: h5py>=2.9.0 in /opt/conda/lib/python3.10/site-packages (from tensorflow==2.11.1) (3.8.0)\n",
      "Requirement already satisfied: keras<2.12,>=2.11.0 in /home/jupyter/.local/lib/python3.10/site-packages (from tensorflow==2.11.1) (2.11.0)\n",
      "Requirement already satisfied: libclang>=13.0.0 in /opt/conda/lib/python3.10/site-packages (from tensorflow==2.11.1) (16.0.0)\n",
      "Requirement already satisfied: numpy>=1.20 in /opt/conda/lib/python3.10/site-packages (from tensorflow==2.11.1) (1.23.5)\n",
      "Requirement already satisfied: opt-einsum>=2.3.2 in /opt/conda/lib/python3.10/site-packages (from tensorflow==2.11.1) (3.3.0)\n",
      "Requirement already satisfied: packaging in /home/jupyter/.local/lib/python3.10/site-packages (from tensorflow==2.11.1) (20.9)\n",
      "Requirement already satisfied: protobuf<3.20,>=3.9.2 in /home/jupyter/.local/lib/python3.10/site-packages (from tensorflow==2.11.1) (3.19.6)\n",
      "Requirement already satisfied: setuptools in /opt/conda/lib/python3.10/site-packages (from tensorflow==2.11.1) (67.7.2)\n",
      "Requirement already satisfied: six>=1.12.0 in /opt/conda/lib/python3.10/site-packages (from tensorflow==2.11.1) (1.16.0)\n",
      "Requirement already satisfied: tensorboard<2.12,>=2.11 in /home/jupyter/.local/lib/python3.10/site-packages (from tensorflow==2.11.1) (2.11.2)\n",
      "Requirement already satisfied: tensorflow-estimator<2.12,>=2.11.0 in /home/jupyter/.local/lib/python3.10/site-packages (from tensorflow==2.11.1) (2.11.0)\n",
      "Requirement already satisfied: termcolor>=1.1.0 in /opt/conda/lib/python3.10/site-packages (from tensorflow==2.11.1) (2.3.0)\n",
      "Requirement already satisfied: typing-extensions>=3.6.6 in /opt/conda/lib/python3.10/site-packages (from tensorflow==2.11.1) (4.5.0)\n",
      "Requirement already satisfied: wrapt>=1.11.0 in /opt/conda/lib/python3.10/site-packages (from tensorflow==2.11.1) (1.14.1)\n",
      "Requirement already satisfied: tensorflow-io-gcs-filesystem>=0.23.1 in /opt/conda/lib/python3.10/site-packages (from tensorflow==2.11.1) (0.29.0)\n",
      "Requirement already satisfied: wheel<1.0,>=0.23.0 in /opt/conda/lib/python3.10/site-packages (from astunparse>=1.6.0->tensorflow==2.11.1) (0.40.0)\n",
      "Requirement already satisfied: google-auth<3,>=1.6.3 in /opt/conda/lib/python3.10/site-packages (from tensorboard<2.12,>=2.11->tensorflow==2.11.1) (2.17.3)\n",
      "Requirement already satisfied: google-auth-oauthlib<0.5,>=0.4.1 in /home/jupyter/.local/lib/python3.10/site-packages (from tensorboard<2.12,>=2.11->tensorflow==2.11.1) (0.4.6)\n",
      "Requirement already satisfied: markdown>=2.6.8 in /opt/conda/lib/python3.10/site-packages (from tensorboard<2.12,>=2.11->tensorflow==2.11.1) (3.4.3)\n",
      "Requirement already satisfied: requests<3,>=2.21.0 in /opt/conda/lib/python3.10/site-packages (from tensorboard<2.12,>=2.11->tensorflow==2.11.1) (2.28.2)\n",
      "Requirement already satisfied: tensorboard-data-server<0.7.0,>=0.6.0 in /home/jupyter/.local/lib/python3.10/site-packages (from tensorboard<2.12,>=2.11->tensorflow==2.11.1) (0.6.1)\n",
      "Requirement already satisfied: tensorboard-plugin-wit>=1.6.0 in /opt/conda/lib/python3.10/site-packages (from tensorboard<2.12,>=2.11->tensorflow==2.11.1) (1.8.1)\n",
      "Requirement already satisfied: werkzeug>=1.0.1 in /opt/conda/lib/python3.10/site-packages (from tensorboard<2.12,>=2.11->tensorflow==2.11.1) (2.1.2)\n",
      "Requirement already satisfied: pyparsing>=2.0.2 in /opt/conda/lib/python3.10/site-packages (from packaging->tensorflow==2.11.1) (3.0.9)\n",
      "Requirement already satisfied: cachetools<6.0,>=2.0.0 in /opt/conda/lib/python3.10/site-packages (from google-auth<3,>=1.6.3->tensorboard<2.12,>=2.11->tensorflow==2.11.1) (4.2.4)\n",
      "Requirement already satisfied: pyasn1-modules>=0.2.1 in /opt/conda/lib/python3.10/site-packages (from google-auth<3,>=1.6.3->tensorboard<2.12,>=2.11->tensorflow==2.11.1) (0.2.7)\n",
      "Requirement already satisfied: rsa<5,>=3.1.4 in /opt/conda/lib/python3.10/site-packages (from google-auth<3,>=1.6.3->tensorboard<2.12,>=2.11->tensorflow==2.11.1) (4.9)\n",
      "Requirement already satisfied: requests-oauthlib>=0.7.0 in /opt/conda/lib/python3.10/site-packages (from google-auth-oauthlib<0.5,>=0.4.1->tensorboard<2.12,>=2.11->tensorflow==2.11.1) (1.3.1)\n",
      "Requirement already satisfied: charset-normalizer<4,>=2 in /opt/conda/lib/python3.10/site-packages (from requests<3,>=2.21.0->tensorboard<2.12,>=2.11->tensorflow==2.11.1) (2.1.1)\n",
      "Requirement already satisfied: idna<4,>=2.5 in /opt/conda/lib/python3.10/site-packages (from requests<3,>=2.21.0->tensorboard<2.12,>=2.11->tensorflow==2.11.1) (3.4)\n",
      "Requirement already satisfied: urllib3<1.27,>=1.21.1 in /opt/conda/lib/python3.10/site-packages (from requests<3,>=2.21.0->tensorboard<2.12,>=2.11->tensorflow==2.11.1) (1.26.15)\n",
      "Requirement already satisfied: certifi>=2017.4.17 in /opt/conda/lib/python3.10/site-packages (from requests<3,>=2.21.0->tensorboard<2.12,>=2.11->tensorflow==2.11.1) (2022.12.7)\n",
      "Requirement already satisfied: pyasn1<0.5.0,>=0.4.6 in /opt/conda/lib/python3.10/site-packages (from pyasn1-modules>=0.2.1->google-auth<3,>=1.6.3->tensorboard<2.12,>=2.11->tensorflow==2.11.1) (0.4.8)\n",
      "Requirement already satisfied: oauthlib>=3.0.0 in /opt/conda/lib/python3.10/site-packages (from requests-oauthlib>=0.7.0->google-auth-oauthlib<0.5,>=0.4.1->tensorboard<2.12,>=2.11->tensorflow==2.11.1) (3.2.2)\n",
      "\u001b[33mWARNING: Ignoring invalid distribution -eras (/opt/conda/lib/python3.10/site-packages)\u001b[0m\u001b[33m\n",
      "\u001b[0m\u001b[33mWARNING: Ignoring invalid distribution -rapt (/opt/conda/lib/python3.10/site-packages)\u001b[0m\u001b[33m\n",
      "\u001b[0m"
     ]
    }
   ],
   "source": [
    "!pip install --user tensorflow==2.11.1"
   ]
  },
  {
   "cell_type": "code",
   "execution_count": 4,
   "id": "aa7375e4-34f2-41c5-a2b8-8d2874803207",
   "metadata": {},
   "outputs": [
    {
     "name": "stderr",
     "output_type": "stream",
     "text": [
      "2023-06-13 11:25:39.221394: I tensorflow/core/platform/cpu_feature_guard.cc:193] This TensorFlow binary is optimized with oneAPI Deep Neural Network Library (oneDNN) to use the following CPU instructions in performance-critical operations:  AVX2 AVX512F FMA\n",
      "To enable them in other operations, rebuild TensorFlow with the appropriate compiler flags.\n",
      "2023-06-13 11:25:53.222188: W tensorflow/compiler/xla/stream_executor/platform/default/dso_loader.cc:64] Could not load dynamic library 'libnvinfer.so.7'; dlerror: libnvinfer.so.7: cannot open shared object file: No such file or directory; LD_LIBRARY_PATH: /usr/local/cuda/lib64:/usr/local/nccl2/lib:/usr/local/cuda/extras/CUPTI/lib64\n",
      "2023-06-13 11:25:53.222340: W tensorflow/compiler/xla/stream_executor/platform/default/dso_loader.cc:64] Could not load dynamic library 'libnvinfer_plugin.so.7'; dlerror: libnvinfer_plugin.so.7: cannot open shared object file: No such file or directory; LD_LIBRARY_PATH: /usr/local/cuda/lib64:/usr/local/nccl2/lib:/usr/local/cuda/extras/CUPTI/lib64\n",
      "2023-06-13 11:25:53.222351: W tensorflow/compiler/tf2tensorrt/utils/py_utils.cc:38] TF-TRT Warning: Cannot dlopen some TensorRT libraries. If you would like to use Nvidia GPU with TensorRT, please make sure the missing libraries mentioned above are installed properly.\n"
     ]
    }
   ],
   "source": [
    "import tensorflow as tf"
   ]
  },
  {
   "cell_type": "code",
   "execution_count": 5,
   "id": "e83bfca8-19c8-4c43-bdbf-551966b21129",
   "metadata": {},
   "outputs": [
    {
     "name": "stdout",
     "output_type": "stream",
     "text": [
      "2.11.1\n"
     ]
    }
   ],
   "source": [
    "print(tf.__version__)"
   ]
  },
  {
   "cell_type": "code",
   "execution_count": 6,
   "id": "e148bfec-f56c-4937-88f3-30e3026caa63",
   "metadata": {},
   "outputs": [],
   "source": [
    "\n",
    "\n",
    "from keras.layers import Input, Lambda, Dense, Flatten\n",
    "from keras.models import Model\n",
    "\n",
    "from keras.preprocessing import image\n",
    "from keras.preprocessing.image import ImageDataGenerator\n",
    "from keras.models import Sequential\n",
    "import numpy as np\n",
    "from glob import glob\n",
    "import matplotlib.pyplot as plt\n"
   ]
  },
  {
   "cell_type": "code",
   "execution_count": 7,
   "id": "a91305a6-6dc4-4704-a6a8-e56d1a4898b8",
   "metadata": {},
   "outputs": [],
   "source": [
    "import os\n",
    "import zipfile\n"
   ]
  },
  {
   "cell_type": "markdown",
   "id": "ce99c116-2b21-4936-952b-95580d639ef9",
   "metadata": {},
   "source": [
    " define the directories containing your images"
   ]
  },
  {
   "cell_type": "code",
   "execution_count": 8,
   "id": "66a26279-f26f-4688-98b9-a56d5aa2256a",
   "metadata": {},
   "outputs": [],
   "source": [
    "# variabel directory for training pict for each category\n",
    "train_oily_dir = os.path.join(\"/home/jupyter/content/faceSkin_tipe_train/oily\")\n",
    "train_normal_dir = os.path.join(\"/home/jupyter/content/faceSkin_tipe_train/normal\")\n",
    "train_combination_dir =os.path.join(\"/home/jupyter/content/faceSkin_tipe_train/combination\")\n",
    "train_sensitive_dir = os.path.join(\"/home/jupyter/content/faceSkin_tipe_train/sensitive\")\n",
    "train_dry_dir = os.path.join(\"/home/jupyter/content/faceSkin_tipe_train/dry\")\n",
    "train_nonface_dir = os.path.join(\"/home/jupyter/content/faceSkin_tipe_train/nonface/\")\n",
    "\n",
    "# variabel directory for validation pict for each category\n",
    "validation_oily_dir =os.path.join(\"/home/jupyter/content/faceSkin_tipe_validation/oily\")\n",
    "validation_normal_dir =os.path.join(\"/home/jupyter/content/faceSkin_tipe_validation/normal\")\n",
    "validation_combination_dir =os.path.join(\"/home/jupyter/content/faceSkin_tipe_validation/combination\")\n",
    "validation_sensitive_dir =os.path.join(\"/home/jupyter/content/faceSkin_tipe_validation/sensitive\")\n",
    "validation_dry_dir =os.path.join(\"/home/jupyter/content/faceSkin_tipe_validation/dry\")\n",
    "validation_nonface_dir =os.path.join(\"/home/jupyter/content/faceSkin_tipe_validation/nonface\")"
   ]
  },
  {
   "cell_type": "markdown",
   "id": "0433e245-a505-4447-8b75-e3a6d96fba89",
   "metadata": {},
   "source": [
    "filenames check in directory"
   ]
  },
  {
   "cell_type": "code",
   "execution_count": 9,
   "id": "d761a5c0-d43a-4d21-92dd-fb50b6e41ebb",
   "metadata": {},
   "outputs": [
    {
     "name": "stdout",
     "output_type": "stream",
     "text": [
      "TRAIN SET DRY: ['f1-006-01.jpg', 'folder(185)3.jpg', 'folder(95)2.jpg', 'folder(224)2.jpg', 'folder(219)2.jpg']\n",
      "TRAIN SET OILY: ['f1-006-01.jpg', 'folder(185)3.jpg', 'folder(95)2.jpg', 'folder(224)2.jpg', 'folder(219)2.jpg']\n",
      "TRAIN SET SENSITIVE: ['f1-006-01.jpg', 'folder(185)3.jpg', 'folder(95)2.jpg', 'folder(224)2.jpg', 'folder(219)2.jpg']\n",
      "TRAIN SET COMBINATION: ['f1-006-01.jpg', 'folder(185)3.jpg', 'folder(95)2.jpg', 'folder(224)2.jpg', 'folder(219)2.jpg']\n",
      "TRAIN SET NORMAL: ['f1-006-01.jpg', 'folder(185)3.jpg', 'folder(95)2.jpg', 'folder(224)2.jpg', 'folder(219)2.jpg']\n",
      "TRAIN SET NONFACE: ['000000013201.jpg', '000000017115.jpg', '000000002473.jpg', '000000024021.jpg', '000000015335.jpg'] \n",
      "\n",
      "VALIDATION SET DRY: ['folder(7)2.jpg', 'dd.jpg', 'folder(72)3.jpg', 'folder(77)3.jpg', '1 (72).jpg']\n",
      "VALIDATION SET OILY: ['folder(7)2.jpg', 'dd.jpg', 'folder(72)3.jpg', 'folder(77)3.jpg', '1 (72).jpg']\n",
      "VALIDATION SET SENSITIVE: ['folder(7)2.jpg', 'dd.jpg', 'folder(72)3.jpg', 'folder(77)3.jpg', '1 (72).jpg']\n",
      "VALIDATION SET COMBINATION: ['folder(7)2.jpg', 'dd.jpg', 'folder(72)3.jpg', 'folder(77)3.jpg', '1 (72).jpg']\n",
      "VALIDATION SET NORMAL: ['folder(7)2.jpg', 'dd.jpg', 'folder(72)3.jpg', 'folder(77)3.jpg', '1 (72).jpg']\n",
      "VALIDATION SET NONFACE: ['000000051008.jpg', '000000051976.jpg', '000000045596.jpg', '000000047010.jpg', '000000045090.jpg']\n"
     ]
    }
   ],
   "source": [
    "train_dry_names = os.listdir(train_dry_dir)\n",
    "train_oily_names = os.listdir(train_oily_dir)\n",
    "train_normal_names =  os.listdir(train_normal_dir)\n",
    "train_combination_names =  os.listdir(train_combination_dir)\n",
    "train_sensitive_names =  os.listdir(train_sensitive_dir)\n",
    "train_nonface_names =  os.listdir(train_nonface_dir)\n",
    "\n",
    "validation_dry_names = os.listdir(validation_dry_dir)\n",
    "validation_oily_names = os.listdir(validation_oily_dir)\n",
    "validation_normal_names =  os.listdir(validation_normal_dir)\n",
    "validation_combination_names =  os.listdir(validation_combination_dir)\n",
    "validation_sensitive_names =  os.listdir(validation_sensitive_dir)\n",
    "validation_nonface_names =  os.listdir(validation_nonface_dir)\n",
    "\n",
    "print(f'TRAIN SET DRY: {train_dry_names[:5]}')\n",
    "print(f'TRAIN SET OILY: {train_dry_names[:5]}')\n",
    "print(f'TRAIN SET SENSITIVE: {train_dry_names[:5]}')\n",
    "print(f'TRAIN SET COMBINATION: {train_dry_names[:5]}')\n",
    "print(f'TRAIN SET NORMAL: {train_dry_names[:5]}')\n",
    "print(f'TRAIN SET NONFACE: {train_nonface_names[:5]} \\n')\n",
    "\n",
    "print(f'VALIDATION SET DRY: {validation_dry_names[:5]}')\n",
    "print(f'VALIDATION SET OILY: {validation_dry_names[:5]}')\n",
    "print(f'VALIDATION SET SENSITIVE: {validation_dry_names[:5]}')\n",
    "print(f'VALIDATION SET COMBINATION: {validation_dry_names[:5]}')\n",
    "print(f'VALIDATION SET NORMAL: {validation_dry_names[:5]}')\n",
    "print(f'VALIDATION SET NONFACE: {validation_nonface_names[:5]}')"
   ]
  },
  {
   "cell_type": "markdown",
   "id": "4a6d4b11-d1ea-4b32-83bd-c5758b1f8d90",
   "metadata": {},
   "source": [
    "chacking total number of images for each categories in training and validation directories "
   ]
  },
  {
   "cell_type": "code",
   "execution_count": 10,
   "id": "5c1ac88e-d526-4ae4-aafd-62bbd394e953",
   "metadata": {},
   "outputs": [
    {
     "name": "stdout",
     "output_type": "stream",
     "text": [
      "total training oily images: 209\n",
      "total training dry images: 207\n",
      "total training normal images: 99\n",
      "total training combination images: 110\n",
      "total training sensitive images: 202\n",
      "total training nonface images: 200\n",
      "\n",
      "total validation oily images: 53\n",
      "total validation dry images: 50\n",
      "total validation normal images: 25\n",
      "total validation combination images: 36\n",
      "total validation sensitive images: 49\n",
      "total validation nonface images: 50\n"
     ]
    }
   ],
   "source": [
    "print(f'total training oily images: {len(os.listdir(train_oily_dir))}')\n",
    "print(f'total training dry images: {len(os.listdir(train_dry_dir))}')\n",
    "print(f'total training normal images: {len(os.listdir(train_normal_dir))}')\n",
    "print(f'total training combination images: {len(os.listdir(train_combination_dir))}')\n",
    "print(f'total training sensitive images: {len(os.listdir(train_sensitive_dir))}')\n",
    "print(f'total training nonface images: {len(os.listdir(train_nonface_dir))}\\n')\n",
    "\n",
    "\n",
    "print(f'total validation oily images: {len(os.listdir(validation_oily_dir))}')\n",
    "print(f'total validation dry images: {len(os.listdir(validation_dry_dir))}')\n",
    "print(f'total validation normal images: {len(os.listdir(validation_normal_dir))}')\n",
    "print(f'total validation combination images: {len(os.listdir(validation_combination_dir))}')\n",
    "print(f'total validation sensitive images: {len(os.listdir(validation_sensitive_dir))}')\n",
    "print(f'total validation nonface images: {len(os.listdir(validation_nonface_dir))}')\n",
    "\n",
    "\n",
    "\n"
   ]
  },
  {
   "cell_type": "code",
   "execution_count": null,
   "id": "2278afba-378a-497d-aa6c-f46ca91fe034",
   "metadata": {},
   "outputs": [],
   "source": []
  },
  {
   "cell_type": "markdown",
   "id": "72d11eab-5e93-4a65-bfe5-73c9fedc0e7d",
   "metadata": {},
   "source": [
    "# Data preprocessing\n"
   ]
  },
  {
   "cell_type": "markdown",
   "id": "78fc9ed3-9e21-4607-b083-b73b3faa661d",
   "metadata": {},
   "source": [
    "using image data generator"
   ]
  },
  {
   "cell_type": "code",
   "execution_count": 29,
   "id": "10ffec68-ab2b-46bf-b5c8-4332f837ea88",
   "metadata": {},
   "outputs": [
    {
     "name": "stdout",
     "output_type": "stream",
     "text": [
      "Found 1027 images belonging to 6 classes.\n",
      "Found 263 images belonging to 6 classes.\n",
      "Class Names: ['oily', 'normal', 'sensitive', 'dry', 'nonface', 'combination']\n"
     ]
    }
   ],
   "source": [
    "\n",
    "from tensorflow.keras.preprocessing.image import ImageDataGenerator\n",
    "import os\n",
    "\n",
    "# All images will be rescaled by 1./255\n",
    "train_datagen = ImageDataGenerator(\n",
    "      rescale=1/255,\n",
    "      rotation_range=40,\n",
    "      width_shift_range=0.2,\n",
    "      height_shift_range=0.2,\n",
    "      shear_range=0.2,\n",
    "      zoom_range=0.2,\n",
    "      horizontal_flip=True,\n",
    "      fill_mode='nearest')\n",
    "\n",
    "validation_datagen = ImageDataGenerator(rescale=1/255)\n",
    "\n",
    "# Set the base directory where your data is located\n",
    "base_directory = '/home/jupyter/content/'\n",
    "\n",
    "# Get the list of subdirectories (classes) in the training directory\n",
    "train_classes = [subdir for subdir in os.listdir(os.path.join(base_directory, 'faceSkin_tipe_train')) if os.path.isdir(os.path.join(base_directory, 'faceSkin_tipe_train', subdir))]\n",
    "\n",
    "# Remove the \".ipynb_checkpoints\" class from the list if it exists\n",
    "if '.ipynb_checkpoints' in train_classes:\n",
    "    train_classes.remove('.ipynb_checkpoints')\n",
    "\n",
    "# Flow training images in batches of 128 using train_datagen generator\n",
    "train_generator = train_datagen.flow_from_directory(\n",
    "        os.path.join(base_directory, 'faceSkin_tipe_train'),  # This is the source directory for training images\n",
    "        target_size=(224, 224),  # All images will be resized to 224x224\n",
    "        batch_size=32,\n",
    "        class_mode='categorical',\n",
    "        classes=train_classes)\n",
    "\n",
    "# Get the list of subdirectories (classes) in the validation directory\n",
    "validation_classes = [subdir for subdir in os.listdir(os.path.join(base_directory, 'faceSkin_tipe_validation')) if os.path.isdir(os.path.join(base_directory, 'faceSkin_tipe_validation', subdir))]\n",
    "\n",
    "# Remove the \".ipynb_checkpoints\" class from the list if it exists\n",
    "if '.ipynb_checkpoints' in validation_classes:\n",
    "    validation_classes.remove('.ipynb_checkpoints')\n",
    "\n",
    "# Flow validation images in batches of 128 using validation_datagen generator\n",
    "validation_generator = validation_datagen.flow_from_directory(\n",
    "        os.path.join(base_directory, 'faceSkin_tipe_validation'),  # This is the source directory for validation images\n",
    "        target_size=(224, 224),  # All images will be resized to 224x224\n",
    "        batch_size=8,\n",
    "        class_mode='categorical',\n",
    "        classes=validation_classes)\n",
    "\n",
    "\n",
    "# Get the class names from the generator's class_indices dictionary\n",
    "class_names = list(train_generator.class_indices.keys())\n",
    "\n",
    "# Print the class names\n",
    "print(\"Class Names:\", class_names)\n"
   ]
  },
  {
   "cell_type": "code",
   "execution_count": 32,
   "id": "4e59b480-ad7b-4cc7-b187-d490738d2aab",
   "metadata": {},
   "outputs": [
    {
     "name": "stdout",
     "output_type": "stream",
     "text": [
      "List of Classes:\n",
      "oily : 0\n",
      "normal : 1\n",
      "sensitive : 2\n",
      "dry : 3\n",
      "nonface : 4\n",
      "combination : 5\n"
     ]
    }
   ],
   "source": [
    "\n",
    "# Access the class indices\n",
    "class_indices = train_generator.class_indices\n",
    "\n",
    "# Print the list of classes\n",
    "print(\"List of Classes:\")\n",
    "for class_name, class_index in class_indices.items():\n",
    "    print(class_name, \":\", class_index)"
   ]
  },
  {
   "cell_type": "markdown",
   "id": "d5a36bd4-30a9-473a-8ff3-91544929d763",
   "metadata": {},
   "source": [
    "load pretrained model"
   ]
  },
  {
   "cell_type": "code",
   "execution_count": 33,
   "id": "8de9eb1f-86fa-4e8b-bb2b-40c81af2b847",
   "metadata": {},
   "outputs": [
    {
     "name": "stdout",
     "output_type": "stream",
     "text": [
      "Python 3.10.10\n"
     ]
    }
   ],
   "source": [
    "!python --version"
   ]
  },
  {
   "cell_type": "code",
   "execution_count": 14,
   "id": "bdf98706-f0ad-4983-b81b-b9512a1b1aa2",
   "metadata": {},
   "outputs": [
    {
     "name": "stdout",
     "output_type": "stream",
     "text": [
      "\u001b[33mWARNING: Ignoring invalid distribution -eras (/opt/conda/lib/python3.10/site-packages)\u001b[0m\u001b[33m\n",
      "\u001b[0m\u001b[33mWARNING: Ignoring invalid distribution -rapt (/opt/conda/lib/python3.10/site-packages)\u001b[0m\u001b[33m\n",
      "\u001b[0mRequirement already satisfied: keras_vggface in /opt/conda/lib/python3.10/site-packages (0.6)\n",
      "Requirement already satisfied: numpy>=1.9.1 in /opt/conda/lib/python3.10/site-packages (from keras_vggface) (1.23.5)\n",
      "Requirement already satisfied: scipy>=0.14 in /opt/conda/lib/python3.10/site-packages (from keras_vggface) (1.9.3)\n",
      "Requirement already satisfied: h5py in /opt/conda/lib/python3.10/site-packages (from keras_vggface) (3.8.0)\n",
      "Requirement already satisfied: pillow in /opt/conda/lib/python3.10/site-packages (from keras_vggface) (9.5.0)\n",
      "Requirement already satisfied: keras in /home/jupyter/.local/lib/python3.10/site-packages (from keras_vggface) (2.11.0)\n",
      "Requirement already satisfied: six>=1.9.0 in /opt/conda/lib/python3.10/site-packages (from keras_vggface) (1.16.0)\n",
      "Requirement already satisfied: pyyaml in /opt/conda/lib/python3.10/site-packages (from keras_vggface) (5.4.1)\n",
      "\u001b[33mWARNING: Ignoring invalid distribution -eras (/opt/conda/lib/python3.10/site-packages)\u001b[0m\u001b[33m\n",
      "\u001b[0m\u001b[33mWARNING: Ignoring invalid distribution -rapt (/opt/conda/lib/python3.10/site-packages)\u001b[0m\u001b[33m\n",
      "\u001b[0m"
     ]
    }
   ],
   "source": [
    "!pip install keras_vggface"
   ]
  },
  {
   "cell_type": "code",
   "execution_count": 15,
   "id": "c8ba6bfc-9b79-479b-9d47-fb41283b519d",
   "metadata": {},
   "outputs": [
    {
     "name": "stdout",
     "output_type": "stream",
     "text": [
      "\u001b[33mWARNING: Ignoring invalid distribution -eras (/opt/conda/lib/python3.10/site-packages)\u001b[0m\u001b[33m\n",
      "\u001b[0m\u001b[33mWARNING: Ignoring invalid distribution -rapt (/opt/conda/lib/python3.10/site-packages)\u001b[0m\u001b[33m\n",
      "\u001b[0mRequirement already satisfied: keras_applications in /opt/conda/lib/python3.10/site-packages (1.0.8)\n",
      "Requirement already satisfied: numpy>=1.9.1 in /opt/conda/lib/python3.10/site-packages (from keras_applications) (1.23.5)\n",
      "Requirement already satisfied: h5py in /opt/conda/lib/python3.10/site-packages (from keras_applications) (3.8.0)\n",
      "\u001b[33mWARNING: Ignoring invalid distribution -eras (/opt/conda/lib/python3.10/site-packages)\u001b[0m\u001b[33m\n",
      "\u001b[0m\u001b[33mWARNING: Ignoring invalid distribution -rapt (/opt/conda/lib/python3.10/site-packages)\u001b[0m\u001b[33m\n",
      "\u001b[0m"
     ]
    }
   ],
   "source": [
    "!pip install keras_applications"
   ]
  },
  {
   "cell_type": "code",
   "execution_count": 16,
   "id": "901c2f3a-5bbd-40e7-9bb6-4270c2d4782d",
   "metadata": {},
   "outputs": [
    {
     "name": "stdout",
     "output_type": "stream",
     "text": [
      "\u001b[33mWARNING: Ignoring invalid distribution -eras (/opt/conda/lib/python3.10/site-packages)\u001b[0m\u001b[33m\n",
      "\u001b[0m\u001b[33mWARNING: Ignoring invalid distribution -rapt (/opt/conda/lib/python3.10/site-packages)\u001b[0m\u001b[33m\n",
      "\u001b[0mName: keras\n",
      "Version: 2.11.0\n",
      "Summary: Deep learning for humans.\n",
      "Home-page: https://keras.io/\n",
      "Author: Keras team\n",
      "Author-email: keras-users@googlegroups.com\n",
      "License: Apache 2.0\n",
      "Location: /home/jupyter/.local/lib/python3.10/site-packages\n",
      "Requires: \n",
      "Required-by: keras-vggface, tensorflow\n"
     ]
    }
   ],
   "source": [
    "!pip show keras\n"
   ]
  },
  {
   "cell_type": "code",
   "execution_count": 34,
   "id": "3230bb14-03a4-4507-9e29-6ff58652bf46",
   "metadata": {},
   "outputs": [],
   "source": [
    "import tensorflow.keras as keras"
   ]
  },
  {
   "cell_type": "code",
   "execution_count": 35,
   "id": "0ce718ef-10d1-4da0-a8d2-0d6c57f0bc0c",
   "metadata": {},
   "outputs": [
    {
     "name": "stdout",
     "output_type": "stream",
     "text": [
      "2.11.1\n"
     ]
    }
   ],
   "source": [
    "print(tf.__version__)"
   ]
  },
  {
   "cell_type": "code",
   "execution_count": 36,
   "id": "80c7bffd-fecc-4fbe-8e0c-78fbb81f24bb",
   "metadata": {},
   "outputs": [],
   "source": [
    "\n",
    "from keras_vggface.vggface import VGGFace\n",
    "from tensorflow.keras import layers\n",
    "\n",
    "# Set the weights file you downloaded into a variable\n",
    "local_weights_file = '/home/jupyter/content/vgg_face_weights.h5'\n",
    "\n",
    "# Initialize the base model.\n",
    "# Set the input shape and remove the dense layers.\n",
    "pre_trained_model = VGGFace(input_shape = (224, 224, 3), \n",
    "                                include_top = False, \n",
    "                                model = 'vgg16')\n",
    "\n",
    "# Load the pre-trained weights you downloaded.\n",
    "pre_trained_model.load_weights(local_weights_file, by_name=True, skip_mismatch=True)\n",
    "\n",
    "# Freeze the weights of the layers.\n",
    "for layer in pre_trained_model.layers:\n",
    "  layer.trainable = False"
   ]
  },
  {
   "cell_type": "code",
   "execution_count": 37,
   "id": "75752819-e72e-4cc3-ae5e-c933b0dfcd2c",
   "metadata": {},
   "outputs": [
    {
     "name": "stdout",
     "output_type": "stream",
     "text": [
      "Model: \"vggface_vgg16\"\n",
      "_________________________________________________________________\n",
      " Layer (type)                Output Shape              Param #   \n",
      "=================================================================\n",
      " input_3 (InputLayer)        [(None, 224, 224, 3)]     0         \n",
      "                                                                 \n",
      " conv1_1 (Conv2D)            (None, 224, 224, 64)      1792      \n",
      "                                                                 \n",
      " conv1_2 (Conv2D)            (None, 224, 224, 64)      36928     \n",
      "                                                                 \n",
      " pool1 (MaxPooling2D)        (None, 112, 112, 64)      0         \n",
      "                                                                 \n",
      " conv2_1 (Conv2D)            (None, 112, 112, 128)     73856     \n",
      "                                                                 \n",
      " conv2_2 (Conv2D)            (None, 112, 112, 128)     147584    \n",
      "                                                                 \n",
      " pool2 (MaxPooling2D)        (None, 56, 56, 128)       0         \n",
      "                                                                 \n",
      " conv3_1 (Conv2D)            (None, 56, 56, 256)       295168    \n",
      "                                                                 \n",
      " conv3_2 (Conv2D)            (None, 56, 56, 256)       590080    \n",
      "                                                                 \n",
      " conv3_3 (Conv2D)            (None, 56, 56, 256)       590080    \n",
      "                                                                 \n",
      " pool3 (MaxPooling2D)        (None, 28, 28, 256)       0         \n",
      "                                                                 \n",
      " conv4_1 (Conv2D)            (None, 28, 28, 512)       1180160   \n",
      "                                                                 \n",
      " conv4_2 (Conv2D)            (None, 28, 28, 512)       2359808   \n",
      "                                                                 \n",
      " conv4_3 (Conv2D)            (None, 28, 28, 512)       2359808   \n",
      "                                                                 \n",
      " pool4 (MaxPooling2D)        (None, 14, 14, 512)       0         \n",
      "                                                                 \n",
      " conv5_1 (Conv2D)            (None, 14, 14, 512)       2359808   \n",
      "                                                                 \n",
      " conv5_2 (Conv2D)            (None, 14, 14, 512)       2359808   \n",
      "                                                                 \n",
      " conv5_3 (Conv2D)            (None, 14, 14, 512)       2359808   \n",
      "                                                                 \n",
      " pool5 (MaxPooling2D)        (None, 7, 7, 512)         0         \n",
      "                                                                 \n",
      "=================================================================\n",
      "Total params: 14,714,688\n",
      "Trainable params: 0\n",
      "Non-trainable params: 14,714,688\n",
      "_________________________________________________________________\n"
     ]
    }
   ],
   "source": [
    "pre_trained_model.summary()\n"
   ]
  },
  {
   "cell_type": "code",
   "execution_count": 39,
   "id": "347acaf4-17fe-4048-8b0d-726e7b64f436",
   "metadata": {},
   "outputs": [
    {
     "name": "stdout",
     "output_type": "stream",
     "text": [
      "last layer output shape:  (None, 14, 14, 512)\n",
      "last layer output:  KerasTensor(type_spec=TensorSpec(shape=(None, 14, 14, 512), dtype=tf.float32, name=None), name='conv5_3/Relu:0', description=\"created by layer 'conv5_3'\")\n"
     ]
    }
   ],
   "source": [
    "# Choose `mixed_7` as the last layer of your base model\n",
    "last_layer = pre_trained_model.get_layer('conv5_3')\n",
    "print('last layer output shape: ', last_layer.output_shape)\n",
    "last_output = last_layer.output\n",
    "print('last layer output: ', last_output)"
   ]
  },
  {
   "cell_type": "markdown",
   "id": "762358e6-81a8-4900-9f13-3954af62b49a",
   "metadata": {
    "tags": []
   },
   "source": [
    "# add dense layer depends on the classification (5 category)\n"
   ]
  },
  {
   "cell_type": "code",
   "execution_count": 40,
   "id": "15cab97c-2b5c-4c31-bc4a-ff277b327ce6",
   "metadata": {},
   "outputs": [
    {
     "name": "stdout",
     "output_type": "stream",
     "text": [
      "Model: \"model_1\"\n",
      "_________________________________________________________________\n",
      " Layer (type)                Output Shape              Param #   \n",
      "=================================================================\n",
      " input_3 (InputLayer)        [(None, 224, 224, 3)]     0         \n",
      "                                                                 \n",
      " conv1_1 (Conv2D)            (None, 224, 224, 64)      1792      \n",
      "                                                                 \n",
      " conv1_2 (Conv2D)            (None, 224, 224, 64)      36928     \n",
      "                                                                 \n",
      " pool1 (MaxPooling2D)        (None, 112, 112, 64)      0         \n",
      "                                                                 \n",
      " conv2_1 (Conv2D)            (None, 112, 112, 128)     73856     \n",
      "                                                                 \n",
      " conv2_2 (Conv2D)            (None, 112, 112, 128)     147584    \n",
      "                                                                 \n",
      " pool2 (MaxPooling2D)        (None, 56, 56, 128)       0         \n",
      "                                                                 \n",
      " conv3_1 (Conv2D)            (None, 56, 56, 256)       295168    \n",
      "                                                                 \n",
      " conv3_2 (Conv2D)            (None, 56, 56, 256)       590080    \n",
      "                                                                 \n",
      " conv3_3 (Conv2D)            (None, 56, 56, 256)       590080    \n",
      "                                                                 \n",
      " pool3 (MaxPooling2D)        (None, 28, 28, 256)       0         \n",
      "                                                                 \n",
      " conv4_1 (Conv2D)            (None, 28, 28, 512)       1180160   \n",
      "                                                                 \n",
      " conv4_2 (Conv2D)            (None, 28, 28, 512)       2359808   \n",
      "                                                                 \n",
      " conv4_3 (Conv2D)            (None, 28, 28, 512)       2359808   \n",
      "                                                                 \n",
      " pool4 (MaxPooling2D)        (None, 14, 14, 512)       0         \n",
      "                                                                 \n",
      " conv5_1 (Conv2D)            (None, 14, 14, 512)       2359808   \n",
      "                                                                 \n",
      " conv5_2 (Conv2D)            (None, 14, 14, 512)       2359808   \n",
      "                                                                 \n",
      " conv5_3 (Conv2D)            (None, 14, 14, 512)       2359808   \n",
      "                                                                 \n",
      " flatten_1 (Flatten)         (None, 100352)            0         \n",
      "                                                                 \n",
      " dense_2 (Dense)             (None, 1024)              102761472 \n",
      "                                                                 \n",
      " dropout_1 (Dropout)         (None, 1024)              0         \n",
      "                                                                 \n",
      " dense_3 (Dense)             (None, 6)                 6150      \n",
      "                                                                 \n",
      "=================================================================\n",
      "Total params: 117,482,310\n",
      "Trainable params: 102,767,622\n",
      "Non-trainable params: 14,714,688\n",
      "_________________________________________________________________\n"
     ]
    }
   ],
   "source": [
    "from tensorflow.keras.optimizers import RMSprop\n",
    "from tensorflow.keras import Model\n",
    "\n",
    "\n",
    "# Flatten the output layer to 1 dimension\n",
    "x = layers.Flatten()(last_output)\n",
    "# Add a fully connected layer with 1,024 hidden units and ReLU activation\n",
    "x = layers.Dense(1024, activation=\"ReLU\")(x)\n",
    "# Add a dropout rate of 0.2\n",
    "x = layers.Dropout(0.2)(x)                  \n",
    "# Add a final sigmoid layer for classification\n",
    "x = layers.Dense(6, activation='softmax')(x)           \n",
    "\n",
    "# Append the dense network to the base model\n",
    "model = Model(pre_trained_model.input, x) \n",
    "\n",
    "# Print the model summary. See your dense network connected at the end.\n",
    "model.summary()"
   ]
  },
  {
   "cell_type": "markdown",
   "id": "d473f5dd-0576-4ec3-990e-2c88cb287ac8",
   "metadata": {},
   "source": [
    "compiling the model"
   ]
  },
  {
   "cell_type": "code",
   "execution_count": 41,
   "id": "26d2b9c2-5e78-4690-96b3-3ce7130cc4fa",
   "metadata": {},
   "outputs": [],
   "source": [
    "\n",
    "from tensorflow.keras.optimizers import Adam\n",
    "model.compile(loss=tf.keras.losses.CategoricalCrossentropy(),\n",
    "              optimizer=tf.keras.optimizers.Adam(learning_rate = 0.0001),\n",
    "              metrics=['accuracy'])\n",
    "\n",
    "#membuat callback untuk menentukan learning rate terbaik\n",
    "#lr_scheduler = tf.keras.callbacks.LearningRateScheduler(lambda epoch:1e-4 * 10 **(epoch/20))\n"
   ]
  },
  {
   "cell_type": "markdown",
   "id": "c6d4408f-4e8d-4c75-bc4b-deb0aa312b84",
   "metadata": {},
   "source": [
    "Training"
   ]
  },
  {
   "cell_type": "code",
   "execution_count": 42,
   "id": "41d15d51-69ca-4bd3-bbec-5ce76a2af4db",
   "metadata": {},
   "outputs": [
    {
     "data": {
      "text/plain": [
       "33"
      ]
     },
     "execution_count": 42,
     "metadata": {},
     "output_type": "execute_result"
    }
   ],
   "source": [
    "len(validation_generator)"
   ]
  },
  {
   "cell_type": "code",
   "execution_count": 43,
   "id": "9c6df17c-8eb2-4f96-965d-5dd021e19be7",
   "metadata": {},
   "outputs": [
    {
     "name": "stdout",
     "output_type": "stream",
     "text": [
      "Epoch 1/150\n",
      "33/33 - 70s - loss: 1.4398 - accuracy: 0.4109 - val_loss: 1.2226 - val_accuracy: 0.5095 - 70s/epoch - 2s/step\n",
      "Epoch 2/150\n",
      "33/33 - 67s - loss: 1.1548 - accuracy: 0.5161 - val_loss: 1.1558 - val_accuracy: 0.5057 - 67s/epoch - 2s/step\n",
      "Epoch 3/150\n",
      "33/33 - 66s - loss: 1.0851 - accuracy: 0.5599 - val_loss: 1.1255 - val_accuracy: 0.5589 - 66s/epoch - 2s/step\n",
      "Epoch 4/150\n",
      "33/33 - 66s - loss: 1.0252 - accuracy: 0.5774 - val_loss: 1.1095 - val_accuracy: 0.5285 - 66s/epoch - 2s/step\n",
      "Epoch 5/150\n",
      "33/33 - 66s - loss: 0.9868 - accuracy: 0.5930 - val_loss: 1.0605 - val_accuracy: 0.5589 - 66s/epoch - 2s/step\n",
      "Epoch 6/150\n",
      "33/33 - 66s - loss: 0.9692 - accuracy: 0.6144 - val_loss: 1.0511 - val_accuracy: 0.5817 - 66s/epoch - 2s/step\n",
      "Epoch 7/150\n",
      "33/33 - 67s - loss: 0.9516 - accuracy: 0.6203 - val_loss: 1.1123 - val_accuracy: 0.5589 - 67s/epoch - 2s/step\n",
      "Epoch 8/150\n",
      "33/33 - 66s - loss: 0.9241 - accuracy: 0.6426 - val_loss: 1.0725 - val_accuracy: 0.5665 - 66s/epoch - 2s/step\n",
      "Epoch 9/150\n",
      "33/33 - 66s - loss: 0.8538 - accuracy: 0.6670 - val_loss: 1.0316 - val_accuracy: 0.5665 - 66s/epoch - 2s/step\n",
      "Epoch 10/150\n",
      "33/33 - 67s - loss: 0.8768 - accuracy: 0.6553 - val_loss: 1.0209 - val_accuracy: 0.5932 - 67s/epoch - 2s/step\n",
      "Epoch 11/150\n",
      "33/33 - 67s - loss: 0.8487 - accuracy: 0.6816 - val_loss: 1.0792 - val_accuracy: 0.5817 - 67s/epoch - 2s/step\n",
      "Epoch 12/150\n",
      "33/33 - 66s - loss: 0.8309 - accuracy: 0.6758 - val_loss: 1.0211 - val_accuracy: 0.5856 - 66s/epoch - 2s/step\n",
      "Epoch 13/150\n",
      "33/33 - 66s - loss: 0.8257 - accuracy: 0.6777 - val_loss: 0.9691 - val_accuracy: 0.6464 - 66s/epoch - 2s/step\n",
      "Epoch 14/150\n",
      "33/33 - 65s - loss: 0.8078 - accuracy: 0.6991 - val_loss: 1.0090 - val_accuracy: 0.6274 - 65s/epoch - 2s/step\n",
      "Epoch 15/150\n",
      "33/33 - 65s - loss: 0.7967 - accuracy: 0.6952 - val_loss: 0.9794 - val_accuracy: 0.6236 - 65s/epoch - 2s/step\n",
      "Epoch 16/150\n",
      "33/33 - 69s - loss: 0.7837 - accuracy: 0.6933 - val_loss: 0.9584 - val_accuracy: 0.6046 - 69s/epoch - 2s/step\n",
      "Epoch 17/150\n",
      "33/33 - 66s - loss: 0.7665 - accuracy: 0.6884 - val_loss: 1.0217 - val_accuracy: 0.6122 - 66s/epoch - 2s/step\n",
      "Epoch 18/150\n",
      "33/33 - 66s - loss: 0.7563 - accuracy: 0.7147 - val_loss: 1.0380 - val_accuracy: 0.5970 - 66s/epoch - 2s/step\n",
      "Epoch 19/150\n",
      "33/33 - 67s - loss: 0.7777 - accuracy: 0.7020 - val_loss: 1.0630 - val_accuracy: 0.6084 - 67s/epoch - 2s/step\n",
      "Epoch 20/150\n",
      "33/33 - 68s - loss: 0.7531 - accuracy: 0.7001 - val_loss: 0.9988 - val_accuracy: 0.6274 - 68s/epoch - 2s/step\n",
      "Epoch 21/150\n",
      "33/33 - 67s - loss: 0.7523 - accuracy: 0.7128 - val_loss: 0.9812 - val_accuracy: 0.6008 - 67s/epoch - 2s/step\n",
      "Epoch 22/150\n",
      "33/33 - 68s - loss: 0.7268 - accuracy: 0.7167 - val_loss: 1.0423 - val_accuracy: 0.6312 - 68s/epoch - 2s/step\n",
      "Epoch 23/150\n",
      "33/33 - 65s - loss: 0.7282 - accuracy: 0.7303 - val_loss: 0.9743 - val_accuracy: 0.6122 - 65s/epoch - 2s/step\n",
      "Epoch 24/150\n",
      "33/33 - 66s - loss: 0.6961 - accuracy: 0.7352 - val_loss: 0.9411 - val_accuracy: 0.6160 - 66s/epoch - 2s/step\n",
      "Epoch 25/150\n",
      "33/33 - 66s - loss: 0.6895 - accuracy: 0.7342 - val_loss: 1.0155 - val_accuracy: 0.6198 - 66s/epoch - 2s/step\n",
      "Epoch 26/150\n",
      "33/33 - 65s - loss: 0.6883 - accuracy: 0.7381 - val_loss: 0.9566 - val_accuracy: 0.6084 - 65s/epoch - 2s/step\n",
      "Epoch 27/150\n",
      "33/33 - 65s - loss: 0.6631 - accuracy: 0.7585 - val_loss: 0.9762 - val_accuracy: 0.6160 - 65s/epoch - 2s/step\n",
      "Epoch 28/150\n",
      "33/33 - 66s - loss: 0.6373 - accuracy: 0.7673 - val_loss: 1.0081 - val_accuracy: 0.6046 - 66s/epoch - 2s/step\n",
      "Epoch 29/150\n",
      "33/33 - 65s - loss: 0.6826 - accuracy: 0.7303 - val_loss: 0.9875 - val_accuracy: 0.6274 - 65s/epoch - 2s/step\n",
      "Epoch 30/150\n",
      "33/33 - 66s - loss: 0.6540 - accuracy: 0.7702 - val_loss: 0.9867 - val_accuracy: 0.6008 - 66s/epoch - 2s/step\n",
      "Epoch 31/150\n",
      "33/33 - 65s - loss: 0.6468 - accuracy: 0.7605 - val_loss: 0.9924 - val_accuracy: 0.6160 - 65s/epoch - 2s/step\n",
      "Epoch 32/150\n",
      "33/33 - 64s - loss: 0.6205 - accuracy: 0.7692 - val_loss: 1.0685 - val_accuracy: 0.6426 - 64s/epoch - 2s/step\n",
      "Epoch 33/150\n",
      "33/33 - 64s - loss: 0.6299 - accuracy: 0.7731 - val_loss: 1.0772 - val_accuracy: 0.6122 - 64s/epoch - 2s/step\n",
      "Epoch 34/150\n",
      "33/33 - 64s - loss: 0.6296 - accuracy: 0.7527 - val_loss: 0.9748 - val_accuracy: 0.6122 - 64s/epoch - 2s/step\n",
      "Epoch 35/150\n",
      "33/33 - 64s - loss: 0.6051 - accuracy: 0.7760 - val_loss: 0.9690 - val_accuracy: 0.6274 - 64s/epoch - 2s/step\n",
      "Epoch 36/150\n",
      "33/33 - 65s - loss: 0.6188 - accuracy: 0.7722 - val_loss: 0.9953 - val_accuracy: 0.6426 - 65s/epoch - 2s/step\n",
      "Epoch 37/150\n",
      "33/33 - 65s - loss: 0.6164 - accuracy: 0.7722 - val_loss: 0.9763 - val_accuracy: 0.6350 - 65s/epoch - 2s/step\n",
      "Epoch 38/150\n",
      "33/33 - 67s - loss: 0.6065 - accuracy: 0.7663 - val_loss: 0.9322 - val_accuracy: 0.6616 - 67s/epoch - 2s/step\n",
      "Epoch 39/150\n",
      "33/33 - 67s - loss: 0.5784 - accuracy: 0.7829 - val_loss: 0.9703 - val_accuracy: 0.6350 - 67s/epoch - 2s/step\n",
      "Epoch 40/150\n",
      "33/33 - 68s - loss: 0.5516 - accuracy: 0.7926 - val_loss: 0.9891 - val_accuracy: 0.6540 - 68s/epoch - 2s/step\n",
      "Epoch 41/150\n",
      "33/33 - 67s - loss: 0.5693 - accuracy: 0.7887 - val_loss: 0.9859 - val_accuracy: 0.6350 - 67s/epoch - 2s/step\n",
      "Epoch 42/150\n",
      "33/33 - 66s - loss: 0.5843 - accuracy: 0.7692 - val_loss: 0.9516 - val_accuracy: 0.6540 - 66s/epoch - 2s/step\n",
      "Epoch 43/150\n",
      "33/33 - 65s - loss: 0.5564 - accuracy: 0.8092 - val_loss: 0.9113 - val_accuracy: 0.6502 - 65s/epoch - 2s/step\n",
      "Epoch 44/150\n",
      "33/33 - 65s - loss: 0.5218 - accuracy: 0.8111 - val_loss: 0.9401 - val_accuracy: 0.6654 - 65s/epoch - 2s/step\n",
      "Epoch 45/150\n",
      "33/33 - 64s - loss: 0.5226 - accuracy: 0.8111 - val_loss: 0.9629 - val_accuracy: 0.6464 - 64s/epoch - 2s/step\n",
      "Epoch 46/150\n",
      "33/33 - 65s - loss: 0.5718 - accuracy: 0.7916 - val_loss: 0.9656 - val_accuracy: 0.6616 - 65s/epoch - 2s/step\n",
      "Epoch 47/150\n",
      "33/33 - 64s - loss: 0.5280 - accuracy: 0.8053 - val_loss: 0.9370 - val_accuracy: 0.6654 - 64s/epoch - 2s/step\n",
      "Epoch 48/150\n",
      "33/33 - 65s - loss: 0.5633 - accuracy: 0.7936 - val_loss: 0.9323 - val_accuracy: 0.6350 - 65s/epoch - 2s/step\n",
      "Epoch 49/150\n",
      "33/33 - 64s - loss: 0.5088 - accuracy: 0.8247 - val_loss: 0.9526 - val_accuracy: 0.6426 - 64s/epoch - 2s/step\n",
      "Epoch 50/150\n",
      "33/33 - 65s - loss: 0.5215 - accuracy: 0.8130 - val_loss: 0.9962 - val_accuracy: 0.6312 - 65s/epoch - 2s/step\n",
      "Epoch 51/150\n",
      "33/33 - 64s - loss: 0.5286 - accuracy: 0.8033 - val_loss: 0.9761 - val_accuracy: 0.6464 - 64s/epoch - 2s/step\n",
      "Epoch 52/150\n",
      "33/33 - 65s - loss: 0.5289 - accuracy: 0.8043 - val_loss: 0.9921 - val_accuracy: 0.6540 - 65s/epoch - 2s/step\n",
      "Epoch 53/150\n",
      "33/33 - 64s - loss: 0.4976 - accuracy: 0.8296 - val_loss: 0.9589 - val_accuracy: 0.6578 - 64s/epoch - 2s/step\n",
      "Epoch 54/150\n",
      "33/33 - 65s - loss: 0.4796 - accuracy: 0.8354 - val_loss: 0.9249 - val_accuracy: 0.6578 - 65s/epoch - 2s/step\n",
      "Epoch 55/150\n",
      "33/33 - 64s - loss: 0.4900 - accuracy: 0.8150 - val_loss: 1.0741 - val_accuracy: 0.6464 - 64s/epoch - 2s/step\n",
      "Epoch 56/150\n",
      "33/33 - 66s - loss: 0.4747 - accuracy: 0.8218 - val_loss: 0.9192 - val_accuracy: 0.6692 - 66s/epoch - 2s/step\n",
      "Epoch 57/150\n",
      "33/33 - 64s - loss: 0.4798 - accuracy: 0.8189 - val_loss: 0.9688 - val_accuracy: 0.6730 - 64s/epoch - 2s/step\n",
      "Epoch 58/150\n",
      "33/33 - 66s - loss: 0.4713 - accuracy: 0.8267 - val_loss: 1.0875 - val_accuracy: 0.6616 - 66s/epoch - 2s/step\n",
      "Epoch 59/150\n",
      "33/33 - 65s - loss: 0.4632 - accuracy: 0.8306 - val_loss: 0.9671 - val_accuracy: 0.6616 - 65s/epoch - 2s/step\n",
      "Epoch 60/150\n",
      "33/33 - 65s - loss: 0.4871 - accuracy: 0.8208 - val_loss: 0.9846 - val_accuracy: 0.6692 - 65s/epoch - 2s/step\n",
      "Epoch 61/150\n",
      "33/33 - 65s - loss: 0.4491 - accuracy: 0.8500 - val_loss: 0.9321 - val_accuracy: 0.6730 - 65s/epoch - 2s/step\n",
      "Epoch 62/150\n",
      "33/33 - 65s - loss: 0.4506 - accuracy: 0.8325 - val_loss: 0.9464 - val_accuracy: 0.6654 - 65s/epoch - 2s/step\n",
      "Epoch 63/150\n",
      "33/33 - 66s - loss: 0.4338 - accuracy: 0.8510 - val_loss: 0.9576 - val_accuracy: 0.6654 - 66s/epoch - 2s/step\n",
      "Epoch 64/150\n",
      "33/33 - 66s - loss: 0.4381 - accuracy: 0.8432 - val_loss: 0.9455 - val_accuracy: 0.6692 - 66s/epoch - 2s/step\n",
      "Epoch 65/150\n",
      "33/33 - 66s - loss: 0.4527 - accuracy: 0.8306 - val_loss: 0.9129 - val_accuracy: 0.6920 - 66s/epoch - 2s/step\n",
      "Epoch 66/150\n",
      "33/33 - 66s - loss: 0.4462 - accuracy: 0.8306 - val_loss: 0.9930 - val_accuracy: 0.6730 - 66s/epoch - 2s/step\n",
      "Epoch 67/150\n",
      "33/33 - 66s - loss: 0.4448 - accuracy: 0.8296 - val_loss: 0.9821 - val_accuracy: 0.6692 - 66s/epoch - 2s/step\n",
      "Epoch 68/150\n",
      "33/33 - 68s - loss: 0.4150 - accuracy: 0.8413 - val_loss: 0.9906 - val_accuracy: 0.6502 - 68s/epoch - 2s/step\n",
      "Epoch 69/150\n",
      "33/33 - 68s - loss: 0.4452 - accuracy: 0.8432 - val_loss: 0.9448 - val_accuracy: 0.6730 - 68s/epoch - 2s/step\n",
      "Epoch 70/150\n",
      "33/33 - 66s - loss: 0.4023 - accuracy: 0.8452 - val_loss: 0.9979 - val_accuracy: 0.6654 - 66s/epoch - 2s/step\n",
      "Epoch 71/150\n",
      "33/33 - 65s - loss: 0.4281 - accuracy: 0.8432 - val_loss: 0.9417 - val_accuracy: 0.6768 - 65s/epoch - 2s/step\n",
      "Epoch 72/150\n",
      "33/33 - 67s - loss: 0.4119 - accuracy: 0.8539 - val_loss: 0.9638 - val_accuracy: 0.6616 - 67s/epoch - 2s/step\n",
      "Epoch 73/150\n",
      "33/33 - 66s - loss: 0.4533 - accuracy: 0.8423 - val_loss: 1.0181 - val_accuracy: 0.6464 - 66s/epoch - 2s/step\n",
      "Epoch 74/150\n",
      "33/33 - 66s - loss: 0.4055 - accuracy: 0.8578 - val_loss: 0.9834 - val_accuracy: 0.6616 - 66s/epoch - 2s/step\n",
      "Epoch 75/150\n",
      "33/33 - 65s - loss: 0.3842 - accuracy: 0.8656 - val_loss: 0.9775 - val_accuracy: 0.6882 - 65s/epoch - 2s/step\n",
      "Epoch 76/150\n",
      "33/33 - 66s - loss: 0.3821 - accuracy: 0.8783 - val_loss: 1.0601 - val_accuracy: 0.6578 - 66s/epoch - 2s/step\n",
      "Epoch 77/150\n",
      "33/33 - 64s - loss: 0.3934 - accuracy: 0.8637 - val_loss: 1.0127 - val_accuracy: 0.6768 - 64s/epoch - 2s/step\n",
      "Epoch 78/150\n",
      "33/33 - 66s - loss: 0.4156 - accuracy: 0.8578 - val_loss: 0.9796 - val_accuracy: 0.6882 - 66s/epoch - 2s/step\n",
      "Epoch 79/150\n",
      "33/33 - 64s - loss: 0.3609 - accuracy: 0.8763 - val_loss: 1.0254 - val_accuracy: 0.6692 - 64s/epoch - 2s/step\n",
      "Epoch 80/150\n",
      "33/33 - 65s - loss: 0.3934 - accuracy: 0.8530 - val_loss: 0.9957 - val_accuracy: 0.6730 - 65s/epoch - 2s/step\n",
      "Epoch 81/150\n",
      "33/33 - 65s - loss: 0.4125 - accuracy: 0.8520 - val_loss: 0.9484 - val_accuracy: 0.6768 - 65s/epoch - 2s/step\n",
      "Epoch 82/150\n",
      "33/33 - 65s - loss: 0.4042 - accuracy: 0.8685 - val_loss: 0.9824 - val_accuracy: 0.6882 - 65s/epoch - 2s/step\n",
      "Epoch 83/150\n",
      "33/33 - 65s - loss: 0.3515 - accuracy: 0.8695 - val_loss: 0.9290 - val_accuracy: 0.7034 - 65s/epoch - 2s/step\n",
      "Epoch 84/150\n",
      "33/33 - 66s - loss: 0.3538 - accuracy: 0.8841 - val_loss: 0.9880 - val_accuracy: 0.6882 - 66s/epoch - 2s/step\n",
      "Epoch 85/150\n",
      "33/33 - 65s - loss: 0.3770 - accuracy: 0.8685 - val_loss: 0.9382 - val_accuracy: 0.7148 - 65s/epoch - 2s/step\n",
      "Epoch 86/150\n",
      "33/33 - 64s - loss: 0.3731 - accuracy: 0.8676 - val_loss: 0.9434 - val_accuracy: 0.7262 - 64s/epoch - 2s/step\n",
      "Epoch 87/150\n",
      "33/33 - 65s - loss: 0.3682 - accuracy: 0.8773 - val_loss: 0.9773 - val_accuracy: 0.7224 - 65s/epoch - 2s/step\n",
      "Epoch 88/150\n",
      "33/33 - 65s - loss: 0.3539 - accuracy: 0.8793 - val_loss: 0.9869 - val_accuracy: 0.7034 - 65s/epoch - 2s/step\n",
      "Epoch 89/150\n",
      "33/33 - 64s - loss: 0.3415 - accuracy: 0.8793 - val_loss: 0.9361 - val_accuracy: 0.7034 - 64s/epoch - 2s/step\n",
      "Epoch 90/150\n",
      "33/33 - 65s - loss: 0.3321 - accuracy: 0.8822 - val_loss: 0.9558 - val_accuracy: 0.6768 - 65s/epoch - 2s/step\n",
      "Epoch 91/150\n",
      "33/33 - 65s - loss: 0.3385 - accuracy: 0.8744 - val_loss: 0.9208 - val_accuracy: 0.6996 - 65s/epoch - 2s/step\n",
      "Epoch 92/150\n",
      "33/33 - 65s - loss: 0.3506 - accuracy: 0.8705 - val_loss: 0.9813 - val_accuracy: 0.6920 - 65s/epoch - 2s/step\n",
      "Epoch 93/150\n",
      "33/33 - 65s - loss: 0.3493 - accuracy: 0.8754 - val_loss: 0.9154 - val_accuracy: 0.7110 - 65s/epoch - 2s/step\n",
      "Epoch 94/150\n",
      "33/33 - 65s - loss: 0.3477 - accuracy: 0.8637 - val_loss: 0.9179 - val_accuracy: 0.7262 - 65s/epoch - 2s/step\n",
      "Epoch 95/150\n",
      "33/33 - 64s - loss: 0.3220 - accuracy: 0.8939 - val_loss: 0.9812 - val_accuracy: 0.7224 - 64s/epoch - 2s/step\n",
      "Epoch 96/150\n",
      "33/33 - 65s - loss: 0.3280 - accuracy: 0.8880 - val_loss: 0.9232 - val_accuracy: 0.6844 - 65s/epoch - 2s/step\n",
      "Epoch 97/150\n",
      "33/33 - 66s - loss: 0.3314 - accuracy: 0.8861 - val_loss: 0.9230 - val_accuracy: 0.6958 - 66s/epoch - 2s/step\n",
      "Epoch 98/150\n",
      "33/33 - 67s - loss: 0.3108 - accuracy: 0.8851 - val_loss: 0.9668 - val_accuracy: 0.7034 - 67s/epoch - 2s/step\n",
      "Epoch 99/150\n",
      "33/33 - 66s - loss: 0.3097 - accuracy: 0.8939 - val_loss: 0.9604 - val_accuracy: 0.7110 - 66s/epoch - 2s/step\n",
      "Epoch 100/150\n",
      "33/33 - 66s - loss: 0.3238 - accuracy: 0.8900 - val_loss: 1.0117 - val_accuracy: 0.6958 - 66s/epoch - 2s/step\n",
      "Epoch 101/150\n",
      "33/33 - 65s - loss: 0.3214 - accuracy: 0.8978 - val_loss: 1.0648 - val_accuracy: 0.6730 - 65s/epoch - 2s/step\n",
      "Epoch 102/150\n",
      "33/33 - 67s - loss: 0.2906 - accuracy: 0.8929 - val_loss: 1.0851 - val_accuracy: 0.6920 - 67s/epoch - 2s/step\n",
      "Epoch 103/150\n",
      "33/33 - 65s - loss: 0.3251 - accuracy: 0.8870 - val_loss: 0.9742 - val_accuracy: 0.7148 - 65s/epoch - 2s/step\n",
      "Epoch 104/150\n",
      "33/33 - 67s - loss: 0.3248 - accuracy: 0.8802 - val_loss: 1.0190 - val_accuracy: 0.6806 - 67s/epoch - 2s/step\n",
      "Epoch 105/150\n",
      "33/33 - 64s - loss: 0.2840 - accuracy: 0.8968 - val_loss: 1.0347 - val_accuracy: 0.6768 - 64s/epoch - 2s/step\n",
      "Epoch 106/150\n",
      "33/33 - 65s - loss: 0.3220 - accuracy: 0.8870 - val_loss: 1.0098 - val_accuracy: 0.6996 - 65s/epoch - 2s/step\n",
      "Epoch 107/150\n",
      "33/33 - 64s - loss: 0.3084 - accuracy: 0.8997 - val_loss: 1.0203 - val_accuracy: 0.6730 - 64s/epoch - 2s/step\n",
      "Epoch 108/150\n",
      "33/33 - 64s - loss: 0.3033 - accuracy: 0.8870 - val_loss: 0.9997 - val_accuracy: 0.6654 - 64s/epoch - 2s/step\n",
      "Epoch 109/150\n",
      "33/33 - 65s - loss: 0.2966 - accuracy: 0.9046 - val_loss: 1.0084 - val_accuracy: 0.6958 - 65s/epoch - 2s/step\n",
      "Epoch 110/150\n",
      "33/33 - 67s - loss: 0.2843 - accuracy: 0.8997 - val_loss: 1.0608 - val_accuracy: 0.6844 - 67s/epoch - 2s/step\n",
      "Epoch 111/150\n",
      "33/33 - 65s - loss: 0.2942 - accuracy: 0.9065 - val_loss: 1.0373 - val_accuracy: 0.6882 - 65s/epoch - 2s/step\n",
      "Epoch 112/150\n",
      "33/33 - 65s - loss: 0.3190 - accuracy: 0.8861 - val_loss: 1.1053 - val_accuracy: 0.6768 - 65s/epoch - 2s/step\n",
      "Epoch 113/150\n",
      "33/33 - 66s - loss: 0.2723 - accuracy: 0.8997 - val_loss: 1.0884 - val_accuracy: 0.6806 - 66s/epoch - 2s/step\n",
      "Epoch 114/150\n",
      "33/33 - 66s - loss: 0.3007 - accuracy: 0.8968 - val_loss: 1.0920 - val_accuracy: 0.6844 - 66s/epoch - 2s/step\n",
      "Epoch 115/150\n",
      "33/33 - 66s - loss: 0.2701 - accuracy: 0.9153 - val_loss: 1.1078 - val_accuracy: 0.6920 - 66s/epoch - 2s/step\n",
      "Epoch 116/150\n",
      "33/33 - 68s - loss: 0.2550 - accuracy: 0.9192 - val_loss: 1.0668 - val_accuracy: 0.6844 - 68s/epoch - 2s/step\n",
      "Epoch 117/150\n",
      "33/33 - 67s - loss: 0.2882 - accuracy: 0.9017 - val_loss: 1.0314 - val_accuracy: 0.6920 - 67s/epoch - 2s/step\n",
      "Epoch 118/150\n",
      "33/33 - 67s - loss: 0.2941 - accuracy: 0.9017 - val_loss: 1.0369 - val_accuracy: 0.6844 - 67s/epoch - 2s/step\n",
      "Epoch 119/150\n",
      "33/33 - 68s - loss: 0.2980 - accuracy: 0.9017 - val_loss: 1.0482 - val_accuracy: 0.6730 - 68s/epoch - 2s/step\n",
      "Epoch 120/150\n",
      "33/33 - 67s - loss: 0.2420 - accuracy: 0.9192 - val_loss: 1.0646 - val_accuracy: 0.6844 - 67s/epoch - 2s/step\n",
      "Epoch 121/150\n",
      "33/33 - 66s - loss: 0.2931 - accuracy: 0.8948 - val_loss: 1.0163 - val_accuracy: 0.6958 - 66s/epoch - 2s/step\n",
      "Epoch 122/150\n",
      "33/33 - 65s - loss: 0.2495 - accuracy: 0.9182 - val_loss: 1.0198 - val_accuracy: 0.6844 - 65s/epoch - 2s/step\n",
      "Epoch 123/150\n",
      "33/33 - 66s - loss: 0.2715 - accuracy: 0.8987 - val_loss: 1.0456 - val_accuracy: 0.6958 - 66s/epoch - 2s/step\n",
      "Epoch 124/150\n",
      "33/33 - 66s - loss: 0.2569 - accuracy: 0.9172 - val_loss: 1.1174 - val_accuracy: 0.6844 - 66s/epoch - 2s/step\n",
      "Epoch 125/150\n",
      "33/33 - 65s - loss: 0.2497 - accuracy: 0.9104 - val_loss: 1.0495 - val_accuracy: 0.7072 - 65s/epoch - 2s/step\n",
      "Epoch 126/150\n",
      "33/33 - 66s - loss: 0.2845 - accuracy: 0.9056 - val_loss: 1.0720 - val_accuracy: 0.7034 - 66s/epoch - 2s/step\n",
      "Epoch 127/150\n",
      "33/33 - 66s - loss: 0.2632 - accuracy: 0.9143 - val_loss: 1.0895 - val_accuracy: 0.7110 - 66s/epoch - 2s/step\n",
      "Epoch 128/150\n",
      "33/33 - 66s - loss: 0.2712 - accuracy: 0.9026 - val_loss: 0.9912 - val_accuracy: 0.6920 - 66s/epoch - 2s/step\n",
      "Epoch 129/150\n",
      "33/33 - 65s - loss: 0.2372 - accuracy: 0.9211 - val_loss: 0.9947 - val_accuracy: 0.6996 - 65s/epoch - 2s/step\n",
      "Epoch 130/150\n",
      "33/33 - 66s - loss: 0.2828 - accuracy: 0.9172 - val_loss: 1.0127 - val_accuracy: 0.7072 - 66s/epoch - 2s/step\n",
      "Epoch 131/150\n",
      "33/33 - 65s - loss: 0.2267 - accuracy: 0.9289 - val_loss: 0.9790 - val_accuracy: 0.7034 - 65s/epoch - 2s/step\n",
      "Epoch 132/150\n",
      "33/33 - 65s - loss: 0.2394 - accuracy: 0.9211 - val_loss: 1.1154 - val_accuracy: 0.6882 - 65s/epoch - 2s/step\n",
      "Epoch 133/150\n",
      "33/33 - 65s - loss: 0.2377 - accuracy: 0.9202 - val_loss: 0.9881 - val_accuracy: 0.6958 - 65s/epoch - 2s/step\n",
      "Epoch 134/150\n",
      "33/33 - 65s - loss: 0.2288 - accuracy: 0.9202 - val_loss: 1.0871 - val_accuracy: 0.7072 - 65s/epoch - 2s/step\n",
      "Epoch 135/150\n",
      "33/33 - 65s - loss: 0.2218 - accuracy: 0.9270 - val_loss: 1.0911 - val_accuracy: 0.6958 - 65s/epoch - 2s/step\n",
      "Epoch 136/150\n",
      "33/33 - 66s - loss: 0.2504 - accuracy: 0.9124 - val_loss: 1.1095 - val_accuracy: 0.6996 - 66s/epoch - 2s/step\n",
      "Epoch 137/150\n",
      "33/33 - 65s - loss: 0.2544 - accuracy: 0.9124 - val_loss: 1.0782 - val_accuracy: 0.6920 - 65s/epoch - 2s/step\n",
      "Epoch 138/150\n",
      "33/33 - 66s - loss: 0.2322 - accuracy: 0.9309 - val_loss: 1.0731 - val_accuracy: 0.7072 - 66s/epoch - 2s/step\n",
      "Epoch 139/150\n",
      "33/33 - 65s - loss: 0.2196 - accuracy: 0.9338 - val_loss: 1.0610 - val_accuracy: 0.6920 - 65s/epoch - 2s/step\n",
      "Epoch 140/150\n",
      "33/33 - 66s - loss: 0.2415 - accuracy: 0.9172 - val_loss: 1.0806 - val_accuracy: 0.7072 - 66s/epoch - 2s/step\n",
      "Epoch 141/150\n",
      "33/33 - 65s - loss: 0.2197 - accuracy: 0.9211 - val_loss: 1.1040 - val_accuracy: 0.7034 - 65s/epoch - 2s/step\n",
      "Epoch 142/150\n",
      "33/33 - 65s - loss: 0.2647 - accuracy: 0.9094 - val_loss: 1.1191 - val_accuracy: 0.6882 - 65s/epoch - 2s/step\n",
      "Epoch 143/150\n",
      "33/33 - 66s - loss: 0.2283 - accuracy: 0.9250 - val_loss: 1.0186 - val_accuracy: 0.6996 - 66s/epoch - 2s/step\n",
      "Epoch 144/150\n",
      "33/33 - 65s - loss: 0.2318 - accuracy: 0.9338 - val_loss: 1.0540 - val_accuracy: 0.7034 - 65s/epoch - 2s/step\n",
      "Epoch 145/150\n",
      "33/33 - 65s - loss: 0.2155 - accuracy: 0.9260 - val_loss: 1.1115 - val_accuracy: 0.6958 - 65s/epoch - 2s/step\n",
      "Epoch 146/150\n",
      "33/33 - 66s - loss: 0.2448 - accuracy: 0.9075 - val_loss: 1.0802 - val_accuracy: 0.6958 - 66s/epoch - 2s/step\n",
      "Epoch 147/150\n",
      "33/33 - 65s - loss: 0.2345 - accuracy: 0.9221 - val_loss: 1.1255 - val_accuracy: 0.6920 - 65s/epoch - 2s/step\n",
      "Epoch 148/150\n",
      "33/33 - 65s - loss: 0.2241 - accuracy: 0.9270 - val_loss: 1.1265 - val_accuracy: 0.6844 - 65s/epoch - 2s/step\n",
      "Epoch 149/150\n",
      "33/33 - 65s - loss: 0.2024 - accuracy: 0.9270 - val_loss: 1.1278 - val_accuracy: 0.6806 - 65s/epoch - 2s/step\n",
      "Epoch 150/150\n",
      "33/33 - 66s - loss: 0.2145 - accuracy: 0.9289 - val_loss: 1.1015 - val_accuracy: 0.6844 - 66s/epoch - 2s/step\n"
     ]
    }
   ],
   "source": [
    "history = model.fit(\n",
    "      train_generator,\n",
    "      steps_per_epoch=len(train_generator),  \n",
    "      epochs=150,\n",
    "      #callbacks = [lr_scheduler],\n",
    "      verbose=2,\n",
    "      validation_data = validation_generator,\n",
    "      validation_steps=len(validation_generator))"
   ]
  },
  {
   "cell_type": "code",
   "execution_count": 44,
   "id": "71b6c3ba-ddbc-46c8-925a-72575ab3d497",
   "metadata": {},
   "outputs": [],
   "source": [
    "import pandas as pd"
   ]
  },
  {
   "cell_type": "code",
   "execution_count": 45,
   "id": "5c43cfaa-e26c-4dbf-9243-0fb0a6fcc37e",
   "metadata": {},
   "outputs": [
    {
     "data": {
      "image/png": "[encoded data removed]",
      "text/plain": [
       "<Figure size 1000x700 with 1 Axes>"
      ]
     },
     "metadata": {},
     "output_type": "display_data"
    }
   ],
   "source": [
    "pd.DataFrame(history.history).plot(figsize = (10, 7), xlabel = \"epochs\");"
   ]
  },
  {
   "cell_type": "code",
   "execution_count": 46,
   "id": "cfcceb18-0ae5-472d-8753-4ac9c469663e",
   "metadata": {},
   "outputs": [],
   "source": [
    "# #plot the learning rate versus the loss\n",
    "# lrs = 1e-4 * (10 ** (tf.range(300)/20))\n",
    "# plt.figure(figsize = (10,7))\n",
    "# plt.semilogx(lrs, history.history[\"loss\"])\n",
    "# plt.xlabel(\"learning rate\")\n",
    "# plt.ylabel(\"loss\")\n",
    "# plt.title(\"learning rate vs loss\")"
   ]
  },
  {
   "cell_type": "code",
   "execution_count": 47,
   "id": "0d4a147c-20d5-49a6-8c65-3a746f4dea5c",
   "metadata": {},
   "outputs": [],
   "source": [
    "%matplotlib inline\n",
    "\n",
    "import matplotlib.image as mpimg\n",
    "import matplotlib.pyplot as plt"
   ]
  },
  {
   "cell_type": "code",
   "execution_count": 48,
   "id": "61106d45-50d9-4d21-96a3-8a4de60ddfb5",
   "metadata": {},
   "outputs": [],
   "source": [
    "# evaluating accuracy and loss for the model\n"
   ]
  },
  {
   "cell_type": "code",
   "execution_count": 49,
   "id": "6ffe7d33-0b73-4c00-b53c-b5ba658b8df4",
   "metadata": {},
   "outputs": [
    {
     "data": {
      "text/plain": [
       "<Figure size 640x480 with 0 Axes>"
      ]
     },
     "execution_count": 49,
     "metadata": {},
     "output_type": "execute_result"
    },
    {
     "data": {
      "image/png": "[encoded data removed]",
      "text/plain": [
       "<Figure size 640x480 with 1 Axes>"
      ]
     },
     "metadata": {},
     "output_type": "display_data"
    },
    {
     "data": {
      "image/png": "[encoded data removed]",
      "text/plain": [
       "<Figure size 640x480 with 1 Axes>"
      ]
     },
     "metadata": {},
     "output_type": "display_data"
    },
    {
     "data": {
      "text/plain": [
       "<Figure size 640x480 with 0 Axes>"
      ]
     },
     "metadata": {},
     "output_type": "display_data"
    }
   ],
   "source": [
    "#-----------------------------------------------------------\n",
    "# Retrieve a list of list results on training and test data\n",
    "# sets for each training epoch\n",
    "#-----------------------------------------------------------\n",
    "acc      = history.history[     'accuracy' ]\n",
    "val_acc  = history.history[ 'val_accuracy' ]\n",
    "loss     = history.history[    'loss' ]\n",
    "val_loss = history.history['val_loss' ]\n",
    "\n",
    "epochs   = range(len(acc)) # Get number of epochs\n",
    "\n",
    "#------------------------------------------------\n",
    "# Plot training and validation accuracy per epoch\n",
    "#------------------------------------------------\n",
    "plt.plot(epochs, acc, 'r', label='Training accuracy')\n",
    "plt.plot(epochs, val_acc, 'b', label='Validation accuracy')\n",
    "plt.title ('Training and validation accuracy')\n",
    "plt.legend(loc=0)\n",
    "plt.figure()\n",
    "\n",
    "#------------------------------------------------\n",
    "# Plot training and validation loss per epoch\n",
    "#------------------------------------------------\n",
    "plt.plot  ( epochs,     loss , 'r', label='Training loss')\n",
    "plt.plot  ( epochs, val_loss , 'b', label='Validation loss')\n",
    "plt.title ('Training and validation loss'   )\n",
    "plt.legend(loc=0)\n",
    "plt.figure()\n"
   ]
  },
  {
   "cell_type": "markdown",
   "id": "dd5d560d-8947-458f-a521-4865884a4d1b",
   "metadata": {},
   "source": [
    "# menyimpan model TAPI BELUM YANG VERSI QUANTIZED "
   ]
  },
  {
   "cell_type": "code",
   "execution_count": 35,
   "id": "1ba0b934-5fc5-4956-b5cf-e956b56fd50c",
   "metadata": {},
   "outputs": [],
   "source": [
    "\n",
    "from keras.models import load_model\n",
    "\n",
    "model.save('/home/jupyter/content/kerasFormat_model/model_vggFace_11Juni.h5')"
   ]
  },
  {
   "cell_type": "code",
   "execution_count": 36,
   "id": "f261c8d0-16d6-4cda-b8a4-e74f2332bf08",
   "metadata": {},
   "outputs": [
    {
     "name": "stderr",
     "output_type": "stream",
     "text": [
      "WARNING:absl:Found untraced functions such as _jit_compiled_convolution_op, _jit_compiled_convolution_op, _jit_compiled_convolution_op, _jit_compiled_convolution_op, _jit_compiled_convolution_op while saving (showing 5 of 16). These functions will not be directly callable after loading.\n"
     ]
    },
    {
     "name": "stdout",
     "output_type": "stream",
     "text": [
      "INFO:tensorflow:Assets written to: /home/jupyter/content/saved Model5/assets\n"
     ]
    },
    {
     "name": "stderr",
     "output_type": "stream",
     "text": [
      "INFO:tensorflow:Assets written to: /home/jupyter/content/saved Model5/assets\n"
     ]
    }
   ],
   "source": [
    "\n",
    "from keras.models import load_model\n",
    "\n",
    "model.save('/home/jupyter/content/saved Model')"
   ]
  },
  {
   "cell_type": "markdown",
   "id": "d3348b7e-1afc-43ba-b03d-7bb1313f1e6f",
   "metadata": {},
   "source": [
    "# Convert to Tensorflow LITE"
   ]
  },
  {
   "cell_type": "code",
   "execution_count": null,
   "id": "88ff9e5e-e9d5-4abd-8cee-cea4c70f75b7",
   "metadata": {},
   "outputs": [],
   "source": [
    "try:\n",
    "    %tensorflow_version 2.x\n",
    "except:\n",
    "    pass"
   ]
  },
  {
   "cell_type": "code",
   "execution_count": null,
   "id": "0b9236cc-49fc-4594-b613-fac425da2774",
   "metadata": {},
   "outputs": [],
   "source": [
    "import pathlib\n",
    "\n",
    "print('\\u2022 Using TensorFlow Version:', tf.__version__)"
   ]
  },
  {
   "cell_type": "code",
   "execution_count": null,
   "id": "30108970-518c-4f1e-97ba-841a5f72ca26",
   "metadata": {},
   "outputs": [],
   "source": []
  },
  {
   "cell_type": "code",
   "execution_count": null,
   "id": "69c8f63f-c1f8-475e-8288-a16f0c4ef63b",
   "metadata": {},
   "outputs": [],
   "source": [
    "#!mkdir saved_TFLITE_model"
   ]
  },
  {
   "cell_type": "markdown",
   "id": "4373b651-7b84-4c3b-87be-a79c68589c64",
   "metadata": {},
   "source": [
    "generate SavedModel"
   ]
  },
  {
   "cell_type": "code",
   "execution_count": null,
   "id": "655e25c2-7c74-4488-ac42-be95ececfcb4",
   "metadata": {},
   "outputs": [],
   "source": [
    "export_dir = \"home/jupyter/content/saved_TFLITE_model\"\n",
    "tf.saved_model.save(model, export_dir)"
   ]
  },
  {
   "cell_type": "code",
   "execution_count": null,
   "id": "ce20a688-f59e-4a15-8730-31003f86dad3",
   "metadata": {},
   "outputs": [],
   "source": [
    "model = tf.saved_model.load(export_dir)"
   ]
  },
  {
   "cell_type": "markdown",
   "id": "3c012001-21dc-4052-9c69-6cef5e99905a",
   "metadata": {},
   "source": [
    "Convert the SavedModel to JSON"
   ]
  },
  {
   "cell_type": "code",
   "execution_count": null,
   "id": "268baeb6-5c26-4b14-91c7-43ad8424bfcc",
   "metadata": {},
   "outputs": [],
   "source": [
    "#!pip install --user tensorflowjs"
   ]
  },
  {
   "cell_type": "code",
   "execution_count": null,
   "id": "d8e37300-f1e7-48c8-ae8b-271df0150c1e",
   "metadata": {},
   "outputs": [],
   "source": [
    "# import tensorflowjs\n",
    "# import json"
   ]
  },
  {
   "cell_type": "code",
   "execution_count": null,
   "id": "554fb0eb-4431-4132-878c-a77deb5f18e2",
   "metadata": {},
   "outputs": [],
   "source": [
    "\n",
    "\n",
    "# # Load the SavedModel\n",
    "# model = tf.saved_model.load('home/jupyter/content/saved Model')\n"
   ]
  },
  {
   "cell_type": "code",
   "execution_count": null,
   "id": "99710e1e-2f30-4c78-8a58-b528368b6bc4",
   "metadata": {},
   "outputs": [],
   "source": [
    "import tensorflow as tf\n",
    "import json\n",
    "\n",
    "# Load the SavedModel\n",
    "model = tf.saved_model.load(export_dir)\n",
    "\n",
    "# Convert tensor shapes to lists\n",
    "def convert_shape(shape):\n",
    "    return [dim for dim in shape.as_list()]\n",
    "\n",
    "# Create a dictionary to store the JSON model\n",
    "json_model = {}\n",
    "\n",
    "# Get information about inputs\n",
    "input_signatures = model.signatures['serving_default'].structured_input_signature[1]\n",
    "json_model['inputs'] = []\n",
    "for tensor_name, tensor_info in input_signatures.items():\n",
    "    input_info = {\n",
    "        'name': tensor_name,\n",
    "        'dtype': str(tensor_info.dtype),\n",
    "        'shape': convert_shape(tensor_info.shape),\n",
    "    }\n",
    "    json_model['inputs'].append(input_info)\n",
    "\n",
    "# Get information about outputs\n",
    "output_signatures = model.signatures['serving_default'].structured_outputs\n",
    "json_model['outputs'] = []\n",
    "for tensor_name, tensor_info in output_signatures.items():\n",
    "    output_info = {\n",
    "        'name': tensor_name,\n",
    "        'dtype': str(tensor_info.dtype),\n",
    "        'shape': convert_shape(tensor_info.shape),\n",
    "    }\n",
    "    json_model['outputs'].append(output_info)\n",
    "\n",
    "# Save the JSON model to a file\n",
    "with open('model.json', 'w') as f:\n",
    "    json.dump(json_model, f)\n"
   ]
  },
  {
   "cell_type": "markdown",
   "id": "288502a5-bf90-4c59-9a59-93800954360b",
   "metadata": {},
   "source": [
    "Convert the SavedModel to TFLite"
   ]
  },
  {
   "cell_type": "code",
   "execution_count": null,
   "id": "c37b2b93-c569-46d8-8489-8dc60af2abb4",
   "metadata": {},
   "outputs": [],
   "source": [
    "# # Convert the model.\n",
    "# converter = tf.lite.TFLiteConverter.from_saved_model(export_dir)\n",
    "\n",
    "# # Set the optimization flags for quantization\n",
    "# converter.optimizations = [tf.lite.Optimize.DEFAULT] # INTINYA DISINI UNTUK MELAKUKAN QUANTIZED\n",
    "\n",
    "# # Specify the input and output tensors (if necessary)\n",
    "# # converter.target_spec.supported_ops = [tf.lite.OpsSet.TFLITE_BUILTINS_INT8]\n",
    "# # converter.target_spec.supported_types = [tf.int8]\n",
    "\n",
    "# tflite_model = converter.convert()"
   ]
  },
  {
   "cell_type": "code",
   "execution_count": null,
   "id": "81ebf261-2e1c-44b4-9ee1-81e278476d43",
   "metadata": {},
   "outputs": [],
   "source": [
    "# tflite_model_file = pathlib.Path('home/jupyter/content/')\n",
    "# tflite_model_file.write_bytes(tflite_model)"
   ]
  },
  {
   "cell_type": "markdown",
   "id": "46a2c46a-bdf4-42a1-99ea-5c9fa629e8ce",
   "metadata": {},
   "source": [
    "# labels"
   ]
  },
  {
   "cell_type": "code",
   "execution_count": null,
   "id": "8bbdf43f-d089-4bbd-a6b8-286bc7e5c207",
   "metadata": {},
   "outputs": [],
   "source": [
    "class_names = ['combination', 'dry', 'nonface' ,'normal', 'oily', 'sensitive']\n"
   ]
  },
  {
   "cell_type": "markdown",
   "id": "c54c4878-590b-4ba8-a360-8ab322c78535",
   "metadata": {},
   "source": [
    "create a txt file to save the 5 labels"
   ]
  },
  {
   "cell_type": "code",
   "execution_count": null,
   "id": "21f9ed5f-eca5-4d5d-9758-7b7ad7f43cd7",
   "metadata": {},
   "outputs": [],
   "source": [
    "with open('faces_labels.txt', 'w') as f:\n",
    "    f.write('\\n'.join(class_names))"
   ]
  },
  {
   "cell_type": "code",
   "execution_count": null,
   "id": "c5b1f673-d372-4337-acba-d3ff86e96ad5",
   "metadata": {},
   "outputs": [],
   "source": [
    "import shutil\n",
    "shutil.copy(\"/content/faces_labels.txt\",\"/content/drive/MyDrive/saved model\")"
   ]
  },
  {
   "cell_type": "code",
   "execution_count": null,
   "id": "3bb1ec18-a5b4-48fe-a91e-692c83488112",
   "metadata": {},
   "outputs": [],
   "source": [
    "from google.colab import drive\n",
    "drive.mount('/content/drive')"
   ]
  },
  {
   "cell_type": "code",
   "execution_count": null,
   "id": "9c9fa4af-afc2-4764-8ec8-6266f5be9117",
   "metadata": {},
   "outputs": [],
   "source": [
    "import os\n",
    "file_path = \"/home/jupyter/content/kerasFormat_model/model_vggFace_10Juni.h5\"  # Replace with the correct file path\n",
    "file_size = os.path.getsize(file_path)\n",
    "print(file_size)\n"
   ]
  },
  {
   "cell_type": "code",
   "execution_count": null,
   "id": "13ff3d23-ea45-4637-b4d9-f54584b6aa3e",
   "metadata": {},
   "outputs": [],
   "source": [
    "!wget -O /home/jupyter/content/kerasFormat_model/model_vggFace_10Juni.h5 https://58948e97954de7e0-dot-asia-southeast2.notebooks.googleusercontent.com/files/content/kerasFormat_model/model_vggFace_10Juni.h5?_xsrf=2%7C1f091a48%7C9c97e6fd85cef3a278dc9a8e0d4188fa%7C1686143743\n"
   ]
  },
  {
   "cell_type": "markdown",
   "id": "7d26f295-0eb8-4826-9a0a-d205d1a051dc",
   "metadata": {},
   "source": [
    "# Perform inference"
   ]
  },
  {
   "cell_type": "code",
   "execution_count": 50,
   "id": "f7b58764-b780-4e15-a303-0d2e254267f6",
   "metadata": {},
   "outputs": [
    {
     "name": "stdout",
     "output_type": "stream",
     "text": [
      "1/1 [==============================] - 1s 1s/step\n"
     ]
    }
   ],
   "source": [
    "# inference dengan model machine learning format keras .h5\n",
    "\n",
    "def preprocess_image(image):\n",
    "    # Normalize pixel values to the range [0, 1]\n",
    "    image = image / 255.0\n",
    "\n",
    "    # Perform any other preprocessing steps such as resizing, cropping, etc.\n",
    "    # ...\n",
    "\n",
    "    return image\n",
    "\n",
    "import tensorflow as tf\n",
    "from tensorflow.keras.models import load_model\n",
    "\n",
    "# Load the model\n",
    "model = load_model('/home/jupyter/content/kerasFormat_model/model_vggFace_11Juni.h5')\n",
    "\n",
    "# Load and preprocess the image\n",
    "image = tf.keras.preprocessing.image.load_img('/home/jupyter/content/testFace/oily/oily_testIMG.jpg', target_size=(224,224))\n",
    "image = tf.keras.preprocessing.image.img_to_array(image)\n",
    "image = preprocess_image(image)  # Preprocess the image as per your model's requirements\n",
    "\n",
    "# Add a batch dimension to the image\n",
    "image = tf.expand_dims(image, axis=0)\n",
    "\n",
    "# Perform inference\n",
    "predictions = model.predict(image)\n",
    "\n",
    "# Process the predictions as per your requirements\n"
   ]
  },
  {
   "cell_type": "code",
   "execution_count": 51,
   "id": "c5a2f721-1a01-4941-a491-3c5066a06f8f",
   "metadata": {},
   "outputs": [
    {
     "name": "stdout",
     "output_type": "stream",
     "text": [
      "Predicted classes: tf.Tensor([0], shape=(1,), dtype=int64)\n"
     ]
    }
   ],
   "source": [
    "# Perform inference\n",
    "predictions = model(image)\n",
    "\n",
    "# Access the predicted class or values\n",
    "predicted_classes = tf.argmax(predictions, axis=1)\n",
    "print(\"Predicted classes:\", predicted_classes)\n",
    "\n",
    "# Or, access specific elements of the predictions\n",
    "# prediction_value = predictions[0][0]  # Example for a specific element\n",
    "\n",
    "# Process the predictions further as per your requirements\n"
   ]
  },
  {
   "cell_type": "code",
   "execution_count": 52,
   "id": "a3f918a1-a9ac-4cb5-b6c9-ab54ba7d4e65",
   "metadata": {},
   "outputs": [
    {
     "name": "stdout",
     "output_type": "stream",
     "text": [
      "Predicted label: Oily\n"
     ]
    }
   ],
   "source": [
    "class_labels = {0: 'Oily', 1: 'Normal',2: 'Sensitive' , 3: 'Dry', 4:'nonface', 5:\"Combination\" }  # Example mapping of class indices to labels\n",
    "\n",
    "predicted_classes = tf.argmax(predictions, axis=1)\n",
    "\n",
    "for predicted_class in predicted_classes:\n",
    "    predicted_label = class_labels[predicted_class.numpy()]\n",
    "    print(\"Predicted label:\", predicted_label)"
   ]
  },
  {
   "cell_type": "code",
   "execution_count": null,
   "id": "c1f7bc7b-dc18-4732-971e-86f37006db29",
   "metadata": {},
   "outputs": [],
   "source": []
  }
 ],
 "metadata": {
  "environment": {
   "kernel": "python3",
   "name": "tf2-gpu.2-11.m108",
   "type": "gcloud",
   "uri": "gcr.io/deeplearning-platform-release/tf2-gpu.2-11:m108"
  },
  "kernelspec": {
   "display_name": "Python 3 (ipykernel)",
   "language": "python",
   "name": "python3"
  },
  "language_info": {
   "codemirror_mode": {
    "name": "ipython",
    "version": 3
   },
   "file_extension": ".py",
   "mimetype": "text/x-python",
   "name": "python",
   "nbconvert_exporter": "python",
   "pygments_lexer": "ipython3",
   "version": "3.10.10"
  }
 },
 "nbformat": 4,
 "nbformat_minor": 5
}
