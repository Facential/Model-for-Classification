{
 "cells": [
  {
   "cell_type": "code",
   "execution_count": 1,
   "id": "d7604f6a-28a4-4b96-afbd-b339766833c1",
   "metadata": {},
   "outputs": [
    {
     "name": "stdout",
     "output_type": "stream",
     "text": [
      "Bissmillahirrahmanirrahim top 50 product capstone\n"
     ]
    }
   ],
   "source": [
    "print(\"Bissmillahirrahmanirrahim top 50 product capstone\")\n"
   ]
  },
  {
   "cell_type": "code",
   "execution_count": 2,
   "id": "e015ee4a-571c-4914-a5b8-3ce90937a690",
   "metadata": {},
   "outputs": [
    {
     "name": "stdout",
     "output_type": "stream",
     "text": [
      "Get:1 file:/var/cuda-repo-debian10-11-4-local  InRelease\n",
      "Ign:1 file:/var/cuda-repo-debian10-11-4-local  InRelease\n",
      "Get:2 file:/var/cuda-repo-debian10-11-4-local  Release [564 B]\n",
      "Get:2 file:/var/cuda-repo-debian10-11-4-local  Release [564 B]                 \n",
      "Get:3 file:/var/cuda-repo-debian10-11-4-local  Release.gpg [836 B]             \n",
      "Get:3 file:/var/cuda-repo-debian10-11-4-local  Release.gpg [836 B]             \n",
      "Hit:4 http://deb.debian.org/debian bullseye InRelease                          \n",
      "Hit:5 http://packages.cloud.google.com/apt gcsfuse-bullseye InRelease          \n",
      "Hit:6 http://security.debian.org/debian-security bullseye-security InRelease   \n",
      "Hit:7 http://deb.debian.org/debian bullseye-updates InRelease                  \n",
      "Hit:8 https://packages.cloud.google.com/apt google-fast-socket InRelease       \n",
      "Hit:9 http://packages.cloud.google.com/apt google-compute-engine-bullseye-stable InRelease\n",
      "Hit:10 http://deb.debian.org/debian bullseye-backports InRelease               \n",
      "Hit:11 https://download.docker.com/linux/debian bullseye InRelease             \n",
      "Hit:12 http://packages.cloud.google.com/apt cloud-sdk-bullseye InRelease       \n",
      "Hit:13 https://nvidia.github.io/libnvidia-container/stable/debian10/amd64  InRelease\n",
      "Hit:14 https://nvidia.github.io/nvidia-container-runtime/stable/debian10/amd64  InRelease\n",
      "Ign:3 file:/var/cuda-repo-debian10-11-4-local  Release.gpg\n",
      "Hit:15 https://nvidia.github.io/nvidia-docker/debian10/amd64  InRelease\n",
      "Hit:16 https://packages.cloud.google.com/apt kubernetes-xenial InRelease\n",
      "Reading package lists... Done\n",
      "W: GPG error: file:/var/cuda-repo-debian10-11-4-local  Release: The following signatures couldn't be verified because the public key is not available: NO_PUBKEY F60F4B3D7FA2AF80\n",
      "E: The repository 'file:/var/cuda-repo-debian10-11-4-local  Release' is not signed.\n",
      "N: Updating from such a repository can't be done securely, and is therefore disabled by default.\n",
      "N: See apt-secure(8) manpage for repository creation and user configuration details.\n",
      "Reading package lists... Done\n",
      "E: Unable to parse package file /etc/apt/preferences.d/cuda-repository-pin-600 (1)\n",
      "  % Total    % Received % Xferd  Average Speed   Time    Time     Time  Current\n",
      "                                 Dload  Upload   Total   Spent    Left  Speed\n",
      "100   433  100   433    0     0    411      0  0:00:01  0:00:01 --:--:--   411\n",
      "  % Total    % Received % Xferd  Average Speed   Time    Time     Time  Current\n",
      "                                 Dload  Upload   Total   Spent    Left  Speed\n",
      "100 2432M  100 2432M    0     0   178M      0  0:00:13  0:00:13 --:--:--  177M\n",
      "(Reading database ... 128111 files and directories currently installed.)\n",
      "Preparing to unpack cuda-repo-debian10-11-4-local_11.4.2-470.57.02-1_amd64.deb ...\n",
      "Unpacking cuda-repo-debian10-11-4-local (11.4.2-470.57.02-1) over (11.4.2-470.57.02-1) ...\n",
      "Setting up cuda-repo-debian10-11-4-local (11.4.2-470.57.02-1) ...\n",
      "\n",
      "The public CUDA GPG key does not appear to be installed.\n",
      "To install the key, run this command:\n",
      "sudo apt-key add /var/cuda-repo-debian10-11-4-local/7fa2af80.pub\n",
      "\n",
      "Get:1 file:/var/cuda-repo-debian10-11-4-local  InRelease\n",
      "Ign:1 file:/var/cuda-repo-debian10-11-4-local  InRelease\n",
      "Get:2 file:/var/cuda-repo-debian10-11-4-local  Release [564 B]\n",
      "Get:2 file:/var/cuda-repo-debian10-11-4-local  Release [564 B]\n",
      "Get:3 file:/var/cuda-repo-debian10-11-4-local  Release.gpg [836 B]             \n",
      "Get:3 file:/var/cuda-repo-debian10-11-4-local  Release.gpg [836 B]             \n",
      "Hit:4 http://deb.debian.org/debian bullseye InRelease                          \n",
      "Hit:5 http://security.debian.org/debian-security bullseye-security InRelease   \n",
      "Hit:6 http://packages.cloud.google.com/apt gcsfuse-bullseye InRelease          \n",
      "Hit:7 http://deb.debian.org/debian bullseye-updates InRelease                  \n",
      "Hit:8 http://packages.cloud.google.com/apt google-compute-engine-bullseye-stable InRelease\n",
      "Hit:9 http://deb.debian.org/debian bullseye-backports InRelease                \n",
      "Hit:10 https://packages.cloud.google.com/apt google-fast-socket InRelease      \n",
      "Hit:11 https://download.docker.com/linux/debian bullseye InRelease             \n",
      "Hit:12 http://packages.cloud.google.com/apt cloud-sdk-bullseye InRelease       \n",
      "Hit:13 https://nvidia.github.io/libnvidia-container/stable/debian10/amd64  InRelease\n",
      "Ign:3 file:/var/cuda-repo-debian10-11-4-local  Release.gpg\n",
      "Hit:14 https://nvidia.github.io/nvidia-container-runtime/stable/debian10/amd64  InRelease\n",
      "Hit:15 https://nvidia.github.io/nvidia-docker/debian10/amd64  InRelease\n",
      "Hit:16 https://packages.cloud.google.com/apt kubernetes-xenial InRelease\n",
      "Reading package lists... Done\n",
      "W: GPG error: file:/var/cuda-repo-debian10-11-4-local  Release: The following signatures couldn't be verified because the public key is not available: NO_PUBKEY F60F4B3D7FA2AF80\n",
      "E: The repository 'file:/var/cuda-repo-debian10-11-4-local  Release' is not signed.\n",
      "N: Updating from such a repository can't be done securely, and is therefore disabled by default.\n",
      "N: See apt-secure(8) manpage for repository creation and user configuration details.\n",
      "Reading package lists... Done\n",
      "E: Unable to parse package file /etc/apt/preferences.d/cuda-repository-pin-600 (1)\n"
     ]
    }
   ],
   "source": [
    "!sudo apt-get update\n",
    "!sudo apt-get install -y gnupg2 curl\n",
    "!sudo curl -O https://developer.download.nvidia.com/compute/cuda/repos/debian10/x86_64/cuda-ubuntu2004.pin\n",
    "!sudo mv cuda-ubuntu2004.pin /etc/apt/preferences.d/cuda-repository-pin-600\n",
    "!sudo curl -LO https://developer.download.nvidia.com/compute/cuda/11.4.2/local_installers/cuda-repo-debian10-11-4-local_11.4.2-470.57.02-1_amd64.deb\n",
    "!sudo dpkg -i cuda-repo-debian10-11-4-local_11.4.2-470.57.02-1_amd64.deb\n",
    "!sudo apt-get update\n",
    "!sudo apt-get -y install cuda"
   ]
  },
  {
   "cell_type": "code",
   "execution_count": 3,
   "id": "87a7e2cf-3ddc-4161-b8ce-836aeee802d3",
   "metadata": {},
   "outputs": [
    {
     "name": "stdout",
     "output_type": "stream",
     "text": [
      "Tue Jun 13 06:27:55 2023       \n",
      "+-----------------------------------------------------------------------------+\n",
      "| NVIDIA-SMI 510.47.03    Driver Version: 510.47.03    CUDA Version: 11.6     |\n",
      "|-------------------------------+----------------------+----------------------+\n",
      "| GPU  Name        Persistence-M| Bus-Id        Disp.A | Volatile Uncorr. ECC |\n",
      "| Fan  Temp  Perf  Pwr:Usage/Cap|         Memory-Usage | GPU-Util  Compute M. |\n",
      "|                               |                      |               MIG M. |\n",
      "|===============================+======================+======================|\n",
      "|   0  Tesla T4            Off  | 00000000:00:04.0 Off |                    0 |\n",
      "| N/A   52C    P0    26W /  70W |      0MiB / 15360MiB |     11%      Default |\n",
      "|                               |                      |                  N/A |\n",
      "+-------------------------------+----------------------+----------------------+\n",
      "                                                                               \n",
      "+-----------------------------------------------------------------------------+\n",
      "| Processes:                                                                  |\n",
      "|  GPU   GI   CI        PID   Type   Process name                  GPU Memory |\n",
      "|        ID   ID                                                   Usage      |\n",
      "|=============================================================================|\n",
      "|  No running processes found                                                 |\n",
      "+-----------------------------------------------------------------------------+\n"
     ]
    }
   ],
   "source": [
    "!nvidia-smi"
   ]
  },
  {
   "cell_type": "code",
   "execution_count": 4,
   "id": "5e142cfc-3b35-4b91-be32-4d1e056e1f89",
   "metadata": {},
   "outputs": [
    {
     "name": "stdout",
     "output_type": "stream",
     "text": [
      "\u001b[33mWARNING: Ignoring invalid distribution -eras (/opt/conda/lib/python3.10/site-packages)\u001b[0m\u001b[33m\n",
      "\u001b[0m\u001b[33mWARNING: Ignoring invalid distribution -rapt (/opt/conda/lib/python3.10/site-packages)\u001b[0m\u001b[33m\n",
      "\u001b[0mRequirement already satisfied: tensorflow==2.11.1 in /home/jupyter/.local/lib/python3.10/site-packages (2.11.1)\n",
      "Requirement already satisfied: absl-py>=1.0.0 in /opt/conda/lib/python3.10/site-packages (from tensorflow==2.11.1) (1.4.0)\n",
      "Requirement already satisfied: astunparse>=1.6.0 in /opt/conda/lib/python3.10/site-packages (from tensorflow==2.11.1) (1.6.3)\n",
      "Requirement already satisfied: flatbuffers>=2.0 in /opt/conda/lib/python3.10/site-packages (from tensorflow==2.11.1) (23.3.3)\n",
      "Requirement already satisfied: gast<=0.4.0,>=0.2.1 in /opt/conda/lib/python3.10/site-packages (from tensorflow==2.11.1) (0.4.0)\n",
      "Requirement already satisfied: google-pasta>=0.1.1 in /opt/conda/lib/python3.10/site-packages (from tensorflow==2.11.1) (0.2.0)\n",
      "Requirement already satisfied: grpcio<2.0,>=1.24.3 in /home/jupyter/.local/lib/python3.10/site-packages (from tensorflow==2.11.1) (1.54.2)\n",
      "Requirement already satisfied: h5py>=2.9.0 in /opt/conda/lib/python3.10/site-packages (from tensorflow==2.11.1) (3.8.0)\n",
      "Requirement already satisfied: keras<2.12,>=2.11.0 in /home/jupyter/.local/lib/python3.10/site-packages (from tensorflow==2.11.1) (2.11.0)\n",
      "Requirement already satisfied: libclang>=13.0.0 in /opt/conda/lib/python3.10/site-packages (from tensorflow==2.11.1) (16.0.0)\n",
      "Requirement already satisfied: numpy>=1.20 in /opt/conda/lib/python3.10/site-packages (from tensorflow==2.11.1) (1.23.5)\n",
      "Requirement already satisfied: opt-einsum>=2.3.2 in /opt/conda/lib/python3.10/site-packages (from tensorflow==2.11.1) (3.3.0)\n",
      "Requirement already satisfied: packaging in /home/jupyter/.local/lib/python3.10/site-packages (from tensorflow==2.11.1) (20.9)\n",
      "Requirement already satisfied: protobuf<3.20,>=3.9.2 in /home/jupyter/.local/lib/python3.10/site-packages (from tensorflow==2.11.1) (3.19.6)\n",
      "Requirement already satisfied: setuptools in /opt/conda/lib/python3.10/site-packages (from tensorflow==2.11.1) (67.7.2)\n",
      "Requirement already satisfied: six>=1.12.0 in /opt/conda/lib/python3.10/site-packages (from tensorflow==2.11.1) (1.16.0)\n",
      "Requirement already satisfied: tensorboard<2.12,>=2.11 in /home/jupyter/.local/lib/python3.10/site-packages (from tensorflow==2.11.1) (2.11.2)\n",
      "Requirement already satisfied: tensorflow-estimator<2.12,>=2.11.0 in /home/jupyter/.local/lib/python3.10/site-packages (from tensorflow==2.11.1) (2.11.0)\n",
      "Requirement already satisfied: termcolor>=1.1.0 in /opt/conda/lib/python3.10/site-packages (from tensorflow==2.11.1) (2.3.0)\n",
      "Requirement already satisfied: typing-extensions>=3.6.6 in /opt/conda/lib/python3.10/site-packages (from tensorflow==2.11.1) (4.5.0)\n",
      "Requirement already satisfied: wrapt>=1.11.0 in /opt/conda/lib/python3.10/site-packages (from tensorflow==2.11.1) (1.14.1)\n",
      "Requirement already satisfied: tensorflow-io-gcs-filesystem>=0.23.1 in /opt/conda/lib/python3.10/site-packages (from tensorflow==2.11.1) (0.29.0)\n",
      "Requirement already satisfied: wheel<1.0,>=0.23.0 in /opt/conda/lib/python3.10/site-packages (from astunparse>=1.6.0->tensorflow==2.11.1) (0.40.0)\n",
      "Requirement already satisfied: google-auth<3,>=1.6.3 in /opt/conda/lib/python3.10/site-packages (from tensorboard<2.12,>=2.11->tensorflow==2.11.1) (2.17.3)\n",
      "Requirement already satisfied: google-auth-oauthlib<0.5,>=0.4.1 in /home/jupyter/.local/lib/python3.10/site-packages (from tensorboard<2.12,>=2.11->tensorflow==2.11.1) (0.4.6)\n",
      "Requirement already satisfied: markdown>=2.6.8 in /opt/conda/lib/python3.10/site-packages (from tensorboard<2.12,>=2.11->tensorflow==2.11.1) (3.4.3)\n",
      "Requirement already satisfied: requests<3,>=2.21.0 in /opt/conda/lib/python3.10/site-packages (from tensorboard<2.12,>=2.11->tensorflow==2.11.1) (2.28.2)\n",
      "Requirement already satisfied: tensorboard-data-server<0.7.0,>=0.6.0 in /home/jupyter/.local/lib/python3.10/site-packages (from tensorboard<2.12,>=2.11->tensorflow==2.11.1) (0.6.1)\n",
      "Requirement already satisfied: tensorboard-plugin-wit>=1.6.0 in /opt/conda/lib/python3.10/site-packages (from tensorboard<2.12,>=2.11->tensorflow==2.11.1) (1.8.1)\n",
      "Requirement already satisfied: werkzeug>=1.0.1 in /opt/conda/lib/python3.10/site-packages (from tensorboard<2.12,>=2.11->tensorflow==2.11.1) (2.1.2)\n",
      "Requirement already satisfied: pyparsing>=2.0.2 in /opt/conda/lib/python3.10/site-packages (from packaging->tensorflow==2.11.1) (3.0.9)\n",
      "Requirement already satisfied: cachetools<6.0,>=2.0.0 in /opt/conda/lib/python3.10/site-packages (from google-auth<3,>=1.6.3->tensorboard<2.12,>=2.11->tensorflow==2.11.1) (4.2.4)\n",
      "Requirement already satisfied: pyasn1-modules>=0.2.1 in /opt/conda/lib/python3.10/site-packages (from google-auth<3,>=1.6.3->tensorboard<2.12,>=2.11->tensorflow==2.11.1) (0.2.7)\n",
      "Requirement already satisfied: rsa<5,>=3.1.4 in /opt/conda/lib/python3.10/site-packages (from google-auth<3,>=1.6.3->tensorboard<2.12,>=2.11->tensorflow==2.11.1) (4.9)\n",
      "Requirement already satisfied: requests-oauthlib>=0.7.0 in /opt/conda/lib/python3.10/site-packages (from google-auth-oauthlib<0.5,>=0.4.1->tensorboard<2.12,>=2.11->tensorflow==2.11.1) (1.3.1)\n",
      "Requirement already satisfied: charset-normalizer<4,>=2 in /opt/conda/lib/python3.10/site-packages (from requests<3,>=2.21.0->tensorboard<2.12,>=2.11->tensorflow==2.11.1) (2.1.1)\n",
      "Requirement already satisfied: idna<4,>=2.5 in /opt/conda/lib/python3.10/site-packages (from requests<3,>=2.21.0->tensorboard<2.12,>=2.11->tensorflow==2.11.1) (3.4)\n",
      "Requirement already satisfied: urllib3<1.27,>=1.21.1 in /opt/conda/lib/python3.10/site-packages (from requests<3,>=2.21.0->tensorboard<2.12,>=2.11->tensorflow==2.11.1) (1.26.15)\n",
      "Requirement already satisfied: certifi>=2017.4.17 in /opt/conda/lib/python3.10/site-packages (from requests<3,>=2.21.0->tensorboard<2.12,>=2.11->tensorflow==2.11.1) (2022.12.7)\n",
      "Requirement already satisfied: pyasn1<0.5.0,>=0.4.6 in /opt/conda/lib/python3.10/site-packages (from pyasn1-modules>=0.2.1->google-auth<3,>=1.6.3->tensorboard<2.12,>=2.11->tensorflow==2.11.1) (0.4.8)\n",
      "Requirement already satisfied: oauthlib>=3.0.0 in /opt/conda/lib/python3.10/site-packages (from requests-oauthlib>=0.7.0->google-auth-oauthlib<0.5,>=0.4.1->tensorboard<2.12,>=2.11->tensorflow==2.11.1) (3.2.2)\n",
      "\u001b[33mWARNING: Ignoring invalid distribution -eras (/opt/conda/lib/python3.10/site-packages)\u001b[0m\u001b[33m\n",
      "\u001b[0m\u001b[33mWARNING: Ignoring invalid distribution -rapt (/opt/conda/lib/python3.10/site-packages)\u001b[0m\u001b[33m\n",
      "\u001b[0m"
     ]
    }
   ],
   "source": [
    "!pip install --user tensorflow==2.11.1"
   ]
  },
  {
   "cell_type": "code",
   "execution_count": 24,
   "id": "aa7375e4-34f2-41c5-a2b8-8d2874803207",
   "metadata": {},
   "outputs": [],
   "source": [
    "import tensorflow as tf"
   ]
  },
  {
   "cell_type": "code",
   "execution_count": 25,
   "id": "e83bfca8-19c8-4c43-bdbf-551966b21129",
   "metadata": {},
   "outputs": [
    {
     "name": "stdout",
     "output_type": "stream",
     "text": [
      "2.11.1\n"
     ]
    }
   ],
   "source": [
    "print(tf.__version__)"
   ]
  },
  {
   "cell_type": "code",
   "execution_count": 26,
   "id": "e148bfec-f56c-4937-88f3-30e3026caa63",
   "metadata": {},
   "outputs": [],
   "source": [
    "\n",
    "\n",
    "from keras.layers import Input, Lambda, Dense, Flatten\n",
    "from keras.models import Model\n",
    "\n",
    "from keras.preprocessing import image\n",
    "from keras.preprocessing.image import ImageDataGenerator\n",
    "from keras.models import Sequential\n",
    "import numpy as np\n",
    "from glob import glob\n",
    "import matplotlib.pyplot as plt\n"
   ]
  },
  {
   "cell_type": "code",
   "execution_count": 27,
   "id": "a91305a6-6dc4-4704-a6a8-e56d1a4898b8",
   "metadata": {},
   "outputs": [],
   "source": [
    "import os\n",
    "import zipfile\n"
   ]
  },
  {
   "cell_type": "markdown",
   "id": "ce99c116-2b21-4936-952b-95580d639ef9",
   "metadata": {},
   "source": [
    " define the directories containing your images"
   ]
  },
  {
   "cell_type": "code",
   "execution_count": 28,
   "id": "66a26279-f26f-4688-98b9-a56d5aa2256a",
   "metadata": {},
   "outputs": [],
   "source": [
    "# variabel directory for training pict for each category\n",
    "train_oily_dir = os.path.join(\"/home/jupyter/content/faceSkin_tipe_train/oily\")\n",
    "train_normal_dir = os.path.join(\"/home/jupyter/content/faceSkin_tipe_train/normal\")\n",
    "train_combination_dir =os.path.join(\"/home/jupyter/content/faceSkin_tipe_train/combination\")\n",
    "train_sensitive_dir = os.path.join(\"/home/jupyter/content/faceSkin_tipe_train/sensitive\")\n",
    "train_dry_dir = os.path.join(\"/home/jupyter/content/faceSkin_tipe_train/dry\")\n",
    "train_nonface_dir = os.path.join(\"/home/jupyter/content/faceSkin_tipe_train/nonface/\")\n",
    "\n",
    "# variabel directory for validation pict for each category\n",
    "validation_oily_dir =os.path.join(\"/home/jupyter/content/faceSkin_tipe_validation/oily\")\n",
    "validation_normal_dir =os.path.join(\"/home/jupyter/content/faceSkin_tipe_validation/normal\")\n",
    "validation_combination_dir =os.path.join(\"/home/jupyter/content/faceSkin_tipe_validation/combination\")\n",
    "validation_sensitive_dir =os.path.join(\"/home/jupyter/content/faceSkin_tipe_validation/sensitive\")\n",
    "validation_dry_dir =os.path.join(\"/home/jupyter/content/faceSkin_tipe_validation/dry\")\n",
    "validation_nonface_dir =os.path.join(\"/home/jupyter/content/faceSkin_tipe_validation/nonface\")"
   ]
  },
  {
   "cell_type": "markdown",
   "id": "0433e245-a505-4447-8b75-e3a6d96fba89",
   "metadata": {},
   "source": [
    "filenames check in directory"
   ]
  },
  {
   "cell_type": "code",
   "execution_count": 29,
   "id": "d761a5c0-d43a-4d21-92dd-fb50b6e41ebb",
   "metadata": {},
   "outputs": [
    {
     "name": "stdout",
     "output_type": "stream",
     "text": [
      "TRAIN SET DRY: ['f1-006-01.jpg', 'folder(185)3.jpg', 'folder(95)2.jpg', 'folder(224)2.jpg', 'folder(219)2.jpg']\n",
      "TRAIN SET OILY: ['f1-006-01.jpg', 'folder(185)3.jpg', 'folder(95)2.jpg', 'folder(224)2.jpg', 'folder(219)2.jpg']\n",
      "TRAIN SET SENSITIVE: ['f1-006-01.jpg', 'folder(185)3.jpg', 'folder(95)2.jpg', 'folder(224)2.jpg', 'folder(219)2.jpg']\n",
      "TRAIN SET COMBINATION: ['f1-006-01.jpg', 'folder(185)3.jpg', 'folder(95)2.jpg', 'folder(224)2.jpg', 'folder(219)2.jpg']\n",
      "TRAIN SET NORMAL: ['f1-006-01.jpg', 'folder(185)3.jpg', 'folder(95)2.jpg', 'folder(224)2.jpg', 'folder(219)2.jpg']\n",
      "TRAIN SET NONFACE: ['000000013201.jpg', '000000017115.jpg', '000000002473.jpg', '000000024021.jpg', '000000015335.jpg'] \n",
      "\n",
      "VALIDATION SET DRY: ['folder(7)2.jpg', 'dd.jpg', 'folder(72)3.jpg', 'folder(77)3.jpg', '1 (72).jpg']\n",
      "VALIDATION SET OILY: ['folder(7)2.jpg', 'dd.jpg', 'folder(72)3.jpg', 'folder(77)3.jpg', '1 (72).jpg']\n",
      "VALIDATION SET SENSITIVE: ['folder(7)2.jpg', 'dd.jpg', 'folder(72)3.jpg', 'folder(77)3.jpg', '1 (72).jpg']\n",
      "VALIDATION SET COMBINATION: ['folder(7)2.jpg', 'dd.jpg', 'folder(72)3.jpg', 'folder(77)3.jpg', '1 (72).jpg']\n",
      "VALIDATION SET NORMAL: ['folder(7)2.jpg', 'dd.jpg', 'folder(72)3.jpg', 'folder(77)3.jpg', '1 (72).jpg']\n",
      "VALIDATION SET NONFACE: ['000000051008.jpg', '000000051976.jpg', '000000045596.jpg', '000000047010.jpg', '000000045090.jpg']\n"
     ]
    }
   ],
   "source": [
    "train_dry_names = os.listdir(train_dry_dir)\n",
    "train_oily_names = os.listdir(train_oily_dir)\n",
    "train_normal_names =  os.listdir(train_normal_dir)\n",
    "train_combination_names =  os.listdir(train_combination_dir)\n",
    "train_sensitive_names =  os.listdir(train_sensitive_dir)\n",
    "train_nonface_names =  os.listdir(train_nonface_dir)\n",
    "\n",
    "validation_dry_names = os.listdir(validation_dry_dir)\n",
    "validation_oily_names = os.listdir(validation_oily_dir)\n",
    "validation_normal_names =  os.listdir(validation_normal_dir)\n",
    "validation_combination_names =  os.listdir(validation_combination_dir)\n",
    "validation_sensitive_names =  os.listdir(validation_sensitive_dir)\n",
    "validation_nonface_names =  os.listdir(validation_nonface_dir)\n",
    "\n",
    "print(f'TRAIN SET DRY: {train_dry_names[:5]}')\n",
    "print(f'TRAIN SET OILY: {train_dry_names[:5]}')\n",
    "print(f'TRAIN SET SENSITIVE: {train_dry_names[:5]}')\n",
    "print(f'TRAIN SET COMBINATION: {train_dry_names[:5]}')\n",
    "print(f'TRAIN SET NORMAL: {train_dry_names[:5]}')\n",
    "print(f'TRAIN SET NONFACE: {train_nonface_names[:5]} \\n')\n",
    "\n",
    "print(f'VALIDATION SET DRY: {validation_dry_names[:5]}')\n",
    "print(f'VALIDATION SET OILY: {validation_dry_names[:5]}')\n",
    "print(f'VALIDATION SET SENSITIVE: {validation_dry_names[:5]}')\n",
    "print(f'VALIDATION SET COMBINATION: {validation_dry_names[:5]}')\n",
    "print(f'VALIDATION SET NORMAL: {validation_dry_names[:5]}')\n",
    "print(f'VALIDATION SET NONFACE: {validation_nonface_names[:5]}')"
   ]
  },
  {
   "cell_type": "markdown",
   "id": "4a6d4b11-d1ea-4b32-83bd-c5758b1f8d90",
   "metadata": {},
   "source": [
    "chacking total number of images for each categories in training and validation directories "
   ]
  },
  {
   "cell_type": "code",
   "execution_count": 30,
   "id": "5c1ac88e-d526-4ae4-aafd-62bbd394e953",
   "metadata": {},
   "outputs": [
    {
     "name": "stdout",
     "output_type": "stream",
     "text": [
      "total training oily images: 209\n",
      "total training dry images: 207\n",
      "total training normal images: 99\n",
      "total training combination images: 110\n",
      "total training sensitive images: 202\n",
      "total training nonface images: 200\n",
      "\n",
      "total validation oily images: 53\n",
      "total validation dry images: 50\n",
      "total validation normal images: 25\n",
      "total validation combination images: 36\n",
      "total validation sensitive images: 49\n",
      "total validation nonface images: 50\n"
     ]
    }
   ],
   "source": [
    "print(f'total training oily images: {len(os.listdir(train_oily_dir))}')\n",
    "print(f'total training dry images: {len(os.listdir(train_dry_dir))}')\n",
    "print(f'total training normal images: {len(os.listdir(train_normal_dir))}')\n",
    "print(f'total training combination images: {len(os.listdir(train_combination_dir))}')\n",
    "print(f'total training sensitive images: {len(os.listdir(train_sensitive_dir))}')\n",
    "print(f'total training nonface images: {len(os.listdir(train_nonface_dir))}\\n')\n",
    "\n",
    "\n",
    "print(f'total validation oily images: {len(os.listdir(validation_oily_dir))}')\n",
    "print(f'total validation dry images: {len(os.listdir(validation_dry_dir))}')\n",
    "print(f'total validation normal images: {len(os.listdir(validation_normal_dir))}')\n",
    "print(f'total validation combination images: {len(os.listdir(validation_combination_dir))}')\n",
    "print(f'total validation sensitive images: {len(os.listdir(validation_sensitive_dir))}')\n",
    "print(f'total validation nonface images: {len(os.listdir(validation_nonface_dir))}')\n",
    "\n",
    "\n",
    "\n"
   ]
  },
  {
   "cell_type": "code",
   "execution_count": 31,
   "id": "df6b4791-5b2d-4f3e-a392-6700344f6b70",
   "metadata": {},
   "outputs": [
    {
     "name": "stdout",
     "output_type": "stream",
     "text": [
      "['oily', 'normal', '.ipynb_checkpoints', 'sensitive', 'dry', 'nonface', 'combination']\n"
     ]
    }
   ],
   "source": [
    "print((os.listdir('/home/jupyter/content/faceSkin_tipe_validation/')))"
   ]
  },
  {
   "cell_type": "code",
   "execution_count": null,
   "id": "2278afba-378a-497d-aa6c-f46ca91fe034",
   "metadata": {},
   "outputs": [],
   "source": []
  },
  {
   "cell_type": "markdown",
   "id": "72d11eab-5e93-4a65-bfe5-73c9fedc0e7d",
   "metadata": {},
   "source": [
    "# Data preprocessing\n"
   ]
  },
  {
   "cell_type": "markdown",
   "id": "78fc9ed3-9e21-4607-b083-b73b3faa661d",
   "metadata": {},
   "source": [
    "using image data generator"
   ]
  },
  {
   "cell_type": "code",
   "execution_count": 44,
   "id": "10ffec68-ab2b-46bf-b5c8-4332f837ea88",
   "metadata": {},
   "outputs": [
    {
     "name": "stdout",
     "output_type": "stream",
     "text": [
      "Found 1027 images belonging to 6 classes.\n",
      "Found 263 images belonging to 6 classes.\n",
      "Class Names: ['oily', 'normal', 'sensitive', 'dry', 'nonface', 'combination']\n"
     ]
    }
   ],
   "source": [
    "#punya valiant\n",
    "from tensorflow.keras.preprocessing.image import ImageDataGenerator\n",
    "import os\n",
    "\n",
    "# All images will be rescaled by 1./255\n",
    "train_datagen = ImageDataGenerator(\n",
    "      rescale=1/255,\n",
    "      rotation_range=40,\n",
    "      width_shift_range=0.2,\n",
    "      height_shift_range=0.2,\n",
    "      shear_range=0.2,\n",
    "      zoom_range=0.2,\n",
    "      horizontal_flip=True,\n",
    "      fill_mode='nearest')\n",
    "\n",
    "validation_datagen = ImageDataGenerator(rescale=1/255)\n",
    "\n",
    "# Set the base directory where your data is located\n",
    "base_directory = '/home/jupyter/content/'\n",
    "\n",
    "# Get the list of subdirectories (classes) in the training directory\n",
    "train_classes = [subdir for subdir in os.listdir(os.path.join(base_directory, 'faceSkin_tipe_train')) if os.path.isdir(os.path.join(base_directory, 'faceSkin_tipe_train', subdir))]\n",
    "\n",
    "# Remove the \".ipynb_checkpoints\" class from the list if it exists\n",
    "if '.ipynb_checkpoints' in train_classes:\n",
    "    train_classes.remove('.ipynb_checkpoints')\n",
    "\n",
    "# Flow training images in batches of 128 using train_datagen generator\n",
    "train_generator = train_datagen.flow_from_directory(\n",
    "        os.path.join(base_directory, 'faceSkin_tipe_train'),  # This is the source directory for training images\n",
    "        target_size=(224, 224),  # All images will be resized to 224x224\n",
    "        batch_size=32,\n",
    "        class_mode='categorical',\n",
    "        classes=train_classes)\n",
    "\n",
    "# Get the list of subdirectories (classes) in the validation directory\n",
    "validation_classes = [subdir for subdir in os.listdir(os.path.join(base_directory, 'faceSkin_tipe_validation')) if os.path.isdir(os.path.join(base_directory, 'faceSkin_tipe_validation', subdir))]\n",
    "\n",
    "# Remove the \".ipynb_checkpoints\" class from the list if it exists\n",
    "if '.ipynb_checkpoints' in validation_classes:\n",
    "    validation_classes.remove('.ipynb_checkpoints')\n",
    "\n",
    "# Flow validation images in batches of 128 using validation_datagen generator\n",
    "validation_generator = validation_datagen.flow_from_directory(\n",
    "        os.path.join(base_directory, 'faceSkin_tipe_validation'),  # This is the source directory for validation images\n",
    "        target_size=(224, 224),  # All images will be resized to 224x224\n",
    "        batch_size=8,\n",
    "        class_mode='categorical',\n",
    "        classes=validation_classes)\n",
    "\n",
    "\n",
    "# Get the class names from the generator's class_indices dictionary\n",
    "class_names = list(train_generator.class_indices.keys())\n",
    "\n",
    "# Print the class names\n",
    "print(\"Class Names:\", class_names)\n"
   ]
  },
  {
   "cell_type": "code",
   "execution_count": 45,
   "id": "4e59b480-ad7b-4cc7-b187-d490738d2aab",
   "metadata": {},
   "outputs": [
    {
     "name": "stdout",
     "output_type": "stream",
     "text": [
      "List of Classes:\n",
      "oily : 0\n",
      "normal : 1\n",
      "sensitive : 2\n",
      "dry : 3\n",
      "nonface : 4\n",
      "combination : 5\n"
     ]
    }
   ],
   "source": [
    "\n",
    "# Access the class indices\n",
    "class_indices = train_generator.class_indices\n",
    "\n",
    "# Print the list of classes\n",
    "print(\"List of Classes:\")\n",
    "for class_name, class_index in class_indices.items():\n",
    "    print(class_name, \":\", class_index)"
   ]
  },
  {
   "cell_type": "markdown",
   "id": "d5a36bd4-30a9-473a-8ff3-91544929d763",
   "metadata": {},
   "source": [
    "load pretrained model"
   ]
  },
  {
   "cell_type": "code",
   "execution_count": 46,
   "id": "8de9eb1f-86fa-4e8b-bb2b-40c81af2b847",
   "metadata": {},
   "outputs": [
    {
     "name": "stdout",
     "output_type": "stream",
     "text": [
      "Python 3.10.10\n"
     ]
    }
   ],
   "source": [
    "!python --version"
   ]
  },
  {
   "cell_type": "code",
   "execution_count": 47,
   "id": "bdf98706-f0ad-4983-b81b-b9512a1b1aa2",
   "metadata": {},
   "outputs": [
    {
     "name": "stdout",
     "output_type": "stream",
     "text": [
      "\u001b[33mWARNING: Ignoring invalid distribution -eras (/opt/conda/lib/python3.10/site-packages)\u001b[0m\u001b[33m\n",
      "\u001b[0m\u001b[33mWARNING: Ignoring invalid distribution -rapt (/opt/conda/lib/python3.10/site-packages)\u001b[0m\u001b[33m\n",
      "\u001b[0mRequirement already satisfied: keras_vggface in /opt/conda/lib/python3.10/site-packages (0.6)\n",
      "Requirement already satisfied: numpy>=1.9.1 in /opt/conda/lib/python3.10/site-packages (from keras_vggface) (1.23.5)\n",
      "Requirement already satisfied: scipy>=0.14 in /opt/conda/lib/python3.10/site-packages (from keras_vggface) (1.9.3)\n",
      "Requirement already satisfied: h5py in /opt/conda/lib/python3.10/site-packages (from keras_vggface) (3.8.0)\n",
      "Requirement already satisfied: pillow in /opt/conda/lib/python3.10/site-packages (from keras_vggface) (9.5.0)\n",
      "Requirement already satisfied: keras in /home/jupyter/.local/lib/python3.10/site-packages (from keras_vggface) (2.11.0)\n",
      "Requirement already satisfied: six>=1.9.0 in /opt/conda/lib/python3.10/site-packages (from keras_vggface) (1.16.0)\n",
      "Requirement already satisfied: pyyaml in /opt/conda/lib/python3.10/site-packages (from keras_vggface) (5.4.1)\n",
      "\u001b[33mWARNING: Ignoring invalid distribution -eras (/opt/conda/lib/python3.10/site-packages)\u001b[0m\u001b[33m\n",
      "\u001b[0m\u001b[33mWARNING: Ignoring invalid distribution -rapt (/opt/conda/lib/python3.10/site-packages)\u001b[0m\u001b[33m\n",
      "\u001b[0m"
     ]
    }
   ],
   "source": [
    "!pip install keras_vggface"
   ]
  },
  {
   "cell_type": "code",
   "execution_count": 48,
   "id": "c8ba6bfc-9b79-479b-9d47-fb41283b519d",
   "metadata": {},
   "outputs": [
    {
     "name": "stdout",
     "output_type": "stream",
     "text": [
      "\u001b[33mWARNING: Ignoring invalid distribution -eras (/opt/conda/lib/python3.10/site-packages)\u001b[0m\u001b[33m\n",
      "\u001b[0m\u001b[33mWARNING: Ignoring invalid distribution -rapt (/opt/conda/lib/python3.10/site-packages)\u001b[0m\u001b[33m\n",
      "\u001b[0mRequirement already satisfied: keras_applications in /opt/conda/lib/python3.10/site-packages (1.0.8)\n",
      "Requirement already satisfied: numpy>=1.9.1 in /opt/conda/lib/python3.10/site-packages (from keras_applications) (1.23.5)\n",
      "Requirement already satisfied: h5py in /opt/conda/lib/python3.10/site-packages (from keras_applications) (3.8.0)\n",
      "\u001b[33mWARNING: Ignoring invalid distribution -eras (/opt/conda/lib/python3.10/site-packages)\u001b[0m\u001b[33m\n",
      "\u001b[0m\u001b[33mWARNING: Ignoring invalid distribution -rapt (/opt/conda/lib/python3.10/site-packages)\u001b[0m\u001b[33m\n",
      "\u001b[0m"
     ]
    }
   ],
   "source": [
    "!pip install keras_applications"
   ]
  },
  {
   "cell_type": "code",
   "execution_count": 49,
   "id": "901c2f3a-5bbd-40e7-9bb6-4270c2d4782d",
   "metadata": {},
   "outputs": [
    {
     "name": "stdout",
     "output_type": "stream",
     "text": [
      "\u001b[33mWARNING: Ignoring invalid distribution -eras (/opt/conda/lib/python3.10/site-packages)\u001b[0m\u001b[33m\n",
      "\u001b[0m\u001b[33mWARNING: Ignoring invalid distribution -rapt (/opt/conda/lib/python3.10/site-packages)\u001b[0m\u001b[33m\n",
      "\u001b[0mName: keras\n",
      "Version: 2.11.0\n",
      "Summary: Deep learning for humans.\n",
      "Home-page: https://keras.io/\n",
      "Author: Keras team\n",
      "Author-email: keras-users@googlegroups.com\n",
      "License: Apache 2.0\n",
      "Location: /home/jupyter/.local/lib/python3.10/site-packages\n",
      "Requires: \n",
      "Required-by: keras-vggface, tensorflow\n"
     ]
    }
   ],
   "source": [
    "!pip show keras\n"
   ]
  },
  {
   "cell_type": "code",
   "execution_count": 50,
   "id": "3230bb14-03a4-4507-9e29-6ff58652bf46",
   "metadata": {},
   "outputs": [],
   "source": [
    "import tensorflow.keras as keras"
   ]
  },
  {
   "cell_type": "code",
   "execution_count": 51,
   "id": "0ce718ef-10d1-4da0-a8d2-0d6c57f0bc0c",
   "metadata": {},
   "outputs": [
    {
     "name": "stdout",
     "output_type": "stream",
     "text": [
      "2.11.1\n"
     ]
    }
   ],
   "source": [
    "print(tf.__version__)"
   ]
  },
  {
   "cell_type": "code",
   "execution_count": 52,
   "id": "80c7bffd-fecc-4fbe-8e0c-78fbb81f24bb",
   "metadata": {},
   "outputs": [],
   "source": [
    "\n",
    "from keras_vggface.vggface import VGGFace\n",
    "from tensorflow.keras import layers\n",
    "\n",
    "# Set the weights file you downloaded into a variable\n",
    "local_weights_file = '/home/jupyter/content/vgg_face_weights.h5'\n",
    "\n",
    "# Initialize the base model.\n",
    "# Set the input shape and remove the dense layers.\n",
    "pre_trained_model = VGGFace(input_shape = (224, 224, 3), \n",
    "                                include_top = False, \n",
    "                                model = 'vgg16')\n",
    "\n",
    "# Load the pre-trained weights you downloaded.\n",
    "pre_trained_model.load_weights(local_weights_file, by_name=True, skip_mismatch=True)\n",
    "\n",
    "# Freeze the weights of the layers.\n",
    "for layer in pre_trained_model.layers:\n",
    "  layer.trainable = False"
   ]
  },
  {
   "cell_type": "code",
   "execution_count": 53,
   "id": "75752819-e72e-4cc3-ae5e-c933b0dfcd2c",
   "metadata": {},
   "outputs": [
    {
     "name": "stdout",
     "output_type": "stream",
     "text": [
      "Model: \"vggface_vgg16\"\n",
      "_________________________________________________________________\n",
      " Layer (type)                Output Shape              Param #   \n",
      "=================================================================\n",
      " input_2 (InputLayer)        [(None, 224, 224, 3)]     0         \n",
      "                                                                 \n",
      " conv1_1 (Conv2D)            (None, 224, 224, 64)      1792      \n",
      "                                                                 \n",
      " conv1_2 (Conv2D)            (None, 224, 224, 64)      36928     \n",
      "                                                                 \n",
      " pool1 (MaxPooling2D)        (None, 112, 112, 64)      0         \n",
      "                                                                 \n",
      " conv2_1 (Conv2D)            (None, 112, 112, 128)     73856     \n",
      "                                                                 \n",
      " conv2_2 (Conv2D)            (None, 112, 112, 128)     147584    \n",
      "                                                                 \n",
      " pool2 (MaxPooling2D)        (None, 56, 56, 128)       0         \n",
      "                                                                 \n",
      " conv3_1 (Conv2D)            (None, 56, 56, 256)       295168    \n",
      "                                                                 \n",
      " conv3_2 (Conv2D)            (None, 56, 56, 256)       590080    \n",
      "                                                                 \n",
      " conv3_3 (Conv2D)            (None, 56, 56, 256)       590080    \n",
      "                                                                 \n",
      " pool3 (MaxPooling2D)        (None, 28, 28, 256)       0         \n",
      "                                                                 \n",
      " conv4_1 (Conv2D)            (None, 28, 28, 512)       1180160   \n",
      "                                                                 \n",
      " conv4_2 (Conv2D)            (None, 28, 28, 512)       2359808   \n",
      "                                                                 \n",
      " conv4_3 (Conv2D)            (None, 28, 28, 512)       2359808   \n",
      "                                                                 \n",
      " pool4 (MaxPooling2D)        (None, 14, 14, 512)       0         \n",
      "                                                                 \n",
      " conv5_1 (Conv2D)            (None, 14, 14, 512)       2359808   \n",
      "                                                                 \n",
      " conv5_2 (Conv2D)            (None, 14, 14, 512)       2359808   \n",
      "                                                                 \n",
      " conv5_3 (Conv2D)            (None, 14, 14, 512)       2359808   \n",
      "                                                                 \n",
      " pool5 (MaxPooling2D)        (None, 7, 7, 512)         0         \n",
      "                                                                 \n",
      "=================================================================\n",
      "Total params: 14,714,688\n",
      "Trainable params: 0\n",
      "Non-trainable params: 14,714,688\n",
      "_________________________________________________________________\n"
     ]
    }
   ],
   "source": [
    "pre_trained_model.summary()\n"
   ]
  },
  {
   "cell_type": "code",
   "execution_count": 54,
   "id": "347acaf4-17fe-4048-8b0d-726e7b64f436",
   "metadata": {},
   "outputs": [
    {
     "name": "stdout",
     "output_type": "stream",
     "text": [
      "last layer output shape:  (None, 14, 14, 512)\n",
      "last layer output:  KerasTensor(type_spec=TensorSpec(shape=(None, 14, 14, 512), dtype=tf.float32, name=None), name='conv5_3/Relu:0', description=\"created by layer 'conv5_3'\")\n"
     ]
    }
   ],
   "source": [
    "# Choose `mixed_7` as the last layer of your base model\n",
    "last_layer = pre_trained_model.get_layer('conv5_3')\n",
    "print('last layer output shape: ', last_layer.output_shape)\n",
    "last_output = last_layer.output\n",
    "print('last layer output: ', last_output)"
   ]
  },
  {
   "cell_type": "markdown",
   "id": "762358e6-81a8-4900-9f13-3954af62b49a",
   "metadata": {
    "tags": []
   },
   "source": [
    "# add dense layer depends on the classification (5 category)\n"
   ]
  },
  {
   "cell_type": "code",
   "execution_count": 55,
   "id": "15cab97c-2b5c-4c31-bc4a-ff277b327ce6",
   "metadata": {},
   "outputs": [
    {
     "name": "stdout",
     "output_type": "stream",
     "text": [
      "Model: \"model_1\"\n",
      "_________________________________________________________________\n",
      " Layer (type)                Output Shape              Param #   \n",
      "=================================================================\n",
      " input_2 (InputLayer)        [(None, 224, 224, 3)]     0         \n",
      "                                                                 \n",
      " conv1_1 (Conv2D)            (None, 224, 224, 64)      1792      \n",
      "                                                                 \n",
      " conv1_2 (Conv2D)            (None, 224, 224, 64)      36928     \n",
      "                                                                 \n",
      " pool1 (MaxPooling2D)        (None, 112, 112, 64)      0         \n",
      "                                                                 \n",
      " conv2_1 (Conv2D)            (None, 112, 112, 128)     73856     \n",
      "                                                                 \n",
      " conv2_2 (Conv2D)            (None, 112, 112, 128)     147584    \n",
      "                                                                 \n",
      " pool2 (MaxPooling2D)        (None, 56, 56, 128)       0         \n",
      "                                                                 \n",
      " conv3_1 (Conv2D)            (None, 56, 56, 256)       295168    \n",
      "                                                                 \n",
      " conv3_2 (Conv2D)            (None, 56, 56, 256)       590080    \n",
      "                                                                 \n",
      " conv3_3 (Conv2D)            (None, 56, 56, 256)       590080    \n",
      "                                                                 \n",
      " pool3 (MaxPooling2D)        (None, 28, 28, 256)       0         \n",
      "                                                                 \n",
      " conv4_1 (Conv2D)            (None, 28, 28, 512)       1180160   \n",
      "                                                                 \n",
      " conv4_2 (Conv2D)            (None, 28, 28, 512)       2359808   \n",
      "                                                                 \n",
      " conv4_3 (Conv2D)            (None, 28, 28, 512)       2359808   \n",
      "                                                                 \n",
      " pool4 (MaxPooling2D)        (None, 14, 14, 512)       0         \n",
      "                                                                 \n",
      " conv5_1 (Conv2D)            (None, 14, 14, 512)       2359808   \n",
      "                                                                 \n",
      " conv5_2 (Conv2D)            (None, 14, 14, 512)       2359808   \n",
      "                                                                 \n",
      " conv5_3 (Conv2D)            (None, 14, 14, 512)       2359808   \n",
      "                                                                 \n",
      " flatten_1 (Flatten)         (None, 100352)            0         \n",
      "                                                                 \n",
      " dense_2 (Dense)             (None, 512)               51380736  \n",
      "                                                                 \n",
      " dropout_1 (Dropout)         (None, 512)               0         \n",
      "                                                                 \n",
      " dense_3 (Dense)             (None, 6)                 3078      \n",
      "                                                                 \n",
      "=================================================================\n",
      "Total params: 66,098,502\n",
      "Trainable params: 51,383,814\n",
      "Non-trainable params: 14,714,688\n",
      "_________________________________________________________________\n"
     ]
    }
   ],
   "source": [
    "from tensorflow.keras.optimizers import RMSprop\n",
    "from tensorflow.keras import Model\n",
    "\n",
    "# Flatten the output layer to 1 dimension\n",
    "x = layers.Flatten()(last_output)\n",
    "# Add a fully connected layer with 1,024 hidden units and ReLU activation\n",
    "x = layers.Dense(1024, activation=\"ReLU\")(x)\n",
    "# Add a dropout rate of 0.2\n",
    "x = layers.Dropout(0.2)(x)                  \n",
    "# Add a final sigmoid layer for classification\n",
    "x = layers.Dense(6, activation='softmax')(x)           \n",
    "\n",
    "# Append the dense network to the base model\n",
    "model = Model(pre_trained_model.input, x) \n",
    "\n",
    "# Print the model summary. See your dense network connected at the end.\n",
    "model.summary()"
   ]
  },
  {
   "cell_type": "markdown",
   "id": "d473f5dd-0576-4ec3-990e-2c88cb287ac8",
   "metadata": {},
   "source": [
    "compiling the model"
   ]
  },
  {
   "cell_type": "code",
   "execution_count": 56,
   "id": "26d2b9c2-5e78-4690-96b3-3ce7130cc4fa",
   "metadata": {},
   "outputs": [],
   "source": [
    "\n",
    "from tensorflow.keras.optimizers import Adam\n",
    "model.compile(loss=tf.keras.losses.CategoricalCrossentropy(),\n",
    "              optimizer=tf.keras.optimizers.Adam(learning_rate = 0.0001),\n",
    "              metrics=['accuracy'])\n",
    "\n",
    "#membuat callback untuk menentukan learning rate terbaik\n",
    "#lr_scheduler = tf.keras.callbacks.LearningRateScheduler(lambda epoch:1e-4 * 10 **(epoch/20))\n"
   ]
  },
  {
   "cell_type": "markdown",
   "id": "c6d4408f-4e8d-4c75-bc4b-deb0aa312b84",
   "metadata": {},
   "source": [
    "Training"
   ]
  },
  {
   "cell_type": "code",
   "execution_count": 57,
   "id": "41d15d51-69ca-4bd3-bbec-5ce76a2af4db",
   "metadata": {},
   "outputs": [
    {
     "data": {
      "text/plain": [
       "9"
      ]
     },
     "execution_count": 57,
     "metadata": {},
     "output_type": "execute_result"
    }
   ],
   "source": [
    "len(validation_generator)"
   ]
  },
  {
   "cell_type": "code",
   "execution_count": 58,
   "id": "9c6df17c-8eb2-4f96-965d-5dd021e19be7",
   "metadata": {},
   "outputs": [
    {
     "name": "stdout",
     "output_type": "stream",
     "text": [
      "Epoch 1/150\n",
      "33/33 - 200s - loss: 1.4591 - accuracy: 0.4391 - val_loss: 1.2940 - val_accuracy: 0.4563 - 200s/epoch - 6s/step\n",
      "Epoch 2/150\n",
      "33/33 - 67s - loss: 1.1686 - accuracy: 0.5307 - val_loss: 1.1996 - val_accuracy: 0.4943 - 67s/epoch - 2s/step\n",
      "Epoch 3/150\n",
      "33/33 - 68s - loss: 1.1396 - accuracy: 0.5453 - val_loss: 1.0980 - val_accuracy: 0.5894 - 68s/epoch - 2s/step\n",
      "Epoch 4/150\n",
      "33/33 - 68s - loss: 1.0312 - accuracy: 0.5842 - val_loss: 1.0692 - val_accuracy: 0.5665 - 68s/epoch - 2s/step\n",
      "Epoch 5/150\n",
      "33/33 - 66s - loss: 1.0230 - accuracy: 0.5891 - val_loss: 1.0605 - val_accuracy: 0.5551 - 66s/epoch - 2s/step\n",
      "Epoch 6/150\n",
      "33/33 - 66s - loss: 0.9765 - accuracy: 0.6193 - val_loss: 1.0774 - val_accuracy: 0.5513 - 66s/epoch - 2s/step\n",
      "Epoch 7/150\n",
      "33/33 - 66s - loss: 0.9650 - accuracy: 0.6310 - val_loss: 1.0274 - val_accuracy: 0.5779 - 66s/epoch - 2s/step\n",
      "Epoch 8/150\n",
      "33/33 - 66s - loss: 0.9376 - accuracy: 0.6212 - val_loss: 1.0288 - val_accuracy: 0.5817 - 66s/epoch - 2s/step\n",
      "Epoch 9/150\n",
      "33/33 - 66s - loss: 0.9146 - accuracy: 0.6407 - val_loss: 1.0771 - val_accuracy: 0.5741 - 66s/epoch - 2s/step\n",
      "Epoch 10/150\n",
      "33/33 - 65s - loss: 0.8823 - accuracy: 0.6650 - val_loss: 1.0229 - val_accuracy: 0.5894 - 65s/epoch - 2s/step\n",
      "Epoch 11/150\n",
      "33/33 - 66s - loss: 0.8754 - accuracy: 0.6592 - val_loss: 1.0330 - val_accuracy: 0.5856 - 66s/epoch - 2s/step\n",
      "Epoch 12/150\n",
      "33/33 - 65s - loss: 0.8607 - accuracy: 0.6680 - val_loss: 1.0620 - val_accuracy: 0.6160 - 65s/epoch - 2s/step\n",
      "Epoch 13/150\n",
      "33/33 - 66s - loss: 0.8430 - accuracy: 0.6748 - val_loss: 1.0403 - val_accuracy: 0.5856 - 66s/epoch - 2s/step\n",
      "Epoch 14/150\n",
      "33/33 - 65s - loss: 0.8636 - accuracy: 0.6592 - val_loss: 1.0759 - val_accuracy: 0.5817 - 65s/epoch - 2s/step\n",
      "Epoch 15/150\n",
      "33/33 - 65s - loss: 0.8276 - accuracy: 0.6874 - val_loss: 1.0150 - val_accuracy: 0.5703 - 65s/epoch - 2s/step\n",
      "Epoch 16/150\n",
      "33/33 - 65s - loss: 0.8413 - accuracy: 0.6777 - val_loss: 1.0038 - val_accuracy: 0.6046 - 65s/epoch - 2s/step\n",
      "Epoch 17/150\n",
      "33/33 - 65s - loss: 0.8190 - accuracy: 0.6835 - val_loss: 1.0107 - val_accuracy: 0.6008 - 65s/epoch - 2s/step\n",
      "Epoch 18/150\n",
      "33/33 - 65s - loss: 0.7981 - accuracy: 0.6845 - val_loss: 0.9928 - val_accuracy: 0.6008 - 65s/epoch - 2s/step\n",
      "Epoch 19/150\n",
      "33/33 - 65s - loss: 0.7888 - accuracy: 0.6952 - val_loss: 1.0100 - val_accuracy: 0.5894 - 65s/epoch - 2s/step\n",
      "Epoch 20/150\n",
      "33/33 - 66s - loss: 0.7555 - accuracy: 0.7128 - val_loss: 0.9849 - val_accuracy: 0.6008 - 66s/epoch - 2s/step\n",
      "Epoch 21/150\n",
      "33/33 - 65s - loss: 0.7570 - accuracy: 0.7001 - val_loss: 0.9787 - val_accuracy: 0.6122 - 65s/epoch - 2s/step\n",
      "Epoch 22/150\n",
      "33/33 - 65s - loss: 0.7606 - accuracy: 0.6991 - val_loss: 1.0140 - val_accuracy: 0.6122 - 65s/epoch - 2s/step\n",
      "Epoch 23/150\n",
      "33/33 - 65s - loss: 0.7306 - accuracy: 0.7274 - val_loss: 1.0383 - val_accuracy: 0.6008 - 65s/epoch - 2s/step\n",
      "Epoch 24/150\n",
      "33/33 - 66s - loss: 0.7269 - accuracy: 0.7322 - val_loss: 0.9874 - val_accuracy: 0.5970 - 66s/epoch - 2s/step\n",
      "Epoch 25/150\n",
      "33/33 - 65s - loss: 0.7128 - accuracy: 0.7108 - val_loss: 1.0468 - val_accuracy: 0.6046 - 65s/epoch - 2s/step\n",
      "Epoch 26/150\n",
      "33/33 - 65s - loss: 0.7040 - accuracy: 0.7420 - val_loss: 1.0630 - val_accuracy: 0.6008 - 65s/epoch - 2s/step\n",
      "Epoch 27/150\n",
      "33/33 - 66s - loss: 0.6898 - accuracy: 0.7400 - val_loss: 0.9691 - val_accuracy: 0.6350 - 66s/epoch - 2s/step\n",
      "Epoch 28/150\n",
      "33/33 - 65s - loss: 0.7106 - accuracy: 0.7196 - val_loss: 0.9518 - val_accuracy: 0.6274 - 65s/epoch - 2s/step\n",
      "Epoch 29/150\n",
      "33/33 - 66s - loss: 0.6770 - accuracy: 0.7556 - val_loss: 0.9843 - val_accuracy: 0.5970 - 66s/epoch - 2s/step\n",
      "Epoch 30/150\n",
      "33/33 - 64s - loss: 0.6955 - accuracy: 0.7400 - val_loss: 1.0506 - val_accuracy: 0.5817 - 64s/epoch - 2s/step\n",
      "Epoch 31/150\n",
      "33/33 - 65s - loss: 0.6563 - accuracy: 0.7390 - val_loss: 0.9928 - val_accuracy: 0.5932 - 65s/epoch - 2s/step\n",
      "Epoch 32/150\n",
      "33/33 - 65s - loss: 0.6503 - accuracy: 0.7488 - val_loss: 0.9493 - val_accuracy: 0.6160 - 65s/epoch - 2s/step\n",
      "Epoch 33/150\n",
      "33/33 - 65s - loss: 0.7120 - accuracy: 0.7205 - val_loss: 0.9234 - val_accuracy: 0.6236 - 65s/epoch - 2s/step\n",
      "Epoch 34/150\n",
      "33/33 - 66s - loss: 0.6632 - accuracy: 0.7498 - val_loss: 0.9493 - val_accuracy: 0.6160 - 66s/epoch - 2s/step\n",
      "Epoch 35/150\n",
      "33/33 - 65s - loss: 0.6329 - accuracy: 0.7673 - val_loss: 1.0033 - val_accuracy: 0.6426 - 65s/epoch - 2s/step\n",
      "Epoch 36/150\n",
      "33/33 - 65s - loss: 0.6370 - accuracy: 0.7702 - val_loss: 1.0039 - val_accuracy: 0.6198 - 65s/epoch - 2s/step\n",
      "Epoch 37/150\n",
      "33/33 - 65s - loss: 0.6213 - accuracy: 0.7595 - val_loss: 0.9517 - val_accuracy: 0.6274 - 65s/epoch - 2s/step\n",
      "Epoch 38/150\n",
      "33/33 - 65s - loss: 0.6035 - accuracy: 0.7799 - val_loss: 0.9508 - val_accuracy: 0.6464 - 65s/epoch - 2s/step\n",
      "Epoch 39/150\n",
      "33/33 - 66s - loss: 0.5978 - accuracy: 0.7653 - val_loss: 1.0178 - val_accuracy: 0.6464 - 66s/epoch - 2s/step\n",
      "Epoch 40/150\n",
      "33/33 - 66s - loss: 0.5873 - accuracy: 0.7848 - val_loss: 0.9606 - val_accuracy: 0.6502 - 66s/epoch - 2s/step\n",
      "Epoch 41/150\n",
      "33/33 - 65s - loss: 0.5958 - accuracy: 0.7858 - val_loss: 0.9744 - val_accuracy: 0.6502 - 65s/epoch - 2s/step\n",
      "Epoch 42/150\n",
      "33/33 - 65s - loss: 0.5818 - accuracy: 0.7780 - val_loss: 0.9849 - val_accuracy: 0.6464 - 65s/epoch - 2s/step\n",
      "Epoch 43/150\n",
      "33/33 - 65s - loss: 0.5931 - accuracy: 0.7809 - val_loss: 1.0383 - val_accuracy: 0.6160 - 65s/epoch - 2s/step\n",
      "Epoch 44/150\n",
      "33/33 - 65s - loss: 0.5828 - accuracy: 0.7848 - val_loss: 0.9900 - val_accuracy: 0.6198 - 65s/epoch - 2s/step\n",
      "Epoch 45/150\n",
      "33/33 - 65s - loss: 0.5883 - accuracy: 0.7790 - val_loss: 1.0025 - val_accuracy: 0.6008 - 65s/epoch - 2s/step\n",
      "Epoch 46/150\n",
      "33/33 - 65s - loss: 0.5721 - accuracy: 0.7887 - val_loss: 0.9501 - val_accuracy: 0.6274 - 65s/epoch - 2s/step\n",
      "Epoch 47/150\n",
      "33/33 - 65s - loss: 0.5736 - accuracy: 0.7858 - val_loss: 1.0000 - val_accuracy: 0.6312 - 65s/epoch - 2s/step\n",
      "Epoch 48/150\n",
      "33/33 - 65s - loss: 0.5742 - accuracy: 0.7926 - val_loss: 0.9326 - val_accuracy: 0.6426 - 65s/epoch - 2s/step\n",
      "Epoch 49/150\n",
      "33/33 - 65s - loss: 0.5628 - accuracy: 0.7809 - val_loss: 0.9317 - val_accuracy: 0.6540 - 65s/epoch - 2s/step\n",
      "Epoch 50/150\n",
      "33/33 - 65s - loss: 0.5236 - accuracy: 0.8053 - val_loss: 0.9642 - val_accuracy: 0.6426 - 65s/epoch - 2s/step\n",
      "Epoch 51/150\n",
      "33/33 - 65s - loss: 0.5549 - accuracy: 0.7838 - val_loss: 0.9191 - val_accuracy: 0.6806 - 65s/epoch - 2s/step\n",
      "Epoch 52/150\n",
      "33/33 - 64s - loss: 0.5417 - accuracy: 0.7868 - val_loss: 0.9524 - val_accuracy: 0.6578 - 64s/epoch - 2s/step\n",
      "Epoch 53/150\n",
      "33/33 - 64s - loss: 0.5452 - accuracy: 0.7994 - val_loss: 0.9364 - val_accuracy: 0.6654 - 64s/epoch - 2s/step\n",
      "Epoch 54/150\n",
      "33/33 - 65s - loss: 0.5480 - accuracy: 0.7780 - val_loss: 1.0288 - val_accuracy: 0.5970 - 65s/epoch - 2s/step\n",
      "Epoch 55/150\n",
      "33/33 - 65s - loss: 0.5523 - accuracy: 0.7955 - val_loss: 0.9709 - val_accuracy: 0.6540 - 65s/epoch - 2s/step\n",
      "Epoch 56/150\n",
      "33/33 - 65s - loss: 0.5174 - accuracy: 0.8004 - val_loss: 0.9143 - val_accuracy: 0.6654 - 65s/epoch - 2s/step\n",
      "Epoch 57/150\n",
      "33/33 - 64s - loss: 0.5262 - accuracy: 0.8053 - val_loss: 0.9705 - val_accuracy: 0.6464 - 64s/epoch - 2s/step\n",
      "Epoch 58/150\n",
      "33/33 - 65s - loss: 0.5253 - accuracy: 0.8150 - val_loss: 1.0057 - val_accuracy: 0.6616 - 65s/epoch - 2s/step\n",
      "Epoch 59/150\n",
      "33/33 - 64s - loss: 0.5287 - accuracy: 0.8053 - val_loss: 0.9889 - val_accuracy: 0.6692 - 64s/epoch - 2s/step\n",
      "Epoch 60/150\n"
     ]
    },
    {
     "ename": "KeyboardInterrupt",
     "evalue": "",
     "output_type": "error",
     "traceback": [
      "\u001b[0;31m---------------------------------------------------------------------------\u001b[0m",
      "\u001b[0;31mKeyboardInterrupt\u001b[0m                         Traceback (most recent call last)",
      "Cell \u001b[0;32mIn[58], line 1\u001b[0m\n\u001b[0;32m----> 1\u001b[0m history \u001b[38;5;241m=\u001b[39m \u001b[43mmodel\u001b[49m\u001b[38;5;241;43m.\u001b[39;49m\u001b[43mfit\u001b[49m\u001b[43m(\u001b[49m\n\u001b[1;32m      2\u001b[0m \u001b[43m      \u001b[49m\u001b[43mtrain_generator\u001b[49m\u001b[43m,\u001b[49m\n\u001b[1;32m      3\u001b[0m \u001b[43m      \u001b[49m\u001b[43msteps_per_epoch\u001b[49m\u001b[38;5;241;43m=\u001b[39;49m\u001b[38;5;28;43mlen\u001b[39;49m\u001b[43m(\u001b[49m\u001b[43mtrain_generator\u001b[49m\u001b[43m)\u001b[49m\u001b[43m,\u001b[49m\u001b[43m  \u001b[49m\n\u001b[1;32m      4\u001b[0m \u001b[43m      \u001b[49m\u001b[43mepochs\u001b[49m\u001b[38;5;241;43m=\u001b[39;49m\u001b[38;5;241;43m150\u001b[39;49m\u001b[43m,\u001b[49m\n\u001b[1;32m      5\u001b[0m \u001b[43m      \u001b[49m\u001b[38;5;66;43;03m#callbacks = [lr_scheduler],\u001b[39;49;00m\n\u001b[1;32m      6\u001b[0m \u001b[43m      \u001b[49m\u001b[43mverbose\u001b[49m\u001b[38;5;241;43m=\u001b[39;49m\u001b[38;5;241;43m2\u001b[39;49m\u001b[43m,\u001b[49m\n\u001b[1;32m      7\u001b[0m \u001b[43m      \u001b[49m\u001b[43mvalidation_data\u001b[49m\u001b[43m \u001b[49m\u001b[38;5;241;43m=\u001b[39;49m\u001b[43m \u001b[49m\u001b[43mvalidation_generator\u001b[49m\u001b[43m,\u001b[49m\n\u001b[1;32m      8\u001b[0m \u001b[43m      \u001b[49m\u001b[43mvalidation_steps\u001b[49m\u001b[38;5;241;43m=\u001b[39;49m\u001b[38;5;28;43mlen\u001b[39;49m\u001b[43m(\u001b[49m\u001b[43mvalidation_generator\u001b[49m\u001b[43m)\u001b[49m\u001b[43m)\u001b[49m\n",
      "File \u001b[0;32m~/.local/lib/python3.10/site-packages/keras/utils/traceback_utils.py:65\u001b[0m, in \u001b[0;36mfilter_traceback.<locals>.error_handler\u001b[0;34m(*args, **kwargs)\u001b[0m\n\u001b[1;32m     63\u001b[0m filtered_tb \u001b[38;5;241m=\u001b[39m \u001b[38;5;28;01mNone\u001b[39;00m\n\u001b[1;32m     64\u001b[0m \u001b[38;5;28;01mtry\u001b[39;00m:\n\u001b[0;32m---> 65\u001b[0m     \u001b[38;5;28;01mreturn\u001b[39;00m \u001b[43mfn\u001b[49m\u001b[43m(\u001b[49m\u001b[38;5;241;43m*\u001b[39;49m\u001b[43margs\u001b[49m\u001b[43m,\u001b[49m\u001b[43m \u001b[49m\u001b[38;5;241;43m*\u001b[39;49m\u001b[38;5;241;43m*\u001b[39;49m\u001b[43mkwargs\u001b[49m\u001b[43m)\u001b[49m\n\u001b[1;32m     66\u001b[0m \u001b[38;5;28;01mexcept\u001b[39;00m \u001b[38;5;167;01mException\u001b[39;00m \u001b[38;5;28;01mas\u001b[39;00m e:\n\u001b[1;32m     67\u001b[0m     filtered_tb \u001b[38;5;241m=\u001b[39m _process_traceback_frames(e\u001b[38;5;241m.\u001b[39m__traceback__)\n",
      "File \u001b[0;32m~/.local/lib/python3.10/site-packages/keras/engine/training.py:1650\u001b[0m, in \u001b[0;36mModel.fit\u001b[0;34m(self, x, y, batch_size, epochs, verbose, callbacks, validation_split, validation_data, shuffle, class_weight, sample_weight, initial_epoch, steps_per_epoch, validation_steps, validation_batch_size, validation_freq, max_queue_size, workers, use_multiprocessing)\u001b[0m\n\u001b[1;32m   1642\u001b[0m \u001b[38;5;28;01mwith\u001b[39;00m tf\u001b[38;5;241m.\u001b[39mprofiler\u001b[38;5;241m.\u001b[39mexperimental\u001b[38;5;241m.\u001b[39mTrace(\n\u001b[1;32m   1643\u001b[0m     \u001b[38;5;124m\"\u001b[39m\u001b[38;5;124mtrain\u001b[39m\u001b[38;5;124m\"\u001b[39m,\n\u001b[1;32m   1644\u001b[0m     epoch_num\u001b[38;5;241m=\u001b[39mepoch,\n\u001b[0;32m   (...)\u001b[0m\n\u001b[1;32m   1647\u001b[0m     _r\u001b[38;5;241m=\u001b[39m\u001b[38;5;241m1\u001b[39m,\n\u001b[1;32m   1648\u001b[0m ):\n\u001b[1;32m   1649\u001b[0m     callbacks\u001b[38;5;241m.\u001b[39mon_train_batch_begin(step)\n\u001b[0;32m-> 1650\u001b[0m     tmp_logs \u001b[38;5;241m=\u001b[39m \u001b[38;5;28;43mself\u001b[39;49m\u001b[38;5;241;43m.\u001b[39;49m\u001b[43mtrain_function\u001b[49m\u001b[43m(\u001b[49m\u001b[43miterator\u001b[49m\u001b[43m)\u001b[49m\n\u001b[1;32m   1651\u001b[0m     \u001b[38;5;28;01mif\u001b[39;00m data_handler\u001b[38;5;241m.\u001b[39mshould_sync:\n\u001b[1;32m   1652\u001b[0m         context\u001b[38;5;241m.\u001b[39masync_wait()\n",
      "File \u001b[0;32m~/.local/lib/python3.10/site-packages/tensorflow/python/util/traceback_utils.py:150\u001b[0m, in \u001b[0;36mfilter_traceback.<locals>.error_handler\u001b[0;34m(*args, **kwargs)\u001b[0m\n\u001b[1;32m    148\u001b[0m filtered_tb \u001b[38;5;241m=\u001b[39m \u001b[38;5;28;01mNone\u001b[39;00m\n\u001b[1;32m    149\u001b[0m \u001b[38;5;28;01mtry\u001b[39;00m:\n\u001b[0;32m--> 150\u001b[0m   \u001b[38;5;28;01mreturn\u001b[39;00m \u001b[43mfn\u001b[49m\u001b[43m(\u001b[49m\u001b[38;5;241;43m*\u001b[39;49m\u001b[43margs\u001b[49m\u001b[43m,\u001b[49m\u001b[43m \u001b[49m\u001b[38;5;241;43m*\u001b[39;49m\u001b[38;5;241;43m*\u001b[39;49m\u001b[43mkwargs\u001b[49m\u001b[43m)\u001b[49m\n\u001b[1;32m    151\u001b[0m \u001b[38;5;28;01mexcept\u001b[39;00m \u001b[38;5;167;01mException\u001b[39;00m \u001b[38;5;28;01mas\u001b[39;00m e:\n\u001b[1;32m    152\u001b[0m   filtered_tb \u001b[38;5;241m=\u001b[39m _process_traceback_frames(e\u001b[38;5;241m.\u001b[39m__traceback__)\n",
      "File \u001b[0;32m~/.local/lib/python3.10/site-packages/tensorflow/python/eager/polymorphic_function/polymorphic_function.py:880\u001b[0m, in \u001b[0;36mFunction.__call__\u001b[0;34m(self, *args, **kwds)\u001b[0m\n\u001b[1;32m    877\u001b[0m compiler \u001b[38;5;241m=\u001b[39m \u001b[38;5;124m\"\u001b[39m\u001b[38;5;124mxla\u001b[39m\u001b[38;5;124m\"\u001b[39m \u001b[38;5;28;01mif\u001b[39;00m \u001b[38;5;28mself\u001b[39m\u001b[38;5;241m.\u001b[39m_jit_compile \u001b[38;5;28;01melse\u001b[39;00m \u001b[38;5;124m\"\u001b[39m\u001b[38;5;124mnonXla\u001b[39m\u001b[38;5;124m\"\u001b[39m\n\u001b[1;32m    879\u001b[0m \u001b[38;5;28;01mwith\u001b[39;00m OptionalXlaContext(\u001b[38;5;28mself\u001b[39m\u001b[38;5;241m.\u001b[39m_jit_compile):\n\u001b[0;32m--> 880\u001b[0m   result \u001b[38;5;241m=\u001b[39m \u001b[38;5;28;43mself\u001b[39;49m\u001b[38;5;241;43m.\u001b[39;49m\u001b[43m_call\u001b[49m\u001b[43m(\u001b[49m\u001b[38;5;241;43m*\u001b[39;49m\u001b[43margs\u001b[49m\u001b[43m,\u001b[49m\u001b[43m \u001b[49m\u001b[38;5;241;43m*\u001b[39;49m\u001b[38;5;241;43m*\u001b[39;49m\u001b[43mkwds\u001b[49m\u001b[43m)\u001b[49m\n\u001b[1;32m    882\u001b[0m new_tracing_count \u001b[38;5;241m=\u001b[39m \u001b[38;5;28mself\u001b[39m\u001b[38;5;241m.\u001b[39mexperimental_get_tracing_count()\n\u001b[1;32m    883\u001b[0m without_tracing \u001b[38;5;241m=\u001b[39m (tracing_count \u001b[38;5;241m==\u001b[39m new_tracing_count)\n",
      "File \u001b[0;32m~/.local/lib/python3.10/site-packages/tensorflow/python/eager/polymorphic_function/polymorphic_function.py:912\u001b[0m, in \u001b[0;36mFunction._call\u001b[0;34m(self, *args, **kwds)\u001b[0m\n\u001b[1;32m    909\u001b[0m   \u001b[38;5;28mself\u001b[39m\u001b[38;5;241m.\u001b[39m_lock\u001b[38;5;241m.\u001b[39mrelease()\n\u001b[1;32m    910\u001b[0m   \u001b[38;5;66;03m# In this case we have created variables on the first call, so we run the\u001b[39;00m\n\u001b[1;32m    911\u001b[0m   \u001b[38;5;66;03m# defunned version which is guaranteed to never create variables.\u001b[39;00m\n\u001b[0;32m--> 912\u001b[0m   \u001b[38;5;28;01mreturn\u001b[39;00m \u001b[38;5;28;43mself\u001b[39;49m\u001b[38;5;241;43m.\u001b[39;49m\u001b[43m_no_variable_creation_fn\u001b[49m\u001b[43m(\u001b[49m\u001b[38;5;241;43m*\u001b[39;49m\u001b[43margs\u001b[49m\u001b[43m,\u001b[49m\u001b[43m \u001b[49m\u001b[38;5;241;43m*\u001b[39;49m\u001b[38;5;241;43m*\u001b[39;49m\u001b[43mkwds\u001b[49m\u001b[43m)\u001b[49m  \u001b[38;5;66;03m# pylint: disable=not-callable\u001b[39;00m\n\u001b[1;32m    913\u001b[0m \u001b[38;5;28;01melif\u001b[39;00m \u001b[38;5;28mself\u001b[39m\u001b[38;5;241m.\u001b[39m_variable_creation_fn \u001b[38;5;129;01mis\u001b[39;00m \u001b[38;5;129;01mnot\u001b[39;00m \u001b[38;5;28;01mNone\u001b[39;00m:\n\u001b[1;32m    914\u001b[0m   \u001b[38;5;66;03m# Release the lock early so that multiple threads can perform the call\u001b[39;00m\n\u001b[1;32m    915\u001b[0m   \u001b[38;5;66;03m# in parallel.\u001b[39;00m\n\u001b[1;32m    916\u001b[0m   \u001b[38;5;28mself\u001b[39m\u001b[38;5;241m.\u001b[39m_lock\u001b[38;5;241m.\u001b[39mrelease()\n",
      "File \u001b[0;32m~/.local/lib/python3.10/site-packages/tensorflow/python/eager/polymorphic_function/tracing_compiler.py:134\u001b[0m, in \u001b[0;36mTracingCompiler.__call__\u001b[0;34m(self, *args, **kwargs)\u001b[0m\n\u001b[1;32m    131\u001b[0m \u001b[38;5;28;01mwith\u001b[39;00m \u001b[38;5;28mself\u001b[39m\u001b[38;5;241m.\u001b[39m_lock:\n\u001b[1;32m    132\u001b[0m   (concrete_function,\n\u001b[1;32m    133\u001b[0m    filtered_flat_args) \u001b[38;5;241m=\u001b[39m \u001b[38;5;28mself\u001b[39m\u001b[38;5;241m.\u001b[39m_maybe_define_function(args, kwargs)\n\u001b[0;32m--> 134\u001b[0m \u001b[38;5;28;01mreturn\u001b[39;00m \u001b[43mconcrete_function\u001b[49m\u001b[38;5;241;43m.\u001b[39;49m\u001b[43m_call_flat\u001b[49m\u001b[43m(\u001b[49m\n\u001b[1;32m    135\u001b[0m \u001b[43m    \u001b[49m\u001b[43mfiltered_flat_args\u001b[49m\u001b[43m,\u001b[49m\u001b[43m \u001b[49m\u001b[43mcaptured_inputs\u001b[49m\u001b[38;5;241;43m=\u001b[39;49m\u001b[43mconcrete_function\u001b[49m\u001b[38;5;241;43m.\u001b[39;49m\u001b[43mcaptured_inputs\u001b[49m\u001b[43m)\u001b[49m\n",
      "File \u001b[0;32m~/.local/lib/python3.10/site-packages/tensorflow/python/eager/polymorphic_function/monomorphic_function.py:1745\u001b[0m, in \u001b[0;36mConcreteFunction._call_flat\u001b[0;34m(self, args, captured_inputs, cancellation_manager)\u001b[0m\n\u001b[1;32m   1741\u001b[0m possible_gradient_type \u001b[38;5;241m=\u001b[39m gradients_util\u001b[38;5;241m.\u001b[39mPossibleTapeGradientTypes(args)\n\u001b[1;32m   1742\u001b[0m \u001b[38;5;28;01mif\u001b[39;00m (possible_gradient_type \u001b[38;5;241m==\u001b[39m gradients_util\u001b[38;5;241m.\u001b[39mPOSSIBLE_GRADIENT_TYPES_NONE\n\u001b[1;32m   1743\u001b[0m     \u001b[38;5;129;01mand\u001b[39;00m executing_eagerly):\n\u001b[1;32m   1744\u001b[0m   \u001b[38;5;66;03m# No tape is watching; skip to running the function.\u001b[39;00m\n\u001b[0;32m-> 1745\u001b[0m   \u001b[38;5;28;01mreturn\u001b[39;00m \u001b[38;5;28mself\u001b[39m\u001b[38;5;241m.\u001b[39m_build_call_outputs(\u001b[38;5;28;43mself\u001b[39;49m\u001b[38;5;241;43m.\u001b[39;49m\u001b[43m_inference_function\u001b[49m\u001b[38;5;241;43m.\u001b[39;49m\u001b[43mcall\u001b[49m\u001b[43m(\u001b[49m\n\u001b[1;32m   1746\u001b[0m \u001b[43m      \u001b[49m\u001b[43mctx\u001b[49m\u001b[43m,\u001b[49m\u001b[43m \u001b[49m\u001b[43margs\u001b[49m\u001b[43m,\u001b[49m\u001b[43m \u001b[49m\u001b[43mcancellation_manager\u001b[49m\u001b[38;5;241;43m=\u001b[39;49m\u001b[43mcancellation_manager\u001b[49m\u001b[43m)\u001b[49m)\n\u001b[1;32m   1747\u001b[0m forward_backward \u001b[38;5;241m=\u001b[39m \u001b[38;5;28mself\u001b[39m\u001b[38;5;241m.\u001b[39m_select_forward_and_backward_functions(\n\u001b[1;32m   1748\u001b[0m     args,\n\u001b[1;32m   1749\u001b[0m     possible_gradient_type,\n\u001b[1;32m   1750\u001b[0m     executing_eagerly)\n\u001b[1;32m   1751\u001b[0m forward_function, args_with_tangents \u001b[38;5;241m=\u001b[39m forward_backward\u001b[38;5;241m.\u001b[39mforward()\n",
      "File \u001b[0;32m~/.local/lib/python3.10/site-packages/tensorflow/python/eager/polymorphic_function/monomorphic_function.py:378\u001b[0m, in \u001b[0;36m_EagerDefinedFunction.call\u001b[0;34m(self, ctx, args, cancellation_manager)\u001b[0m\n\u001b[1;32m    376\u001b[0m \u001b[38;5;28;01mwith\u001b[39;00m _InterpolateFunctionError(\u001b[38;5;28mself\u001b[39m):\n\u001b[1;32m    377\u001b[0m   \u001b[38;5;28;01mif\u001b[39;00m cancellation_manager \u001b[38;5;129;01mis\u001b[39;00m \u001b[38;5;28;01mNone\u001b[39;00m:\n\u001b[0;32m--> 378\u001b[0m     outputs \u001b[38;5;241m=\u001b[39m \u001b[43mexecute\u001b[49m\u001b[38;5;241;43m.\u001b[39;49m\u001b[43mexecute\u001b[49m\u001b[43m(\u001b[49m\n\u001b[1;32m    379\u001b[0m \u001b[43m        \u001b[49m\u001b[38;5;28;43mstr\u001b[39;49m\u001b[43m(\u001b[49m\u001b[38;5;28;43mself\u001b[39;49m\u001b[38;5;241;43m.\u001b[39;49m\u001b[43msignature\u001b[49m\u001b[38;5;241;43m.\u001b[39;49m\u001b[43mname\u001b[49m\u001b[43m)\u001b[49m\u001b[43m,\u001b[49m\n\u001b[1;32m    380\u001b[0m \u001b[43m        \u001b[49m\u001b[43mnum_outputs\u001b[49m\u001b[38;5;241;43m=\u001b[39;49m\u001b[38;5;28;43mself\u001b[39;49m\u001b[38;5;241;43m.\u001b[39;49m\u001b[43m_num_outputs\u001b[49m\u001b[43m,\u001b[49m\n\u001b[1;32m    381\u001b[0m \u001b[43m        \u001b[49m\u001b[43minputs\u001b[49m\u001b[38;5;241;43m=\u001b[39;49m\u001b[43margs\u001b[49m\u001b[43m,\u001b[49m\n\u001b[1;32m    382\u001b[0m \u001b[43m        \u001b[49m\u001b[43mattrs\u001b[49m\u001b[38;5;241;43m=\u001b[39;49m\u001b[43mattrs\u001b[49m\u001b[43m,\u001b[49m\n\u001b[1;32m    383\u001b[0m \u001b[43m        \u001b[49m\u001b[43mctx\u001b[49m\u001b[38;5;241;43m=\u001b[39;49m\u001b[43mctx\u001b[49m\u001b[43m)\u001b[49m\n\u001b[1;32m    384\u001b[0m   \u001b[38;5;28;01melse\u001b[39;00m:\n\u001b[1;32m    385\u001b[0m     outputs \u001b[38;5;241m=\u001b[39m execute\u001b[38;5;241m.\u001b[39mexecute_with_cancellation(\n\u001b[1;32m    386\u001b[0m         \u001b[38;5;28mstr\u001b[39m(\u001b[38;5;28mself\u001b[39m\u001b[38;5;241m.\u001b[39msignature\u001b[38;5;241m.\u001b[39mname),\n\u001b[1;32m    387\u001b[0m         num_outputs\u001b[38;5;241m=\u001b[39m\u001b[38;5;28mself\u001b[39m\u001b[38;5;241m.\u001b[39m_num_outputs,\n\u001b[0;32m   (...)\u001b[0m\n\u001b[1;32m    390\u001b[0m         ctx\u001b[38;5;241m=\u001b[39mctx,\n\u001b[1;32m    391\u001b[0m         cancellation_manager\u001b[38;5;241m=\u001b[39mcancellation_manager)\n",
      "File \u001b[0;32m~/.local/lib/python3.10/site-packages/tensorflow/python/eager/execute.py:52\u001b[0m, in \u001b[0;36mquick_execute\u001b[0;34m(op_name, num_outputs, inputs, attrs, ctx, name)\u001b[0m\n\u001b[1;32m     50\u001b[0m \u001b[38;5;28;01mtry\u001b[39;00m:\n\u001b[1;32m     51\u001b[0m   ctx\u001b[38;5;241m.\u001b[39mensure_initialized()\n\u001b[0;32m---> 52\u001b[0m   tensors \u001b[38;5;241m=\u001b[39m \u001b[43mpywrap_tfe\u001b[49m\u001b[38;5;241;43m.\u001b[39;49m\u001b[43mTFE_Py_Execute\u001b[49m\u001b[43m(\u001b[49m\u001b[43mctx\u001b[49m\u001b[38;5;241;43m.\u001b[39;49m\u001b[43m_handle\u001b[49m\u001b[43m,\u001b[49m\u001b[43m \u001b[49m\u001b[43mdevice_name\u001b[49m\u001b[43m,\u001b[49m\u001b[43m \u001b[49m\u001b[43mop_name\u001b[49m\u001b[43m,\u001b[49m\n\u001b[1;32m     53\u001b[0m \u001b[43m                                      \u001b[49m\u001b[43minputs\u001b[49m\u001b[43m,\u001b[49m\u001b[43m \u001b[49m\u001b[43mattrs\u001b[49m\u001b[43m,\u001b[49m\u001b[43m \u001b[49m\u001b[43mnum_outputs\u001b[49m\u001b[43m)\u001b[49m\n\u001b[1;32m     54\u001b[0m \u001b[38;5;28;01mexcept\u001b[39;00m core\u001b[38;5;241m.\u001b[39m_NotOkStatusException \u001b[38;5;28;01mas\u001b[39;00m e:\n\u001b[1;32m     55\u001b[0m   \u001b[38;5;28;01mif\u001b[39;00m name \u001b[38;5;129;01mis\u001b[39;00m \u001b[38;5;129;01mnot\u001b[39;00m \u001b[38;5;28;01mNone\u001b[39;00m:\n",
      "\u001b[0;31mKeyboardInterrupt\u001b[0m: "
     ]
    }
   ],
   "source": [
    "history = model.fit(\n",
    "      train_generator,\n",
    "      steps_per_epoch=len(train_generator),  \n",
    "      epochs=150,\n",
    "      #callbacks = [lr_scheduler],\n",
    "      verbose=2,\n",
    "      validation_data = validation_generator,\n",
    "      validation_steps=len(validation_generator))"
   ]
  },
  {
   "cell_type": "code",
   "execution_count": 28,
   "id": "71b6c3ba-ddbc-46c8-925a-72575ab3d497",
   "metadata": {},
   "outputs": [],
   "source": [
    "import pandas as pd"
   ]
  },
  {
   "cell_type": "code",
   "execution_count": 29,
   "id": "5c43cfaa-e26c-4dbf-9243-0fb0a6fcc37e",
   "metadata": {},
   "outputs": [
    {
     "data": {
      "image/png": "[encoded data removed]",
      "text/plain": [
       "<Figure size 1000x700 with 1 Axes>"
      ]
     },
     "metadata": {},
     "output_type": "display_data"
    }
   ],
   "source": [
    "pd.DataFrame(history.history).plot(figsize = (10, 7), xlabel = \"epochs\");"
   ]
  },
  {
   "cell_type": "code",
   "execution_count": 30,
   "id": "cfcceb18-0ae5-472d-8753-4ac9c469663e",
   "metadata": {},
   "outputs": [],
   "source": [
    "# #plot the learning rate versus the loss\n",
    "# lrs = 1e-4 * (10 ** (tf.range(300)/20))\n",
    "# plt.figure(figsize = (10,7))\n",
    "# plt.semilogx(lrs, history.history[\"loss\"])\n",
    "# plt.xlabel(\"learning rate\")\n",
    "# plt.ylabel(\"loss\")\n",
    "# plt.title(\"learning rate vs loss\")"
   ]
  },
  {
   "cell_type": "code",
   "execution_count": 31,
   "id": "0d4a147c-20d5-49a6-8c65-3a746f4dea5c",
   "metadata": {},
   "outputs": [],
   "source": [
    "%matplotlib inline\n",
    "\n",
    "import matplotlib.image as mpimg\n",
    "import matplotlib.pyplot as plt"
   ]
  },
  {
   "cell_type": "code",
   "execution_count": 32,
   "id": "61106d45-50d9-4d21-96a3-8a4de60ddfb5",
   "metadata": {},
   "outputs": [],
   "source": [
    "# evaluating accuracy and loss for the model\n"
   ]
  },
  {
   "cell_type": "code",
   "execution_count": 33,
   "id": "6ffe7d33-0b73-4c00-b53c-b5ba658b8df4",
   "metadata": {},
   "outputs": [
    {
     "data": {
      "text/plain": [
       "<Figure size 640x480 with 0 Axes>"
      ]
     },
     "execution_count": 33,
     "metadata": {},
     "output_type": "execute_result"
    },
    {
     "data": {
      "image/png": "[encoded data removed]",
      "text/plain": [
       "<Figure size 640x480 with 1 Axes>"
      ]
     },
     "metadata": {},
     "output_type": "display_data"
    },
    {
     "data": {
      "image/png": "[encoded data removed]",
      "text/plain": [
       "<Figure size 640x480 with 1 Axes>"
      ]
     },
     "metadata": {},
     "output_type": "display_data"
    },
    {
     "data": {
      "text/plain": [
       "<Figure size 640x480 with 0 Axes>"
      ]
     },
     "metadata": {},
     "output_type": "display_data"
    }
   ],
   "source": [
    "#-----------------------------------------------------------\n",
    "# Retrieve a list of list results on training and test data\n",
    "# sets for each training epoch\n",
    "#-----------------------------------------------------------\n",
    "acc      = history.history[     'accuracy' ]\n",
    "val_acc  = history.history[ 'val_accuracy' ]\n",
    "loss     = history.history[    'loss' ]\n",
    "val_loss = history.history['val_loss' ]\n",
    "\n",
    "epochs   = range(len(acc)) # Get number of epochs\n",
    "\n",
    "#------------------------------------------------\n",
    "# Plot training and validation accuracy per epoch\n",
    "#------------------------------------------------\n",
    "plt.plot(epochs, acc, 'r', label='Training accuracy')\n",
    "plt.plot(epochs, val_acc, 'b', label='Validation accuracy')\n",
    "plt.title ('Training and validation accuracy')\n",
    "plt.legend(loc=0)\n",
    "plt.figure()\n",
    "\n",
    "#------------------------------------------------\n",
    "# Plot training and validation loss per epoch\n",
    "#------------------------------------------------\n",
    "plt.plot  ( epochs,     loss , 'r', label='Training loss')\n",
    "plt.plot  ( epochs, val_loss , 'b', label='Validation loss')\n",
    "plt.title ('Training and validation loss'   )\n",
    "plt.legend(loc=0)\n",
    "plt.figure()\n"
   ]
  },
  {
   "cell_type": "markdown",
   "id": "dd5d560d-8947-458f-a521-4865884a4d1b",
   "metadata": {},
   "source": [
    "# menyimpan model TAPI BELUM YANG VERSI QUANTIZED "
   ]
  },
  {
   "cell_type": "code",
   "execution_count": 37,
   "id": "1ba0b934-5fc5-4956-b5cf-e956b56fd50c",
   "metadata": {},
   "outputs": [],
   "source": [
    "\n",
    "from keras.models import load_model\n",
    "\n",
    "model.save('/home/jupyter/content/kerasFormat_model4/model_vggFace_12Juni.h5')"
   ]
  },
  {
   "cell_type": "code",
   "execution_count": 35,
   "id": "f261c8d0-16d6-4cda-b8a4-e74f2332bf08",
   "metadata": {},
   "outputs": [
    {
     "name": "stderr",
     "output_type": "stream",
     "text": [
      "WARNING:absl:Found untraced functions such as _jit_compiled_convolution_op, _jit_compiled_convolution_op, _jit_compiled_convolution_op, _jit_compiled_convolution_op, _jit_compiled_convolution_op while saving (showing 5 of 15). These functions will not be directly callable after loading.\n"
     ]
    },
    {
     "name": "stdout",
     "output_type": "stream",
     "text": [
      "INFO:tensorflow:Assets written to: /home/jupyter/content/saved Model4/assets\n"
     ]
    },
    {
     "name": "stderr",
     "output_type": "stream",
     "text": [
      "INFO:tensorflow:Assets written to: /home/jupyter/content/saved Model4/assets\n"
     ]
    }
   ],
   "source": [
    "\n",
    "from keras.models import load_model\n",
    "\n",
    "model.save('/home/jupyter/content/saved Model4')"
   ]
  },
  {
   "cell_type": "markdown",
   "id": "d3348b7e-1afc-43ba-b03d-7bb1313f1e6f",
   "metadata": {},
   "source": [
    "# Convert to Tensorflow LITE"
   ]
  },
  {
   "cell_type": "code",
   "execution_count": null,
   "id": "88ff9e5e-e9d5-4abd-8cee-cea4c70f75b7",
   "metadata": {},
   "outputs": [],
   "source": [
    "try:\n",
    "    %tensorflow_version 2.x\n",
    "except:\n",
    "    pass"
   ]
  },
  {
   "cell_type": "code",
   "execution_count": null,
   "id": "0b9236cc-49fc-4594-b613-fac425da2774",
   "metadata": {},
   "outputs": [],
   "source": [
    "import pathlib\n",
    "\n",
    "print('\\u2022 Using TensorFlow Version:', tf.__version__)"
   ]
  },
  {
   "cell_type": "code",
   "execution_count": null,
   "id": "30108970-518c-4f1e-97ba-841a5f72ca26",
   "metadata": {},
   "outputs": [],
   "source": []
  },
  {
   "cell_type": "code",
   "execution_count": null,
   "id": "69c8f63f-c1f8-475e-8288-a16f0c4ef63b",
   "metadata": {},
   "outputs": [],
   "source": [
    "#!mkdir saved_TFLITE_model"
   ]
  },
  {
   "cell_type": "markdown",
   "id": "4373b651-7b84-4c3b-87be-a79c68589c64",
   "metadata": {},
   "source": [
    "generate SavedModel"
   ]
  },
  {
   "cell_type": "code",
   "execution_count": null,
   "id": "655e25c2-7c74-4488-ac42-be95ececfcb4",
   "metadata": {},
   "outputs": [],
   "source": [
    "export_dir = \"home/jupyter/content/saved_TFLITE_model\"\n",
    "tf.saved_model.save(model, export_dir)"
   ]
  },
  {
   "cell_type": "code",
   "execution_count": null,
   "id": "ce20a688-f59e-4a15-8730-31003f86dad3",
   "metadata": {},
   "outputs": [],
   "source": [
    "model = tf.saved_model.load(export_dir)"
   ]
  },
  {
   "cell_type": "markdown",
   "id": "3c012001-21dc-4052-9c69-6cef5e99905a",
   "metadata": {},
   "source": [
    "Convert the SavedModel to JSON"
   ]
  },
  {
   "cell_type": "code",
   "execution_count": null,
   "id": "268baeb6-5c26-4b14-91c7-43ad8424bfcc",
   "metadata": {},
   "outputs": [],
   "source": [
    "#!pip install --user tensorflowjs"
   ]
  },
  {
   "cell_type": "code",
   "execution_count": null,
   "id": "d8e37300-f1e7-48c8-ae8b-271df0150c1e",
   "metadata": {},
   "outputs": [],
   "source": [
    "# import tensorflowjs\n",
    "# import json"
   ]
  },
  {
   "cell_type": "code",
   "execution_count": null,
   "id": "554fb0eb-4431-4132-878c-a77deb5f18e2",
   "metadata": {},
   "outputs": [],
   "source": [
    "\n",
    "\n",
    "# # Load the SavedModel\n",
    "# model = tf.saved_model.load('home/jupyter/content/saved Model')\n"
   ]
  },
  {
   "cell_type": "code",
   "execution_count": null,
   "id": "99710e1e-2f30-4c78-8a58-b528368b6bc4",
   "metadata": {},
   "outputs": [],
   "source": [
    "import tensorflow as tf\n",
    "import json\n",
    "\n",
    "# Load the SavedModel\n",
    "model = tf.saved_model.load(export_dir)\n",
    "\n",
    "# Convert tensor shapes to lists\n",
    "def convert_shape(shape):\n",
    "    return [dim for dim in shape.as_list()]\n",
    "\n",
    "# Create a dictionary to store the JSON model\n",
    "json_model = {}\n",
    "\n",
    "# Get information about inputs\n",
    "input_signatures = model.signatures['serving_default'].structured_input_signature[1]\n",
    "json_model['inputs'] = []\n",
    "for tensor_name, tensor_info in input_signatures.items():\n",
    "    input_info = {\n",
    "        'name': tensor_name,\n",
    "        'dtype': str(tensor_info.dtype),\n",
    "        'shape': convert_shape(tensor_info.shape),\n",
    "    }\n",
    "    json_model['inputs'].append(input_info)\n",
    "\n",
    "# Get information about outputs\n",
    "output_signatures = model.signatures['serving_default'].structured_outputs\n",
    "json_model['outputs'] = []\n",
    "for tensor_name, tensor_info in output_signatures.items():\n",
    "    output_info = {\n",
    "        'name': tensor_name,\n",
    "        'dtype': str(tensor_info.dtype),\n",
    "        'shape': convert_shape(tensor_info.shape),\n",
    "    }\n",
    "    json_model['outputs'].append(output_info)\n",
    "\n",
    "# Save the JSON model to a file\n",
    "with open('model.json', 'w') as f:\n",
    "    json.dump(json_model, f)\n"
   ]
  },
  {
   "cell_type": "markdown",
   "id": "288502a5-bf90-4c59-9a59-93800954360b",
   "metadata": {},
   "source": [
    "Convert the SavedModel to TFLite"
   ]
  },
  {
   "cell_type": "code",
   "execution_count": null,
   "id": "c37b2b93-c569-46d8-8489-8dc60af2abb4",
   "metadata": {},
   "outputs": [],
   "source": [
    "# # Convert the model.\n",
    "# converter = tf.lite.TFLiteConverter.from_saved_model(export_dir)\n",
    "\n",
    "# # Set the optimization flags for quantization\n",
    "# converter.optimizations = [tf.lite.Optimize.DEFAULT] # INTINYA DISINI UNTUK MELAKUKAN QUANTIZED\n",
    "\n",
    "# # Specify the input and output tensors (if necessary)\n",
    "# # converter.target_spec.supported_ops = [tf.lite.OpsSet.TFLITE_BUILTINS_INT8]\n",
    "# # converter.target_spec.supported_types = [tf.int8]\n",
    "\n",
    "# tflite_model = converter.convert()"
   ]
  },
  {
   "cell_type": "code",
   "execution_count": null,
   "id": "81ebf261-2e1c-44b4-9ee1-81e278476d43",
   "metadata": {},
   "outputs": [],
   "source": [
    "# tflite_model_file = pathlib.Path('home/jupyter/content/')\n",
    "# tflite_model_file.write_bytes(tflite_model)"
   ]
  },
  {
   "cell_type": "markdown",
   "id": "46a2c46a-bdf4-42a1-99ea-5c9fa629e8ce",
   "metadata": {},
   "source": [
    "# labels"
   ]
  },
  {
   "cell_type": "code",
   "execution_count": null,
   "id": "8bbdf43f-d089-4bbd-a6b8-286bc7e5c207",
   "metadata": {},
   "outputs": [],
   "source": [
    "class_names = ['combination', 'dry', 'nonface' ,'normal', 'oily', 'sensitive']\n"
   ]
  },
  {
   "cell_type": "markdown",
   "id": "c54c4878-590b-4ba8-a360-8ab322c78535",
   "metadata": {},
   "source": [
    "create a txt file to save the 5 labels"
   ]
  },
  {
   "cell_type": "code",
   "execution_count": null,
   "id": "21f9ed5f-eca5-4d5d-9758-7b7ad7f43cd7",
   "metadata": {},
   "outputs": [],
   "source": [
    "with open('faces_labels.txt', 'w') as f:\n",
    "    f.write('\\n'.join(class_names))"
   ]
  },
  {
   "cell_type": "code",
   "execution_count": null,
   "id": "c5b1f673-d372-4337-acba-d3ff86e96ad5",
   "metadata": {},
   "outputs": [],
   "source": [
    "import shutil\n",
    "shutil.copy(\"/content/faces_labels.txt\",\"/content/drive/MyDrive/saved model\")"
   ]
  },
  {
   "cell_type": "code",
   "execution_count": null,
   "id": "3bb1ec18-a5b4-48fe-a91e-692c83488112",
   "metadata": {},
   "outputs": [],
   "source": [
    "from google.colab import drive\n",
    "drive.mount('/content/drive')"
   ]
  },
  {
   "cell_type": "code",
   "execution_count": null,
   "id": "9c9fa4af-afc2-4764-8ec8-6266f5be9117",
   "metadata": {},
   "outputs": [],
   "source": [
    "import os\n",
    "file_path = \"/home/jupyter/content/kerasFormat_model/model_vggFace_10Juni.h5\"  # Replace with the correct file path\n",
    "file_size = os.path.getsize(file_path)\n",
    "print(file_size)\n"
   ]
  },
  {
   "cell_type": "code",
   "execution_count": null,
   "id": "13ff3d23-ea45-4637-b4d9-f54584b6aa3e",
   "metadata": {},
   "outputs": [],
   "source": [
    "!wget -O /home/jupyter/content/kerasFormat_model/model_vggFace_10Juni.h5 https://58948e97954de7e0-dot-asia-southeast2.notebooks.googleusercontent.com/files/content/kerasFormat_model/model_vggFace_10Juni.h5?_xsrf=2%7C1f091a48%7C9c97e6fd85cef3a278dc9a8e0d4188fa%7C1686143743\n"
   ]
  },
  {
   "cell_type": "code",
   "execution_count": null,
   "id": "ece381be-7656-4af0-af7f-079da92099cd",
   "metadata": {},
   "outputs": [],
   "source": []
  }
 ],
 "metadata": {
  "environment": {
   "kernel": "python3",
   "name": "tf2-gpu.2-11.m108",
   "type": "gcloud",
   "uri": "gcr.io/deeplearning-platform-release/tf2-gpu.2-11:m108"
  },
  "kernelspec": {
   "display_name": "Python 3 (ipykernel)",
   "language": "python",
   "name": "python3"
  },
  "language_info": {
   "codemirror_mode": {
    "name": "ipython",
    "version": 3
   },
   "file_extension": ".py",
   "mimetype": "text/x-python",
   "name": "python",
   "nbconvert_exporter": "python",
   "pygments_lexer": "ipython3",
   "version": "3.10.10"
  }
 },
 "nbformat": 4,
 "nbformat_minor": 5
}
