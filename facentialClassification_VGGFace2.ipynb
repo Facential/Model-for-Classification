{
  "cells": [
    {
      "cell_type": "code",
      "execution_count": null,
      "metadata": {
        "colab": {
          "base_uri": "https://localhost:8080/"
        },
        "id": "uPH70XvUmbg1",
        "outputId": "9df75d48-072c-4835-ad89-fb331d927a72"
      },
      "outputs": [
        {
          "output_type": "stream",
          "name": "stdout",
          "text": [
            "Bissmillahirrahmanirrahim top 50 product capstone\n"
          ]
        }
      ],
      "source": [
        "print(\"Bissmillahirrahmanirrahim top 50 product capstone\")\n"
      ]
    },
    {
      "cell_type": "code",
      "execution_count": null,
      "metadata": {
        "colab": {
          "base_uri": "https://localhost:8080/"
        },
        "id": "hO6BsmP4mrAX",
        "outputId": "2f66b334-4b68-4a18-d7d3-57734736c03a"
      },
      "outputs": [
        {
          "output_type": "stream",
          "name": "stdout",
          "text": [
            "2.12.0\n"
          ]
        }
      ],
      "source": [
        "import tensorflow as tf\n",
        "print(tf.__version__)"
      ]
    },
    {
      "cell_type": "markdown",
      "metadata": {
        "id": "t6jJvF6nLw6j"
      },
      "source": [
        "downloading our facential datasets"
      ]
    },
    {
      "cell_type": "code",
      "execution_count": null,
      "metadata": {
        "colab": {
          "base_uri": "https://localhost:8080/"
        },
        "id": "pBhoE5Xeu0en",
        "outputId": "8b522e8a-4dd0-4c01-aa11-7c0c2b2a628c"
      },
      "outputs": [
        {
          "output_type": "stream",
          "name": "stdout",
          "text": [
            "--2023-06-08 13:55:17--  https://storage.googleapis.com/facentiap-dataset-zip/faceSkin_tipe_train.zip\n",
            "Resolving storage.googleapis.com (storage.googleapis.com)... 142.251.175.128, 172.253.118.128, 74.125.24.128, ...\n",
            "Connecting to storage.googleapis.com (storage.googleapis.com)|142.251.175.128|:443... connected.\n",
            "HTTP request sent, awaiting response... 403 Forbidden\n",
            "2023-06-08 13:55:17 ERROR 403: Forbidden.\n",
            "\n"
          ]
        }
      ],
      "source": [
        "#Download the training set\n",
        "\n",
        "!wget https://storage.googleapis.com/facentiap-dataset-zip/faceSkin_tipe_train.zip"
      ]
    },
    {
      "cell_type": "code",
      "execution_count": null,
      "metadata": {
        "colab": {
          "base_uri": "https://localhost:8080/"
        },
        "id": "oakmzY3DosCL",
        "outputId": "005eaffc-daab-45ca-ac26-4b8da89f65d4"
      },
      "outputs": [
        {
          "output_type": "stream",
          "name": "stdout",
          "text": [
            "--2023-06-08 13:55:17--  https://storage.googleapis.com/facentiap-dataset-zip/faceSkin_tipe_validation.zip\n",
            "Resolving storage.googleapis.com (storage.googleapis.com)... 142.251.175.128, 172.253.118.128, 74.125.24.128, ...\n",
            "Connecting to storage.googleapis.com (storage.googleapis.com)|142.251.175.128|:443... connected.\n",
            "HTTP request sent, awaiting response... 403 Forbidden\n",
            "2023-06-08 13:55:17 ERROR 403: Forbidden.\n",
            "\n"
          ]
        }
      ],
      "source": [
        "#Download the validation set\n",
        "\n",
        "!wget https://storage.googleapis.com/facentiap-dataset-zip/faceSkin_tipe_validation.zip\n"
      ]
    },
    {
      "cell_type": "markdown",
      "metadata": {
        "id": "aV0_DRzAqI95"
      },
      "source": [
        "download the pretrained model (VGGFACE)\n"
      ]
    },
    {
      "cell_type": "code",
      "execution_count": null,
      "metadata": {
        "id": "4Na0BY2v7zcZ"
      },
      "outputs": [],
      "source": [
        "\n",
        "from keras.layers import Input, Lambda, Dense, Flatten\n",
        "from keras.models import Model\n",
        "\n",
        "from keras.preprocessing import image\n",
        "from keras.preprocessing.image import ImageDataGenerator\n",
        "from keras.models import Sequential\n",
        "import numpy as np\n",
        "from glob import glob\n",
        "import matplotlib.pyplot as plt"
      ]
    },
    {
      "cell_type": "code",
      "execution_count": null,
      "metadata": {
        "colab": {
          "base_uri": "https://localhost:8080/"
        },
        "id": "xMVxkwVdqLeC",
        "outputId": "7cb99a90-aa0f-4229-81b7-14462cb35182"
      },
      "outputs": [
        {
          "output_type": "stream",
          "name": "stdout",
          "text": [
            "--2023-06-06 04:14:14--  https://storage.googleapis.com/facentiap-dataset-zip/vgg_face_weights.h5\n",
            "Resolving storage.googleapis.com (storage.googleapis.com)... 142.250.4.128, 142.251.10.128, 142.251.12.128, ...\n",
            "Connecting to storage.googleapis.com (storage.googleapis.com)|142.250.4.128|:443... connected.\n",
            "HTTP request sent, awaiting response... 200 OK\n",
            "Length: 580085408 (553M) [application/octet-stream]\n",
            "Saving to: ‘vgg_face_weights.h5’\n",
            "\n",
            "vgg_face_weights.h5 100%[===================>] 553.21M  59.3MB/s    in 10s     \n",
            "\n",
            "2023-06-06 04:14:24 (53.7 MB/s) - ‘vgg_face_weights.h5’ saved [580085408/580085408]\n",
            "\n"
          ]
        }
      ],
      "source": [
        "\n",
        "!wget https://storage.googleapis.com/facentiap-dataset-zip/vgg_face_weights.h5\n"
      ]
    },
    {
      "cell_type": "markdown",
      "metadata": {
        "id": "gEU5Fem5xi87"
      },
      "source": [
        "unzip validation dan train dataset\n"
      ]
    },
    {
      "cell_type": "code",
      "execution_count": null,
      "metadata": {
        "id": "okUgtn_OvJZ6"
      },
      "outputs": [],
      "source": [
        "import os\n",
        "import zipfile\n",
        "\n",
        "# Unzip training set\n",
        "local_zip = './faceSkin_tipe_train.zip'\n",
        "zip_ref = zipfile.ZipFile(local_zip, 'r')\n",
        "zip_ref.extractall('./faceSkin_tipe_train')\n",
        "\n",
        "# Unzip validation set\n",
        "local_zip = './faceSkin_tipe_validation.zip'\n",
        "zip_ref = zipfile.ZipFile(local_zip, 'r')\n",
        "zip_ref.extractall('./faceSkin_tipe_validation')\n",
        "\n",
        "zip_ref.close()"
      ]
    },
    {
      "cell_type": "markdown",
      "metadata": {
        "id": "H5FACL9WKE_R"
      },
      "source": [
        " define the directories containing your images"
      ]
    },
    {
      "cell_type": "code",
      "execution_count": null,
      "metadata": {
        "id": "9ArBTCOxKFoa"
      },
      "outputs": [],
      "source": [
        "# variabel directory for training pict for each category\n",
        "train_oily_dir = os.path.join(\"./faceSkin_tipe_train/oily\")\n",
        "train_normal_dir = os.path.join(\"./faceSkin_tipe_train/normal\")\n",
        "train_combination_dir =os.path.join(\"./faceSkin_tipe_train/combination\")\n",
        "train_sensitive_dir = os.path.join(\"./faceSkin_tipe_train/sensitive\")\n",
        "train_dry_dir = os.path.join(\"./faceSkin_tipe_train/dry\")\n",
        "train_nonface_dir = os.path.join(\"./faceSkin_tipe_train/nonface\")\n",
        "\n",
        "# variabel directory for validation pict for each category\n",
        "validation_oily_dir =os.path.join(\"./faceSkin_tipe_validation/oily\")\n",
        "validation_normal_dir =os.path.join(\"./faceSkin_tipe_validation/normal\")\n",
        "validation_combination_dir =os.path.join(\"./faceSkin_tipe_validation/combination\")\n",
        "validation_sensitive_dir =os.path.join(\"./faceSkin_tipe_validation/sensitive\")\n",
        "validation_dry_dir =os.path.join(\"./faceSkin_tipe_validation/dry\")\n",
        "validation_nonface_dir =os.path.join(\"./faceSkin_tipe_validation/nonface\")"
      ]
    },
    {
      "cell_type": "markdown",
      "metadata": {
        "id": "lrHCn0JBL1Oy"
      },
      "source": [
        "filenames check in directory"
      ]
    },
    {
      "cell_type": "code",
      "execution_count": null,
      "metadata": {
        "colab": {
          "base_uri": "https://localhost:8080/"
        },
        "id": "CJMDa8ExL72M",
        "outputId": "eebbe6ef-e1c0-4582-a0da-8ea93a0a0b17"
      },
      "outputs": [
        {
          "output_type": "stream",
          "name": "stdout",
          "text": [
            "TRAIN SET DRY: ['1 (93).jpg', 'm1-033-01.jpg', '1 (55).jpg', 'm-029-01.jpg', '1 (76).jpg']\n",
            "TRAIN SET OILY: ['1 (93).jpg', 'm1-033-01.jpg', '1 (55).jpg', 'm-029-01.jpg', '1 (76).jpg']\n",
            "TRAIN SET SENSITIVE: ['1 (93).jpg', 'm1-033-01.jpg', '1 (55).jpg', 'm-029-01.jpg', '1 (76).jpg']\n",
            "TRAIN SET COMBINATION: ['1 (93).jpg', 'm1-033-01.jpg', '1 (55).jpg', 'm-029-01.jpg', '1 (76).jpg']\n",
            "TRAIN SET NORMAL: ['1 (93).jpg', 'm1-033-01.jpg', '1 (55).jpg', 'm-029-01.jpg', '1 (76).jpg']\n",
            "TRAIN SET NONFACE: ['000000036936.jpg', '000000003845.jpg', '000000029984.jpg', '000000011699.jpg', '000000029596.jpg'] \n",
            "\n",
            "VALIDATION SET DRY: ['f-013-01.jpg', '1 (32).jpg', 'f-009-01.jpg', '1 (72).jpg', 'f-012-01.jpg']\n",
            "VALIDATION SET OILY: ['f-013-01.jpg', '1 (32).jpg', 'f-009-01.jpg', '1 (72).jpg', 'f-012-01.jpg']\n",
            "VALIDATION SET SENSITIVE: ['f-013-01.jpg', '1 (32).jpg', 'f-009-01.jpg', '1 (72).jpg', 'f-012-01.jpg']\n",
            "VALIDATION SET COMBINATION: ['f-013-01.jpg', '1 (32).jpg', 'f-009-01.jpg', '1 (72).jpg', 'f-012-01.jpg']\n",
            "VALIDATION SET NORMAL: ['f-013-01.jpg', '1 (32).jpg', 'f-009-01.jpg', '1 (72).jpg', 'f-012-01.jpg']\n",
            "VALIDATION SET NONFACE: ['000000050638.jpg', '000000056545.jpg', '000000051976.jpg', '000000050828.jpg', '000000051309.jpg']\n"
          ]
        }
      ],
      "source": [
        "train_dry_names = os.listdir(train_dry_dir)\n",
        "train_oily_names = os.listdir(train_oily_dir)\n",
        "train_normal_names =  os.listdir(train_normal_dir)\n",
        "train_combination_names =  os.listdir(train_combination_dir)\n",
        "train_sensitive_names =  os.listdir(train_sensitive_dir)\n",
        "train_nonface_names =  os.listdir(train_nonface_dir)\n",
        "\n",
        "validation_dry_names = os.listdir(validation_dry_dir)\n",
        "validation_oily_names = os.listdir(validation_oily_dir)\n",
        "validation_normal_names =  os.listdir(validation_normal_dir)\n",
        "validation_combination_names =  os.listdir(validation_combination_dir)\n",
        "validation_sensitive_names =  os.listdir(validation_sensitive_dir)\n",
        "validation_nonface_names =  os.listdir(validation_nonface_dir)\n",
        "\n",
        "print(f'TRAIN SET DRY: {train_dry_names[:5]}')\n",
        "print(f'TRAIN SET OILY: {train_dry_names[:5]}')\n",
        "print(f'TRAIN SET SENSITIVE: {train_dry_names[:5]}')\n",
        "print(f'TRAIN SET COMBINATION: {train_dry_names[:5]}')\n",
        "print(f'TRAIN SET NORMAL: {train_dry_names[:5]}')\n",
        "\n",
        "\n",
        "print(f'VALIDATION SET DRY: {validation_dry_names[:5]}')\n",
        "print(f'VALIDATION SET OILY: {validation_dry_names[:5]}')\n",
        "print(f'VALIDATION SET SENSITIVE: {validation_dry_names[:5]}')\n",
        "print(f'VALIDATION SET COMBINATION: {validation_dry_names[:5]}')\n",
        "print(f'VALIDATION SET NORMAL: {validation_dry_names[:5]}')\n"
      ]
    },
    {
      "cell_type": "markdown",
      "metadata": {
        "id": "WHF4NcaMNR5M"
      },
      "source": [
        "chacking total number of images for each categories in training and validation directories "
      ]
    },
    {
      "cell_type": "code",
      "execution_count": null,
      "metadata": {
        "colab": {
          "base_uri": "https://localhost:8080/"
        },
        "id": "0CpBgwwpJse0",
        "outputId": "6fc317e8-0e5c-47f6-e8bb-8e696156d00b"
      },
      "outputs": [
        {
          "output_type": "stream",
          "name": "stdout",
          "text": [
            "total training oily images: 128\n",
            "total training dry images: 107\n",
            "total training normal images: 88\n",
            "total training combination images: 58\n",
            "total training sensitive images: 86\n",
            "total training nonface images: 400\n",
            "\n",
            "total validation oily images: 32\n",
            "total validation dry images: 26\n",
            "total validation normal images: 22\n",
            "total validation combination images: 14\n",
            "total validation sensitive images: 21\n",
            "total validation nonface images: 100\n"
          ]
        }
      ],
      "source": [
        "print(f'total training oily images: {len(os.listdir(train_oily_dir))}')\n",
        "print(f'total training dry images: {len(os.listdir(train_dry_dir))}')\n",
        "print(f'total training normal images: {len(os.listdir(train_normal_dir))}')\n",
        "print(f'total training combination images: {len(os.listdir(train_combination_dir))}')\n",
        "print(f'total training sensitive images: {len(os.listdir(train_sensitive_dir))}')\n",
        "print(f'total training nonface images: {len(os.listdir(train_nonface_dir))}\\n')\n",
        "\n",
        "\n",
        "print(f'total validation oily images: {len(os.listdir(validation_oily_dir))}')\n",
        "print(f'total validation dry images: {len(os.listdir(validation_dry_dir))}')\n",
        "print(f'total validation normal images: {len(os.listdir(validation_normal_dir))}')\n",
        "print(f'total validation combination images: {len(os.listdir(validation_combination_dir))}')\n",
        "print(f'total validation sensitive images: {len(os.listdir(validation_sensitive_dir))}')\n",
        "print(f'total validation nonface images: {len(os.listdir(validation_nonface_dir))}')\n",
        "\n",
        "\n",
        "\n"
      ]
    },
    {
      "cell_type": "markdown",
      "metadata": {
        "id": "twJhV9CPPRPJ"
      },
      "source": [
        "# Data preprocessing\n"
      ]
    },
    {
      "cell_type": "markdown",
      "metadata": {
        "id": "kYBJvkELPUtv"
      },
      "source": [
        "using image data generator"
      ]
    },
    {
      "cell_type": "code",
      "execution_count": null,
      "metadata": {
        "colab": {
          "base_uri": "https://localhost:8080/"
        },
        "id": "s2Aasm6JOEr2",
        "outputId": "d38ce17b-992c-48d5-f7e0-e3d08ffd1b5e"
      },
      "outputs": [
        {
          "output_type": "stream",
          "name": "stdout",
          "text": [
            "Found 467 images belonging to 5 classes.\n",
            "Found 115 images belonging to 5 classes.\n"
          ]
        }
      ],
      "source": [
        "from tensorflow.keras.preprocessing.image import ImageDataGenerator\n",
        "\n",
        "\n",
        "# All images will be rescaled by 1./255\n",
        "train_datagen = ImageDataGenerator(\n",
        "      rescale=1/255,\n",
        "      rotation_range=40,\n",
        "      width_shift_range=0.2,\n",
        "      height_shift_range=0.2,\n",
        "      shear_range=0.2,\n",
        "      #zoom_range=0.2,\n",
        "      horizontal_flip=True,\n",
        "      fill_mode='nearest')\n",
        "\n",
        "validation_datagen = ImageDataGenerator(\n",
        "      rescale=1/255,\n",
        "      \n",
        "      )\n",
        "\n",
        "# Flow training images in batches of 128 using train_datagen generator\n",
        "train_generator = train_datagen.flow_from_directory(\n",
        "        './faceSkin_tipe_train',  # This is the source directory for training images\n",
        "        target_size=(224, 224),  # All images will be resized to 600x600\n",
        "        batch_size=5,\n",
        "        # Since you use binary_crossentropy loss, you need binary labels\n",
        "        class_mode='categorical')\n",
        "\n",
        "# Flow validation images in batches of 128 using validation_datagen generator\n",
        "validation_generator = validation_datagen.flow_from_directory(\n",
        "        './faceSkin_tipe_validation',  # This is the source directory for validation images\n",
        "        target_size=(224, 224),  # All images will be resized to 600x600\n",
        "        batch_size=5,\n",
        "        # Since you use binary_crossentropy loss, you need binary labels\n",
        "        class_mode='categorical')"
      ]
    },
    {
      "cell_type": "code",
      "execution_count": null,
      "metadata": {
        "id": "qSaYv3SWrz-a"
      },
      "outputs": [],
      "source": [
        "\n"
      ]
    },
    {
      "cell_type": "markdown",
      "metadata": {
        "id": "fZ2Fakesqb3n"
      },
      "source": [
        "load pretrained model"
      ]
    },
    {
      "cell_type": "code",
      "execution_count": null,
      "metadata": {
        "colab": {
          "base_uri": "https://localhost:8080/"
        },
        "id": "WZO_OlXzqa9k",
        "outputId": "8c353831-3ce7-43da-9b28-a05dd3bf7e1d"
      },
      "outputs": [
        {
          "output_type": "stream",
          "name": "stdout",
          "text": [
            "Python 3.10.11\n"
          ]
        }
      ],
      "source": [
        "!python --version"
      ]
    },
    {
      "cell_type": "markdown",
      "metadata": {
        "id": "pfLqLSdOxEYg"
      },
      "source": [
        "solusi kalo cell dibawah ga worked https://shubhasmitaroy.medium.com/for-those-who-get-an-error-on-importing-vggface-related-packages-e5afdd0c3f01"
      ]
    },
    {
      "cell_type": "code",
      "execution_count": null,
      "metadata": {
        "colab": {
          "base_uri": "https://localhost:8080/"
        },
        "id": "MT8tiCortrud",
        "outputId": "ac88626a-0f13-49a4-91c4-ced1e2bacf6e"
      },
      "outputs": [
        {
          "output_type": "stream",
          "name": "stdout",
          "text": [
            "Looking in indexes: https://pypi.org/simple, https://us-python.pkg.dev/colab-wheels/public/simple/\n",
            "Collecting keras_vggface\n",
            "  Downloading keras_vggface-0.6-py3-none-any.whl (8.3 kB)\n",
            "Requirement already satisfied: numpy>=1.9.1 in /usr/local/lib/python3.10/dist-packages (from keras_vggface) (1.22.4)\n",
            "Requirement already satisfied: scipy>=0.14 in /usr/local/lib/python3.10/dist-packages (from keras_vggface) (1.10.1)\n",
            "Requirement already satisfied: h5py in /usr/local/lib/python3.10/dist-packages (from keras_vggface) (3.8.0)\n",
            "Requirement already satisfied: pillow in /usr/local/lib/python3.10/dist-packages (from keras_vggface) (8.4.0)\n",
            "Requirement already satisfied: keras in /usr/local/lib/python3.10/dist-packages (from keras_vggface) (2.12.0)\n",
            "Requirement already satisfied: six>=1.9.0 in /usr/local/lib/python3.10/dist-packages (from keras_vggface) (1.16.0)\n",
            "Requirement already satisfied: pyyaml in /usr/local/lib/python3.10/dist-packages (from keras_vggface) (6.0)\n",
            "Installing collected packages: keras_vggface\n",
            "Successfully installed keras_vggface-0.6\n"
          ]
        }
      ],
      "source": [
        "!pip install keras_vggface"
      ]
    },
    {
      "cell_type": "code",
      "execution_count": null,
      "metadata": {
        "colab": {
          "base_uri": "https://localhost:8080/"
        },
        "id": "vvqFhL2EuJ0L",
        "outputId": "844183a0-1e9d-4e01-f802-fe5d4376bdac"
      },
      "outputs": [
        {
          "output_type": "stream",
          "name": "stdout",
          "text": [
            "Looking in indexes: https://pypi.org/simple, https://us-python.pkg.dev/colab-wheels/public/simple/\n",
            "Collecting keras_applications\n",
            "  Downloading Keras_Applications-1.0.8-py3-none-any.whl (50 kB)\n",
            "\u001b[?25l     \u001b[90m━━━━━━━━━━━━━━━━━━━━━━━━━━━━━━━━━━━━━━━━\u001b[0m \u001b[32m0.0/50.7 kB\u001b[0m \u001b[31m?\u001b[0m eta \u001b[36m-:--:--\u001b[0m\r\u001b[2K     \u001b[90m━━━━━━━━━━━━━━━━━━━━━━━━━━━━━━━━━━━━━━━━\u001b[0m \u001b[32m50.7/50.7 kB\u001b[0m \u001b[31m1.7 MB/s\u001b[0m eta \u001b[36m0:00:00\u001b[0m\n",
            "\u001b[?25hRequirement already satisfied: numpy>=1.9.1 in /usr/local/lib/python3.10/dist-packages (from keras_applications) (1.22.4)\n",
            "Requirement already satisfied: h5py in /usr/local/lib/python3.10/dist-packages (from keras_applications) (3.8.0)\n",
            "Installing collected packages: keras_applications\n",
            "Successfully installed keras_applications-1.0.8\n"
          ]
        }
      ],
      "source": [
        "!pip install keras_applications"
      ]
    },
    {
      "cell_type": "code",
      "execution_count": null,
      "metadata": {
        "id": "_GDsG_9QTyN-"
      },
      "outputs": [],
      "source": [
        "# from keras.engine.topology import get_source_inputs\n",
        "\n",
        "# to\n",
        "\n",
        "# from keras.utils.layer_utils import get_source_inputs"
      ]
    },
    {
      "cell_type": "code",
      "execution_count": null,
      "metadata": {
        "id": "Kmp7iUVLqeHX"
      },
      "outputs": [],
      "source": [
        "import keras\n",
        "\n",
        "from keras_vggface.vggface import VGGFace\n",
        "from tensorflow.keras import layers\n",
        "\n",
        "# Set the weights file you downloaded into a variable\n",
        "local_weights_file = '/content/vgg_face_weights.h5'\n",
        "\n",
        "# Initialize the base model.\n",
        "# Set the input shape and remove the dense layers.\n",
        "pre_trained_model = VGGFace(input_shape = (224, 224, 3), \n",
        "                                include_top = False, \n",
        "                                model = 'vgg16')\n",
        "\n",
        "# Load the pre-trained weights you downloaded.\n",
        "pre_trained_model.load_weights(local_weights_file, by_name=True, skip_mismatch=True)\n",
        "\n",
        "# Freeze the weights of the layers.\n",
        "for layer in pre_trained_model.layers:\n",
        "  layer.trainable = False"
      ]
    },
    {
      "cell_type": "code",
      "execution_count": null,
      "metadata": {
        "colab": {
          "base_uri": "https://localhost:8080/"
        },
        "id": "9RKfHWadrE8G",
        "outputId": "d334fb12-c980-4984-9990-422c7c1c3b9c"
      },
      "outputs": [
        {
          "output_type": "stream",
          "name": "stdout",
          "text": [
            "Model: \"vggface_vgg16\"\n",
            "_________________________________________________________________\n",
            " Layer (type)                Output Shape              Param #   \n",
            "=================================================================\n",
            " input_3 (InputLayer)        [(None, 224, 224, 3)]     0         \n",
            "                                                                 \n",
            " conv1_1 (Conv2D)            (None, 224, 224, 64)      1792      \n",
            "                                                                 \n",
            " conv1_2 (Conv2D)            (None, 224, 224, 64)      36928     \n",
            "                                                                 \n",
            " pool1 (MaxPooling2D)        (None, 112, 112, 64)      0         \n",
            "                                                                 \n",
            " conv2_1 (Conv2D)            (None, 112, 112, 128)     73856     \n",
            "                                                                 \n",
            " conv2_2 (Conv2D)            (None, 112, 112, 128)     147584    \n",
            "                                                                 \n",
            " pool2 (MaxPooling2D)        (None, 56, 56, 128)       0         \n",
            "                                                                 \n",
            " conv3_1 (Conv2D)            (None, 56, 56, 256)       295168    \n",
            "                                                                 \n",
            " conv3_2 (Conv2D)            (None, 56, 56, 256)       590080    \n",
            "                                                                 \n",
            " conv3_3 (Conv2D)            (None, 56, 56, 256)       590080    \n",
            "                                                                 \n",
            " pool3 (MaxPooling2D)        (None, 28, 28, 256)       0         \n",
            "                                                                 \n",
            " conv4_1 (Conv2D)            (None, 28, 28, 512)       1180160   \n",
            "                                                                 \n",
            " conv4_2 (Conv2D)            (None, 28, 28, 512)       2359808   \n",
            "                                                                 \n",
            " conv4_3 (Conv2D)            (None, 28, 28, 512)       2359808   \n",
            "                                                                 \n",
            " pool4 (MaxPooling2D)        (None, 14, 14, 512)       0         \n",
            "                                                                 \n",
            " conv5_1 (Conv2D)            (None, 14, 14, 512)       2359808   \n",
            "                                                                 \n",
            " conv5_2 (Conv2D)            (None, 14, 14, 512)       2359808   \n",
            "                                                                 \n",
            " conv5_3 (Conv2D)            (None, 14, 14, 512)       2359808   \n",
            "                                                                 \n",
            " pool5 (MaxPooling2D)        (None, 7, 7, 512)         0         \n",
            "                                                                 \n",
            "=================================================================\n",
            "Total params: 14,714,688\n",
            "Trainable params: 0\n",
            "Non-trainable params: 14,714,688\n",
            "_________________________________________________________________\n"
          ]
        }
      ],
      "source": [
        "pre_trained_model.summary()\n"
      ]
    },
    {
      "cell_type": "code",
      "execution_count": null,
      "metadata": {
        "colab": {
          "base_uri": "https://localhost:8080/"
        },
        "id": "75jy5vSwrPsL",
        "outputId": "5e9ae728-9de9-45a9-8e88-629ca57607f3"
      },
      "outputs": [
        {
          "output_type": "stream",
          "name": "stdout",
          "text": [
            "last layer output shape:  (None, 7, 7, 512)\n",
            "last layer output:  KerasTensor(type_spec=TensorSpec(shape=(None, 7, 7, 512), dtype=tf.float32, name=None), name='pool5/MaxPool:0', description=\"created by layer 'pool5'\")\n"
          ]
        }
      ],
      "source": [
        "# Choose `mixed_7` as the last layer of your base model\n",
        "last_layer = pre_trained_model.get_layer('pool5')\n",
        "print('last layer output shape: ', last_layer.output_shape)\n",
        "last_output = last_layer.output\n",
        "print('last layer output: ', last_output)"
      ]
    },
    {
      "cell_type": "markdown",
      "metadata": {
        "id": "k24bBeCwsB0b"
      },
      "source": [
        "# add dense layer depends on the classification (5 category)\n"
      ]
    },
    {
      "cell_type": "code",
      "execution_count": null,
      "metadata": {
        "colab": {
          "base_uri": "https://localhost:8080/"
        },
        "id": "1P2AfRuqsIJO",
        "outputId": "f07e8470-7118-46c4-8488-285582b9ab56"
      },
      "outputs": [
        {
          "output_type": "stream",
          "name": "stdout",
          "text": [
            "Model: \"model_1\"\n",
            "_________________________________________________________________\n",
            " Layer (type)                Output Shape              Param #   \n",
            "=================================================================\n",
            " input_3 (InputLayer)        [(None, 224, 224, 3)]     0         \n",
            "                                                                 \n",
            " conv1_1 (Conv2D)            (None, 224, 224, 64)      1792      \n",
            "                                                                 \n",
            " conv1_2 (Conv2D)            (None, 224, 224, 64)      36928     \n",
            "                                                                 \n",
            " pool1 (MaxPooling2D)        (None, 112, 112, 64)      0         \n",
            "                                                                 \n",
            " conv2_1 (Conv2D)            (None, 112, 112, 128)     73856     \n",
            "                                                                 \n",
            " conv2_2 (Conv2D)            (None, 112, 112, 128)     147584    \n",
            "                                                                 \n",
            " pool2 (MaxPooling2D)        (None, 56, 56, 128)       0         \n",
            "                                                                 \n",
            " conv3_1 (Conv2D)            (None, 56, 56, 256)       295168    \n",
            "                                                                 \n",
            " conv3_2 (Conv2D)            (None, 56, 56, 256)       590080    \n",
            "                                                                 \n",
            " conv3_3 (Conv2D)            (None, 56, 56, 256)       590080    \n",
            "                                                                 \n",
            " pool3 (MaxPooling2D)        (None, 28, 28, 256)       0         \n",
            "                                                                 \n",
            " conv4_1 (Conv2D)            (None, 28, 28, 512)       1180160   \n",
            "                                                                 \n",
            " conv4_2 (Conv2D)            (None, 28, 28, 512)       2359808   \n",
            "                                                                 \n",
            " conv4_3 (Conv2D)            (None, 28, 28, 512)       2359808   \n",
            "                                                                 \n",
            " pool4 (MaxPooling2D)        (None, 14, 14, 512)       0         \n",
            "                                                                 \n",
            " conv5_1 (Conv2D)            (None, 14, 14, 512)       2359808   \n",
            "                                                                 \n",
            " conv5_2 (Conv2D)            (None, 14, 14, 512)       2359808   \n",
            "                                                                 \n",
            " conv5_3 (Conv2D)            (None, 14, 14, 512)       2359808   \n",
            "                                                                 \n",
            " pool5 (MaxPooling2D)        (None, 7, 7, 512)         0         \n",
            "                                                                 \n",
            " flatten_1 (Flatten)         (None, 25088)             0         \n",
            "                                                                 \n",
            " dense_2 (Dense)             (None, 1024)              25691136  \n",
            "                                                                 \n",
            " dropout_1 (Dropout)         (None, 1024)              0         \n",
            "                                                                 \n",
            " dense_3 (Dense)             (None, 5)                 5125      \n",
            "                                                                 \n",
            "=================================================================\n",
            "Total params: 40,410,949\n",
            "Trainable params: 25,696,261\n",
            "Non-trainable params: 14,714,688\n",
            "_________________________________________________________________\n"
          ]
        }
      ],
      "source": [
        "from tensorflow.keras.optimizers import RMSprop\n",
        "from tensorflow.keras import Model\n",
        "\n",
        "# Flatten the output layer to 1 dimension\n",
        "x = layers.Flatten()(last_output)\n",
        "# Add a fully connected layer with 1,024 hidden units and ReLU activation\n",
        "x = layers.Dense(1024, activation=None)(x)\n",
        "# Add a dropout rate of 0.2\n",
        "x = layers.Dropout(0.2)(x)                  \n",
        "# Add a final sigmoid layer for classification\n",
        "x = layers.Dense  (5, activation='softmax')(x)           \n",
        "\n",
        "# Append the dense network to the base model\n",
        "model = Model(pre_trained_model.input, x) \n",
        "\n",
        "# Print the model summary. See your dense network connected at the end.\n",
        "model.summary()"
      ]
    },
    {
      "cell_type": "markdown",
      "metadata": {
        "id": "fcL5ODIrQNlr"
      },
      "source": [
        "# Building Model (klo ga pake transfer learning)"
      ]
    },
    {
      "cell_type": "code",
      "execution_count": null,
      "metadata": {
        "id": "-HarxfL1PgjB"
      },
      "outputs": [],
      "source": [
        "\n",
        "# model = tf.keras.models.Sequential([\n",
        "#     # Note the input shape is the desired size of the image 150x150 with 3 bytes color\n",
        "#     # This is the first convolution\n",
        "#     tf.keras.layers.Conv2D(16, (3,3), activation='relu', input_shape=(600, 600, 3)),\n",
        "#     tf.keras.layers.MaxPooling2D(2, 2),\n",
        "#     # The second convolution\n",
        "#     tf.keras.layers.Conv2D(32, (3,3), activation='relu'),\n",
        "#     tf.keras.layers.MaxPooling2D(2,2),\n",
        "#     # The third convolution\n",
        "#     tf.keras.layers.Conv2D(64, (3,3), activation='relu'),\n",
        "#     tf.keras.layers.MaxPooling2D(2,2),\n",
        "#     # The fourth convolution\n",
        "#     #tf.keras.layers.Conv2D(64, (3,3), activation='relu'),\n",
        "#     #tf.keras.layers.MaxPooling2D(2,2),\n",
        "#     # The fifth convolution\n",
        "#     #tf.keras.layers.Conv2D(64, (3,3), activation='relu'),\n",
        "#     #tf.keras.layers.MaxPooling2D(2,2),\n",
        "#     # Flatten the results to feed into a DNN\n",
        "#     tf.keras.layers.Flatten(),\n",
        "#     # 512 neuron hidden layer\n",
        "#     tf.keras.layers.Dense(512, activation='relu'),\n",
        "    \n",
        "#     # will give a 5 output value, \n",
        "#     tf.keras.layers.Dense(5, activation='softmax')\n",
        "# ])"
      ]
    },
    {
      "cell_type": "code",
      "execution_count": null,
      "metadata": {
        "id": "rsa-vCv4cJ5U"
      },
      "outputs": [],
      "source": []
    },
    {
      "cell_type": "markdown",
      "metadata": {
        "id": "Y6KQ4IO4QzKf"
      },
      "source": [
        "compiling the model"
      ]
    },
    {
      "cell_type": "code",
      "execution_count": null,
      "metadata": {
        "id": "mLPz07rjQxN2"
      },
      "outputs": [],
      "source": [
        "from tensorflow.keras.optimizers import RMSprop\n",
        "from keras.optimizers import adam\n",
        "\n",
        "model.compile(loss=tf.keras.losses.CategoricalCrossentropy(),\n",
        "              optimizer= tf.keras.optimizers.Adam(learning_rate = 0.0001),\n",
        "              metrics=['accuracy'])"
      ]
    },
    {
      "cell_type": "markdown",
      "metadata": {
        "id": "-4gBdS-SQ7SO"
      },
      "source": [
        "Training"
      ]
    },
    {
      "cell_type": "code",
      "execution_count": null,
      "metadata": {
        "colab": {
          "base_uri": "https://localhost:8080/"
        },
        "id": "lYt3xoZWQ74a",
        "outputId": "90d41e09-7912-4fc7-cd79-88c24286b0a0"
      },
      "outputs": [
        {
          "output_type": "stream",
          "name": "stdout",
          "text": [
            "Epoch 1/300\n",
            "32/32 - 9s - loss: 1.6571 - accuracy: 0.3694 - val_loss: 1.4324 - val_accuracy: 0.4250 - 9s/epoch - 288ms/step\n",
            "Epoch 2/300\n",
            "32/32 - 7s - loss: 1.4186 - accuracy: 0.4375 - val_loss: 1.4576 - val_accuracy: 0.4500 - 7s/epoch - 221ms/step\n",
            "Epoch 3/300\n",
            "32/32 - 7s - loss: 1.2972 - accuracy: 0.5188 - val_loss: 1.6203 - val_accuracy: 0.4250 - 7s/epoch - 221ms/step\n",
            "Epoch 4/300\n",
            "32/32 - 7s - loss: 1.2633 - accuracy: 0.4812 - val_loss: 1.6621 - val_accuracy: 0.4125 - 7s/epoch - 219ms/step\n",
            "Epoch 5/300\n",
            "32/32 - 7s - loss: 1.4276 - accuracy: 0.4459 - val_loss: 1.6005 - val_accuracy: 0.4625 - 7s/epoch - 232ms/step\n",
            "Epoch 6/300\n",
            "32/32 - 7s - loss: 1.2604 - accuracy: 0.5096 - val_loss: 1.6431 - val_accuracy: 0.4000 - 7s/epoch - 230ms/step\n",
            "Epoch 7/300\n",
            "32/32 - 7s - loss: 1.1830 - accuracy: 0.5375 - val_loss: 1.4328 - val_accuracy: 0.4375 - 7s/epoch - 229ms/step\n",
            "Epoch 8/300\n",
            "32/32 - 6s - loss: 1.1084 - accuracy: 0.5500 - val_loss: 1.8512 - val_accuracy: 0.3875 - 6s/epoch - 191ms/step\n",
            "Epoch 9/300\n",
            "32/32 - 8s - loss: 1.2304 - accuracy: 0.5375 - val_loss: 1.5409 - val_accuracy: 0.4875 - 8s/epoch - 260ms/step\n",
            "Epoch 10/300\n",
            "32/32 - 7s - loss: 1.1404 - accuracy: 0.5541 - val_loss: 1.4226 - val_accuracy: 0.5125 - 7s/epoch - 212ms/step\n",
            "Epoch 11/300\n",
            "32/32 - 8s - loss: 1.2685 - accuracy: 0.4938 - val_loss: 1.4468 - val_accuracy: 0.5375 - 8s/epoch - 252ms/step\n",
            "Epoch 12/300\n",
            "32/32 - 10s - loss: 1.1660 - accuracy: 0.4812 - val_loss: 1.5607 - val_accuracy: 0.5000 - 10s/epoch - 318ms/step\n",
            "Epoch 13/300\n",
            "32/32 - 6s - loss: 1.0145 - accuracy: 0.6051 - val_loss: 1.7673 - val_accuracy: 0.4500 - 6s/epoch - 194ms/step\n",
            "Epoch 14/300\n",
            "32/32 - 7s - loss: 1.1580 - accuracy: 0.5813 - val_loss: 1.5680 - val_accuracy: 0.5250 - 7s/epoch - 231ms/step\n",
            "Epoch 15/300\n",
            "32/32 - 7s - loss: 1.0610 - accuracy: 0.5605 - val_loss: 1.4665 - val_accuracy: 0.4750 - 7s/epoch - 233ms/step\n",
            "Epoch 16/300\n",
            "32/32 - 7s - loss: 1.1112 - accuracy: 0.5500 - val_loss: 1.3967 - val_accuracy: 0.5375 - 7s/epoch - 213ms/step\n",
            "Epoch 17/300\n",
            "32/32 - 7s - loss: 1.1611 - accuracy: 0.5414 - val_loss: 1.4632 - val_accuracy: 0.5500 - 7s/epoch - 231ms/step\n",
            "Epoch 18/300\n",
            "32/32 - 9s - loss: 1.0648 - accuracy: 0.5860 - val_loss: 1.4604 - val_accuracy: 0.5125 - 9s/epoch - 276ms/step\n",
            "Epoch 19/300\n",
            "32/32 - 7s - loss: 1.0937 - accuracy: 0.6187 - val_loss: 1.4579 - val_accuracy: 0.5250 - 7s/epoch - 208ms/step\n",
            "Epoch 20/300\n",
            "32/32 - 7s - loss: 1.1585 - accuracy: 0.5924 - val_loss: 1.4963 - val_accuracy: 0.5000 - 7s/epoch - 209ms/step\n",
            "Epoch 21/300\n",
            "32/32 - 8s - loss: 1.2014 - accuracy: 0.5125 - val_loss: 1.6660 - val_accuracy: 0.4750 - 8s/epoch - 265ms/step\n",
            "Epoch 22/300\n",
            "32/32 - 7s - loss: 0.9433 - accuracy: 0.6306 - val_loss: 1.5619 - val_accuracy: 0.5250 - 7s/epoch - 217ms/step\n",
            "Epoch 23/300\n",
            "32/32 - 7s - loss: 1.0791 - accuracy: 0.5924 - val_loss: 1.4806 - val_accuracy: 0.5250 - 7s/epoch - 213ms/step\n",
            "Epoch 24/300\n",
            "32/32 - 7s - loss: 0.9865 - accuracy: 0.6062 - val_loss: 1.6874 - val_accuracy: 0.4500 - 7s/epoch - 228ms/step\n",
            "Epoch 25/300\n",
            "32/32 - 9s - loss: 0.9630 - accuracy: 0.6500 - val_loss: 1.3588 - val_accuracy: 0.5250 - 9s/epoch - 274ms/step\n",
            "Epoch 26/300\n",
            "32/32 - 7s - loss: 1.1195 - accuracy: 0.5688 - val_loss: 1.2598 - val_accuracy: 0.5125 - 7s/epoch - 231ms/step\n",
            "Epoch 27/300\n",
            "32/32 - 7s - loss: 1.0264 - accuracy: 0.5688 - val_loss: 1.5021 - val_accuracy: 0.5375 - 7s/epoch - 207ms/step\n",
            "Epoch 28/300\n",
            "32/32 - 7s - loss: 1.0974 - accuracy: 0.6062 - val_loss: 1.8136 - val_accuracy: 0.4250 - 7s/epoch - 233ms/step\n",
            "Epoch 29/300\n",
            "32/32 - 7s - loss: 1.0327 - accuracy: 0.5987 - val_loss: 1.9447 - val_accuracy: 0.4000 - 7s/epoch - 217ms/step\n",
            "Epoch 30/300\n",
            "32/32 - 7s - loss: 1.0565 - accuracy: 0.5750 - val_loss: 1.8468 - val_accuracy: 0.4125 - 7s/epoch - 214ms/step\n",
            "Epoch 31/300\n",
            "32/32 - 8s - loss: 1.0419 - accuracy: 0.6433 - val_loss: 1.3943 - val_accuracy: 0.5000 - 8s/epoch - 239ms/step\n",
            "Epoch 32/300\n",
            "32/32 - 7s - loss: 1.0960 - accuracy: 0.6000 - val_loss: 1.4824 - val_accuracy: 0.4875 - 7s/epoch - 224ms/step\n",
            "Epoch 33/300\n",
            "32/32 - 7s - loss: 1.0495 - accuracy: 0.6497 - val_loss: 1.3031 - val_accuracy: 0.5625 - 7s/epoch - 216ms/step\n",
            "Epoch 34/300\n",
            "32/32 - 9s - loss: 0.9620 - accuracy: 0.6250 - val_loss: 1.4901 - val_accuracy: 0.5375 - 9s/epoch - 272ms/step\n",
            "Epoch 35/300\n",
            "32/32 - 7s - loss: 0.9508 - accuracy: 0.6000 - val_loss: 1.9690 - val_accuracy: 0.4125 - 7s/epoch - 216ms/step\n",
            "Epoch 36/300\n",
            "32/32 - 7s - loss: 0.8545 - accuracy: 0.6750 - val_loss: 1.4778 - val_accuracy: 0.4875 - 7s/epoch - 211ms/step\n",
            "Epoch 37/300\n",
            "32/32 - 8s - loss: 0.7934 - accuracy: 0.6815 - val_loss: 2.0611 - val_accuracy: 0.4750 - 8s/epoch - 251ms/step\n",
            "Epoch 38/300\n",
            "32/32 - 7s - loss: 0.9773 - accuracy: 0.6438 - val_loss: 1.6264 - val_accuracy: 0.5125 - 7s/epoch - 221ms/step\n",
            "Epoch 39/300\n",
            "32/32 - 7s - loss: 0.9507 - accuracy: 0.5924 - val_loss: 1.6177 - val_accuracy: 0.5000 - 7s/epoch - 228ms/step\n",
            "Epoch 40/300\n",
            "32/32 - 7s - loss: 0.8490 - accuracy: 0.6433 - val_loss: 1.9072 - val_accuracy: 0.4625 - 7s/epoch - 226ms/step\n",
            "Epoch 41/300\n",
            "32/32 - 6s - loss: 0.8525 - accuracy: 0.6687 - val_loss: 1.5729 - val_accuracy: 0.5500 - 6s/epoch - 185ms/step\n",
            "Epoch 42/300\n",
            "32/32 - 7s - loss: 0.7483 - accuracy: 0.7134 - val_loss: 2.0497 - val_accuracy: 0.4250 - 7s/epoch - 222ms/step\n",
            "Epoch 43/300\n",
            "32/32 - 8s - loss: 0.9674 - accuracy: 0.6438 - val_loss: 1.6700 - val_accuracy: 0.4625 - 8s/epoch - 264ms/step\n",
            "Epoch 44/300\n",
            "32/32 - 9s - loss: 1.0357 - accuracy: 0.5875 - val_loss: 1.9680 - val_accuracy: 0.4375 - 9s/epoch - 279ms/step\n",
            "Epoch 45/300\n",
            "32/32 - 7s - loss: 0.8666 - accuracy: 0.7070 - val_loss: 1.7312 - val_accuracy: 0.4625 - 7s/epoch - 219ms/step\n",
            "Epoch 46/300\n",
            "32/32 - 8s - loss: 0.7968 - accuracy: 0.6752 - val_loss: 1.6912 - val_accuracy: 0.5125 - 8s/epoch - 262ms/step\n",
            "Epoch 47/300\n",
            "32/32 - 8s - loss: 0.9862 - accuracy: 0.6313 - val_loss: 1.4825 - val_accuracy: 0.4750 - 8s/epoch - 234ms/step\n",
            "Epoch 48/300\n",
            "32/32 - 6s - loss: 0.8984 - accuracy: 0.6562 - val_loss: 1.6929 - val_accuracy: 0.4000 - 6s/epoch - 199ms/step\n",
            "Epoch 49/300\n",
            "32/32 - 7s - loss: 0.9093 - accuracy: 0.6938 - val_loss: 1.6086 - val_accuracy: 0.4875 - 7s/epoch - 212ms/step\n",
            "Epoch 50/300\n",
            "32/32 - 6s - loss: 0.7029 - accuracy: 0.7834 - val_loss: 1.6399 - val_accuracy: 0.5000 - 6s/epoch - 189ms/step\n",
            "Epoch 51/300\n",
            "32/32 - 9s - loss: 0.7469 - accuracy: 0.7070 - val_loss: 1.6339 - val_accuracy: 0.4500 - 9s/epoch - 273ms/step\n",
            "Epoch 52/300\n",
            "32/32 - 7s - loss: 0.9215 - accuracy: 0.6812 - val_loss: 1.5177 - val_accuracy: 0.4750 - 7s/epoch - 206ms/step\n",
            "Epoch 53/300\n",
            "32/32 - 7s - loss: 0.9166 - accuracy: 0.6938 - val_loss: 1.7801 - val_accuracy: 0.5000 - 7s/epoch - 221ms/step\n",
            "Epoch 54/300\n",
            "32/32 - 6s - loss: 0.7938 - accuracy: 0.6875 - val_loss: 1.6357 - val_accuracy: 0.5125 - 6s/epoch - 193ms/step\n",
            "Epoch 55/300\n",
            "32/32 - 7s - loss: 0.7367 - accuracy: 0.7125 - val_loss: 1.6322 - val_accuracy: 0.5875 - 7s/epoch - 231ms/step\n",
            "Epoch 56/300\n",
            "32/32 - 6s - loss: 0.8868 - accuracy: 0.6812 - val_loss: 2.1018 - val_accuracy: 0.4375 - 6s/epoch - 194ms/step\n",
            "Epoch 57/300\n",
            "32/32 - 8s - loss: 0.9421 - accuracy: 0.6242 - val_loss: 2.0753 - val_accuracy: 0.5000 - 8s/epoch - 242ms/step\n",
            "Epoch 58/300\n",
            "32/32 - 7s - loss: 0.8720 - accuracy: 0.6752 - val_loss: 1.7597 - val_accuracy: 0.4750 - 7s/epoch - 223ms/step\n",
            "Epoch 59/300\n",
            "32/32 - 7s - loss: 0.8200 - accuracy: 0.6687 - val_loss: 1.7996 - val_accuracy: 0.5000 - 7s/epoch - 231ms/step\n",
            "Epoch 60/300\n",
            "32/32 - 7s - loss: 0.6984 - accuracy: 0.7452 - val_loss: 1.6242 - val_accuracy: 0.4875 - 7s/epoch - 217ms/step\n",
            "Epoch 61/300\n",
            "32/32 - 7s - loss: 0.6726 - accuracy: 0.7500 - val_loss: 1.8148 - val_accuracy: 0.4750 - 7s/epoch - 232ms/step\n",
            "Epoch 62/300\n",
            "32/32 - 8s - loss: 0.9064 - accuracy: 0.7070 - val_loss: 1.6197 - val_accuracy: 0.5000 - 8s/epoch - 237ms/step\n",
            "Epoch 63/300\n",
            "32/32 - 7s - loss: 0.7638 - accuracy: 0.6938 - val_loss: 1.9167 - val_accuracy: 0.4000 - 7s/epoch - 227ms/step\n",
            "Epoch 64/300\n",
            "32/32 - 7s - loss: 0.8212 - accuracy: 0.6500 - val_loss: 1.8085 - val_accuracy: 0.4250 - 7s/epoch - 218ms/step\n",
            "Epoch 65/300\n",
            "32/32 - 7s - loss: 0.6558 - accuracy: 0.7643 - val_loss: 1.8631 - val_accuracy: 0.4875 - 7s/epoch - 218ms/step\n",
            "Epoch 66/300\n",
            "32/32 - 7s - loss: 0.6534 - accuracy: 0.7834 - val_loss: 2.0277 - val_accuracy: 0.3875 - 7s/epoch - 231ms/step\n",
            "Epoch 67/300\n",
            "32/32 - 7s - loss: 0.8318 - accuracy: 0.6438 - val_loss: 1.6570 - val_accuracy: 0.5125 - 7s/epoch - 219ms/step\n",
            "Epoch 68/300\n",
            "32/32 - 7s - loss: 0.8293 - accuracy: 0.6879 - val_loss: 2.0966 - val_accuracy: 0.4875 - 7s/epoch - 232ms/step\n",
            "Epoch 69/300\n",
            "32/32 - 8s - loss: 0.8710 - accuracy: 0.7000 - val_loss: 1.8135 - val_accuracy: 0.4625 - 8s/epoch - 238ms/step\n",
            "Epoch 70/300\n",
            "32/32 - 7s - loss: 0.7840 - accuracy: 0.7006 - val_loss: 1.8822 - val_accuracy: 0.4875 - 7s/epoch - 216ms/step\n",
            "Epoch 71/300\n",
            "32/32 - 7s - loss: 0.8516 - accuracy: 0.6561 - val_loss: 1.7077 - val_accuracy: 0.4875 - 7s/epoch - 226ms/step\n",
            "Epoch 72/300\n",
            "32/32 - 8s - loss: 0.9082 - accuracy: 0.6375 - val_loss: 1.7170 - val_accuracy: 0.4125 - 8s/epoch - 247ms/step\n",
            "Epoch 73/300\n",
            "32/32 - 7s - loss: 0.8912 - accuracy: 0.6242 - val_loss: 2.0470 - val_accuracy: 0.5125 - 7s/epoch - 215ms/step\n",
            "Epoch 74/300\n",
            "32/32 - 6s - loss: 0.8395 - accuracy: 0.6812 - val_loss: 2.3095 - val_accuracy: 0.4500 - 6s/epoch - 199ms/step\n",
            "Epoch 75/300\n",
            "32/32 - 7s - loss: 0.7268 - accuracy: 0.7188 - val_loss: 2.1323 - val_accuracy: 0.4500 - 7s/epoch - 216ms/step\n",
            "Epoch 76/300\n",
            "32/32 - 8s - loss: 0.8183 - accuracy: 0.7063 - val_loss: 1.7460 - val_accuracy: 0.4750 - 8s/epoch - 244ms/step\n",
            "Epoch 77/300\n",
            "32/32 - 6s - loss: 0.8801 - accuracy: 0.6625 - val_loss: 2.0957 - val_accuracy: 0.5125 - 6s/epoch - 191ms/step\n",
            "Epoch 78/300\n",
            "32/32 - 7s - loss: 0.8332 - accuracy: 0.6812 - val_loss: 1.7686 - val_accuracy: 0.4750 - 7s/epoch - 217ms/step\n",
            "Epoch 79/300\n",
            "32/32 - 8s - loss: 0.7593 - accuracy: 0.7197 - val_loss: 1.9869 - val_accuracy: 0.4375 - 8s/epoch - 248ms/step\n",
            "Epoch 80/300\n",
            "32/32 - 7s - loss: 0.7229 - accuracy: 0.7250 - val_loss: 1.9545 - val_accuracy: 0.4625 - 7s/epoch - 210ms/step\n",
            "Epoch 81/300\n",
            "32/32 - 7s - loss: 0.8960 - accuracy: 0.7006 - val_loss: 1.7648 - val_accuracy: 0.4750 - 7s/epoch - 231ms/step\n",
            "Epoch 82/300\n",
            "32/32 - 7s - loss: 0.6909 - accuracy: 0.7437 - val_loss: 1.8346 - val_accuracy: 0.5000 - 7s/epoch - 230ms/step\n",
            "Epoch 83/300\n",
            "32/32 - 7s - loss: 0.5858 - accuracy: 0.7625 - val_loss: 2.2171 - val_accuracy: 0.4250 - 7s/epoch - 217ms/step\n",
            "Epoch 84/300\n",
            "32/32 - 8s - loss: 0.8706 - accuracy: 0.6500 - val_loss: 2.1241 - val_accuracy: 0.4625 - 8s/epoch - 259ms/step\n",
            "Epoch 85/300\n",
            "32/32 - 10s - loss: 0.7219 - accuracy: 0.7325 - val_loss: 2.0634 - val_accuracy: 0.4375 - 10s/epoch - 298ms/step\n",
            "Epoch 86/300\n",
            "32/32 - 7s - loss: 0.9389 - accuracy: 0.6438 - val_loss: 1.9193 - val_accuracy: 0.4625 - 7s/epoch - 228ms/step\n",
            "Epoch 87/300\n",
            "32/32 - 6s - loss: 0.7506 - accuracy: 0.7375 - val_loss: 2.1115 - val_accuracy: 0.4625 - 6s/epoch - 192ms/step\n",
            "Epoch 88/300\n",
            "32/32 - 9s - loss: 0.7577 - accuracy: 0.7070 - val_loss: 2.0469 - val_accuracy: 0.4500 - 9s/epoch - 273ms/step\n",
            "Epoch 89/300\n",
            "32/32 - 7s - loss: 0.6319 - accuracy: 0.7580 - val_loss: 1.7640 - val_accuracy: 0.5375 - 7s/epoch - 229ms/step\n",
            "Epoch 90/300\n",
            "32/32 - 7s - loss: 0.7276 - accuracy: 0.6943 - val_loss: 1.7763 - val_accuracy: 0.5375 - 7s/epoch - 231ms/step\n",
            "Epoch 91/300\n",
            "32/32 - 7s - loss: 0.7120 - accuracy: 0.7580 - val_loss: 1.8913 - val_accuracy: 0.5250 - 7s/epoch - 228ms/step\n",
            "Epoch 92/300\n",
            "32/32 - 6s - loss: 0.8051 - accuracy: 0.7063 - val_loss: 2.0671 - val_accuracy: 0.4500 - 6s/epoch - 186ms/step\n",
            "Epoch 93/300\n",
            "32/32 - 8s - loss: 0.5966 - accuracy: 0.7312 - val_loss: 1.9577 - val_accuracy: 0.4750 - 8s/epoch - 257ms/step\n",
            "Epoch 94/300\n",
            "32/32 - 7s - loss: 0.7475 - accuracy: 0.7063 - val_loss: 1.9966 - val_accuracy: 0.5000 - 7s/epoch - 211ms/step\n",
            "Epoch 95/300\n",
            "32/32 - 6s - loss: 0.7262 - accuracy: 0.7563 - val_loss: 2.1651 - val_accuracy: 0.4750 - 6s/epoch - 202ms/step\n",
            "Epoch 96/300\n",
            "32/32 - 7s - loss: 0.6912 - accuracy: 0.7389 - val_loss: 2.1282 - val_accuracy: 0.5000 - 7s/epoch - 221ms/step\n",
            "Epoch 97/300\n",
            "32/32 - 8s - loss: 0.7445 - accuracy: 0.7437 - val_loss: 1.8470 - val_accuracy: 0.4750 - 8s/epoch - 262ms/step\n",
            "Epoch 98/300\n",
            "32/32 - 8s - loss: 0.7094 - accuracy: 0.7563 - val_loss: 2.4699 - val_accuracy: 0.4000 - 8s/epoch - 248ms/step\n",
            "Epoch 99/300\n",
            "32/32 - 7s - loss: 0.7739 - accuracy: 0.7188 - val_loss: 2.4338 - val_accuracy: 0.4000 - 7s/epoch - 205ms/step\n",
            "Epoch 100/300\n",
            "32/32 - 8s - loss: 0.6831 - accuracy: 0.7563 - val_loss: 1.9427 - val_accuracy: 0.4500 - 8s/epoch - 265ms/step\n",
            "Epoch 101/300\n",
            "32/32 - 7s - loss: 0.8313 - accuracy: 0.7125 - val_loss: 1.8967 - val_accuracy: 0.4875 - 7s/epoch - 205ms/step\n",
            "Epoch 102/300\n",
            "32/32 - 7s - loss: 0.9090 - accuracy: 0.6178 - val_loss: 2.2256 - val_accuracy: 0.4625 - 7s/epoch - 220ms/step\n",
            "Epoch 103/300\n",
            "32/32 - 7s - loss: 0.7742 - accuracy: 0.7063 - val_loss: 2.1120 - val_accuracy: 0.4750 - 7s/epoch - 212ms/step\n",
            "Epoch 104/300\n",
            "32/32 - 9s - loss: 0.5600 - accuracy: 0.7643 - val_loss: 2.1606 - val_accuracy: 0.4750 - 9s/epoch - 294ms/step\n",
            "Epoch 105/300\n",
            "32/32 - 6s - loss: 0.7056 - accuracy: 0.7500 - val_loss: 1.8357 - val_accuracy: 0.5000 - 6s/epoch - 192ms/step\n",
            "Epoch 106/300\n",
            "32/32 - 9s - loss: 0.6906 - accuracy: 0.7437 - val_loss: 2.1141 - val_accuracy: 0.4500 - 9s/epoch - 266ms/step\n",
            "Epoch 107/300\n",
            "32/32 - 7s - loss: 0.7176 - accuracy: 0.7197 - val_loss: 2.0036 - val_accuracy: 0.4875 - 7s/epoch - 225ms/step\n",
            "Epoch 108/300\n",
            "32/32 - 7s - loss: 0.5873 - accuracy: 0.7688 - val_loss: 1.6333 - val_accuracy: 0.5625 - 7s/epoch - 223ms/step\n",
            "Epoch 109/300\n",
            "32/32 - 9s - loss: 0.5798 - accuracy: 0.7937 - val_loss: 2.2100 - val_accuracy: 0.5000 - 9s/epoch - 293ms/step\n",
            "Epoch 110/300\n",
            "32/32 - 6s - loss: 0.6855 - accuracy: 0.7563 - val_loss: 1.9064 - val_accuracy: 0.4750 - 6s/epoch - 201ms/step\n",
            "Epoch 111/300\n",
            "32/32 - 7s - loss: 0.6720 - accuracy: 0.7312 - val_loss: 1.9910 - val_accuracy: 0.5000 - 7s/epoch - 228ms/step\n",
            "Epoch 112/300\n",
            "32/32 - 8s - loss: 0.6577 - accuracy: 0.7688 - val_loss: 1.9912 - val_accuracy: 0.4500 - 8s/epoch - 265ms/step\n",
            "Epoch 113/300\n",
            "32/32 - 7s - loss: 0.8338 - accuracy: 0.6938 - val_loss: 2.3529 - val_accuracy: 0.4375 - 7s/epoch - 225ms/step\n",
            "Epoch 114/300\n",
            "32/32 - 6s - loss: 0.7794 - accuracy: 0.6943 - val_loss: 2.1569 - val_accuracy: 0.5000 - 6s/epoch - 184ms/step\n",
            "Epoch 115/300\n",
            "32/32 - 7s - loss: 0.6477 - accuracy: 0.7643 - val_loss: 2.0284 - val_accuracy: 0.5375 - 7s/epoch - 223ms/step\n",
            "Epoch 116/300\n",
            "32/32 - 8s - loss: 0.7775 - accuracy: 0.7188 - val_loss: 1.7806 - val_accuracy: 0.4750 - 8s/epoch - 248ms/step\n",
            "Epoch 117/300\n",
            "32/32 - 7s - loss: 0.6984 - accuracy: 0.7000 - val_loss: 2.5209 - val_accuracy: 0.4625 - 7s/epoch - 208ms/step\n",
            "Epoch 118/300\n",
            "32/32 - 9s - loss: 0.7647 - accuracy: 0.7250 - val_loss: 2.0111 - val_accuracy: 0.4500 - 9s/epoch - 279ms/step\n",
            "Epoch 119/300\n",
            "32/32 - 7s - loss: 0.8409 - accuracy: 0.7389 - val_loss: 2.0078 - val_accuracy: 0.5250 - 7s/epoch - 229ms/step\n",
            "Epoch 120/300\n",
            "32/32 - 6s - loss: 0.6565 - accuracy: 0.7500 - val_loss: 2.0537 - val_accuracy: 0.4625 - 6s/epoch - 199ms/step\n",
            "Epoch 121/300\n",
            "32/32 - 9s - loss: 0.7142 - accuracy: 0.7063 - val_loss: 1.6746 - val_accuracy: 0.5000 - 9s/epoch - 269ms/step\n",
            "Epoch 122/300\n",
            "32/32 - 7s - loss: 0.6991 - accuracy: 0.7325 - val_loss: 2.0103 - val_accuracy: 0.4875 - 7s/epoch - 217ms/step\n",
            "Epoch 123/300\n",
            "32/32 - 7s - loss: 0.6801 - accuracy: 0.7134 - val_loss: 1.8285 - val_accuracy: 0.5125 - 7s/epoch - 215ms/step\n",
            "Epoch 124/300\n",
            "32/32 - 7s - loss: 0.6531 - accuracy: 0.7750 - val_loss: 2.2409 - val_accuracy: 0.4625 - 7s/epoch - 228ms/step\n",
            "Epoch 125/300\n",
            "32/32 - 8s - loss: 0.7308 - accuracy: 0.7563 - val_loss: 2.2337 - val_accuracy: 0.4500 - 8s/epoch - 239ms/step\n",
            "Epoch 126/300\n",
            "32/32 - 9s - loss: 0.7151 - accuracy: 0.7312 - val_loss: 2.2960 - val_accuracy: 0.4375 - 9s/epoch - 268ms/step\n",
            "Epoch 127/300\n",
            "32/32 - 6s - loss: 0.6607 - accuracy: 0.7070 - val_loss: 2.0741 - val_accuracy: 0.4750 - 6s/epoch - 196ms/step\n",
            "Epoch 128/300\n",
            "32/32 - 7s - loss: 0.6423 - accuracy: 0.7437 - val_loss: 1.8906 - val_accuracy: 0.4875 - 7s/epoch - 221ms/step\n",
            "Epoch 129/300\n",
            "32/32 - 8s - loss: 0.6600 - accuracy: 0.7643 - val_loss: 2.0684 - val_accuracy: 0.5000 - 8s/epoch - 240ms/step\n",
            "Epoch 130/300\n",
            "32/32 - 8s - loss: 0.7367 - accuracy: 0.7188 - val_loss: 2.1950 - val_accuracy: 0.5125 - 8s/epoch - 239ms/step\n",
            "Epoch 131/300\n",
            "32/32 - 7s - loss: 0.6381 - accuracy: 0.7375 - val_loss: 2.0670 - val_accuracy: 0.5000 - 7s/epoch - 224ms/step\n",
            "Epoch 132/300\n",
            "32/32 - 7s - loss: 0.5251 - accuracy: 0.8125 - val_loss: 2.1099 - val_accuracy: 0.4500 - 7s/epoch - 219ms/step\n",
            "Epoch 133/300\n",
            "32/32 - 6s - loss: 0.5789 - accuracy: 0.7812 - val_loss: 1.7914 - val_accuracy: 0.5500 - 6s/epoch - 190ms/step\n",
            "Epoch 134/300\n",
            "32/32 - 8s - loss: 0.7018 - accuracy: 0.7312 - val_loss: 2.3624 - val_accuracy: 0.4625 - 8s/epoch - 250ms/step\n",
            "Epoch 135/300\n",
            "32/32 - 6s - loss: 0.5590 - accuracy: 0.7937 - val_loss: 2.2078 - val_accuracy: 0.4500 - 6s/epoch - 202ms/step\n",
            "Epoch 136/300\n",
            "32/32 - 8s - loss: 0.5731 - accuracy: 0.7750 - val_loss: 2.1642 - val_accuracy: 0.5250 - 8s/epoch - 263ms/step\n",
            "Epoch 137/300\n",
            "32/32 - 7s - loss: 0.6273 - accuracy: 0.7962 - val_loss: 2.0933 - val_accuracy: 0.4500 - 7s/epoch - 221ms/step\n",
            "Epoch 138/300\n",
            "32/32 - 8s - loss: 0.6338 - accuracy: 0.7812 - val_loss: 2.0680 - val_accuracy: 0.5000 - 8s/epoch - 256ms/step\n",
            "Epoch 139/300\n",
            "32/32 - 8s - loss: 0.6723 - accuracy: 0.7812 - val_loss: 2.3130 - val_accuracy: 0.4125 - 8s/epoch - 253ms/step\n",
            "Epoch 140/300\n",
            "32/32 - 7s - loss: 0.7628 - accuracy: 0.6938 - val_loss: 2.4021 - val_accuracy: 0.4625 - 7s/epoch - 214ms/step\n",
            "Epoch 141/300\n",
            "32/32 - 7s - loss: 0.6116 - accuracy: 0.7437 - val_loss: 2.3854 - val_accuracy: 0.4875 - 7s/epoch - 228ms/step\n",
            "Epoch 142/300\n",
            "32/32 - 6s - loss: 0.6908 - accuracy: 0.7500 - val_loss: 1.9918 - val_accuracy: 0.4875 - 6s/epoch - 203ms/step\n",
            "Epoch 143/300\n",
            "32/32 - 6s - loss: 0.5925 - accuracy: 0.7875 - val_loss: 2.0274 - val_accuracy: 0.4625 - 6s/epoch - 193ms/step\n",
            "Epoch 144/300\n",
            "32/32 - 8s - loss: 0.7089 - accuracy: 0.7875 - val_loss: 2.2517 - val_accuracy: 0.5000 - 8s/epoch - 257ms/step\n",
            "Epoch 145/300\n",
            "32/32 - 6s - loss: 0.6905 - accuracy: 0.7250 - val_loss: 2.1938 - val_accuracy: 0.4625 - 6s/epoch - 189ms/step\n",
            "Epoch 146/300\n",
            "32/32 - 9s - loss: 0.6765 - accuracy: 0.7580 - val_loss: 1.9203 - val_accuracy: 0.5250 - 9s/epoch - 266ms/step\n",
            "Epoch 147/300\n",
            "32/32 - 8s - loss: 0.5941 - accuracy: 0.7688 - val_loss: 1.7764 - val_accuracy: 0.5000 - 8s/epoch - 264ms/step\n",
            "Epoch 148/300\n",
            "32/32 - 7s - loss: 0.6216 - accuracy: 0.7437 - val_loss: 2.3610 - val_accuracy: 0.5000 - 7s/epoch - 205ms/step\n",
            "Epoch 149/300\n",
            "32/32 - 7s - loss: 0.7066 - accuracy: 0.7625 - val_loss: 1.9460 - val_accuracy: 0.5250 - 7s/epoch - 214ms/step\n",
            "Epoch 150/300\n",
            "32/32 - 9s - loss: 0.6466 - accuracy: 0.7437 - val_loss: 2.1334 - val_accuracy: 0.4875 - 9s/epoch - 268ms/step\n",
            "Epoch 151/300\n",
            "32/32 - 8s - loss: 0.5202 - accuracy: 0.8062 - val_loss: 1.6323 - val_accuracy: 0.5250 - 8s/epoch - 244ms/step\n",
            "Epoch 152/300\n",
            "32/32 - 7s - loss: 0.4943 - accuracy: 0.8188 - val_loss: 2.0962 - val_accuracy: 0.5000 - 7s/epoch - 217ms/step\n",
            "Epoch 153/300\n",
            "32/32 - 7s - loss: 0.5827 - accuracy: 0.8188 - val_loss: 2.2216 - val_accuracy: 0.4875 - 7s/epoch - 233ms/step\n",
            "Epoch 154/300\n",
            "32/32 - 8s - loss: 0.6250 - accuracy: 0.7563 - val_loss: 2.4037 - val_accuracy: 0.4875 - 8s/epoch - 238ms/step\n",
            "Epoch 155/300\n",
            "32/32 - 6s - loss: 0.6015 - accuracy: 0.7688 - val_loss: 2.2790 - val_accuracy: 0.4375 - 6s/epoch - 197ms/step\n",
            "Epoch 156/300\n",
            "32/32 - 8s - loss: 0.5900 - accuracy: 0.7750 - val_loss: 1.8386 - val_accuracy: 0.4875 - 8s/epoch - 243ms/step\n",
            "Epoch 157/300\n",
            "32/32 - 9s - loss: 0.6195 - accuracy: 0.7875 - val_loss: 2.6752 - val_accuracy: 0.4500 - 9s/epoch - 293ms/step\n",
            "Epoch 158/300\n",
            "32/32 - 7s - loss: 0.5564 - accuracy: 0.8062 - val_loss: 2.5855 - val_accuracy: 0.4250 - 7s/epoch - 207ms/step\n",
            "Epoch 159/300\n",
            "32/32 - 7s - loss: 0.4831 - accuracy: 0.8125 - val_loss: 2.3025 - val_accuracy: 0.4750 - 7s/epoch - 233ms/step\n",
            "Epoch 160/300\n",
            "32/32 - 8s - loss: 0.6747 - accuracy: 0.7625 - val_loss: 2.1851 - val_accuracy: 0.4875 - 8s/epoch - 244ms/step\n",
            "Epoch 161/300\n",
            "32/32 - 7s - loss: 0.6106 - accuracy: 0.7188 - val_loss: 1.7041 - val_accuracy: 0.5000 - 7s/epoch - 210ms/step\n",
            "Epoch 162/300\n",
            "32/32 - 8s - loss: 0.5709 - accuracy: 0.7437 - val_loss: 2.1754 - val_accuracy: 0.4750 - 8s/epoch - 244ms/step\n",
            "Epoch 163/300\n",
            "32/32 - 10s - loss: 0.6843 - accuracy: 0.7834 - val_loss: 2.2396 - val_accuracy: 0.4875 - 10s/epoch - 309ms/step\n",
            "Epoch 164/300\n",
            "32/32 - 7s - loss: 0.6731 - accuracy: 0.7812 - val_loss: 2.1256 - val_accuracy: 0.4250 - 7s/epoch - 221ms/step\n",
            "Epoch 165/300\n",
            "32/32 - 8s - loss: 0.5014 - accuracy: 0.7688 - val_loss: 2.0438 - val_accuracy: 0.4625 - 8s/epoch - 237ms/step\n",
            "Epoch 166/300\n",
            "32/32 - 7s - loss: 0.5530 - accuracy: 0.7834 - val_loss: 2.0522 - val_accuracy: 0.4750 - 7s/epoch - 214ms/step\n",
            "Epoch 167/300\n",
            "32/32 - 7s - loss: 0.5843 - accuracy: 0.8025 - val_loss: 2.2504 - val_accuracy: 0.4375 - 7s/epoch - 231ms/step\n",
            "Epoch 168/300\n",
            "32/32 - 7s - loss: 0.6070 - accuracy: 0.7437 - val_loss: 1.8113 - val_accuracy: 0.5625 - 7s/epoch - 229ms/step\n",
            "Epoch 169/300\n",
            "32/32 - 8s - loss: 0.6132 - accuracy: 0.7937 - val_loss: 1.9689 - val_accuracy: 0.4750 - 8s/epoch - 235ms/step\n",
            "Epoch 170/300\n",
            "32/32 - 7s - loss: 0.5439 - accuracy: 0.7688 - val_loss: 1.8815 - val_accuracy: 0.5250 - 7s/epoch - 229ms/step\n",
            "Epoch 171/300\n",
            "32/32 - 7s - loss: 0.5703 - accuracy: 0.8250 - val_loss: 2.2477 - val_accuracy: 0.4625 - 7s/epoch - 210ms/step\n",
            "Epoch 172/300\n",
            "32/32 - 9s - loss: 0.6345 - accuracy: 0.7563 - val_loss: 2.0755 - val_accuracy: 0.4750 - 9s/epoch - 282ms/step\n",
            "Epoch 173/300\n",
            "32/32 - 7s - loss: 0.5411 - accuracy: 0.7875 - val_loss: 2.7018 - val_accuracy: 0.3875 - 7s/epoch - 223ms/step\n",
            "Epoch 174/300\n",
            "32/32 - 7s - loss: 0.6735 - accuracy: 0.7563 - val_loss: 2.1754 - val_accuracy: 0.4750 - 7s/epoch - 230ms/step\n",
            "Epoch 175/300\n",
            "32/32 - 8s - loss: 0.6340 - accuracy: 0.7707 - val_loss: 1.8509 - val_accuracy: 0.5125 - 8s/epoch - 235ms/step\n",
            "Epoch 176/300\n",
            "32/32 - 9s - loss: 0.6424 - accuracy: 0.7898 - val_loss: 2.2868 - val_accuracy: 0.4125 - 9s/epoch - 267ms/step\n",
            "Epoch 177/300\n",
            "32/32 - 8s - loss: 0.4627 - accuracy: 0.8438 - val_loss: 2.6111 - val_accuracy: 0.4250 - 8s/epoch - 241ms/step\n",
            "Epoch 178/300\n",
            "32/32 - 7s - loss: 0.5045 - accuracy: 0.7750 - val_loss: 2.1902 - val_accuracy: 0.4750 - 7s/epoch - 225ms/step\n",
            "Epoch 179/300\n",
            "32/32 - 8s - loss: 0.5089 - accuracy: 0.7875 - val_loss: 2.0123 - val_accuracy: 0.5000 - 8s/epoch - 244ms/step\n",
            "Epoch 180/300\n",
            "32/32 - 9s - loss: 0.4369 - accuracy: 0.8344 - val_loss: 2.2670 - val_accuracy: 0.5000 - 9s/epoch - 293ms/step\n",
            "Epoch 181/300\n",
            "32/32 - 6s - loss: 0.6296 - accuracy: 0.7688 - val_loss: 2.2196 - val_accuracy: 0.4500 - 6s/epoch - 194ms/step\n",
            "Epoch 182/300\n",
            "32/32 - 7s - loss: 0.5719 - accuracy: 0.8000 - val_loss: 2.4176 - val_accuracy: 0.4500 - 7s/epoch - 231ms/step\n",
            "Epoch 183/300\n",
            "32/32 - 9s - loss: 0.4928 - accuracy: 0.8438 - val_loss: 2.1611 - val_accuracy: 0.5000 - 9s/epoch - 278ms/step\n",
            "Epoch 184/300\n",
            "32/32 - 7s - loss: 0.5824 - accuracy: 0.7812 - val_loss: 2.4939 - val_accuracy: 0.4500 - 7s/epoch - 213ms/step\n",
            "Epoch 185/300\n",
            "32/32 - 7s - loss: 0.6491 - accuracy: 0.7771 - val_loss: 2.4754 - val_accuracy: 0.4750 - 7s/epoch - 212ms/step\n",
            "Epoch 186/300\n",
            "32/32 - 7s - loss: 0.5270 - accuracy: 0.7898 - val_loss: 1.8907 - val_accuracy: 0.5125 - 7s/epoch - 225ms/step\n",
            "Epoch 187/300\n",
            "32/32 - 8s - loss: 0.5308 - accuracy: 0.7875 - val_loss: 2.1648 - val_accuracy: 0.4375 - 8s/epoch - 241ms/step\n",
            "Epoch 188/300\n",
            "32/32 - 7s - loss: 0.5871 - accuracy: 0.8000 - val_loss: 2.1923 - val_accuracy: 0.4500 - 7s/epoch - 226ms/step\n",
            "Epoch 189/300\n",
            "32/32 - 7s - loss: 0.4737 - accuracy: 0.8500 - val_loss: 1.9601 - val_accuracy: 0.5250 - 7s/epoch - 225ms/step\n",
            "Epoch 190/300\n",
            "32/32 - 9s - loss: 0.5936 - accuracy: 0.7500 - val_loss: 1.8636 - val_accuracy: 0.5250 - 9s/epoch - 266ms/step\n",
            "Epoch 191/300\n",
            "32/32 - 7s - loss: 0.6018 - accuracy: 0.7688 - val_loss: 2.0534 - val_accuracy: 0.5125 - 7s/epoch - 221ms/step\n",
            "Epoch 192/300\n",
            "32/32 - 7s - loss: 0.6242 - accuracy: 0.7563 - val_loss: 2.0873 - val_accuracy: 0.5250 - 7s/epoch - 226ms/step\n",
            "Epoch 193/300\n",
            "32/32 - 7s - loss: 0.3980 - accuracy: 0.8562 - val_loss: 2.1330 - val_accuracy: 0.4875 - 7s/epoch - 211ms/step\n",
            "Epoch 194/300\n",
            "32/32 - 9s - loss: 0.4763 - accuracy: 0.8153 - val_loss: 1.8295 - val_accuracy: 0.5375 - 9s/epoch - 278ms/step\n",
            "Epoch 195/300\n",
            "32/32 - 7s - loss: 0.5652 - accuracy: 0.8153 - val_loss: 2.3660 - val_accuracy: 0.5000 - 7s/epoch - 234ms/step\n",
            "Epoch 196/300\n",
            "32/32 - 7s - loss: 0.4551 - accuracy: 0.8313 - val_loss: 2.3098 - val_accuracy: 0.4875 - 7s/epoch - 215ms/step\n",
            "Epoch 197/300\n",
            "32/32 - 6s - loss: 0.5715 - accuracy: 0.7937 - val_loss: 2.5689 - val_accuracy: 0.4250 - 6s/epoch - 193ms/step\n",
            "Epoch 198/300\n",
            "32/32 - 7s - loss: 0.5683 - accuracy: 0.7875 - val_loss: 2.4730 - val_accuracy: 0.4500 - 7s/epoch - 208ms/step\n",
            "Epoch 199/300\n",
            "32/32 - 8s - loss: 0.5351 - accuracy: 0.8313 - val_loss: 2.5752 - val_accuracy: 0.4625 - 8s/epoch - 248ms/step\n",
            "Epoch 200/300\n",
            "32/32 - 8s - loss: 0.5789 - accuracy: 0.7563 - val_loss: 1.7095 - val_accuracy: 0.5375 - 8s/epoch - 240ms/step\n",
            "Epoch 201/300\n",
            "32/32 - 6s - loss: 0.4361 - accuracy: 0.8750 - val_loss: 3.2523 - val_accuracy: 0.4250 - 6s/epoch - 183ms/step\n",
            "Epoch 202/300\n",
            "32/32 - 7s - loss: 0.6561 - accuracy: 0.7437 - val_loss: 2.1033 - val_accuracy: 0.5125 - 7s/epoch - 233ms/step\n",
            "Epoch 203/300\n",
            "32/32 - 7s - loss: 0.4941 - accuracy: 0.8062 - val_loss: 2.1381 - val_accuracy: 0.5625 - 7s/epoch - 223ms/step\n",
            "Epoch 204/300\n",
            "32/32 - 7s - loss: 0.4218 - accuracy: 0.8500 - val_loss: 2.0203 - val_accuracy: 0.5875 - 7s/epoch - 205ms/step\n",
            "Epoch 205/300\n",
            "32/32 - 8s - loss: 0.5646 - accuracy: 0.8217 - val_loss: 2.2846 - val_accuracy: 0.5000 - 8s/epoch - 237ms/step\n",
            "Epoch 206/300\n",
            "32/32 - 8s - loss: 0.4487 - accuracy: 0.8375 - val_loss: 2.3117 - val_accuracy: 0.4750 - 8s/epoch - 238ms/step\n",
            "Epoch 207/300\n",
            "32/32 - 6s - loss: 0.5232 - accuracy: 0.8344 - val_loss: 2.0154 - val_accuracy: 0.4750 - 6s/epoch - 201ms/step\n",
            "Epoch 208/300\n",
            "32/32 - 9s - loss: 0.5716 - accuracy: 0.7688 - val_loss: 2.8078 - val_accuracy: 0.4500 - 9s/epoch - 269ms/step\n",
            "Epoch 209/300\n",
            "32/32 - 7s - loss: 0.6194 - accuracy: 0.7625 - val_loss: 2.0674 - val_accuracy: 0.4875 - 7s/epoch - 219ms/step\n",
            "Epoch 210/300\n",
            "32/32 - 6s - loss: 0.5993 - accuracy: 0.7688 - val_loss: 2.7574 - val_accuracy: 0.4625 - 6s/epoch - 179ms/step\n",
            "Epoch 211/300\n",
            "32/32 - 7s - loss: 0.5501 - accuracy: 0.8217 - val_loss: 2.3180 - val_accuracy: 0.5250 - 7s/epoch - 231ms/step\n",
            "Epoch 212/300\n",
            "32/32 - 10s - loss: 0.4188 - accuracy: 0.8313 - val_loss: 2.2234 - val_accuracy: 0.5500 - 10s/epoch - 308ms/step\n",
            "Epoch 213/300\n",
            "32/32 - 7s - loss: 0.5379 - accuracy: 0.8000 - val_loss: 2.3794 - val_accuracy: 0.4875 - 7s/epoch - 228ms/step\n",
            "Epoch 214/300\n",
            "32/32 - 8s - loss: 0.5403 - accuracy: 0.7580 - val_loss: 2.2144 - val_accuracy: 0.5375 - 8s/epoch - 236ms/step\n",
            "Epoch 215/300\n",
            "32/32 - 6s - loss: 0.4514 - accuracy: 0.8375 - val_loss: 2.2929 - val_accuracy: 0.5375 - 6s/epoch - 178ms/step\n",
            "Epoch 216/300\n",
            "32/32 - 8s - loss: 0.4926 - accuracy: 0.8089 - val_loss: 2.3582 - val_accuracy: 0.4750 - 8s/epoch - 265ms/step\n",
            "Epoch 217/300\n",
            "32/32 - 7s - loss: 0.4928 - accuracy: 0.8125 - val_loss: 2.1505 - val_accuracy: 0.5125 - 7s/epoch - 220ms/step\n",
            "Epoch 218/300\n",
            "32/32 - 8s - loss: 0.5191 - accuracy: 0.8125 - val_loss: 2.0630 - val_accuracy: 0.4875 - 8s/epoch - 246ms/step\n",
            "Epoch 219/300\n",
            "32/32 - 8s - loss: 0.5095 - accuracy: 0.8344 - val_loss: 2.8660 - val_accuracy: 0.4375 - 8s/epoch - 242ms/step\n",
            "Epoch 220/300\n",
            "32/32 - 7s - loss: 0.5122 - accuracy: 0.8153 - val_loss: 2.5172 - val_accuracy: 0.4750 - 7s/epoch - 233ms/step\n",
            "Epoch 221/300\n",
            "32/32 - 7s - loss: 0.6306 - accuracy: 0.7688 - val_loss: 3.3718 - val_accuracy: 0.4375 - 7s/epoch - 204ms/step\n",
            "Epoch 222/300\n",
            "32/32 - 7s - loss: 0.4957 - accuracy: 0.8188 - val_loss: 2.9299 - val_accuracy: 0.4625 - 7s/epoch - 218ms/step\n",
            "Epoch 223/300\n",
            "32/32 - 7s - loss: 0.5376 - accuracy: 0.7688 - val_loss: 2.9293 - val_accuracy: 0.4375 - 7s/epoch - 232ms/step\n",
            "Epoch 224/300\n",
            "32/32 - 7s - loss: 0.4847 - accuracy: 0.8188 - val_loss: 2.0402 - val_accuracy: 0.5500 - 7s/epoch - 221ms/step\n",
            "Epoch 225/300\n",
            "32/32 - 7s - loss: 0.4604 - accuracy: 0.8438 - val_loss: 2.4490 - val_accuracy: 0.4625 - 7s/epoch - 226ms/step\n",
            "Epoch 226/300\n",
            "32/32 - 7s - loss: 0.5101 - accuracy: 0.8375 - val_loss: 2.5569 - val_accuracy: 0.5000 - 7s/epoch - 221ms/step\n",
            "Epoch 227/300\n",
            "32/32 - 8s - loss: 0.5619 - accuracy: 0.8062 - val_loss: 2.7634 - val_accuracy: 0.4375 - 8s/epoch - 236ms/step\n",
            "Epoch 228/300\n",
            "32/32 - 7s - loss: 0.6443 - accuracy: 0.7500 - val_loss: 2.4119 - val_accuracy: 0.5125 - 7s/epoch - 220ms/step\n",
            "Epoch 229/300\n",
            "32/32 - 7s - loss: 0.4808 - accuracy: 0.8188 - val_loss: 2.2818 - val_accuracy: 0.4875 - 7s/epoch - 218ms/step\n",
            "Epoch 230/300\n",
            "32/32 - 8s - loss: 0.4970 - accuracy: 0.8313 - val_loss: 2.2935 - val_accuracy: 0.5000 - 8s/epoch - 241ms/step\n",
            "Epoch 231/300\n",
            "32/32 - 8s - loss: 0.4582 - accuracy: 0.8125 - val_loss: 2.2932 - val_accuracy: 0.5375 - 8s/epoch - 253ms/step\n",
            "Epoch 232/300\n",
            "32/32 - 7s - loss: 0.4164 - accuracy: 0.8599 - val_loss: 2.3118 - val_accuracy: 0.5375 - 7s/epoch - 208ms/step\n",
            "Epoch 233/300\n",
            "32/32 - 8s - loss: 0.3463 - accuracy: 0.8981 - val_loss: 2.3540 - val_accuracy: 0.5125 - 8s/epoch - 253ms/step\n",
            "Epoch 234/300\n",
            "32/32 - 7s - loss: 0.4417 - accuracy: 0.8280 - val_loss: 2.3128 - val_accuracy: 0.4875 - 7s/epoch - 220ms/step\n",
            "Epoch 235/300\n",
            "32/32 - 8s - loss: 0.5726 - accuracy: 0.7643 - val_loss: 2.0570 - val_accuracy: 0.5125 - 8s/epoch - 250ms/step\n",
            "Epoch 236/300\n",
            "32/32 - 8s - loss: 0.5784 - accuracy: 0.8000 - val_loss: 2.5486 - val_accuracy: 0.4625 - 8s/epoch - 255ms/step\n",
            "Epoch 237/300\n",
            "32/32 - 7s - loss: 0.5438 - accuracy: 0.8000 - val_loss: 2.2022 - val_accuracy: 0.4875 - 7s/epoch - 205ms/step\n",
            "Epoch 238/300\n",
            "32/32 - 8s - loss: 0.5578 - accuracy: 0.7812 - val_loss: 2.3260 - val_accuracy: 0.4250 - 8s/epoch - 236ms/step\n",
            "Epoch 239/300\n",
            "32/32 - 6s - loss: 0.6667 - accuracy: 0.7812 - val_loss: 2.3120 - val_accuracy: 0.4500 - 6s/epoch - 192ms/step\n",
            "Epoch 240/300\n",
            "32/32 - 8s - loss: 0.5726 - accuracy: 0.7898 - val_loss: 2.1067 - val_accuracy: 0.5250 - 8s/epoch - 260ms/step\n",
            "Epoch 241/300\n",
            "32/32 - 7s - loss: 0.5435 - accuracy: 0.8025 - val_loss: 2.4119 - val_accuracy: 0.5125 - 7s/epoch - 227ms/step\n",
            "Epoch 242/300\n",
            "32/32 - 6s - loss: 0.5679 - accuracy: 0.7834 - val_loss: 2.6927 - val_accuracy: 0.4625 - 6s/epoch - 187ms/step\n",
            "Epoch 243/300\n",
            "32/32 - 8s - loss: 0.5226 - accuracy: 0.8062 - val_loss: 2.5026 - val_accuracy: 0.5125 - 8s/epoch - 260ms/step\n",
            "Epoch 244/300\n",
            "32/32 - 7s - loss: 0.5245 - accuracy: 0.8125 - val_loss: 2.4335 - val_accuracy: 0.5250 - 7s/epoch - 227ms/step\n",
            "Epoch 245/300\n",
            "32/32 - 8s - loss: 0.5870 - accuracy: 0.8062 - val_loss: 2.7880 - val_accuracy: 0.4375 - 8s/epoch - 235ms/step\n",
            "Epoch 246/300\n",
            "32/32 - 8s - loss: 0.5558 - accuracy: 0.8000 - val_loss: 2.0527 - val_accuracy: 0.5000 - 8s/epoch - 235ms/step\n",
            "Epoch 247/300\n",
            "32/32 - 10s - loss: 0.4858 - accuracy: 0.8280 - val_loss: 2.0347 - val_accuracy: 0.4500 - 10s/epoch - 304ms/step\n",
            "Epoch 248/300\n",
            "32/32 - 7s - loss: 0.4573 - accuracy: 0.8089 - val_loss: 2.4557 - val_accuracy: 0.4125 - 7s/epoch - 217ms/step\n",
            "Epoch 249/300\n",
            "32/32 - 8s - loss: 0.4545 - accuracy: 0.8625 - val_loss: 1.9772 - val_accuracy: 0.4625 - 8s/epoch - 264ms/step\n",
            "Epoch 250/300\n",
            "32/32 - 7s - loss: 0.4981 - accuracy: 0.8089 - val_loss: 2.1264 - val_accuracy: 0.5250 - 7s/epoch - 214ms/step\n",
            "Epoch 251/300\n",
            "32/32 - 7s - loss: 0.5426 - accuracy: 0.8062 - val_loss: 2.4063 - val_accuracy: 0.4750 - 7s/epoch - 224ms/step\n",
            "Epoch 252/300\n",
            "32/32 - 8s - loss: 0.4509 - accuracy: 0.8375 - val_loss: 2.4799 - val_accuracy: 0.5125 - 8s/epoch - 261ms/step\n",
            "Epoch 253/300\n",
            "32/32 - 7s - loss: 0.5918 - accuracy: 0.7962 - val_loss: 2.6368 - val_accuracy: 0.4000 - 7s/epoch - 224ms/step\n",
            "Epoch 254/300\n",
            "32/32 - 8s - loss: 0.3729 - accuracy: 0.8875 - val_loss: 2.5174 - val_accuracy: 0.4500 - 8s/epoch - 236ms/step\n",
            "Epoch 255/300\n",
            "32/32 - 9s - loss: 0.4356 - accuracy: 0.8313 - val_loss: 2.8175 - val_accuracy: 0.4375 - 9s/epoch - 269ms/step\n",
            "Epoch 256/300\n",
            "32/32 - 7s - loss: 0.5107 - accuracy: 0.8188 - val_loss: 2.2169 - val_accuracy: 0.4875 - 7s/epoch - 214ms/step\n",
            "Epoch 257/300\n",
            "32/32 - 8s - loss: 0.5162 - accuracy: 0.8250 - val_loss: 2.9569 - val_accuracy: 0.4125 - 8s/epoch - 261ms/step\n",
            "Epoch 258/300\n",
            "32/32 - 7s - loss: 0.6295 - accuracy: 0.8062 - val_loss: 2.6740 - val_accuracy: 0.4375 - 7s/epoch - 215ms/step\n",
            "Epoch 259/300\n",
            "32/32 - 7s - loss: 0.6082 - accuracy: 0.7563 - val_loss: 2.1587 - val_accuracy: 0.4750 - 7s/epoch - 220ms/step\n",
            "Epoch 260/300\n",
            "32/32 - 7s - loss: 0.3709 - accuracy: 0.8662 - val_loss: 2.8119 - val_accuracy: 0.5125 - 7s/epoch - 225ms/step\n",
            "Epoch 261/300\n",
            "32/32 - 9s - loss: 0.5851 - accuracy: 0.8000 - val_loss: 2.2586 - val_accuracy: 0.4750 - 9s/epoch - 284ms/step\n",
            "Epoch 262/300\n",
            "32/32 - 6s - loss: 0.4343 - accuracy: 0.8500 - val_loss: 2.9971 - val_accuracy: 0.4500 - 6s/epoch - 199ms/step\n",
            "Epoch 263/300\n",
            "32/32 - 8s - loss: 0.5606 - accuracy: 0.8188 - val_loss: 2.7417 - val_accuracy: 0.4125 - 8s/epoch - 257ms/step\n",
            "Epoch 264/300\n",
            "32/32 - 7s - loss: 0.4529 - accuracy: 0.8344 - val_loss: 2.2642 - val_accuracy: 0.4750 - 7s/epoch - 214ms/step\n",
            "Epoch 265/300\n",
            "32/32 - 6s - loss: 0.4882 - accuracy: 0.8125 - val_loss: 2.4398 - val_accuracy: 0.4250 - 6s/epoch - 198ms/step\n",
            "Epoch 266/300\n",
            "32/32 - 8s - loss: 0.4149 - accuracy: 0.8313 - val_loss: 2.3835 - val_accuracy: 0.4875 - 8s/epoch - 255ms/step\n",
            "Epoch 267/300\n",
            "32/32 - 7s - loss: 0.3835 - accuracy: 0.8562 - val_loss: 2.6858 - val_accuracy: 0.4375 - 7s/epoch - 223ms/step\n",
            "Epoch 268/300\n",
            "32/32 - 7s - loss: 0.5746 - accuracy: 0.7812 - val_loss: 2.3204 - val_accuracy: 0.5125 - 7s/epoch - 223ms/step\n",
            "Epoch 269/300\n",
            "32/32 - 7s - loss: 0.4557 - accuracy: 0.8599 - val_loss: 2.4215 - val_accuracy: 0.5000 - 7s/epoch - 231ms/step\n",
            "Epoch 270/300\n",
            "32/32 - 8s - loss: 0.4826 - accuracy: 0.8153 - val_loss: 2.2186 - val_accuracy: 0.5000 - 8s/epoch - 261ms/step\n",
            "Epoch 271/300\n",
            "32/32 - 7s - loss: 0.5731 - accuracy: 0.8089 - val_loss: 2.5620 - val_accuracy: 0.4750 - 7s/epoch - 227ms/step\n",
            "Epoch 272/300\n",
            "32/32 - 7s - loss: 0.5264 - accuracy: 0.8000 - val_loss: 2.8493 - val_accuracy: 0.5125 - 7s/epoch - 229ms/step\n",
            "Epoch 273/300\n",
            "32/32 - 7s - loss: 0.4302 - accuracy: 0.8375 - val_loss: 2.6665 - val_accuracy: 0.4375 - 7s/epoch - 231ms/step\n",
            "Epoch 274/300\n",
            "32/32 - 7s - loss: 0.5469 - accuracy: 0.7937 - val_loss: 2.4340 - val_accuracy: 0.5125 - 7s/epoch - 225ms/step\n",
            "Epoch 275/300\n",
            "32/32 - 9s - loss: 0.3605 - accuracy: 0.8687 - val_loss: 2.4370 - val_accuracy: 0.5250 - 9s/epoch - 266ms/step\n",
            "Epoch 276/300\n",
            "32/32 - 7s - loss: 0.3845 - accuracy: 0.8625 - val_loss: 2.4194 - val_accuracy: 0.5125 - 7s/epoch - 215ms/step\n",
            "Epoch 277/300\n",
            "32/32 - 8s - loss: 0.4070 - accuracy: 0.8562 - val_loss: 2.5521 - val_accuracy: 0.5250 - 8s/epoch - 255ms/step\n",
            "Epoch 278/300\n",
            "32/32 - 7s - loss: 0.3846 - accuracy: 0.8726 - val_loss: 2.5691 - val_accuracy: 0.4875 - 7s/epoch - 230ms/step\n",
            "Epoch 279/300\n",
            "32/32 - 7s - loss: 0.3651 - accuracy: 0.8938 - val_loss: 2.4632 - val_accuracy: 0.4875 - 7s/epoch - 220ms/step\n",
            "Epoch 280/300\n",
            "32/32 - 8s - loss: 0.5096 - accuracy: 0.8125 - val_loss: 3.1729 - val_accuracy: 0.4250 - 8s/epoch - 254ms/step\n",
            "Epoch 281/300\n",
            "32/32 - 7s - loss: 0.5010 - accuracy: 0.8062 - val_loss: 2.4993 - val_accuracy: 0.4125 - 7s/epoch - 222ms/step\n",
            "Epoch 282/300\n",
            "32/32 - 7s - loss: 0.5622 - accuracy: 0.8000 - val_loss: 2.3946 - val_accuracy: 0.4750 - 7s/epoch - 221ms/step\n",
            "Epoch 283/300\n",
            "32/32 - 9s - loss: 0.6206 - accuracy: 0.7875 - val_loss: 2.7648 - val_accuracy: 0.4750 - 9s/epoch - 270ms/step\n",
            "Epoch 284/300\n",
            "32/32 - 7s - loss: 0.5506 - accuracy: 0.7937 - val_loss: 2.4545 - val_accuracy: 0.5125 - 7s/epoch - 212ms/step\n",
            "Epoch 285/300\n",
            "32/32 - 7s - loss: 0.4968 - accuracy: 0.8125 - val_loss: 2.5721 - val_accuracy: 0.4875 - 7s/epoch - 210ms/step\n",
            "Epoch 286/300\n",
            "32/32 - 8s - loss: 0.5119 - accuracy: 0.8344 - val_loss: 3.0358 - val_accuracy: 0.4750 - 8s/epoch - 258ms/step\n",
            "Epoch 287/300\n",
            "32/32 - 8s - loss: 0.3771 - accuracy: 0.8438 - val_loss: 2.5180 - val_accuracy: 0.4750 - 8s/epoch - 263ms/step\n",
            "Epoch 288/300\n",
            "32/32 - 7s - loss: 0.3238 - accuracy: 0.8726 - val_loss: 2.6875 - val_accuracy: 0.5625 - 7s/epoch - 220ms/step\n",
            "Epoch 289/300\n",
            "32/32 - 7s - loss: 0.5498 - accuracy: 0.7875 - val_loss: 2.4024 - val_accuracy: 0.5250 - 7s/epoch - 215ms/step\n",
            "Epoch 290/300\n",
            "32/32 - 9s - loss: 0.4704 - accuracy: 0.8313 - val_loss: 2.6868 - val_accuracy: 0.4125 - 9s/epoch - 273ms/step\n",
            "Epoch 291/300\n",
            "32/32 - 7s - loss: 0.3508 - accuracy: 0.8625 - val_loss: 2.6341 - val_accuracy: 0.4500 - 7s/epoch - 232ms/step\n",
            "Epoch 292/300\n",
            "32/32 - 7s - loss: 0.4705 - accuracy: 0.8188 - val_loss: 2.0397 - val_accuracy: 0.4875 - 7s/epoch - 215ms/step\n",
            "Epoch 293/300\n",
            "32/32 - 9s - loss: 0.5158 - accuracy: 0.7937 - val_loss: 2.5217 - val_accuracy: 0.5125 - 9s/epoch - 273ms/step\n",
            "Epoch 294/300\n",
            "32/32 - 8s - loss: 0.4230 - accuracy: 0.8280 - val_loss: 2.7347 - val_accuracy: 0.4000 - 8s/epoch - 235ms/step\n",
            "Epoch 295/300\n",
            "32/32 - 7s - loss: 0.4453 - accuracy: 0.7937 - val_loss: 1.9827 - val_accuracy: 0.4875 - 7s/epoch - 210ms/step\n",
            "Epoch 296/300\n",
            "32/32 - 9s - loss: 0.5129 - accuracy: 0.7962 - val_loss: 3.0067 - val_accuracy: 0.4250 - 9s/epoch - 270ms/step\n",
            "Epoch 297/300\n",
            "32/32 - 7s - loss: 0.5769 - accuracy: 0.8089 - val_loss: 2.9104 - val_accuracy: 0.4875 - 7s/epoch - 214ms/step\n",
            "Epoch 298/300\n",
            "32/32 - 9s - loss: 0.4808 - accuracy: 0.8188 - val_loss: 2.5104 - val_accuracy: 0.5125 - 9s/epoch - 273ms/step\n",
            "Epoch 299/300\n",
            "32/32 - 7s - loss: 0.4598 - accuracy: 0.8153 - val_loss: 2.6943 - val_accuracy: 0.4750 - 7s/epoch - 204ms/step\n",
            "Epoch 300/300\n",
            "32/32 - 7s - loss: 0.5105 - accuracy: 0.7937 - val_loss: 2.3216 - val_accuracy: 0.5250 - 7s/epoch - 221ms/step\n"
          ]
        }
      ],
      "source": [
        "history = model.fit(\n",
        "      train_generator,\n",
        "      steps_per_epoch=32,  \n",
        "      epochs=300,\n",
        "      verbose=2,\n",
        "      validation_data = validation_generator,\n",
        "      validation_steps=16)"
      ]
    },
    {
      "cell_type": "code",
      "execution_count": null,
      "metadata": {
        "id": "XgG4XtmKoXbJ"
      },
      "outputs": [],
      "source": [
        "%matplotlib inline\n",
        "\n",
        "import matplotlib.image as mpimg\n",
        "import matplotlib.pyplot as plt"
      ]
    },
    {
      "cell_type": "markdown",
      "metadata": {
        "id": "0d2Ar5KnpH6y"
      },
      "source": [
        "# evaluating accuracy and loss for the model\n"
      ]
    },
    {
      "cell_type": "code",
      "execution_count": null,
      "metadata": {
        "colab": {
          "base_uri": "https://localhost:8080/",
          "height": 922
        },
        "id": "8F6jxMU8pAm7",
        "outputId": "b46dcdd2-1da2-4af8-e3fd-0ac83f8c4d56"
      },
      "outputs": [
        {
          "output_type": "execute_result",
          "data": {
            "text/plain": [
              "<Figure size 640x480 with 0 Axes>"
            ]
          },
          "metadata": {},
          "execution_count": 82
        },
        {
          "output_type": "display_data",
          "data": {
            "text/plain": [
              "<Figure size 640x480 with 1 Axes>"
            ],
            "image/png": "[encoded data removed]"
          },
          "metadata": {}
        },
        {
          "output_type": "display_data",
          "data": {
            "text/plain": [
              "<Figure size 640x480 with 1 Axes>"
            ],
            "image/png": "[encoded data removed]"
          },
          "metadata": {}
        },
        {
          "output_type": "display_data",
          "data": {
            "text/plain": [
              "<Figure size 640x480 with 0 Axes>"
            ]
          },
          "metadata": {}
        }
      ],
      "source": [
        "#-----------------------------------------------------------\n",
        "# Retrieve a list of list results on training and test data\n",
        "# sets for each training epoch\n",
        "#-----------------------------------------------------------\n",
        "acc      = history.history[     'accuracy' ]\n",
        "val_acc  = history.history[ 'val_accuracy' ]\n",
        "loss     = history.history[    'loss' ]\n",
        "val_loss = history.history['val_loss' ]\n",
        "\n",
        "epochs   = range(len(acc)) # Get number of epochs\n",
        "\n",
        "#------------------------------------------------\n",
        "# Plot training and validation accuracy per epoch\n",
        "#------------------------------------------------\n",
        "plt.plot(epochs, acc, 'r', label='Training accuracy')\n",
        "plt.plot(epochs, val_acc, 'b', label='Validation accuracy')\n",
        "plt.title ('Training and validation accuracy')\n",
        "plt.legend(loc=0)\n",
        "plt.figure()\n",
        "\n",
        "#------------------------------------------------\n",
        "# Plot training and validation loss per epoch\n",
        "#------------------------------------------------\n",
        "plt.plot  ( epochs,     loss , 'r', label='Training loss')\n",
        "plt.plot  ( epochs, val_loss , 'b', label='Validation loss')\n",
        "plt.title ('Training and validation loss'   )\n",
        "plt.legend(loc=0)\n",
        "plt.figure()\n"
      ]
    },
    {
      "cell_type": "markdown",
      "source": [
        "# menyimpan model TAPI BELUM YANG VERSI QUANTIZED "
      ],
      "metadata": {
        "id": "pVchL2StR8mH"
      }
    },
    {
      "cell_type": "code",
      "execution_count": null,
      "metadata": {
        "id": "QxKR979utMRB"
      },
      "outputs": [],
      "source": [
        "\n",
        "from keras.models import load_model\n",
        "\n",
        "model.save('/content/drive/MyDrive/saved model/model_vggFace_1juni.h5')"
      ]
    },
    {
      "cell_type": "markdown",
      "metadata": {
        "id": "NdCCPJCx6GgL"
      },
      "source": [
        "# Convert to Tensorflow LITE"
      ]
    },
    {
      "cell_type": "code",
      "execution_count": null,
      "metadata": {
        "colab": {
          "base_uri": "https://localhost:8080/"
        },
        "id": "rHVtNJPQlIp4",
        "outputId": "9d4c06e6-9edb-4388-ab4a-477a3839d3c3"
      },
      "outputs": [
        {
          "output_type": "stream",
          "name": "stdout",
          "text": [
            "Colab only includes TensorFlow 2.x; %tensorflow_version has no effect.\n"
          ]
        }
      ],
      "source": [
        "try:\n",
        "    %tensorflow_version 2.x\n",
        "except:\n",
        "    pass"
      ]
    },
    {
      "cell_type": "code",
      "execution_count": null,
      "metadata": {
        "colab": {
          "base_uri": "https://localhost:8080/"
        },
        "id": "Kt-MZ4tQ8fQL",
        "outputId": "7048ec01-d549-4573-8a9b-aa070d282660"
      },
      "outputs": [
        {
          "output_type": "stream",
          "name": "stdout",
          "text": [
            "• Using TensorFlow Version: 2.12.0\n"
          ]
        }
      ],
      "source": [
        "import pathlib\n",
        "\n",
        "print('\\u2022 Using TensorFlow Version:', tf.__version__)"
      ]
    },
    {
      "cell_type": "code",
      "execution_count": null,
      "metadata": {
        "id": "GZ8jLDwS8gn2"
      },
      "outputs": [],
      "source": [
        "!mkdir saved_TFLITE_model"
      ]
    },
    {
      "cell_type": "markdown",
      "metadata": {
        "id": "ksnF8X0A-IS4"
      },
      "source": [
        "generate SavedModel"
      ]
    },
    {
      "cell_type": "code",
      "execution_count": null,
      "metadata": {
        "colab": {
          "base_uri": "https://localhost:8080/"
        },
        "id": "_W8tdxxF86mG",
        "outputId": "bef9c39b-16e8-43a5-91de-70c990b8212c"
      },
      "outputs": [
        {
          "output_type": "stream",
          "name": "stderr",
          "text": [
            "WARNING:absl:Found untraced functions such as restored_function_body, restored_function_body, restored_function_body, restored_function_body, restored_function_body while saving (showing 5 of 13). These functions will not be directly callable after loading.\n"
          ]
        }
      ],
      "source": [
        "export_dir = \"/content/saved_TFLITE_model\"\n",
        "tf.saved_model.save(model, export_dir)"
      ]
    },
    {
      "cell_type": "code",
      "execution_count": null,
      "metadata": {
        "id": "dJZj4JfZmNsI"
      },
      "outputs": [],
      "source": [
        "model = tf.saved_model.load(export_dir)"
      ]
    },
    {
      "cell_type": "code",
      "source": [
        "import shutil\n",
        "\n",
        "source_dir = r\"/content/saved_TFLITE_model\"\n",
        "destination_dir = r\"/content/drive/MyDrive/SavedModel_format\"\n",
        "shutil.copytree(source_dir, destination_dir, dirs_exist_ok=True)\n",
        "\n"
      ],
      "metadata": {
        "colab": {
          "base_uri": "https://localhost:8080/",
          "height": 35
        },
        "id": "JQK3pufmpCoP",
        "outputId": "4c454601-efc7-4a6a-dd11-f113f6c1aab7"
      },
      "execution_count": null,
      "outputs": [
        {
          "output_type": "execute_result",
          "data": {
            "text/plain": [
              "'/content/drive/MyDrive/SavedModel_format'"
            ],
            "application/vnd.google.colaboratory.intrinsic+json": {
              "type": "string"
            }
          },
          "metadata": {},
          "execution_count": 91
        }
      ]
    },
    {
      "cell_type": "markdown",
      "source": [
        "Convert the SavedModel to JSON"
      ],
      "metadata": {
        "id": "agk7cJsJqZL0"
      }
    },
    {
      "cell_type": "code",
      "source": [
        "!pip install tensorflowjs"
      ],
      "metadata": {
        "id": "vjDR9dF2q0Pn",
        "outputId": "3ab68585-f9cb-405e-d286-6a4fbf041c70",
        "colab": {
          "base_uri": "https://localhost:8080/"
        }
      },
      "execution_count": null,
      "outputs": [
        {
          "output_type": "stream",
          "name": "stdout",
          "text": [
            "Looking in indexes: https://pypi.org/simple, https://us-python.pkg.dev/colab-wheels/public/simple/\n",
            "Requirement already satisfied: tensorflowjs in /usr/local/lib/python3.10/dist-packages (4.6.0)\n",
            "Requirement already satisfied: flax<0.6.3,>=0.6.2 in /usr/local/lib/python3.10/dist-packages (from tensorflowjs) (0.6.2)\n",
            "Requirement already satisfied: importlib_resources>=5.9.0 in /usr/local/lib/python3.10/dist-packages (from tensorflowjs) (5.12.0)\n",
            "Requirement already satisfied: jax>=0.3.16 in /usr/local/lib/python3.10/dist-packages (from tensorflowjs) (0.4.10)\n",
            "Requirement already satisfied: tensorflow<3,>=2.12.0 in /usr/local/lib/python3.10/dist-packages (from tensorflowjs) (2.12.0)\n",
            "Requirement already satisfied: tensorflow-decision-forests>=1.3.0 in /usr/local/lib/python3.10/dist-packages (from tensorflowjs) (1.3.0)\n",
            "Requirement already satisfied: six<2,>=1.12.0 in /usr/local/lib/python3.10/dist-packages (from tensorflowjs) (1.16.0)\n",
            "Requirement already satisfied: tensorflow-hub>=0.13.0 in /usr/local/lib/python3.10/dist-packages (from tensorflowjs) (0.13.0)\n",
            "Requirement already satisfied: packaging~=20.9 in /usr/local/lib/python3.10/dist-packages (from tensorflowjs) (20.9)\n",
            "Requirement already satisfied: numpy>=1.12 in /usr/local/lib/python3.10/dist-packages (from flax<0.6.3,>=0.6.2->tensorflowjs) (1.22.4)\n",
            "Requirement already satisfied: matplotlib in /usr/local/lib/python3.10/dist-packages (from flax<0.6.3,>=0.6.2->tensorflowjs) (3.7.1)\n",
            "Requirement already satisfied: msgpack in /usr/local/lib/python3.10/dist-packages (from flax<0.6.3,>=0.6.2->tensorflowjs) (1.0.5)\n",
            "Requirement already satisfied: optax in /usr/local/lib/python3.10/dist-packages (from flax<0.6.3,>=0.6.2->tensorflowjs) (0.1.5)\n",
            "Requirement already satisfied: tensorstore in /usr/local/lib/python3.10/dist-packages (from flax<0.6.3,>=0.6.2->tensorflowjs) (0.1.36)\n",
            "Requirement already satisfied: rich>=11.1 in /usr/local/lib/python3.10/dist-packages (from flax<0.6.3,>=0.6.2->tensorflowjs) (13.3.4)\n",
            "Requirement already satisfied: typing-extensions>=4.1.1 in /usr/local/lib/python3.10/dist-packages (from flax<0.6.3,>=0.6.2->tensorflowjs) (4.5.0)\n",
            "Requirement already satisfied: PyYAML>=5.4.1 in /usr/local/lib/python3.10/dist-packages (from flax<0.6.3,>=0.6.2->tensorflowjs) (6.0)\n",
            "Requirement already satisfied: ml-dtypes>=0.1.0 in /usr/local/lib/python3.10/dist-packages (from jax>=0.3.16->tensorflowjs) (0.1.0)\n",
            "Requirement already satisfied: opt-einsum in /usr/local/lib/python3.10/dist-packages (from jax>=0.3.16->tensorflowjs) (3.3.0)\n",
            "Requirement already satisfied: scipy>=1.7 in /usr/local/lib/python3.10/dist-packages (from jax>=0.3.16->tensorflowjs) (1.10.1)\n",
            "Requirement already satisfied: pyparsing>=2.0.2 in /usr/local/lib/python3.10/dist-packages (from packaging~=20.9->tensorflowjs) (3.0.9)\n",
            "Requirement already satisfied: absl-py>=1.0.0 in /usr/local/lib/python3.10/dist-packages (from tensorflow<3,>=2.12.0->tensorflowjs) (1.4.0)\n",
            "Requirement already satisfied: astunparse>=1.6.0 in /usr/local/lib/python3.10/dist-packages (from tensorflow<3,>=2.12.0->tensorflowjs) (1.6.3)\n",
            "Requirement already satisfied: flatbuffers>=2.0 in /usr/local/lib/python3.10/dist-packages (from tensorflow<3,>=2.12.0->tensorflowjs) (23.3.3)\n",
            "Requirement already satisfied: gast<=0.4.0,>=0.2.1 in /usr/local/lib/python3.10/dist-packages (from tensorflow<3,>=2.12.0->tensorflowjs) (0.4.0)\n",
            "Requirement already satisfied: google-pasta>=0.1.1 in /usr/local/lib/python3.10/dist-packages (from tensorflow<3,>=2.12.0->tensorflowjs) (0.2.0)\n",
            "Requirement already satisfied: grpcio<2.0,>=1.24.3 in /usr/local/lib/python3.10/dist-packages (from tensorflow<3,>=2.12.0->tensorflowjs) (1.54.0)\n",
            "Requirement already satisfied: h5py>=2.9.0 in /usr/local/lib/python3.10/dist-packages (from tensorflow<3,>=2.12.0->tensorflowjs) (3.8.0)\n",
            "Requirement already satisfied: keras<2.13,>=2.12.0 in /usr/local/lib/python3.10/dist-packages (from tensorflow<3,>=2.12.0->tensorflowjs) (2.12.0)\n",
            "Requirement already satisfied: libclang>=13.0.0 in /usr/local/lib/python3.10/dist-packages (from tensorflow<3,>=2.12.0->tensorflowjs) (16.0.0)\n",
            "Requirement already satisfied: protobuf!=4.21.0,!=4.21.1,!=4.21.2,!=4.21.3,!=4.21.4,!=4.21.5,<5.0.0dev,>=3.20.3 in /usr/local/lib/python3.10/dist-packages (from tensorflow<3,>=2.12.0->tensorflowjs) (3.20.3)\n",
            "Requirement already satisfied: setuptools in /usr/local/lib/python3.10/dist-packages (from tensorflow<3,>=2.12.0->tensorflowjs) (67.7.2)\n",
            "Requirement already satisfied: tensorboard<2.13,>=2.12 in /usr/local/lib/python3.10/dist-packages (from tensorflow<3,>=2.12.0->tensorflowjs) (2.12.2)\n",
            "Requirement already satisfied: tensorflow-estimator<2.13,>=2.12.0 in /usr/local/lib/python3.10/dist-packages (from tensorflow<3,>=2.12.0->tensorflowjs) (2.12.0)\n",
            "Requirement already satisfied: termcolor>=1.1.0 in /usr/local/lib/python3.10/dist-packages (from tensorflow<3,>=2.12.0->tensorflowjs) (2.3.0)\n",
            "Requirement already satisfied: wrapt<1.15,>=1.11.0 in /usr/local/lib/python3.10/dist-packages (from tensorflow<3,>=2.12.0->tensorflowjs) (1.14.1)\n",
            "Requirement already satisfied: tensorflow-io-gcs-filesystem>=0.23.1 in /usr/local/lib/python3.10/dist-packages (from tensorflow<3,>=2.12.0->tensorflowjs) (0.32.0)\n",
            "Requirement already satisfied: pandas in /usr/local/lib/python3.10/dist-packages (from tensorflow-decision-forests>=1.3.0->tensorflowjs) (1.5.3)\n",
            "Requirement already satisfied: wheel in /usr/local/lib/python3.10/dist-packages (from tensorflow-decision-forests>=1.3.0->tensorflowjs) (0.40.0)\n",
            "Requirement already satisfied: wurlitzer in /usr/local/lib/python3.10/dist-packages (from tensorflow-decision-forests>=1.3.0->tensorflowjs) (3.0.3)\n",
            "Requirement already satisfied: markdown-it-py<3.0.0,>=2.2.0 in /usr/local/lib/python3.10/dist-packages (from rich>=11.1->flax<0.6.3,>=0.6.2->tensorflowjs) (2.2.0)\n",
            "Requirement already satisfied: pygments<3.0.0,>=2.13.0 in /usr/local/lib/python3.10/dist-packages (from rich>=11.1->flax<0.6.3,>=0.6.2->tensorflowjs) (2.14.0)\n",
            "Requirement already satisfied: google-auth<3,>=1.6.3 in /usr/local/lib/python3.10/dist-packages (from tensorboard<2.13,>=2.12->tensorflow<3,>=2.12.0->tensorflowjs) (2.17.3)\n",
            "Requirement already satisfied: google-auth-oauthlib<1.1,>=0.5 in /usr/local/lib/python3.10/dist-packages (from tensorboard<2.13,>=2.12->tensorflow<3,>=2.12.0->tensorflowjs) (1.0.0)\n",
            "Requirement already satisfied: markdown>=2.6.8 in /usr/local/lib/python3.10/dist-packages (from tensorboard<2.13,>=2.12->tensorflow<3,>=2.12.0->tensorflowjs) (3.4.3)\n",
            "Requirement already satisfied: requests<3,>=2.21.0 in /usr/local/lib/python3.10/dist-packages (from tensorboard<2.13,>=2.12->tensorflow<3,>=2.12.0->tensorflowjs) (2.27.1)\n",
            "Requirement already satisfied: tensorboard-data-server<0.8.0,>=0.7.0 in /usr/local/lib/python3.10/dist-packages (from tensorboard<2.13,>=2.12->tensorflow<3,>=2.12.0->tensorflowjs) (0.7.0)\n",
            "Requirement already satisfied: tensorboard-plugin-wit>=1.6.0 in /usr/local/lib/python3.10/dist-packages (from tensorboard<2.13,>=2.12->tensorflow<3,>=2.12.0->tensorflowjs) (1.8.1)\n",
            "Requirement already satisfied: werkzeug>=1.0.1 in /usr/local/lib/python3.10/dist-packages (from tensorboard<2.13,>=2.12->tensorflow<3,>=2.12.0->tensorflowjs) (2.3.0)\n",
            "Requirement already satisfied: contourpy>=1.0.1 in /usr/local/lib/python3.10/dist-packages (from matplotlib->flax<0.6.3,>=0.6.2->tensorflowjs) (1.0.7)\n",
            "Requirement already satisfied: cycler>=0.10 in /usr/local/lib/python3.10/dist-packages (from matplotlib->flax<0.6.3,>=0.6.2->tensorflowjs) (0.11.0)\n",
            "Requirement already satisfied: fonttools>=4.22.0 in /usr/local/lib/python3.10/dist-packages (from matplotlib->flax<0.6.3,>=0.6.2->tensorflowjs) (4.39.3)\n",
            "Requirement already satisfied: kiwisolver>=1.0.1 in /usr/local/lib/python3.10/dist-packages (from matplotlib->flax<0.6.3,>=0.6.2->tensorflowjs) (1.4.4)\n",
            "Requirement already satisfied: pillow>=6.2.0 in /usr/local/lib/python3.10/dist-packages (from matplotlib->flax<0.6.3,>=0.6.2->tensorflowjs) (8.4.0)\n",
            "Requirement already satisfied: python-dateutil>=2.7 in /usr/local/lib/python3.10/dist-packages (from matplotlib->flax<0.6.3,>=0.6.2->tensorflowjs) (2.8.2)\n",
            "Requirement already satisfied: chex>=0.1.5 in /usr/local/lib/python3.10/dist-packages (from optax->flax<0.6.3,>=0.6.2->tensorflowjs) (0.1.7)\n",
            "Requirement already satisfied: jaxlib>=0.1.37 in /usr/local/lib/python3.10/dist-packages (from optax->flax<0.6.3,>=0.6.2->tensorflowjs) (0.4.10+cuda11.cudnn86)\n",
            "Requirement already satisfied: pytz>=2020.1 in /usr/local/lib/python3.10/dist-packages (from pandas->tensorflow-decision-forests>=1.3.0->tensorflowjs) (2022.7.1)\n",
            "Requirement already satisfied: dm-tree>=0.1.5 in /usr/local/lib/python3.10/dist-packages (from chex>=0.1.5->optax->flax<0.6.3,>=0.6.2->tensorflowjs) (0.1.8)\n",
            "Requirement already satisfied: toolz>=0.9.0 in /usr/local/lib/python3.10/dist-packages (from chex>=0.1.5->optax->flax<0.6.3,>=0.6.2->tensorflowjs) (0.12.0)\n",
            "Requirement already satisfied: cachetools<6.0,>=2.0.0 in /usr/local/lib/python3.10/dist-packages (from google-auth<3,>=1.6.3->tensorboard<2.13,>=2.12->tensorflow<3,>=2.12.0->tensorflowjs) (5.3.0)\n",
            "Requirement already satisfied: pyasn1-modules>=0.2.1 in /usr/local/lib/python3.10/dist-packages (from google-auth<3,>=1.6.3->tensorboard<2.13,>=2.12->tensorflow<3,>=2.12.0->tensorflowjs) (0.3.0)\n",
            "Requirement already satisfied: rsa<5,>=3.1.4 in /usr/local/lib/python3.10/dist-packages (from google-auth<3,>=1.6.3->tensorboard<2.13,>=2.12->tensorflow<3,>=2.12.0->tensorflowjs) (4.9)\n",
            "Requirement already satisfied: requests-oauthlib>=0.7.0 in /usr/local/lib/python3.10/dist-packages (from google-auth-oauthlib<1.1,>=0.5->tensorboard<2.13,>=2.12->tensorflow<3,>=2.12.0->tensorflowjs) (1.3.1)\n",
            "Requirement already satisfied: mdurl~=0.1 in /usr/local/lib/python3.10/dist-packages (from markdown-it-py<3.0.0,>=2.2.0->rich>=11.1->flax<0.6.3,>=0.6.2->tensorflowjs) (0.1.2)\n",
            "Requirement already satisfied: urllib3<1.27,>=1.21.1 in /usr/local/lib/python3.10/dist-packages (from requests<3,>=2.21.0->tensorboard<2.13,>=2.12->tensorflow<3,>=2.12.0->tensorflowjs) (1.26.15)\n",
            "Requirement already satisfied: certifi>=2017.4.17 in /usr/local/lib/python3.10/dist-packages (from requests<3,>=2.21.0->tensorboard<2.13,>=2.12->tensorflow<3,>=2.12.0->tensorflowjs) (2022.12.7)\n",
            "Requirement already satisfied: charset-normalizer~=2.0.0 in /usr/local/lib/python3.10/dist-packages (from requests<3,>=2.21.0->tensorboard<2.13,>=2.12->tensorflow<3,>=2.12.0->tensorflowjs) (2.0.12)\n",
            "Requirement already satisfied: idna<4,>=2.5 in /usr/local/lib/python3.10/dist-packages (from requests<3,>=2.21.0->tensorboard<2.13,>=2.12->tensorflow<3,>=2.12.0->tensorflowjs) (3.4)\n",
            "Requirement already satisfied: MarkupSafe>=2.1.1 in /usr/local/lib/python3.10/dist-packages (from werkzeug>=1.0.1->tensorboard<2.13,>=2.12->tensorflow<3,>=2.12.0->tensorflowjs) (2.1.2)\n",
            "Requirement already satisfied: pyasn1<0.6.0,>=0.4.6 in /usr/local/lib/python3.10/dist-packages (from pyasn1-modules>=0.2.1->google-auth<3,>=1.6.3->tensorboard<2.13,>=2.12->tensorflow<3,>=2.12.0->tensorflowjs) (0.5.0)\n",
            "Requirement already satisfied: oauthlib>=3.0.0 in /usr/local/lib/python3.10/dist-packages (from requests-oauthlib>=0.7.0->google-auth-oauthlib<1.1,>=0.5->tensorboard<2.13,>=2.12->tensorflow<3,>=2.12.0->tensorflowjs) (3.2.2)\n"
          ]
        }
      ]
    },
    {
      "cell_type": "code",
      "source": [
        "import tensorflowjs\n",
        "import json"
      ],
      "metadata": {
        "id": "Qgmv4gMxqcpt"
      },
      "execution_count": null,
      "outputs": []
    },
    {
      "cell_type": "code",
      "source": [
        "\n",
        "\n",
        "# Load the SavedModel\n",
        "model = tf.saved_model.load('/content/drive/MyDrive/SavedModel_format')\n"
      ],
      "metadata": {
        "id": "n-00X3T-qcKW"
      },
      "execution_count": null,
      "outputs": []
    },
    {
      "cell_type": "code",
      "source": [
        "import tensorflow as tf\n",
        "import json\n",
        "\n",
        "# Load the SavedModel\n",
        "model = tf.saved_model.load(export_dir)\n",
        "\n",
        "# Convert tensor shapes to lists\n",
        "def convert_shape(shape):\n",
        "    return [dim for dim in shape.as_list()]\n",
        "\n",
        "# Create a dictionary to store the JSON model\n",
        "json_model = {}\n",
        "\n",
        "# Get information about inputs\n",
        "input_signatures = model.signatures['serving_default'].structured_input_signature[1]\n",
        "json_model['inputs'] = []\n",
        "for tensor_name, tensor_info in input_signatures.items():\n",
        "    input_info = {\n",
        "        'name': tensor_name,\n",
        "        'dtype': str(tensor_info.dtype),\n",
        "        'shape': convert_shape(tensor_info.shape),\n",
        "    }\n",
        "    json_model['inputs'].append(input_info)\n",
        "\n",
        "# Get information about outputs\n",
        "output_signatures = model.signatures['serving_default'].structured_outputs\n",
        "json_model['outputs'] = []\n",
        "for tensor_name, tensor_info in output_signatures.items():\n",
        "    output_info = {\n",
        "        'name': tensor_name,\n",
        "        'dtype': str(tensor_info.dtype),\n",
        "        'shape': convert_shape(tensor_info.shape),\n",
        "    }\n",
        "    json_model['outputs'].append(output_info)\n",
        "\n",
        "# Save the JSON model to a file\n",
        "with open('model.json', 'w') as f:\n",
        "    json.dump(json_model, f)\n"
      ],
      "metadata": {
        "id": "EziemV3S3DWO"
      },
      "execution_count": null,
      "outputs": []
    },
    {
      "cell_type": "code",
      "source": [
        "shutil.copy(\"/content/model.json\",\"/content/drive/MyDrive/saved model\")"
      ],
      "metadata": {
        "colab": {
          "base_uri": "https://localhost:8080/",
          "height": 35
        },
        "id": "flO1-D104SU6",
        "outputId": "000d2a80-e64d-419c-c482-defe9065b196"
      },
      "execution_count": null,
      "outputs": [
        {
          "output_type": "execute_result",
          "data": {
            "text/plain": [
              "'/content/drive/MyDrive/saved model/model.json'"
            ],
            "application/vnd.google.colaboratory.intrinsic+json": {
              "type": "string"
            }
          },
          "metadata": {},
          "execution_count": 97
        }
      ]
    },
    {
      "cell_type": "markdown",
      "metadata": {
        "id": "PP_UaXTj-Mgy"
      },
      "source": [
        "Convert the SavedModel to TFLite"
      ]
    },
    {
      "cell_type": "code",
      "execution_count": null,
      "metadata": {
        "id": "gmYQR6d8-K8s"
      },
      "outputs": [],
      "source": [
        "# Convert the model.\n",
        "converter = tf.lite.TFLiteConverter.from_saved_model(export_dir)\n",
        "\n",
        "# Set the optimization flags for quantization\n",
        "converter.optimizations = [tf.lite.Optimize.DEFAULT] # INTINYA DISINI UNTUK MELAKUKAN QUANTIZED\n",
        "\n",
        "# Specify the input and output tensors (if necessary)\n",
        "# converter.target_spec.supported_ops = [tf.lite.OpsSet.TFLITE_BUILTINS_INT8]\n",
        "# converter.target_spec.supported_types = [tf.int8]\n",
        "\n",
        "tflite_model = converter.convert()"
      ]
    },
    {
      "cell_type": "code",
      "execution_count": null,
      "metadata": {
        "colab": {
          "base_uri": "https://localhost:8080/"
        },
        "id": "E3zZj4vT-Wvq",
        "outputId": "533941bb-bc25-47b6-dffd-c27879422776"
      },
      "outputs": [
        {
          "output_type": "execute_result",
          "data": {
            "text/plain": [
              "40468464"
            ]
          },
          "metadata": {},
          "execution_count": 99
        }
      ],
      "source": [
        "tflite_model_file = pathlib.Path('/content/drive/MyDrive/saved model/model_VGGFace_quantized_1_juni.tflite')\n",
        "tflite_model_file.write_bytes(tflite_model)"
      ]
    },
    {
      "cell_type": "code",
      "source": [],
      "metadata": {
        "id": "HVbZZ00Yo9mV"
      },
      "execution_count": null,
      "outputs": []
    },
    {
      "cell_type": "markdown",
      "metadata": {
        "id": "awhp3F815z9m"
      },
      "source": [
        "# labels"
      ]
    },
    {
      "cell_type": "code",
      "execution_count": null,
      "metadata": {
        "id": "0Yx0-SbElpOw"
      },
      "outputs": [],
      "source": [
        "class_names = ['combination', 'dry', 'normal', 'oily', 'sensitive']\n"
      ]
    },
    {
      "cell_type": "markdown",
      "metadata": {
        "id": "Oycdxq7d6I1Z"
      },
      "source": [
        "create a txt file to save the 5 labels"
      ]
    },
    {
      "cell_type": "code",
      "execution_count": null,
      "metadata": {
        "id": "-qX5egSp6NY3"
      },
      "outputs": [],
      "source": [
        "with open('faces_labels.txt', 'w') as f:\n",
        "    f.write('\\n'.join(class_names))"
      ]
    },
    {
      "cell_type": "code",
      "execution_count": null,
      "metadata": {
        "colab": {
          "base_uri": "https://localhost:8080/",
          "height": 35
        },
        "id": "pXxF4s5b81Fj",
        "outputId": "527276c5-beea-440d-a4b1-e07206d83a53"
      },
      "outputs": [
        {
          "output_type": "execute_result",
          "data": {
            "text/plain": [
              "'/content/drive/MyDrive/saved model/faces_labels.txt'"
            ],
            "application/vnd.google.colaboratory.intrinsic+json": {
              "type": "string"
            }
          },
          "metadata": {},
          "execution_count": 102
        }
      ],
      "source": [
        "import shutil\n",
        "shutil.copy(\"/content/faces_labels.txt\",\"/content/drive/MyDrive/saved model\")"
      ]
    },
    {
      "cell_type": "markdown",
      "metadata": {
        "id": "ZIRkg1V1_Ync"
      },
      "source": [
        "## Download the TFLite Model File\n",
        "\n",
        "If you are running this notebook in a Colab, you can run the cell below to download the tflite model to your local disk. \n",
        "\n",
        "**Note**: If the file does not download when you run the cell, try running the cell a second time."
      ]
    },
    {
      "cell_type": "code",
      "execution_count": null,
      "metadata": {
        "colab": {
          "base_uri": "https://localhost:8080/",
          "height": 17
        },
        "id": "fWJ5Ar6m-rBZ",
        "outputId": "1bd5d0cb-5562-4928-87ec-dd6e33bdc2c2"
      },
      "outputs": [
        {
          "data": {
            "application/javascript": [
              "\n",
              "    async function download(id, filename, size) {\n",
              "      if (!google.colab.kernel.accessAllowed) {\n",
              "        return;\n",
              "      }\n",
              "      const div = document.createElement('div');\n",
              "      const label = document.createElement('label');\n",
              "      label.textContent = `Downloading \"${filename}\": `;\n",
              "      div.appendChild(label);\n",
              "      const progress = document.createElement('progress');\n",
              "      progress.max = size;\n",
              "      div.appendChild(progress);\n",
              "      document.body.appendChild(div);\n",
              "\n",
              "      const buffers = [];\n",
              "      let downloaded = 0;\n",
              "\n",
              "      const channel = await google.colab.kernel.comms.open(id);\n",
              "      // Send a message to notify the kernel that we're ready.\n",
              "      channel.send({})\n",
              "\n",
              "      for await (const message of channel.messages) {\n",
              "        // Send a message to notify the kernel that we're ready.\n",
              "        channel.send({})\n",
              "        if (message.buffers) {\n",
              "          for (const buffer of message.buffers) {\n",
              "            buffers.push(buffer);\n",
              "            downloaded += buffer.byteLength;\n",
              "            progress.value = downloaded;\n",
              "          }\n",
              "        }\n",
              "      }\n",
              "      const blob = new Blob(buffers, {type: 'application/binary'});\n",
              "      const a = document.createElement('a');\n",
              "      a.href = window.URL.createObjectURL(blob);\n",
              "      a.download = filename;\n",
              "      div.appendChild(a);\n",
              "      a.click();\n",
              "      div.remove();\n",
              "    }\n",
              "  "
            ],
            "text/plain": [
              "<IPython.core.display.Javascript object>"
            ]
          },
          "metadata": {},
          "output_type": "display_data"
        },
        {
          "data": {
            "application/javascript": [
              "download(\"download_b834264a-a108-46c9-b4f8-3cbff9dc3007\", \"model_VGGFace_quantized.tflite\", 40472520)"
            ],
            "text/plain": [
              "<IPython.core.display.Javascript object>"
            ]
          },
          "metadata": {},
          "output_type": "display_data"
        }
      ],
      "source": [
        "try:\n",
        "    from google.colab import files\n",
        "    files.download(tflite_model_file)\n",
        "except:\n",
        "    pass"
      ]
    },
    {
      "cell_type": "markdown",
      "metadata": {
        "id": "s74cU0Rd-f6X"
      },
      "source": [
        "#Perform Inference and Input data"
      ]
    },
    {
      "cell_type": "code",
      "execution_count": null,
      "metadata": {
        "id": "39SdhPpgbicb"
      },
      "outputs": [],
      "source": [
        "# import tensorflow as tf\n",
        "\n",
        "# interpreter = tf.lite.Interpreter(model_path=\"/content/drive/MyDrive/saved model/model_VGGFace_quantized.tflite\")\n",
        "# interpreter.allocate_tensors()\n",
        "\n",
        "# # Print input shape and type\n",
        "# inputs = interpreter.get_input_details()\n",
        "# print('{} input(s):'.format(len(inputs)))\n",
        "# for i in range(0, len(inputs)):\n",
        "#     print('{} {}'.format(inputs[i]['shape'], inputs[i]['dtype']))\n",
        "\n",
        "# # Print output shape and type\n",
        "# outputs = interpreter.get_output_details()\n",
        "# print('\\n{} output(s):'.format(len(outputs)))\n",
        "# for i in range(0, len(outputs)):\n",
        "#     print('{} {}'.format(outputs[i]['shape'], outputs[i]['dtype']))"
      ]
    },
    {
      "cell_type": "code",
      "source": [
        "# inference dengan model machine learning format keras .h5\n",
        "\n",
        "def preprocess_image(image):\n",
        "    # Normalize pixel values to the range [0, 1]\n",
        "    image = image / 255.0\n",
        "\n",
        "    # Perform any other preprocessing steps such as resizing, cropping, etc.\n",
        "    # ...\n",
        "\n",
        "    return image\n",
        "\n",
        "import tensorflow as tf\n",
        "from tensorflow.keras.models import load_model\n",
        "\n",
        "# Load the model\n",
        "model = load_model('/content/drive/MyDrive/saved model/model_vggFace_1juni.h5')\n",
        "\n",
        "# Load and preprocess the image\n",
        "image = tf.keras.preprocessing.image.load_img('/content/1 (170).jpg', target_size=(224,224))\n",
        "image = tf.keras.preprocessing.image.img_to_array(image)\n",
        "image = preprocess_image(image)  # Preprocess the image as per your model's requirements\n",
        "\n",
        "# Add a batch dimension to the image\n",
        "image = tf.expand_dims(image, axis=0)\n",
        "\n",
        "# Perform inference\n",
        "predictions = model.predict(image)\n",
        "\n",
        "# Process the predictions as per your requirements\n"
      ],
      "metadata": {
        "id": "tKmWOyJ7KZdh",
        "colab": {
          "base_uri": "https://localhost:8080/"
        },
        "outputId": "f7515232-1cc6-4927-f7a8-696f43be40ca"
      },
      "execution_count": null,
      "outputs": [
        {
          "output_type": "stream",
          "name": "stdout",
          "text": [
            "1/1 [==============================] - 1s 623ms/step\n"
          ]
        }
      ]
    },
    {
      "cell_type": "code",
      "source": [
        "# Perform inference\n",
        "predictions = model(image)\n",
        "\n",
        "# Access the predicted class or values\n",
        "predicted_classes = tf.argmax(predictions, axis=1)\n",
        "print(\"Predicted classes:\", predicted_classes)\n",
        "\n",
        "# Or, access specific elements of the predictions\n",
        "# prediction_value = predictions[0][0]  # Example for a specific element\n",
        "\n",
        "# Process the predictions further as per your requirements\n"
      ],
      "metadata": {
        "colab": {
          "base_uri": "https://localhost:8080/"
        },
        "id": "RmCwIuQLHY5a",
        "outputId": "1e23a8ac-495b-4a3d-9ec3-cf8a5effe779"
      },
      "execution_count": null,
      "outputs": [
        {
          "output_type": "stream",
          "name": "stdout",
          "text": [
            "Predicted classes: tf.Tensor([3], shape=(1,), dtype=int64)\n"
          ]
        }
      ]
    },
    {
      "cell_type": "code",
      "source": [
        "class_labels = {0: 'combination', 1: 'dry', 2: 'normal', 3:\"oily\", 4:\"sensitive\" }  # Example mapping of class indices to labels\n",
        "\n",
        "predicted_classes = tf.argmax(predictions, axis=1)\n",
        "\n",
        "for predicted_class in predicted_classes:\n",
        "    predicted_label = class_labels[predicted_class.numpy()]\n",
        "    print(\"Predicted label:\", predicted_label)"
      ],
      "metadata": {
        "colab": {
          "base_uri": "https://localhost:8080/"
        },
        "id": "qBLz2G01NARZ",
        "outputId": "cb5cd911-bb63-4fb6-ad72-45f716ac739b"
      },
      "execution_count": null,
      "outputs": [
        {
          "output_type": "stream",
          "name": "stdout",
          "text": [
            "Predicted label: oily\n"
          ]
        }
      ]
    },
    {
      "cell_type": "code",
      "source": [],
      "metadata": {
        "id": "Tgopsa3pOyc9"
      },
      "execution_count": null,
      "outputs": []
    }
  ],
  "metadata": {
    "colab": {
      "provenance": [],
      "gpuType": "T4"
    },
    "kernelspec": {
      "display_name": "Python 3",
      "name": "python3"
    },
    "language_info": {
      "name": "python"
    },
    "accelerator": "GPU"
  },
  "nbformat": 4,
  "nbformat_minor": 0
}